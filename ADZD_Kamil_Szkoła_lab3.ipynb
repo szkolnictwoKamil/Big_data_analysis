{
 "cells": [
  {
   "cell_type": "code",
   "execution_count": 56,
   "id": "e3e18878-b0d3-4c48-8613-89a43b308a81",
   "metadata": {
    "execution": {
     "iopub.execute_input": "2022-11-16T11:25:52.050874Z",
     "iopub.status.busy": "2022-11-16T11:25:52.050541Z",
     "iopub.status.idle": "2022-11-16T11:25:53.548592Z",
     "shell.execute_reply": "2022-11-16T11:25:53.547537Z",
     "shell.execute_reply.started": "2022-11-16T11:25:52.050845Z"
    },
    "tags": []
   },
   "outputs": [
    {
     "data": {
      "application/vnd.jupyter.widget-view+json": {
       "model_id": "34b890b9b1674f0496e2a813a85fc488",
       "version_major": 2,
       "version_minor": 0
      },
      "text/plain": [
       "VBox()"
      ]
     },
     "metadata": {},
     "output_type": "display_data"
    },
    {
     "data": {
      "application/vnd.jupyter.widget-view+json": {
       "model_id": "",
       "version_major": 2,
       "version_minor": 0
      },
      "text/plain": [
       "FloatProgress(value=0.0, bar_style='info', description='Progress:', layout=Layout(height='25px', width='50%'),…"
      ]
     },
     "metadata": {},
     "output_type": "display_data"
    }
   ],
   "source": [
    "from pyspark.sql import SparkSession\n",
    "from pyspark.conf import SparkConf\n",
    "from pyspark.sql.window import Window\n",
    "from pyspark.sql.functions import col, asc, desc, max, avg, rank, lit\n",
    "from pyspark.sql.functions import udf\n",
    "from pyspark.sql.types import TimestampType, DateType\n",
    "from datetime import datetime\n",
    "from dateutil import parser\n",
    "import numpy as np\n",
    "# import pandas as pd\n",
    "from time import time\n",
    "import matplotlib.pyplot as plt\n",
    "conf = SparkConf()\n",
    "spark = SparkSession.builder.config(conf=conf).getOrCreate()"
   ]
  },
  {
   "cell_type": "code",
   "execution_count": 2,
   "id": "c5c1117d-42de-41e1-a82e-a11acc614052",
   "metadata": {
    "execution": {
     "iopub.execute_input": "2022-11-16T08:50:39.756602Z",
     "iopub.status.busy": "2022-11-16T08:50:39.755049Z",
     "iopub.status.idle": "2022-11-16T08:50:55.680222Z",
     "shell.execute_reply": "2022-11-16T08:50:55.677798Z",
     "shell.execute_reply.started": "2022-11-16T08:50:39.756558Z"
    },
    "tags": []
   },
   "outputs": [
    {
     "data": {
      "application/vnd.jupyter.widget-view+json": {
       "model_id": "ac42383a6ad7429dbf73b4e7738b3724",
       "version_major": 2,
       "version_minor": 0
      },
      "text/plain": [
       "VBox()"
      ]
     },
     "metadata": {},
     "output_type": "display_data"
    },
    {
     "data": {
      "application/vnd.jupyter.widget-view+json": {
       "model_id": "",
       "version_major": 2,
       "version_minor": 0
      },
      "text/plain": [
       "FloatProgress(value=0.0, bar_style='info', description='Progress:', layout=Layout(height='25px', width='50%'),…"
      ]
     },
     "metadata": {},
     "output_type": "display_data"
    },
    {
     "name": "stdout",
     "output_type": "stream",
     "text": [
      "Collecting pandas==1.1.3\n",
      "  Downloading https://files.pythonhosted.org/packages/25/47/22fc373440e144e2111363adaa07abb09ec1f03fbc071b6d9fc0bbf65f68/pandas-1.1.3-cp37-cp37m-manylinux1_x86_64.whl (9.5MB)\n",
      "Requirement already satisfied: numpy>=1.15.4 in /usr/local/lib64/python3.7/site-packages (from pandas==1.1.3)\n",
      "Requirement already satisfied: pytz>=2017.2 in /usr/local/lib/python3.7/site-packages (from pandas==1.1.3)\n",
      "Collecting python-dateutil>=2.7.3 (from pandas==1.1.3)\n",
      "  Downloading https://files.pythonhosted.org/packages/36/7a/87837f39d0296e723bb9b62bbb257d0355c7f6128853c78955f57342a56d/python_dateutil-2.8.2-py2.py3-none-any.whl (247kB)\n",
      "Requirement already satisfied: six>=1.5 in /usr/local/lib/python3.7/site-packages (from python-dateutil>=2.7.3->pandas==1.1.3)\n",
      "Installing collected packages: python-dateutil, pandas\n",
      "Successfully installed pandas-1.1.3 python-dateutil-2.8.2"
     ]
    }
   ],
   "source": [
    "sc.install_pypi_package(\"pandas==1.1.3\") #Install pandas\n"
   ]
  },
  {
   "cell_type": "code",
   "execution_count": 3,
   "id": "13f64649-0e7f-4c30-9b29-33679ea537e2",
   "metadata": {
    "execution": {
     "iopub.execute_input": "2022-11-16T08:50:55.693683Z",
     "iopub.status.busy": "2022-11-16T08:50:55.692916Z",
     "iopub.status.idle": "2022-11-16T08:50:57.243898Z",
     "shell.execute_reply": "2022-11-16T08:50:57.242623Z",
     "shell.execute_reply.started": "2022-11-16T08:50:55.693634Z"
    },
    "tags": []
   },
   "outputs": [
    {
     "data": {
      "application/vnd.jupyter.widget-view+json": {
       "model_id": "2551ed6dae3e4e25a1b8a921d57a3f1e",
       "version_major": 2,
       "version_minor": 0
      },
      "text/plain": [
       "VBox()"
      ]
     },
     "metadata": {},
     "output_type": "display_data"
    },
    {
     "data": {
      "application/vnd.jupyter.widget-view+json": {
       "model_id": "",
       "version_major": 2,
       "version_minor": 0
      },
      "text/plain": [
       "FloatProgress(value=0.0, bar_style='info', description='Progress:', layout=Layout(height='25px', width='50%'),…"
      ]
     },
     "metadata": {},
     "output_type": "display_data"
    },
    {
     "name": "stdout",
     "output_type": "stream",
     "text": [
      "Collecting kiwisolver==1.2.0\n",
      "  Downloading https://files.pythonhosted.org/packages/31/b9/6202dcae729998a0ade30e80ac00f616542ef445b088ec970d407dfd41c0/kiwisolver-1.2.0-cp37-cp37m-manylinux1_x86_64.whl (88kB)\n",
      "Installing collected packages: kiwisolver\n",
      "Successfully installed kiwisolver-1.2.0"
     ]
    }
   ],
   "source": [
    "sc.install_pypi_package(\"kiwisolver==1.2.0\")\n"
   ]
  },
  {
   "cell_type": "code",
   "execution_count": 4,
   "id": "b41df073-2fe2-4ec1-93fc-edb0f56d881c",
   "metadata": {
    "execution": {
     "iopub.execute_input": "2022-11-16T08:50:57.246280Z",
     "iopub.status.busy": "2022-11-16T08:50:57.245510Z",
     "iopub.status.idle": "2022-11-16T08:51:01.247639Z",
     "shell.execute_reply": "2022-11-16T08:51:01.246765Z",
     "shell.execute_reply.started": "2022-11-16T08:50:57.246235Z"
    },
    "tags": []
   },
   "outputs": [
    {
     "data": {
      "application/vnd.jupyter.widget-view+json": {
       "model_id": "2e637073ce5d4c63962386aac1663969",
       "version_major": 2,
       "version_minor": 0
      },
      "text/plain": [
       "VBox()"
      ]
     },
     "metadata": {},
     "output_type": "display_data"
    },
    {
     "data": {
      "application/vnd.jupyter.widget-view+json": {
       "model_id": "",
       "version_major": 2,
       "version_minor": 0
      },
      "text/plain": [
       "FloatProgress(value=0.0, bar_style='info', description='Progress:', layout=Layout(height='25px', width='50%'),…"
      ]
     },
     "metadata": {},
     "output_type": "display_data"
    },
    {
     "name": "stdout",
     "output_type": "stream",
     "text": [
      "Collecting Pillow==8.0.1\n",
      "  Downloading https://files.pythonhosted.org/packages/af/fa/c1302a26d5e1a17fa8e10e43417b6cf038b0648c4b79fcf2302a4a0c5d30/Pillow-8.0.1-cp37-cp37m-manylinux1_x86_64.whl (2.2MB)\n",
      "Installing collected packages: Pillow\n",
      "Successfully installed Pillow-8.0.1"
     ]
    }
   ],
   "source": [
    "sc.install_pypi_package(\"Pillow==8.0.1\")\n"
   ]
  },
  {
   "cell_type": "code",
   "execution_count": 5,
   "id": "dfddb290-3e84-46fb-8e47-cb5e21949e7a",
   "metadata": {
    "execution": {
     "iopub.execute_input": "2022-11-16T08:51:01.252762Z",
     "iopub.status.busy": "2022-11-16T08:51:01.252444Z",
     "iopub.status.idle": "2022-11-16T08:51:09.072004Z",
     "shell.execute_reply": "2022-11-16T08:51:09.067615Z",
     "shell.execute_reply.started": "2022-11-16T08:51:01.252732Z"
    },
    "tags": []
   },
   "outputs": [
    {
     "data": {
      "application/vnd.jupyter.widget-view+json": {
       "model_id": "98e62918f18c424aacb976949ea74e31",
       "version_major": 2,
       "version_minor": 0
      },
      "text/plain": [
       "VBox()"
      ]
     },
     "metadata": {},
     "output_type": "display_data"
    },
    {
     "data": {
      "application/vnd.jupyter.widget-view+json": {
       "model_id": "",
       "version_major": 2,
       "version_minor": 0
      },
      "text/plain": [
       "FloatProgress(value=0.0, bar_style='info', description='Progress:', layout=Layout(height='25px', width='50%'),…"
      ]
     },
     "metadata": {},
     "output_type": "display_data"
    },
    {
     "name": "stdout",
     "output_type": "stream",
     "text": [
      "Collecting matplotlib==3.3.2\n",
      "  Downloading https://files.pythonhosted.org/packages/87/a6/8d7d06f6b69236a3c1818157875ceb1259ba0d9df4194f4fe138ffdc0f41/matplotlib-3.3.2-cp37-cp37m-manylinux1_x86_64.whl (11.6MB)\n",
      "Collecting certifi>=2020.06.20 (from matplotlib==3.3.2)\n",
      "  Downloading https://files.pythonhosted.org/packages/1d/38/fa96a426e0c0e68aabc68e896584b83ad1eec779265a028e156ce509630e/certifi-2022.9.24-py3-none-any.whl (161kB)\n",
      "Requirement already satisfied: numpy>=1.15 in /usr/local/lib64/python3.7/site-packages (from matplotlib==3.3.2)\n",
      "Requirement already satisfied: python-dateutil>=2.1 in /mnt/tmp/1668588635350-0/lib/python3.7/site-packages (from matplotlib==3.3.2)\n",
      "Collecting pyparsing!=2.0.4,!=2.1.2,!=2.1.6,>=2.0.3 (from matplotlib==3.3.2)\n",
      "  Downloading https://files.pythonhosted.org/packages/6c/10/a7d0fa5baea8fe7b50f448ab742f26f52b80bfca85ac2be9d35cdd9a3246/pyparsing-3.0.9-py3-none-any.whl (98kB)\n",
      "Requirement already satisfied: pillow>=6.2.0 in /mnt/tmp/1668588635350-0/lib/python3.7/site-packages (from matplotlib==3.3.2)\n",
      "Collecting cycler>=0.10 (from matplotlib==3.3.2)\n",
      "  Downloading https://files.pythonhosted.org/packages/5c/f9/695d6bedebd747e5eb0fe8fad57b72fdf25411273a39791cde838d5a8f51/cycler-0.11.0-py3-none-any.whl\n",
      "Requirement already satisfied: kiwisolver>=1.0.1 in /mnt/tmp/1668588635350-0/lib/python3.7/site-packages (from matplotlib==3.3.2)\n",
      "Requirement already satisfied: six>=1.5 in /usr/local/lib/python3.7/site-packages (from python-dateutil>=2.1->matplotlib==3.3.2)\n",
      "Installing collected packages: certifi, pyparsing, cycler, matplotlib\n",
      "Successfully installed certifi-2022.9.24 cycler-0.11.0 matplotlib-3.3.2 pyparsing-3.0.9"
     ]
    }
   ],
   "source": [
    "sc.install_pypi_package(\"matplotlib==3.3.2\")\n"
   ]
  },
  {
   "cell_type": "code",
   "execution_count": 6,
   "id": "a22ecf09-e74f-405d-9006-b8df6b16e3fc",
   "metadata": {
    "execution": {
     "iopub.execute_input": "2022-11-16T08:51:09.099349Z",
     "iopub.status.busy": "2022-11-16T08:51:09.098073Z",
     "iopub.status.idle": "2022-11-16T08:51:10.206149Z",
     "shell.execute_reply": "2022-11-16T08:51:10.202329Z",
     "shell.execute_reply.started": "2022-11-16T08:51:09.099295Z"
    },
    "tags": []
   },
   "outputs": [
    {
     "data": {
      "application/vnd.jupyter.widget-view+json": {
       "model_id": "1b62ed5beaa843d2a2f6428ec6145fef",
       "version_major": 2,
       "version_minor": 0
      },
      "text/plain": [
       "VBox()"
      ]
     },
     "metadata": {},
     "output_type": "display_data"
    },
    {
     "data": {
      "application/vnd.jupyter.widget-view+json": {
       "model_id": "",
       "version_major": 2,
       "version_minor": 0
      },
      "text/plain": [
       "FloatProgress(value=0.0, bar_style='info', description='Progress:', layout=Layout(height='25px', width='50%'),…"
      ]
     },
     "metadata": {},
     "output_type": "display_data"
    },
    {
     "name": "stdout",
     "output_type": "stream",
     "text": [
      "Package                    Version  \n",
      "-------------------------- ---------\n",
      "beautifulsoup4             4.9.1    \n",
      "boto                       2.49.0   \n",
      "certifi                    2022.9.24\n",
      "click                      7.1.2    \n",
      "cycler                     0.11.0   \n",
      "jmespath                   0.10.0   \n",
      "joblib                     0.15.1   \n",
      "kiwisolver                 1.2.0    \n",
      "lxml                       4.5.1    \n",
      "matplotlib                 3.3.2    \n",
      "mysqlclient                1.4.2    \n",
      "nltk                       3.5      \n",
      "nose                       1.3.4    \n",
      "numpy                      1.16.5   \n",
      "pandas                     1.1.3    \n",
      "Pillow                     8.0.1    \n",
      "pip                        9.0.1    \n",
      "py-dateutil                2.2      \n",
      "pyparsing                  3.0.9    \n",
      "python-dateutil            2.8.2    \n",
      "python37-sagemaker-pyspark 1.3.0    \n",
      "pytz                       2020.1   \n",
      "PyYAML                     5.3.1    \n",
      "regex                      2020.6.8 \n",
      "setuptools                 28.8.0   \n",
      "six                        1.13.0   \n",
      "soupsieve                  1.9.5    \n",
      "tqdm                       4.46.1   \n",
      "wheel                      0.29.0   \n",
      "windmill                   1.6"
     ]
    }
   ],
   "source": [
    "sc.list_packages()\n"
   ]
  },
  {
   "cell_type": "markdown",
   "id": "f82419e8-41ee-44c6-8f10-2d457541d941",
   "metadata": {
    "tags": []
   },
   "source": [
    "# Intro"
   ]
  },
  {
   "cell_type": "code",
   "execution_count": 8,
   "id": "2f938503-c028-4366-bd14-06d97f93fe04",
   "metadata": {
    "execution": {
     "iopub.execute_input": "2022-11-16T08:51:36.533578Z",
     "iopub.status.busy": "2022-11-16T08:51:36.533236Z",
     "iopub.status.idle": "2022-11-16T08:52:06.635833Z",
     "shell.execute_reply": "2022-11-16T08:52:06.634392Z",
     "shell.execute_reply.started": "2022-11-16T08:51:36.533544Z"
    },
    "tags": []
   },
   "outputs": [
    {
     "data": {
      "application/vnd.jupyter.widget-view+json": {
       "model_id": "42ef564ed27c4dda99c1f1e249d81659",
       "version_major": 2,
       "version_minor": 0
      },
      "text/plain": [
       "VBox()"
      ]
     },
     "metadata": {},
     "output_type": "display_data"
    },
    {
     "data": {
      "application/vnd.jupyter.widget-view+json": {
       "model_id": "",
       "version_major": 2,
       "version_minor": 0
      },
      "text/plain": [
       "FloatProgress(value=0.0, bar_style='info', description='Progress:', layout=Layout(height='25px', width='50%'),…"
      ]
     },
     "metadata": {},
     "output_type": "display_data"
    }
   ],
   "source": [
    "smog_df = spark.read.json(\"s3a://openaq-fetches/realtime/2022-10-28/*\")\n"
   ]
  },
  {
   "cell_type": "code",
   "execution_count": 8,
   "id": "ee0987ef-128b-403f-92e4-c9be4c1c46c7",
   "metadata": {
    "execution": {
     "iopub.execute_input": "2022-11-14T21:49:55.015157Z",
     "iopub.status.busy": "2022-11-14T21:49:55.014417Z",
     "iopub.status.idle": "2022-11-14T21:49:55.359302Z",
     "shell.execute_reply": "2022-11-14T21:49:55.357849Z",
     "shell.execute_reply.started": "2022-11-14T21:49:55.015108Z"
    },
    "tags": []
   },
   "outputs": [
    {
     "data": {
      "application/vnd.jupyter.widget-view+json": {
       "model_id": "99acf504fd9f478a9a496403fd8f7956",
       "version_major": 2,
       "version_minor": 0
      },
      "text/plain": [
       "VBox()"
      ]
     },
     "metadata": {},
     "output_type": "display_data"
    },
    {
     "data": {
      "application/vnd.jupyter.widget-view+json": {
       "model_id": "",
       "version_major": 2,
       "version_minor": 0
      },
      "text/plain": [
       "FloatProgress(value=0.0, bar_style='info', description='Progress:', layout=Layout(height='25px', width='50%'),…"
      ]
     },
     "metadata": {},
     "output_type": "display_data"
    },
    {
     "name": "stdout",
     "output_type": "stream",
     "text": [
      "root\n",
      " |-- _corrupt_record: string (nullable = true)\n",
      " |-- attribution: array (nullable = true)\n",
      " |    |-- element: struct (containsNull = true)\n",
      " |    |    |-- name: string (nullable = true)\n",
      " |    |    |-- url: string (nullable = true)\n",
      " |-- averagingPeriod: struct (nullable = true)\n",
      " |    |-- unit: string (nullable = true)\n",
      " |    |-- value: double (nullable = true)\n",
      " |-- city: string (nullable = true)\n",
      " |-- coordinates: struct (nullable = true)\n",
      " |    |-- latitude: double (nullable = true)\n",
      " |    |-- longitude: double (nullable = true)\n",
      " |-- country: string (nullable = true)\n",
      " |-- date: struct (nullable = true)\n",
      " |    |-- local: string (nullable = true)\n",
      " |    |-- raw: string (nullable = true)\n",
      " |    |-- utc: string (nullable = true)\n",
      " |-- location: string (nullable = true)\n",
      " |-- mobile: boolean (nullable = true)\n",
      " |-- parameter: string (nullable = true)\n",
      " |-- sourceName: string (nullable = true)\n",
      " |-- sourceType: string (nullable = true)\n",
      " |-- unit: string (nullable = true)\n",
      " |-- value: double (nullable = true)"
     ]
    }
   ],
   "source": [
    "smog_df.printSchema()"
   ]
  },
  {
   "cell_type": "code",
   "execution_count": 9,
   "id": "7e9f7a4a-2e87-4428-9bf6-035ac83afe7f",
   "metadata": {
    "execution": {
     "iopub.execute_input": "2022-11-14T21:49:55.363423Z",
     "iopub.status.busy": "2022-11-14T21:49:55.362634Z",
     "iopub.status.idle": "2022-11-14T21:50:07.334462Z",
     "shell.execute_reply": "2022-11-14T21:50:07.333254Z",
     "shell.execute_reply.started": "2022-11-14T21:49:55.363380Z"
    },
    "tags": []
   },
   "outputs": [
    {
     "data": {
      "application/vnd.jupyter.widget-view+json": {
       "model_id": "3f43aa8c97874396aeea0996fa23a37a",
       "version_major": 2,
       "version_minor": 0
      },
      "text/plain": [
       "VBox()"
      ]
     },
     "metadata": {},
     "output_type": "display_data"
    },
    {
     "data": {
      "application/vnd.jupyter.widget-view+json": {
       "model_id": "",
       "version_major": 2,
       "version_minor": 0
      },
      "text/plain": [
       "FloatProgress(value=0.0, bar_style='info', description='Progress:', layout=Layout(height='25px', width='50%'),…"
      ]
     },
     "metadata": {},
     "output_type": "display_data"
    },
    {
     "name": "stdout",
     "output_type": "stream",
     "text": [
      "5326635"
     ]
    }
   ],
   "source": [
    "smog_df.count()"
   ]
  },
  {
   "cell_type": "code",
   "execution_count": 10,
   "id": "144571ce-13ea-404e-963a-c3e6cc3d1356",
   "metadata": {
    "execution": {
     "iopub.execute_input": "2022-11-14T21:50:07.336550Z",
     "iopub.status.busy": "2022-11-14T21:50:07.335873Z",
     "iopub.status.idle": "2022-11-14T21:50:19.549240Z",
     "shell.execute_reply": "2022-11-14T21:50:19.548234Z",
     "shell.execute_reply.started": "2022-11-14T21:50:07.336507Z"
    },
    "tags": []
   },
   "outputs": [
    {
     "data": {
      "application/vnd.jupyter.widget-view+json": {
       "model_id": "823e2605027946669bb08fa0872fbd98",
       "version_major": 2,
       "version_minor": 0
      },
      "text/plain": [
       "VBox()"
      ]
     },
     "metadata": {},
     "output_type": "display_data"
    },
    {
     "data": {
      "application/vnd.jupyter.widget-view+json": {
       "model_id": "",
       "version_major": 2,
       "version_minor": 0
      },
      "text/plain": [
       "FloatProgress(value=0.0, bar_style='info', description='Progress:', layout=Layout(height='25px', width='50%'),…"
      ]
     },
     "metadata": {},
     "output_type": "display_data"
    },
    {
     "name": "stdout",
     "output_type": "stream",
     "text": [
      "  parameter\n",
      "0      None\n",
      "1        co\n",
      "2      pm10\n",
      "3       so2\n",
      "4       no2\n",
      "5        bc\n",
      "6      pm25\n",
      "7        o3"
     ]
    }
   ],
   "source": [
    "smog_df.select('parameter').distinct().toPandas()\n"
   ]
  },
  {
   "cell_type": "code",
   "execution_count": 11,
   "id": "c1a6d118-d72c-4bde-b45b-8f3417457946",
   "metadata": {
    "execution": {
     "iopub.execute_input": "2022-11-14T21:50:19.551331Z",
     "iopub.status.busy": "2022-11-14T21:50:19.550766Z",
     "iopub.status.idle": "2022-11-14T21:50:29.422793Z",
     "shell.execute_reply": "2022-11-14T21:50:29.421832Z",
     "shell.execute_reply.started": "2022-11-14T21:50:19.551289Z"
    },
    "tags": []
   },
   "outputs": [
    {
     "data": {
      "application/vnd.jupyter.widget-view+json": {
       "model_id": "3ff33bdc304648d69e9780be8f02a040",
       "version_major": 2,
       "version_minor": 0
      },
      "text/plain": [
       "VBox()"
      ]
     },
     "metadata": {},
     "output_type": "display_data"
    },
    {
     "data": {
      "application/vnd.jupyter.widget-view+json": {
       "model_id": "",
       "version_major": 2,
       "version_minor": 0
      },
      "text/plain": [
       "FloatProgress(value=0.0, bar_style='info', description='Progress:', layout=Layout(height='25px', width='50%'),…"
      ]
     },
     "metadata": {},
     "output_type": "display_data"
    },
    {
     "name": "stdout",
     "output_type": "stream",
     "text": [
      "    country\n",
      "0        DZ\n",
      "1        FI\n",
      "2        MN\n",
      "3        MX\n",
      "4        CZ\n",
      "..      ...\n",
      "101      TH\n",
      "102      MA\n",
      "103      NO\n",
      "104      CF\n",
      "105      AF\n",
      "\n",
      "[106 rows x 1 columns]"
     ]
    }
   ],
   "source": [
    "smog_df.select('country').distinct().toPandas()\n"
   ]
  },
  {
   "cell_type": "code",
   "execution_count": 13,
   "id": "ad663b5a-fea9-4b27-ac50-3181eb3c54be",
   "metadata": {
    "execution": {
     "iopub.execute_input": "2022-11-13T17:41:39.892600Z",
     "iopub.status.busy": "2022-11-13T17:41:39.888169Z",
     "iopub.status.idle": "2022-11-13T17:41:50.187154Z",
     "shell.execute_reply": "2022-11-13T17:41:50.185206Z",
     "shell.execute_reply.started": "2022-11-13T17:41:39.888548Z"
    },
    "tags": []
   },
   "outputs": [
    {
     "data": {
      "application/vnd.jupyter.widget-view+json": {
       "model_id": "168c5947fb63401dae50acce5323aca9",
       "version_major": 2,
       "version_minor": 0
      },
      "text/plain": [
       "VBox()"
      ]
     },
     "metadata": {},
     "output_type": "display_data"
    },
    {
     "data": {
      "application/vnd.jupyter.widget-view+json": {
       "model_id": "",
       "version_major": 2,
       "version_minor": 0
      },
      "text/plain": [
       "FloatProgress(value=0.0, bar_style='info', description='Progress:', layout=Layout(height='25px', width='50%'),…"
      ]
     },
     "metadata": {},
     "output_type": "display_data"
    },
    {
     "name": "stdout",
     "output_type": "stream",
     "text": [
      "            city\n",
      "0       Jarosław\n",
      "1         Rybnik\n",
      "2      Widuchowa\n",
      "3         Ustroń\n",
      "4           Łódź\n",
      "..           ...\n",
      "166   Krapkowice\n",
      "167        Tychy\n",
      "168  Dzierżoniów\n",
      "169        Opole\n",
      "170     Zielonka\n",
      "\n",
      "[171 rows x 1 columns]"
     ]
    }
   ],
   "source": [
    "smog_df.filter(col('country')=='PL').select('city').distinct().toPandas()\n"
   ]
  },
  {
   "cell_type": "markdown",
   "id": "90f77be9-b0c7-4ef6-84dc-ef2aef37d9df",
   "metadata": {
    "tags": []
   },
   "source": [
    "# Zad 1\n",
    "\n",
    "Znajdź miasta w Polsce, w których średnie stężenie pyłu “pm25” było niższe niż maksymalne stężenie w Paryżu (w całym badanym okresie). Obliczenia wykonaj dla danych z kilku dni. Wyniki posortuj malejąco po stężeniu pm25."
   ]
  },
  {
   "cell_type": "code",
   "execution_count": 9,
   "id": "b00e01e8-22fa-4a25-a311-95d22a6d2b26",
   "metadata": {
    "execution": {
     "iopub.execute_input": "2022-11-16T08:56:13.307336Z",
     "iopub.status.busy": "2022-11-16T08:56:13.307023Z",
     "iopub.status.idle": "2022-11-16T08:57:38.623514Z",
     "shell.execute_reply": "2022-11-16T08:57:38.622651Z",
     "shell.execute_reply.started": "2022-11-16T08:56:13.307309Z"
    },
    "tags": []
   },
   "outputs": [
    {
     "data": {
      "application/vnd.jupyter.widget-view+json": {
       "model_id": "5b9d25902f9843a58cc885f6199380ec",
       "version_major": 2,
       "version_minor": 0
      },
      "text/plain": [
       "VBox()"
      ]
     },
     "metadata": {},
     "output_type": "display_data"
    },
    {
     "data": {
      "application/vnd.jupyter.widget-view+json": {
       "model_id": "",
       "version_major": 2,
       "version_minor": 0
      },
      "text/plain": [
       "FloatProgress(value=0.0, bar_style='info', description='Progress:', layout=Layout(height='25px', width='50%'),…"
      ]
     },
     "metadata": {},
     "output_type": "display_data"
    }
   ],
   "source": [
    "smog_df = spark.read.json(\"s3a://openaq-fetches/realtime/2022-10-25/*\")\n",
    "smog_df1 = spark.read.json(\"s3a://openaq-fetches/realtime/2022-10-26/*\")\n",
    "smog_df2 = spark.read.json(\"s3a://openaq-fetches/realtime/2022-10-27/*\")\n",
    "smog_df3 = spark.read.json(\"s3a://openaq-fetches/realtime/2022-10-28/*\")\n"
   ]
  },
  {
   "cell_type": "code",
   "execution_count": 24,
   "id": "3e8d3b65-3d61-456b-be36-f5d818b0bdbf",
   "metadata": {
    "execution": {
     "iopub.execute_input": "2022-11-16T09:04:22.462571Z",
     "iopub.status.busy": "2022-11-16T09:04:22.462167Z",
     "iopub.status.idle": "2022-11-16T09:04:22.841567Z",
     "shell.execute_reply": "2022-11-16T09:04:22.840492Z",
     "shell.execute_reply.started": "2022-11-16T09:04:22.462532Z"
    },
    "tags": []
   },
   "outputs": [
    {
     "data": {
      "application/vnd.jupyter.widget-view+json": {
       "model_id": "d8e8f5cec6334ccf96336c096dfe6f0c",
       "version_major": 2,
       "version_minor": 0
      },
      "text/plain": [
       "VBox()"
      ]
     },
     "metadata": {},
     "output_type": "display_data"
    },
    {
     "data": {
      "application/vnd.jupyter.widget-view+json": {
       "model_id": "",
       "version_major": 2,
       "version_minor": 0
      },
      "text/plain": [
       "FloatProgress(value=0.0, bar_style='info', description='Progress:', layout=Layout(height='25px', width='50%'),…"
      ]
     },
     "metadata": {},
     "output_type": "display_data"
    }
   ],
   "source": [
    "df_concat = smog_df.union(smog_df1).union(smog_df2).union(smog_df3)"
   ]
  },
  {
   "cell_type": "code",
   "execution_count": 25,
   "id": "3b63a4d3-58bd-4130-a250-282b4de7dc52",
   "metadata": {
    "execution": {
     "iopub.execute_input": "2022-11-16T09:04:24.104238Z",
     "iopub.status.busy": "2022-11-16T09:04:24.103807Z",
     "iopub.status.idle": "2022-11-16T09:04:24.283777Z",
     "shell.execute_reply": "2022-11-16T09:04:24.282804Z",
     "shell.execute_reply.started": "2022-11-16T09:04:24.104185Z"
    },
    "tags": []
   },
   "outputs": [
    {
     "data": {
      "application/vnd.jupyter.widget-view+json": {
       "model_id": "43549355748c41bbae9ec2b114cc28ea",
       "version_major": 2,
       "version_minor": 0
      },
      "text/plain": [
       "VBox()"
      ]
     },
     "metadata": {},
     "output_type": "display_data"
    },
    {
     "data": {
      "application/vnd.jupyter.widget-view+json": {
       "model_id": "",
       "version_major": 2,
       "version_minor": 0
      },
      "text/plain": [
       "FloatProgress(value=0.0, bar_style='info', description='Progress:', layout=Layout(height='25px', width='50%'),…"
      ]
     },
     "metadata": {},
     "output_type": "display_data"
    }
   ],
   "source": [
    "df_concat = df_concat.filter(\n",
    "    (col(\"date.utc\") >= lit(\"2022-10-25T00:00:000Z\")) & (col(\"date.utc\") <  lit(\"2022-10-29T00:00:000Z\"))\n",
    ")"
   ]
  },
  {
   "cell_type": "code",
   "execution_count": 26,
   "id": "763e7f27-adfa-44ff-8907-f591c6107f70",
   "metadata": {
    "execution": {
     "iopub.execute_input": "2022-11-16T09:04:25.890570Z",
     "iopub.status.busy": "2022-11-16T09:04:25.890244Z",
     "iopub.status.idle": "2022-11-16T09:04:53.910769Z",
     "shell.execute_reply": "2022-11-16T09:04:53.909538Z",
     "shell.execute_reply.started": "2022-11-16T09:04:25.890540Z"
    },
    "tags": []
   },
   "outputs": [
    {
     "data": {
      "application/vnd.jupyter.widget-view+json": {
       "model_id": "554647778fb1427f8a11d1998cf6f5e5",
       "version_major": 2,
       "version_minor": 0
      },
      "text/plain": [
       "VBox()"
      ]
     },
     "metadata": {},
     "output_type": "display_data"
    },
    {
     "data": {
      "application/vnd.jupyter.widget-view+json": {
       "model_id": "",
       "version_major": 2,
       "version_minor": 0
      },
      "text/plain": [
       "FloatProgress(value=0.0, bar_style='info', description='Progress:', layout=Layout(height='25px', width='50%'),…"
      ]
     },
     "metadata": {},
     "output_type": "display_data"
    },
    {
     "name": "stdout",
     "output_type": "stream",
     "text": [
      "14108302"
     ]
    }
   ],
   "source": [
    "df_concat.count()"
   ]
  },
  {
   "cell_type": "code",
   "execution_count": 39,
   "id": "8ac05c0c-764b-4773-87ee-923f52780a15",
   "metadata": {
    "execution": {
     "iopub.execute_input": "2022-11-16T09:33:04.230701Z",
     "iopub.status.busy": "2022-11-16T09:33:04.230326Z",
     "iopub.status.idle": "2022-11-16T09:33:04.507780Z",
     "shell.execute_reply": "2022-11-16T09:33:04.504854Z",
     "shell.execute_reply.started": "2022-11-16T09:33:04.230662Z"
    },
    "tags": []
   },
   "outputs": [
    {
     "data": {
      "application/vnd.jupyter.widget-view+json": {
       "model_id": "59a35dac15be4d259629bdc487f70bd6",
       "version_major": 2,
       "version_minor": 0
      },
      "text/plain": [
       "VBox()"
      ]
     },
     "metadata": {},
     "output_type": "display_data"
    },
    {
     "data": {
      "application/vnd.jupyter.widget-view+json": {
       "model_id": "",
       "version_major": 2,
       "version_minor": 0
      },
      "text/plain": [
       "FloatProgress(value=0.0, bar_style='info', description='Progress:', layout=Layout(height='25px', width='50%'),…"
      ]
     },
     "metadata": {},
     "output_type": "display_data"
    }
   ],
   "source": [
    "avg_pm_by_city = (\n",
    "    df_concat\n",
    "    .filter((col('country')=='PL') & (col('parameter') == 'pm25'))\n",
    "    .groupby('city')\n",
    "    .avg('value'))"
   ]
  },
  {
   "cell_type": "code",
   "execution_count": 28,
   "id": "b1f515dd-7fa3-4cbd-9abe-21e66896e905",
   "metadata": {
    "execution": {
     "iopub.execute_input": "2022-11-16T09:05:48.855554Z",
     "iopub.status.busy": "2022-11-16T09:05:48.854939Z",
     "iopub.status.idle": "2022-11-16T09:06:25.303105Z",
     "shell.execute_reply": "2022-11-16T09:06:25.302403Z",
     "shell.execute_reply.started": "2022-11-16T09:05:48.855508Z"
    },
    "tags": []
   },
   "outputs": [
    {
     "data": {
      "application/vnd.jupyter.widget-view+json": {
       "model_id": "56e299f0d78e46b5ac42b87bc26087f6",
       "version_major": 2,
       "version_minor": 0
      },
      "text/plain": [
       "VBox()"
      ]
     },
     "metadata": {},
     "output_type": "display_data"
    },
    {
     "data": {
      "application/vnd.jupyter.widget-view+json": {
       "model_id": "",
       "version_major": 2,
       "version_minor": 0
      },
      "text/plain": [
       "FloatProgress(value=0.0, bar_style='info', description='Progress:', layout=Layout(height='25px', width='50%'),…"
      ]
     },
     "metadata": {},
     "output_type": "display_data"
    }
   ],
   "source": [
    "max_val_paris = (\n",
    "    df_concat\n",
    "    .filter((col('country')=='FR') & (col('parameter') == 'pm25'))\n",
    "    .groupby('city')\n",
    "    .max('value')\n",
    "    .filter(col('city') == 'Paris')\n",
    "    .select('max(value)').collect()[0])"
   ]
  },
  {
   "cell_type": "code",
   "execution_count": 29,
   "id": "158f7bb6-b3c3-4c2c-85b0-ffa7bc139a21",
   "metadata": {
    "execution": {
     "iopub.execute_input": "2022-11-16T09:06:25.306201Z",
     "iopub.status.busy": "2022-11-16T09:06:25.305405Z",
     "iopub.status.idle": "2022-11-16T09:06:25.579586Z",
     "shell.execute_reply": "2022-11-16T09:06:25.578216Z",
     "shell.execute_reply.started": "2022-11-16T09:06:25.306156Z"
    },
    "tags": []
   },
   "outputs": [
    {
     "data": {
      "application/vnd.jupyter.widget-view+json": {
       "model_id": "c5f5aa79f4f94c57972422547fc4f3df",
       "version_major": 2,
       "version_minor": 0
      },
      "text/plain": [
       "VBox()"
      ]
     },
     "metadata": {},
     "output_type": "display_data"
    },
    {
     "data": {
      "application/vnd.jupyter.widget-view+json": {
       "model_id": "",
       "version_major": 2,
       "version_minor": 0
      },
      "text/plain": [
       "FloatProgress(value=0.0, bar_style='info', description='Progress:', layout=Layout(height='25px', width='50%'),…"
      ]
     },
     "metadata": {},
     "output_type": "display_data"
    },
    {
     "name": "stdout",
     "output_type": "stream",
     "text": [
      "28.1"
     ]
    }
   ],
   "source": [
    "print(max_val_paris[0])"
   ]
  },
  {
   "cell_type": "code",
   "execution_count": 20,
   "id": "4ebb67ee-5232-48ae-9f30-3a57876bd6f1",
   "metadata": {
    "execution": {
     "iopub.execute_input": "2022-11-13T17:47:01.144063Z",
     "iopub.status.busy": "2022-11-13T17:47:01.140558Z",
     "iopub.status.idle": "2022-11-13T17:47:31.116686Z",
     "shell.execute_reply": "2022-11-13T17:47:31.115626Z",
     "shell.execute_reply.started": "2022-11-13T17:47:01.144003Z"
    },
    "tags": []
   },
   "outputs": [
    {
     "data": {
      "application/vnd.jupyter.widget-view+json": {
       "model_id": "7c43ab9eafe949fe94506138ac38b525",
       "version_major": 2,
       "version_minor": 0
      },
      "text/plain": [
       "VBox()"
      ]
     },
     "metadata": {},
     "output_type": "display_data"
    },
    {
     "data": {
      "application/vnd.jupyter.widget-view+json": {
       "model_id": "",
       "version_major": 2,
       "version_minor": 0
      },
      "text/plain": [
       "FloatProgress(value=0.0, bar_style='info', description='Progress:', layout=Layout(height='25px', width='50%'),…"
      ]
     },
     "metadata": {},
     "output_type": "display_data"
    },
    {
     "name": "stdout",
     "output_type": "stream",
     "text": [
      "+----------------+------------------+\n",
      "|            city|        avg(value)|\n",
      "+----------------+------------------+\n",
      "|         Kłodzko|27.293114779582368|\n",
      "|          Kalisz| 27.23912648825065|\n",
      "|        Augustów| 27.19101382488479|\n",
      "|          Kielce|26.022150289017333|\n",
      "|       Włocławek|25.921333333333333|\n",
      "|   Lwówek Śląski|25.559826709154112|\n",
      "|        Żyrardów| 25.41918158567775|\n",
      "|       Białystok| 25.15170187793428|\n",
      "|    Starachowice|24.873788748564863|\n",
      "|         Wschowa| 24.44555043683589|\n",
      "|          Lębork| 24.32621637019232|\n",
      "|           Toruń| 23.11911170928667|\n",
      "|         Siedlce| 22.84991652754591|\n",
      "|Rudnik nad Sanem|22.786045342960293|\n",
      "|         Ostróda|22.565467591036416|\n",
      "|        Warszawa| 22.49984465427962|\n",
      "|             Ełk|22.469686837708828|\n",
      "|       Szamotuły|22.190349123711336|\n",
      "|        Racibórz|  22.0790989571263|\n",
      "|     Kościerzyna| 21.98511827130853|\n",
      "+----------------+------------------+\n",
      "only showing top 20 rows"
     ]
    }
   ],
   "source": [
    "avg_pm_less_than_paris = avg_pm_by_city.filter(col('avg(value)') < max_val_paris[0])\n",
    "avg_pm_less_than_paris.orderBy(avg_pm_less_than_paris[\"avg(value)\"].desc()).show(20)"
   ]
  },
  {
   "cell_type": "markdown",
   "id": "602d94b7-6a57-4351-8e9c-068efa226b21",
   "metadata": {
    "jp-MarkdownHeadingCollapsed": true,
    "tags": []
   },
   "source": [
    "# Zad 2\n",
    "\n",
    "Dla danych z wybranych kilku dni przedstaw w ujęciu godzinowym (wybierz czas UTC) najwyższe zanotowane stężenie pm10 w poszczególnych miastach z całego zbioru danych. Wyniki posortuj po rosnąco datach."
   ]
  },
  {
   "cell_type": "code",
   "execution_count": 30,
   "id": "9bf1d8a4-cbdc-41d3-9183-c76f65a5f0a2",
   "metadata": {
    "execution": {
     "iopub.execute_input": "2022-11-16T09:06:48.009469Z",
     "iopub.status.busy": "2022-11-16T09:06:48.009026Z",
     "iopub.status.idle": "2022-11-16T09:06:48.309780Z",
     "shell.execute_reply": "2022-11-16T09:06:48.308549Z",
     "shell.execute_reply.started": "2022-11-16T09:06:48.009355Z"
    },
    "tags": []
   },
   "outputs": [
    {
     "data": {
      "application/vnd.jupyter.widget-view+json": {
       "model_id": "0dc737ed58024ba8ab47e7b792f5828c",
       "version_major": 2,
       "version_minor": 0
      },
      "text/plain": [
       "VBox()"
      ]
     },
     "metadata": {},
     "output_type": "display_data"
    },
    {
     "data": {
      "application/vnd.jupyter.widget-view+json": {
       "model_id": "",
       "version_major": 2,
       "version_minor": 0
      },
      "text/plain": [
       "FloatProgress(value=0.0, bar_style='info', description='Progress:', layout=Layout(height='25px', width='50%'),…"
      ]
     },
     "metadata": {},
     "output_type": "display_data"
    }
   ],
   "source": [
    "def get_date_and_hour(date):\n",
    "    parsed = parser.isoparse(date[\"utc\"])\n",
    "    return parsed.replace(minute=0, second=0)\n",
    "\n",
    "parse_datetime = udf(get_date_and_hour, TimestampType())"
   ]
  },
  {
   "cell_type": "code",
   "execution_count": 31,
   "id": "f63ca971-1fba-4bd9-81aa-1fb3837527cb",
   "metadata": {
    "execution": {
     "iopub.execute_input": "2022-11-16T09:06:49.578427Z",
     "iopub.status.busy": "2022-11-16T09:06:49.577390Z",
     "iopub.status.idle": "2022-11-16T09:07:58.357942Z",
     "shell.execute_reply": "2022-11-16T09:07:58.356032Z",
     "shell.execute_reply.started": "2022-11-16T09:06:49.578390Z"
    },
    "tags": []
   },
   "outputs": [
    {
     "data": {
      "application/vnd.jupyter.widget-view+json": {
       "model_id": "78e715df4a43461b9137c47a6d8f1d4e",
       "version_major": 2,
       "version_minor": 0
      },
      "text/plain": [
       "VBox()"
      ]
     },
     "metadata": {},
     "output_type": "display_data"
    },
    {
     "data": {
      "application/vnd.jupyter.widget-view+json": {
       "model_id": "",
       "version_major": 2,
       "version_minor": 0
      },
      "text/plain": [
       "FloatProgress(value=0.0, bar_style='info', description='Progress:', layout=Layout(height='25px', width='50%'),…"
      ]
     },
     "metadata": {},
     "output_type": "display_data"
    },
    {
     "name": "stdout",
     "output_type": "stream",
     "text": [
      "+-------------------+--------------------+--------------+\n",
      "|           datetime|                city|max_pm10_value|\n",
      "+-------------------+--------------------+--------------+\n",
      "|2022-10-25 00:00:00|     Tasmania Region|          19.0|\n",
      "|2022-10-25 00:00:00|        NEWFOUNDLAND|          63.0|\n",
      "|2022-10-25 01:00:00|Banskobystrický kraj|        29.178|\n",
      "|2022-10-25 01:00:00|            Lewisham|          11.0|\n",
      "|2022-10-25 01:00:00|            SOMERSET|          13.0|\n",
      "|2022-10-25 01:00:00|               Doubs|          11.4|\n",
      "|2022-10-25 01:00:00|Cincinnati-Middle...|          26.0|\n",
      "|2022-10-25 01:00:00|           Andacollo|          55.0|\n",
      "|2022-10-25 01:00:00|            PONTOTOC|           3.0|\n",
      "|2022-10-25 01:00:00|                Bury|          14.0|\n",
      "|2022-10-25 01:00:00|               Łomża|          29.5|\n",
      "|2022-10-25 01:00:00|              Gdańsk|       19.1945|\n",
      "|2022-10-25 01:00:00|       French Guiana|          21.3|\n",
      "|2022-10-25 01:00:00|          Ridderkerk|          12.3|\n",
      "|2022-10-25 01:00:00|              Merton|          17.0|\n",
      "|2022-10-25 01:00:00|           Trzebnica|       15.9789|\n",
      "|2022-10-25 01:00:00|Rio Claro-Jd.Guan...|          39.0|\n",
      "|2022-10-25 01:00:00|     Hautes-Pyrénées|           8.8|\n",
      "|2022-10-25 01:00:00|              Tromsø|          5.72|\n",
      "|2022-10-25 01:00:00|             BANNOCK|           8.0|\n",
      "+-------------------+--------------------+--------------+\n",
      "only showing top 20 rows"
     ]
    }
   ],
   "source": [
    "(df_concat\n",
    " .select(\"city\", \"date\", \"parameter\", \"value\")\n",
    " .na.drop()\n",
    " .withColumn(\"datetime\", parse_datetime(\"date\"))\n",
    " .where( (col(\"parameter\") == \"pm10\"))\n",
    " .groupBy(\"datetime\", \"city\")\n",
    " .agg(max(\"value\").alias(\"max_pm10_value\"))\n",
    " .orderBy(\"datetime\").show(20))\n"
   ]
  },
  {
   "cell_type": "markdown",
   "id": "f1b13a10-f249-4250-a5db-820a1a54544f",
   "metadata": {
    "jp-MarkdownHeadingCollapsed": true,
    "tags": []
   },
   "source": [
    "# Zad 3\n",
    "\n",
    "Znajdź ranking miast w Europie pod względem średniego zanieczyszczenia liczonego dla N najwyższych pomiarów pod względem “pm25” dla danych z kilku dni. "
   ]
  },
  {
   "cell_type": "code",
   "execution_count": 67,
   "id": "9a6d4cc5-9321-4c9e-85fa-b6d018709912",
   "metadata": {
    "execution": {
     "iopub.execute_input": "2022-11-16T11:33:19.320206Z",
     "iopub.status.busy": "2022-11-16T11:33:19.319854Z",
     "iopub.status.idle": "2022-11-16T11:33:19.657067Z",
     "shell.execute_reply": "2022-11-16T11:33:19.656133Z",
     "shell.execute_reply.started": "2022-11-16T11:33:19.320173Z"
    },
    "tags": []
   },
   "outputs": [
    {
     "data": {
      "application/vnd.jupyter.widget-view+json": {
       "model_id": "c58ad7dd516640b9be861c95aa807038",
       "version_major": 2,
       "version_minor": 0
      },
      "text/plain": [
       "VBox()"
      ]
     },
     "metadata": {},
     "output_type": "display_data"
    },
    {
     "data": {
      "application/vnd.jupyter.widget-view+json": {
       "model_id": "",
       "version_major": 2,
       "version_minor": 0
      },
      "text/plain": [
       "FloatProgress(value=0.0, bar_style='info', description='Progress:', layout=Layout(height='25px', width='50%'),…"
      ]
     },
     "metadata": {},
     "output_type": "display_data"
    }
   ],
   "source": [
    "europe_countries = ['AD', 'AT', 'BA', 'BG', 'CH', 'CY', 'CZ', 'DE', \n",
    "                    'DK', 'DZ', 'ES', 'FI', 'FR', 'GB', 'GR', 'HR',\n",
    "                    'HU', 'IE', 'IS', 'IT', 'LT', 'LU', 'LV', 'MD',\n",
    "                    'ME', 'MK', 'MT', 'NL', 'NO', 'PL', 'PT', 'RO',\n",
    "                    'RS', 'SE', 'SI', 'SK', 'TR']\n",
    "\n",
    "def get_n_most_polluted_cities(df_in,n):\n",
    "    window = Window.partitionBy(\"city\").orderBy(\"value\")\n",
    "    \n",
    "    df = (df_in\n",
    "    .select(\"city\", \"parameter\", \"value\")\n",
    "    .na.drop().filter((col(\"city\").rlike(\"^[a-zA-Z]+$\")))\n",
    "    .filter(df_in.country.isin(europe_countries))\n",
    "    .withColumn(\"rank\", rank().over(window))\n",
    "        )\n",
    "    \n",
    "    df_out = (\n",
    "        df\n",
    "        .select(\"city\", \"value\")\n",
    "        .where(col(\"rank\") <= n)\n",
    "        .groupBy(\"city\")\n",
    "        .agg(avg(\"value\").alias('avg value'))\n",
    "        .orderBy(desc('avg value'))\n",
    "    )\n",
    "    \n",
    "    return df_out"
   ]
  },
  {
   "cell_type": "code",
   "execution_count": 68,
   "id": "0744e53e-a504-48ab-84e8-b8b0b8cebd0e",
   "metadata": {
    "execution": {
     "iopub.execute_input": "2022-11-16T11:33:19.982844Z",
     "iopub.status.busy": "2022-11-16T11:33:19.982244Z",
     "iopub.status.idle": "2022-11-16T11:33:48.119973Z",
     "shell.execute_reply": "2022-11-16T11:33:48.118769Z",
     "shell.execute_reply.started": "2022-11-16T11:33:19.982593Z"
    },
    "tags": []
   },
   "outputs": [
    {
     "data": {
      "application/vnd.jupyter.widget-view+json": {
       "model_id": "cbbee6748a194675a9bf4736edc84eee",
       "version_major": 2,
       "version_minor": 0
      },
      "text/plain": [
       "VBox()"
      ]
     },
     "metadata": {},
     "output_type": "display_data"
    },
    {
     "data": {
      "application/vnd.jupyter.widget-view+json": {
       "model_id": "",
       "version_major": 2,
       "version_minor": 0
      },
      "text/plain": [
       "FloatProgress(value=0.0, bar_style='info', description='Progress:', layout=Layout(height='25px', width='50%'),…"
      ]
     },
     "metadata": {},
     "output_type": "display_data"
    },
    {
     "name": "stdout",
     "output_type": "stream",
     "text": [
      "+---------------+------------------+\n",
      "|           city|         avg value|\n",
      "+---------------+------------------+\n",
      "|Zeppelinfjellet|           65.8125|\n",
      "|          Kerry|              60.3|\n",
      "|     Tustervatn| 35.41428571428571|\n",
      "|        Lerwick|              34.0|\n",
      "|        Lucerne|26.078066666666665|\n",
      "|           Bern|25.495649999999998|\n",
      "|         Valais|24.814966666666667|\n",
      "|         Sandve|24.218181818181822|\n",
      "|      Weybourne|              22.0|\n",
      "|        Thurgau| 20.99573333333333|\n",
      "|       Birkenes|             19.04|\n",
      "|        Karpacz| 18.11307647058824|\n",
      "|      Kronoberg|16.050000000000004|\n",
      "|        Pleszew|           13.8137|\n",
      "|      Zawiercie| 13.65632857142857|\n",
      "|      Cambridge|              13.0|\n",
      "|         Olkusz|12.493585714285715|\n",
      "|    Prestebakke|12.214285714285717|\n",
      "|           Vaud|11.868475000000002|\n",
      "|         Mosina|11.377399999999998|\n",
      "+---------------+------------------+\n",
      "only showing top 20 rows"
     ]
    }
   ],
   "source": [
    "get_n_most_polluted_cities(df_concat, 10).show()"
   ]
  },
  {
   "cell_type": "markdown",
   "id": "baff9fe6-a1e9-4689-aee5-abf3a6323343",
   "metadata": {
    "jp-MarkdownHeadingCollapsed": true,
    "tags": []
   },
   "source": [
    "# Zadanie 4\n",
    "\n",
    "Zwizualizuj na mapie średnie zanieczyszczenie w danym kraju dla wybranych kilku dni względem czasu (mapa + slider czasu albo zbiór klatek i animacja) dla wybranych państw."
   ]
  },
  {
   "cell_type": "code",
   "execution_count": 20,
   "id": "34065a5c-5337-41f3-8330-91186816040e",
   "metadata": {
    "execution": {
     "iopub.execute_input": "2022-11-14T21:54:32.449900Z",
     "iopub.status.busy": "2022-11-14T21:54:32.449578Z",
     "iopub.status.idle": "2022-11-14T21:54:32.775129Z",
     "shell.execute_reply": "2022-11-14T21:54:32.770902Z",
     "shell.execute_reply.started": "2022-11-14T21:54:32.449873Z"
    },
    "tags": []
   },
   "outputs": [
    {
     "data": {
      "application/vnd.jupyter.widget-view+json": {
       "model_id": "e95b0138cf5b47e087b8e89bb42fd3e8",
       "version_major": 2,
       "version_minor": 0
      },
      "text/plain": [
       "VBox()"
      ]
     },
     "metadata": {},
     "output_type": "display_data"
    },
    {
     "data": {
      "application/vnd.jupyter.widget-view+json": {
       "model_id": "",
       "version_major": 2,
       "version_minor": 0
      },
      "text/plain": [
       "FloatProgress(value=0.0, bar_style='info', description='Progress:', layout=Layout(height='25px', width='50%'),…"
      ]
     },
     "metadata": {},
     "output_type": "display_data"
    }
   ],
   "source": [
    "def parse_date(date):\n",
    "    parsed = parser.isoparse(date[\"utc\"])\n",
    "    return parsed.date()\n",
    "\n",
    "parse_date_udf = udf(parse_date, DateType())"
   ]
  },
  {
   "cell_type": "code",
   "execution_count": 21,
   "id": "50c04791-2d71-4193-a72e-e0b4aaa9f7e0",
   "metadata": {
    "execution": {
     "iopub.execute_input": "2022-11-14T21:55:24.286794Z",
     "iopub.status.busy": "2022-11-14T21:55:24.286334Z",
     "iopub.status.idle": "2022-11-14T21:55:24.621509Z",
     "shell.execute_reply": "2022-11-14T21:55:24.619328Z",
     "shell.execute_reply.started": "2022-11-14T21:55:24.286745Z"
    }
   },
   "outputs": [
    {
     "data": {
      "application/vnd.jupyter.widget-view+json": {
       "model_id": "aff3c4b2e97448e1922cb4d0bfd5d12d",
       "version_major": 2,
       "version_minor": 0
      },
      "text/plain": [
       "VBox()"
      ]
     },
     "metadata": {},
     "output_type": "display_data"
    },
    {
     "data": {
      "application/vnd.jupyter.widget-view+json": {
       "model_id": "",
       "version_major": 2,
       "version_minor": 0
      },
      "text/plain": [
       "FloatProgress(value=0.0, bar_style='info', description='Progress:', layout=Layout(height='25px', width='50%'),…"
      ]
     },
     "metadata": {},
     "output_type": "display_data"
    }
   ],
   "source": [
    "import plotly.express as px\n",
    "import plotly.figure_factory as ff\n",
    "\n",
    "def obtain_country_heatmap(country):\n",
    "    df = (\n",
    "        df_concat\n",
    "        .select(\"coordinates\", \"value\", \"date\")\n",
    "        .na.drop()\n",
    "        .where(col(\"country\") == country)\n",
    "        .withColumn(\"date\", parse_date_udf(\"date\"))\n",
    "    )\n",
    "    df = (\n",
    "        df\n",
    "        .groupBy(\"coordinates\", \"date\")\n",
    "        .agg(avg(\"value\").alias(\"avg_value\"))\n",
    "        .orderBy(\"date\", \"coordinates\")\n",
    "        .select(\"date\", \"coordinates.latitude\", \"coordinates.longitude\", \"avg_value\")\n",
    "    )\n",
    "    return df"
   ]
  },
  {
   "cell_type": "code",
   "execution_count": 24,
   "id": "215683b2-e29e-4b3c-8c85-d4ae13d41322",
   "metadata": {
    "execution": {
     "iopub.execute_input": "2022-11-14T21:58:56.624434Z",
     "iopub.status.busy": "2022-11-14T21:58:56.623971Z",
     "iopub.status.idle": "2022-11-14T21:58:56.956705Z",
     "shell.execute_reply": "2022-11-14T21:58:56.955528Z",
     "shell.execute_reply.started": "2022-11-14T21:58:56.624401Z"
    },
    "tags": []
   },
   "outputs": [
    {
     "data": {
      "application/vnd.jupyter.widget-view+json": {
       "model_id": "ca87521713ce42c7b5df9e1d59c34e69",
       "version_major": 2,
       "version_minor": 0
      },
      "text/plain": [
       "VBox()"
      ]
     },
     "metadata": {},
     "output_type": "display_data"
    },
    {
     "data": {
      "application/vnd.jupyter.widget-view+json": {
       "model_id": "",
       "version_major": 2,
       "version_minor": 0
      },
      "text/plain": [
       "FloatProgress(value=0.0, bar_style='info', description='Progress:', layout=Layout(height='25px', width='50%'),…"
      ]
     },
     "metadata": {},
     "output_type": "display_data"
    }
   ],
   "source": [
    "# %%spark -o pdf\n",
    "\n",
    "pdf = get_country_heatmap(\"PL\")"
   ]
  },
  {
   "cell_type": "code",
   "execution_count": 26,
   "id": "dd9c49cc-9857-4931-af28-2438e119be1c",
   "metadata": {
    "execution": {
     "iopub.execute_input": "2022-11-14T21:59:02.243279Z",
     "iopub.status.busy": "2022-11-14T21:59:02.235812Z",
     "iopub.status.idle": "2022-11-14T21:59:04.334590Z",
     "shell.execute_reply": "2022-11-14T21:59:04.333382Z",
     "shell.execute_reply.started": "2022-11-14T21:59:02.243214Z"
    },
    "tags": []
   },
   "outputs": [
    {
     "data": {
      "application/vnd.plotly.v1+json": {
       "config": {
        "plotlyServerURL": "https://plot.ly"
       },
       "data": [
        {
         "coloraxis": "coloraxis",
         "customdata": [
          [
           14.842069196428573,
           "0.25401347384738276,1.1211993002926803",
           "2022-10-28"
          ],
          [
           8.622575567010308,
           "0.27384096615006925,1.0525148521828125",
           "2022-10-28"
          ],
          [
           23.569223451327435,
           "0.27384096615006925,1.0868570762377463",
           "2022-10-28"
          ],
          [
           21.722983062556516,
           "0.2936684584527558,1.0181726281278787",
           "2022-10-28"
          ],
          [
           21.44648900004388,
           "0.2936684584527558,1.0868570762377463",
           "2022-10-28"
          ],
          [
           15.142101471087358,
           "0.31349595075544234,1.0181726281278787",
           "2022-10-28"
          ],
          [
           28.50746028037383,
           "0.31349595075544234,1.0525148521828125",
           "2022-10-28"
          ],
          [
           27.057155172413793,
           "0.31349595075544234,1.1211993002926803",
           "2022-10-28"
          ],
          [
           24.138614957403533,
           "0.33332344305812883,1.0181726281278787",
           "2022-10-28"
          ],
          [
           17.930024423935457,
           "0.33332344305812883,1.0525148521828125",
           "2022-10-28"
          ],
          [
           26.203409090909098,
           "0.33332344305812883,1.0868570762377463",
           "2022-10-28"
          ],
          [
           13.390774635193132,
           "0.33332344305812883,1.1211993002926803",
           "2022-10-28"
          ],
          [
           38.29630966031746,
           "0.3531509353608153,1.0181726281278787",
           "2022-10-28"
          ],
          [
           21.812727272727273,
           "0.3531509353608153,1.0868570762377463",
           "2022-10-28"
          ],
          [
           26.921762733766236,
           "0.3531509353608153,1.1211993002926803",
           "2022-10-28"
          ],
          [
           10.236495131080893,
           "0.37297842766350187,1.0181726281278787",
           "2022-10-28"
          ],
          [
           17.146543778801842,
           "0.37297842766350187,1.0525148521828125",
           "2022-10-28"
          ],
          [
           24.560909090909096,
           "0.37297842766350187,1.0868570762377463",
           "2022-10-28"
          ],
          [
           18.232355763895523,
           "0.3928059199661884,1.0181726281278787",
           "2022-10-28"
          ],
          [
           32.11144278606967,
           "0.3928059199661884,1.0525148521828125",
           "2022-10-28"
          ],
          [
           30.226630879042705,
           "0.3928059199661884,1.1211993002926803",
           "2022-10-28"
          ],
          [
           24.053837605042016,
           "0.26392721999872604,1.0353437401553456",
           "2022-10-28"
          ],
          [
           13.30096333202036,
           "0.26392721999872604,1.1040281882652134",
           "2022-10-28"
          ],
          [
           14.719499133926671,
           "0.2837547123014125,1.0353437401553456",
           "2022-10-28"
          ],
          [
           20.756621973094177,
           "0.2837547123014125,1.0696859642102794",
           "2022-10-28"
          ],
          [
           20.084786154973546,
           "0.30358220460409907,1.0353437401553456",
           "2022-10-28"
          ],
          [
           31.08796296296296,
           "0.30358220460409907,1.1040281882652134",
           "2022-10-28"
          ],
          [
           25.53979956331877,
           "0.30358220460409907,1.1383704123201472",
           "2022-10-28"
          ],
          [
           22.31215031177433,
           "0.32340969690678556,1.0010015161004118",
           "2022-10-28"
          ],
          [
           23.3972570620286,
           "0.32340969690678556,1.1040281882652134",
           "2022-10-28"
          ],
          [
           23.909424883043368,
           "0.32340969690678556,1.1383704123201472",
           "2022-10-28"
          ],
          [
           18.281506422018346,
           "0.3432371892094721,1.0353437401553456",
           "2022-10-28"
          ],
          [
           20.483193277310924,
           "0.3432371892094721,1.0696859642102794",
           "2022-10-28"
          ],
          [
           29.086943023916525,
           "0.3630646815121586,1.0353437401553456",
           "2022-10-28"
          ],
          [
           25.096459041730494,
           "0.3630646815121586,1.0696859642102794",
           "2022-10-28"
          ],
          [
           39.720442794759826,
           "0.3630646815121586,1.1040281882652134",
           "2022-10-28"
          ],
          [
           11.137557795340623,
           "0.38289217381484514,1.0010015161004118",
           "2022-10-28"
          ],
          [
           41.690410958904124,
           "0.38289217381484514,1.0353437401553456",
           "2022-10-28"
          ],
          [
           29.03503649635036,
           "0.38289217381484514,1.0696859642102794",
           "2022-10-28"
          ],
          [
           9.20023149122807,
           "0.4027196661175316,1.0010015161004118",
           "2022-10-28"
          ],
          [
           18.946058091286307,
           "0.4027196661175316,1.0353437401553456",
           "2022-10-28"
          ],
          [
           29.044665359799392,
           "0.4027196661175316,1.1040281882652134",
           "2022-10-28"
          ]
         ],
         "geojson": {
          "features": [
           {
            "geometry": {
             "coordinates": [
              [
               [
                14.553899990911745,
                53.5113495848048
               ],
               [
                15.121915804547777,
                53.705917582753145
               ],
               [
                15.121915804547777,
                54.09236893756014
               ],
               [
                14.553899990911745,
                54.28425616416384
               ],
               [
                13.985884177275713,
                54.09236893756014
               ],
               [
                13.985884177275713,
                53.705917582753145
               ],
               [
                14.553899990911745,
                53.5113495848048
               ]
              ]
             ],
             "type": "Polygon"
            },
            "id": "0.25401347384738276,1.1211993002926803",
            "type": "Feature"
           },
           {
            "geometry": {
             "coordinates": [
              [
               [
                15.689931618183808,
                51.10603061443655
               ],
               [
                16.25794743181984,
                51.31148211396355
               ],
               [
                16.25794743181984,
                51.71963908315648
               ],
               [
                15.689931618183808,
                51.92234756770137
               ],
               [
                15.121915804547776,
                51.71963908315648
               ],
               [
                15.121915804547776,
                51.31148211396355
               ],
               [
                15.689931618183808,
                51.10603061443655
               ]
              ]
             ],
             "type": "Polygon"
            },
            "id": "0.27384096615006925,1.0525148521828125",
            "type": "Feature"
           },
           {
            "geometry": {
             "coordinates": [
              [
               [
                15.689931618183808,
                52.32503236711657
               ],
               [
                16.25794743181984,
                52.52501192858379
               ],
               [
                16.25794743181984,
                52.922253769480314
               ],
               [
                15.689931618183808,
                53.11951951505613
               ],
               [
                15.121915804547776,
                52.922253769480314
               ],
               [
                15.121915804547776,
                52.52501192858379
               ],
               [
                15.689931618183808,
                52.32503236711657
               ]
              ]
             ],
             "type": "Polygon"
            },
            "id": "0.27384096615006925,1.0868570762377463",
            "type": "Feature"
           },
           {
            "geometry": {
             "coordinates": [
              [
               [
                16.825963245455874,
                49.8540108588769
               ],
               [
                17.393979059091905,
                50.06498632551648
               ],
               [
                17.393979059091905,
                50.48416681397755
               ],
               [
                16.825963245455874,
                50.69237434982357
               ],
               [
                16.25794743181984,
                50.48416681397755
               ],
               [
                16.25794743181984,
                50.06498632551648
               ],
               [
                16.825963245455874,
                49.8540108588769
               ]
              ]
             ],
             "type": "Polygon"
            },
            "id": "0.2936684584527558,1.0181726281278787",
            "type": "Feature"
           },
           {
            "geometry": {
             "coordinates": [
              [
               [
                16.825963245455874,
                52.32503236711657
               ],
               [
                17.393979059091905,
                52.52501192858379
               ],
               [
                17.393979059091905,
                52.922253769480314
               ],
               [
                16.825963245455874,
                53.11951951505613
               ],
               [
                16.25794743181984,
                52.922253769480314
               ],
               [
                16.25794743181984,
                52.52501192858379
               ],
               [
                16.825963245455874,
                52.32503236711657
               ]
              ]
             ],
             "type": "Polygon"
            },
            "id": "0.2936684584527558,1.0868570762377463",
            "type": "Feature"
           },
           {
            "geometry": {
             "coordinates": [
              [
               [
                17.96199487272794,
                49.8540108588769
               ],
               [
                18.530010686363973,
                50.06498632551648
               ],
               [
                18.530010686363973,
                50.48416681397755
               ],
               [
                17.96199487272794,
                50.69237434982357
               ],
               [
                17.393979059091905,
                50.48416681397755
               ],
               [
                17.393979059091905,
                50.06498632551648
               ],
               [
                17.96199487272794,
                49.8540108588769
               ]
              ]
             ],
             "type": "Polygon"
            },
            "id": "0.31349595075544234,1.0181726281278787",
            "type": "Feature"
           },
           {
            "geometry": {
             "coordinates": [
              [
               [
                17.96199487272794,
                51.10603061443655
               ],
               [
                18.530010686363973,
                51.31148211396355
               ],
               [
                18.530010686363973,
                51.71963908315648
               ],
               [
                17.96199487272794,
                51.92234756770137
               ],
               [
                17.393979059091905,
                51.71963908315648
               ],
               [
                17.393979059091905,
                51.31148211396355
               ],
               [
                17.96199487272794,
                51.10603061443655
               ]
              ]
             ],
             "type": "Polygon"
            },
            "id": "0.31349595075544234,1.0525148521828125",
            "type": "Feature"
           },
           {
            "geometry": {
             "coordinates": [
              [
               [
                17.96199487272794,
                53.5113495848048
               ],
               [
                18.530010686363973,
                53.705917582753145
               ],
               [
                18.530010686363973,
                54.09236893756014
               ],
               [
                17.96199487272794,
                54.28425616416384
               ],
               [
                17.393979059091905,
                54.09236893756014
               ],
               [
                17.393979059091905,
                53.705917582753145
               ],
               [
                17.96199487272794,
                53.5113495848048
               ]
              ]
             ],
             "type": "Polygon"
            },
            "id": "0.31349595075544234,1.1211993002926803",
            "type": "Feature"
           },
           {
            "geometry": {
             "coordinates": [
              [
               [
                19.0980265,
                49.8540108588769
               ],
               [
                19.666042313636034,
                50.06498632551648
               ],
               [
                19.666042313636034,
                50.48416681397755
               ],
               [
                19.0980265,
                50.69237434982357
               ],
               [
                18.530010686363966,
                50.48416681397755
               ],
               [
                18.530010686363966,
                50.06498632551648
               ],
               [
                19.0980265,
                49.8540108588769
               ]
              ]
             ],
             "type": "Polygon"
            },
            "id": "0.33332344305812883,1.0181726281278787",
            "type": "Feature"
           },
           {
            "geometry": {
             "coordinates": [
              [
               [
                19.0980265,
                51.10603061443655
               ],
               [
                19.666042313636034,
                51.31148211396355
               ],
               [
                19.666042313636034,
                51.71963908315648
               ],
               [
                19.0980265,
                51.92234756770137
               ],
               [
                18.530010686363966,
                51.71963908315648
               ],
               [
                18.530010686363966,
                51.31148211396355
               ],
               [
                19.0980265,
                51.10603061443655
               ]
              ]
             ],
             "type": "Polygon"
            },
            "id": "0.33332344305812883,1.0525148521828125",
            "type": "Feature"
           },
           {
            "geometry": {
             "coordinates": [
              [
               [
                19.0980265,
                52.32503236711657
               ],
               [
                19.666042313636034,
                52.52501192858379
               ],
               [
                19.666042313636034,
                52.922253769480314
               ],
               [
                19.0980265,
                53.11951951505613
               ],
               [
                18.530010686363966,
                52.922253769480314
               ],
               [
                18.530010686363966,
                52.52501192858379
               ],
               [
                19.0980265,
                52.32503236711657
               ]
              ]
             ],
             "type": "Polygon"
            },
            "id": "0.33332344305812883,1.0868570762377463",
            "type": "Feature"
           },
           {
            "geometry": {
             "coordinates": [
              [
               [
                19.0980265,
                53.5113495848048
               ],
               [
                19.666042313636034,
                53.705917582753145
               ],
               [
                19.666042313636034,
                54.09236893756014
               ],
               [
                19.0980265,
                54.28425616416384
               ],
               [
                18.530010686363966,
                54.09236893756014
               ],
               [
                18.530010686363966,
                53.705917582753145
               ],
               [
                19.0980265,
                53.5113495848048
               ]
              ]
             ],
             "type": "Polygon"
            },
            "id": "0.33332344305812883,1.1211993002926803",
            "type": "Feature"
           },
           {
            "geometry": {
             "coordinates": [
              [
               [
                20.234058127272064,
                49.8540108588769
               ],
               [
                20.802073940908095,
                50.06498632551648
               ],
               [
                20.802073940908095,
                50.48416681397755
               ],
               [
                20.234058127272064,
                50.69237434982357
               ],
               [
                19.66604231363603,
                50.48416681397755
               ],
               [
                19.66604231363603,
                50.06498632551648
               ],
               [
                20.234058127272064,
                49.8540108588769
               ]
              ]
             ],
             "type": "Polygon"
            },
            "id": "0.3531509353608153,1.0181726281278787",
            "type": "Feature"
           },
           {
            "geometry": {
             "coordinates": [
              [
               [
                20.234058127272064,
                52.32503236711657
               ],
               [
                20.802073940908095,
                52.52501192858379
               ],
               [
                20.802073940908095,
                52.922253769480314
               ],
               [
                20.234058127272064,
                53.11951951505613
               ],
               [
                19.66604231363603,
                52.922253769480314
               ],
               [
                19.66604231363603,
                52.52501192858379
               ],
               [
                20.234058127272064,
                52.32503236711657
               ]
              ]
             ],
             "type": "Polygon"
            },
            "id": "0.3531509353608153,1.0868570762377463",
            "type": "Feature"
           },
           {
            "geometry": {
             "coordinates": [
              [
               [
                20.234058127272064,
                53.5113495848048
               ],
               [
                20.802073940908095,
                53.705917582753145
               ],
               [
                20.802073940908095,
                54.09236893756014
               ],
               [
                20.234058127272064,
                54.28425616416384
               ],
               [
                19.66604231363603,
                54.09236893756014
               ],
               [
                19.66604231363603,
                53.705917582753145
               ],
               [
                20.234058127272064,
                53.5113495848048
               ]
              ]
             ],
             "type": "Polygon"
            },
            "id": "0.3531509353608153,1.1211993002926803",
            "type": "Feature"
           },
           {
            "geometry": {
             "coordinates": [
              [
               [
                21.37008975454413,
                49.8540108588769
               ],
               [
                21.93810556818016,
                50.06498632551648
               ],
               [
                21.93810556818016,
                50.48416681397755
               ],
               [
                21.37008975454413,
                50.69237434982357
               ],
               [
                20.802073940908095,
                50.48416681397755
               ],
               [
                20.802073940908095,
                50.06498632551648
               ],
               [
                21.37008975454413,
                49.8540108588769
               ]
              ]
             ],
             "type": "Polygon"
            },
            "id": "0.37297842766350187,1.0181726281278787",
            "type": "Feature"
           },
           {
            "geometry": {
             "coordinates": [
              [
               [
                21.37008975454413,
                51.10603061443655
               ],
               [
                21.93810556818016,
                51.31148211396355
               ],
               [
                21.93810556818016,
                51.71963908315648
               ],
               [
                21.37008975454413,
                51.92234756770137
               ],
               [
                20.802073940908095,
                51.71963908315648
               ],
               [
                20.802073940908095,
                51.31148211396355
               ],
               [
                21.37008975454413,
                51.10603061443655
               ]
              ]
             ],
             "type": "Polygon"
            },
            "id": "0.37297842766350187,1.0525148521828125",
            "type": "Feature"
           },
           {
            "geometry": {
             "coordinates": [
              [
               [
                21.37008975454413,
                52.32503236711657
               ],
               [
                21.93810556818016,
                52.52501192858379
               ],
               [
                21.93810556818016,
                52.922253769480314
               ],
               [
                21.37008975454413,
                53.11951951505613
               ],
               [
                20.802073940908095,
                52.922253769480314
               ],
               [
                20.802073940908095,
                52.52501192858379
               ],
               [
                21.37008975454413,
                52.32503236711657
               ]
              ]
             ],
             "type": "Polygon"
            },
            "id": "0.37297842766350187,1.0868570762377463",
            "type": "Feature"
           },
           {
            "geometry": {
             "coordinates": [
              [
               [
                22.506121381816193,
                49.8540108588769
               ],
               [
                23.074137195452227,
                50.06498632551648
               ],
               [
                23.074137195452227,
                50.48416681397755
               ],
               [
                22.506121381816193,
                50.69237434982357
               ],
               [
                21.93810556818016,
                50.48416681397755
               ],
               [
                21.93810556818016,
                50.06498632551648
               ],
               [
                22.506121381816193,
                49.8540108588769
               ]
              ]
             ],
             "type": "Polygon"
            },
            "id": "0.3928059199661884,1.0181726281278787",
            "type": "Feature"
           },
           {
            "geometry": {
             "coordinates": [
              [
               [
                22.506121381816193,
                51.10603061443655
               ],
               [
                23.074137195452227,
                51.31148211396355
               ],
               [
                23.074137195452227,
                51.71963908315648
               ],
               [
                22.506121381816193,
                51.92234756770137
               ],
               [
                21.93810556818016,
                51.71963908315648
               ],
               [
                21.93810556818016,
                51.31148211396355
               ],
               [
                22.506121381816193,
                51.10603061443655
               ]
              ]
             ],
             "type": "Polygon"
            },
            "id": "0.3928059199661884,1.0525148521828125",
            "type": "Feature"
           },
           {
            "geometry": {
             "coordinates": [
              [
               [
                22.506121381816193,
                53.5113495848048
               ],
               [
                23.074137195452227,
                53.705917582753145
               ],
               [
                23.074137195452227,
                54.09236893756014
               ],
               [
                22.506121381816193,
                54.28425616416384
               ],
               [
                21.93810556818016,
                54.09236893756014
               ],
               [
                21.93810556818016,
                53.705917582753145
               ],
               [
                22.506121381816193,
                53.5113495848048
               ]
              ]
             ],
             "type": "Polygon"
            },
            "id": "0.3928059199661884,1.1211993002926803",
            "type": "Feature"
           },
           {
            "geometry": {
             "coordinates": [
              [
               [
                15.121915804547777,
                50.48416681397755
               ],
               [
                15.689931618183811,
                50.69237434982357
               ],
               [
                15.689931618183811,
                51.10603061443655
               ],
               [
                15.121915804547777,
                51.31148211396355
               ],
               [
                14.553899990911745,
                51.10603061443655
               ],
               [
                14.553899990911745,
                50.69237434982357
               ],
               [
                15.121915804547777,
                50.48416681397755
               ]
              ]
             ],
             "type": "Polygon"
            },
            "id": "0.26392721999872604,1.0353437401553456",
            "type": "Feature"
           },
           {
            "geometry": {
             "coordinates": [
              [
               [
                15.121915804547777,
                52.922253769480314
               ],
               [
                15.689931618183811,
                53.11951951505616
               ],
               [
                15.689931618183811,
                53.5113495848048
               ],
               [
                15.121915804547777,
                53.705917582753145
               ],
               [
                14.553899990911745,
                53.5113495848048
               ],
               [
                14.553899990911745,
                53.11951951505616
               ],
               [
                15.121915804547777,
                52.922253769480314
               ]
              ]
             ],
             "type": "Polygon"
            },
            "id": "0.26392721999872604,1.1040281882652134",
            "type": "Feature"
           },
           {
            "geometry": {
             "coordinates": [
              [
               [
                16.25794743181984,
                50.48416681397755
               ],
               [
                16.825963245455874,
                50.69237434982357
               ],
               [
                16.825963245455874,
                51.10603061443655
               ],
               [
                16.25794743181984,
                51.31148211396355
               ],
               [
                15.689931618183808,
                51.10603061443655
               ],
               [
                15.689931618183808,
                50.69237434982357
               ],
               [
                16.25794743181984,
                50.48416681397755
               ]
              ]
             ],
             "type": "Polygon"
            },
            "id": "0.2837547123014125,1.0353437401553456",
            "type": "Feature"
           },
           {
            "geometry": {
             "coordinates": [
              [
               [
                16.25794743181984,
                51.71963908315648
               ],
               [
                16.825963245455874,
                51.92234756770137
               ],
               [
                16.825963245455874,
                52.32503236711657
               ],
               [
                16.25794743181984,
                52.52501192858379
               ],
               [
                15.689931618183808,
                52.32503236711657
               ],
               [
                15.689931618183808,
                51.92234756770137
               ],
               [
                16.25794743181984,
                51.71963908315648
               ]
              ]
             ],
             "type": "Polygon"
            },
            "id": "0.2837547123014125,1.0696859642102794",
            "type": "Feature"
           },
           {
            "geometry": {
             "coordinates": [
              [
               [
                17.393979059091905,
                50.48416681397755
               ],
               [
                17.96199487272794,
                50.69237434982357
               ],
               [
                17.96199487272794,
                51.10603061443655
               ],
               [
                17.393979059091905,
                51.31148211396355
               ],
               [
                16.825963245455874,
                51.10603061443655
               ],
               [
                16.825963245455874,
                50.69237434982357
               ],
               [
                17.393979059091905,
                50.48416681397755
               ]
              ]
             ],
             "type": "Polygon"
            },
            "id": "0.30358220460409907,1.0353437401553456",
            "type": "Feature"
           },
           {
            "geometry": {
             "coordinates": [
              [
               [
                17.393979059091905,
                52.922253769480314
               ],
               [
                17.96199487272794,
                53.11951951505616
               ],
               [
                17.96199487272794,
                53.5113495848048
               ],
               [
                17.393979059091905,
                53.705917582753145
               ],
               [
                16.825963245455874,
                53.5113495848048
               ],
               [
                16.825963245455874,
                53.11951951505616
               ],
               [
                17.393979059091905,
                52.922253769480314
               ]
              ]
             ],
             "type": "Polygon"
            },
            "id": "0.30358220460409907,1.1040281882652134",
            "type": "Feature"
           },
           {
            "geometry": {
             "coordinates": [
              [
               [
                17.393979059091905,
                54.09236893756014
               ],
               [
                17.96199487272794,
                54.28425616416384
               ],
               [
                17.96199487272794,
                54.66536362414315
               ],
               [
                17.393979059091905,
                54.854587911846494
               ],
               [
                16.825963245455874,
                54.66536362414315
               ],
               [
                16.825963245455874,
                54.28425616416384
               ],
               [
                17.393979059091905,
                54.09236893756014
               ]
              ]
             ],
             "type": "Polygon"
            },
            "id": "0.30358220460409907,1.1383704123201472",
            "type": "Feature"
           },
           {
            "geometry": {
             "coordinates": [
              [
               [
                18.530010686363966,
                49.215529421067494
               ],
               [
                19.0980265,
                49.42928352889036
               ],
               [
                19.0980265,
                49.8540108588769
               ],
               [
                18.530010686363966,
                50.06498632551648
               ],
               [
                17.961994872727935,
                49.8540108588769
               ],
               [
                17.961994872727935,
                49.42928352889036
               ],
               [
                18.530010686363966,
                49.215529421067494
               ]
              ]
             ],
             "type": "Polygon"
            },
            "id": "0.32340969690678556,1.0010015161004118",
            "type": "Feature"
           },
           {
            "geometry": {
             "coordinates": [
              [
               [
                18.530010686363966,
                52.922253769480314
               ],
               [
                19.0980265,
                53.11951951505616
               ],
               [
                19.0980265,
                53.5113495848048
               ],
               [
                18.530010686363966,
                53.705917582753145
               ],
               [
                17.961994872727935,
                53.5113495848048
               ],
               [
                17.961994872727935,
                53.11951951505616
               ],
               [
                18.530010686363966,
                52.922253769480314
               ]
              ]
             ],
             "type": "Polygon"
            },
            "id": "0.32340969690678556,1.1040281882652134",
            "type": "Feature"
           },
           {
            "geometry": {
             "coordinates": [
              [
               [
                18.530010686363966,
                54.09236893756014
               ],
               [
                19.0980265,
                54.28425616416384
               ],
               [
                19.0980265,
                54.66536362414315
               ],
               [
                18.530010686363966,
                54.854587911846494
               ],
               [
                17.961994872727935,
                54.66536362414315
               ],
               [
                17.961994872727935,
                54.28425616416384
               ],
               [
                18.530010686363966,
                54.09236893756014
               ]
              ]
             ],
             "type": "Polygon"
            },
            "id": "0.32340969690678556,1.1383704123201472",
            "type": "Feature"
           },
           {
            "geometry": {
             "coordinates": [
              [
               [
                19.666042313636034,
                50.48416681397755
               ],
               [
                20.234058127272064,
                50.69237434982357
               ],
               [
                20.234058127272064,
                51.10603061443655
               ],
               [
                19.666042313636034,
                51.31148211396355
               ],
               [
                19.0980265,
                51.10603061443655
               ],
               [
                19.0980265,
                50.69237434982357
               ],
               [
                19.666042313636034,
                50.48416681397755
               ]
              ]
             ],
             "type": "Polygon"
            },
            "id": "0.3432371892094721,1.0353437401553456",
            "type": "Feature"
           },
           {
            "geometry": {
             "coordinates": [
              [
               [
                19.666042313636034,
                51.71963908315648
               ],
               [
                20.234058127272064,
                51.92234756770137
               ],
               [
                20.234058127272064,
                52.32503236711657
               ],
               [
                19.666042313636034,
                52.52501192858379
               ],
               [
                19.0980265,
                52.32503236711657
               ],
               [
                19.0980265,
                51.92234756770137
               ],
               [
                19.666042313636034,
                51.71963908315648
               ]
              ]
             ],
             "type": "Polygon"
            },
            "id": "0.3432371892094721,1.0696859642102794",
            "type": "Feature"
           },
           {
            "geometry": {
             "coordinates": [
              [
               [
                20.802073940908095,
                50.48416681397755
               ],
               [
                21.37008975454413,
                50.69237434982357
               ],
               [
                21.37008975454413,
                51.10603061443655
               ],
               [
                20.802073940908095,
                51.31148211396355
               ],
               [
                20.234058127272064,
                51.10603061443655
               ],
               [
                20.234058127272064,
                50.69237434982357
               ],
               [
                20.802073940908095,
                50.48416681397755
               ]
              ]
             ],
             "type": "Polygon"
            },
            "id": "0.3630646815121586,1.0353437401553456",
            "type": "Feature"
           },
           {
            "geometry": {
             "coordinates": [
              [
               [
                20.802073940908095,
                51.71963908315648
               ],
               [
                21.37008975454413,
                51.92234756770137
               ],
               [
                21.37008975454413,
                52.32503236711657
               ],
               [
                20.802073940908095,
                52.52501192858379
               ],
               [
                20.234058127272064,
                52.32503236711657
               ],
               [
                20.234058127272064,
                51.92234756770137
               ],
               [
                20.802073940908095,
                51.71963908315648
               ]
              ]
             ],
             "type": "Polygon"
            },
            "id": "0.3630646815121586,1.0696859642102794",
            "type": "Feature"
           },
           {
            "geometry": {
             "coordinates": [
              [
               [
                20.802073940908095,
                52.922253769480314
               ],
               [
                21.37008975454413,
                53.11951951505616
               ],
               [
                21.37008975454413,
                53.5113495848048
               ],
               [
                20.802073940908095,
                53.705917582753145
               ],
               [
                20.234058127272064,
                53.5113495848048
               ],
               [
                20.234058127272064,
                53.11951951505616
               ],
               [
                20.802073940908095,
                52.922253769480314
               ]
              ]
             ],
             "type": "Polygon"
            },
            "id": "0.3630646815121586,1.1040281882652134",
            "type": "Feature"
           },
           {
            "geometry": {
             "coordinates": [
              [
               [
                21.93810556818016,
                49.215529421067494
               ],
               [
                22.506121381816193,
                49.42928352889036
               ],
               [
                22.506121381816193,
                49.8540108588769
               ],
               [
                21.93810556818016,
                50.06498632551648
               ],
               [
                21.37008975454413,
                49.8540108588769
               ],
               [
                21.37008975454413,
                49.42928352889036
               ],
               [
                21.93810556818016,
                49.215529421067494
               ]
              ]
             ],
             "type": "Polygon"
            },
            "id": "0.38289217381484514,1.0010015161004118",
            "type": "Feature"
           },
           {
            "geometry": {
             "coordinates": [
              [
               [
                21.93810556818016,
                50.48416681397755
               ],
               [
                22.506121381816193,
                50.69237434982357
               ],
               [
                22.506121381816193,
                51.10603061443655
               ],
               [
                21.93810556818016,
                51.31148211396355
               ],
               [
                21.37008975454413,
                51.10603061443655
               ],
               [
                21.37008975454413,
                50.69237434982357
               ],
               [
                21.93810556818016,
                50.48416681397755
               ]
              ]
             ],
             "type": "Polygon"
            },
            "id": "0.38289217381484514,1.0353437401553456",
            "type": "Feature"
           },
           {
            "geometry": {
             "coordinates": [
              [
               [
                21.93810556818016,
                51.71963908315648
               ],
               [
                22.506121381816193,
                51.92234756770137
               ],
               [
                22.506121381816193,
                52.32503236711657
               ],
               [
                21.93810556818016,
                52.52501192858379
               ],
               [
                21.37008975454413,
                52.32503236711657
               ],
               [
                21.37008975454413,
                51.92234756770137
               ],
               [
                21.93810556818016,
                51.71963908315648
               ]
              ]
             ],
             "type": "Polygon"
            },
            "id": "0.38289217381484514,1.0696859642102794",
            "type": "Feature"
           },
           {
            "geometry": {
             "coordinates": [
              [
               [
                23.074137195452224,
                49.215529421067494
               ],
               [
                23.642153009088258,
                49.42928352889036
               ],
               [
                23.642153009088258,
                49.8540108588769
               ],
               [
                23.074137195452224,
                50.06498632551648
               ],
               [
                22.50612138181619,
                49.8540108588769
               ],
               [
                22.50612138181619,
                49.42928352889036
               ],
               [
                23.074137195452224,
                49.215529421067494
               ]
              ]
             ],
             "type": "Polygon"
            },
            "id": "0.4027196661175316,1.0010015161004118",
            "type": "Feature"
           },
           {
            "geometry": {
             "coordinates": [
              [
               [
                23.074137195452224,
                50.48416681397755
               ],
               [
                23.642153009088258,
                50.69237434982357
               ],
               [
                23.642153009088258,
                51.10603061443655
               ],
               [
                23.074137195452224,
                51.31148211396355
               ],
               [
                22.50612138181619,
                51.10603061443655
               ],
               [
                22.50612138181619,
                50.69237434982357
               ],
               [
                23.074137195452224,
                50.48416681397755
               ]
              ]
             ],
             "type": "Polygon"
            },
            "id": "0.4027196661175316,1.0353437401553456",
            "type": "Feature"
           },
           {
            "geometry": {
             "coordinates": [
              [
               [
                23.074137195452224,
                52.922253769480314
               ],
               [
                23.642153009088258,
                53.11951951505616
               ],
               [
                23.642153009088258,
                53.5113495848048
               ],
               [
                23.074137195452224,
                53.705917582753145
               ],
               [
                22.50612138181619,
                53.5113495848048
               ],
               [
                22.50612138181619,
                53.11951951505616
               ],
               [
                23.074137195452224,
                52.922253769480314
               ]
              ]
             ],
             "type": "Polygon"
            },
            "id": "0.4027196661175316,1.1040281882652134",
            "type": "Feature"
           }
          ],
          "type": "FeatureCollection"
         },
         "hovertemplate": "Avg value=%{z}<extra></extra>",
         "locations": [
          "0.25401347384738276,1.1211993002926803",
          "0.27384096615006925,1.0525148521828125",
          "0.27384096615006925,1.0868570762377463",
          "0.2936684584527558,1.0181726281278787",
          "0.2936684584527558,1.0868570762377463",
          "0.31349595075544234,1.0181726281278787",
          "0.31349595075544234,1.0525148521828125",
          "0.31349595075544234,1.1211993002926803",
          "0.33332344305812883,1.0181726281278787",
          "0.33332344305812883,1.0525148521828125",
          "0.33332344305812883,1.0868570762377463",
          "0.33332344305812883,1.1211993002926803",
          "0.3531509353608153,1.0181726281278787",
          "0.3531509353608153,1.0868570762377463",
          "0.3531509353608153,1.1211993002926803",
          "0.37297842766350187,1.0181726281278787",
          "0.37297842766350187,1.0525148521828125",
          "0.37297842766350187,1.0868570762377463",
          "0.3928059199661884,1.0181726281278787",
          "0.3928059199661884,1.0525148521828125",
          "0.3928059199661884,1.1211993002926803",
          "0.26392721999872604,1.0353437401553456",
          "0.26392721999872604,1.1040281882652134",
          "0.2837547123014125,1.0353437401553456",
          "0.2837547123014125,1.0696859642102794",
          "0.30358220460409907,1.0353437401553456",
          "0.30358220460409907,1.1040281882652134",
          "0.30358220460409907,1.1383704123201472",
          "0.32340969690678556,1.0010015161004118",
          "0.32340969690678556,1.1040281882652134",
          "0.32340969690678556,1.1383704123201472",
          "0.3432371892094721,1.0353437401553456",
          "0.3432371892094721,1.0696859642102794",
          "0.3630646815121586,1.0353437401553456",
          "0.3630646815121586,1.0696859642102794",
          "0.3630646815121586,1.1040281882652134",
          "0.38289217381484514,1.0010015161004118",
          "0.38289217381484514,1.0353437401553456",
          "0.38289217381484514,1.0696859642102794",
          "0.4027196661175316,1.0010015161004118",
          "0.4027196661175316,1.0353437401553456",
          "0.4027196661175316,1.1040281882652134"
         ],
         "marker": {
          "opacity": 0.5
         },
         "name": "",
         "subplot": "mapbox",
         "type": "choroplethmapbox",
         "z": [
          14.842069196428573,
          8.622575567010308,
          23.569223451327435,
          21.722983062556516,
          21.44648900004388,
          15.142101471087358,
          28.50746028037383,
          27.057155172413793,
          24.138614957403533,
          17.930024423935457,
          26.203409090909098,
          13.390774635193132,
          38.29630966031746,
          21.812727272727273,
          26.921762733766236,
          10.236495131080893,
          17.146543778801842,
          24.560909090909096,
          18.232355763895523,
          32.11144278606967,
          30.226630879042705,
          24.053837605042016,
          13.30096333202036,
          14.719499133926671,
          20.756621973094177,
          20.084786154973546,
          31.08796296296296,
          25.53979956331877,
          22.31215031177433,
          23.3972570620286,
          23.909424883043368,
          18.281506422018346,
          20.483193277310924,
          29.086943023916525,
          25.096459041730494,
          39.720442794759826,
          11.137557795340623,
          41.690410958904124,
          29.03503649635036,
          9.20023149122807,
          18.946058091286307,
          29.044665359799392
         ]
        }
       ],
       "frames": [
        {
         "data": [
          {
           "coloraxis": "coloraxis",
           "customdata": [
            [
             7.77448,
             "0.25401347384738276,1.1211993002926803",
             "2022-10-24"
            ],
            [
             11.8909,
             "0.27384096615006925,1.0868570762377463",
             "2022-10-24"
            ],
            [
             8.22702,
             "0.2936684584527558,1.0181726281278787",
             "2022-10-24"
            ],
            [
             10.59764,
             "0.2936684584527558,1.0868570762377463",
             "2022-10-24"
            ],
            [
             12.433007499999999,
             "0.31349595075544234,1.0181726281278787",
             "2022-10-24"
            ],
            [
             18.3206,
             "0.31349595075544234,1.0525148521828125",
             "2022-10-24"
            ],
            [
             17.3378,
             "0.31349595075544234,1.1211993002926803",
             "2022-10-24"
            ],
            [
             14.5802,
             "0.33332344305812883,1.0181726281278787",
             "2022-10-24"
            ],
            [
             11.2,
             "0.33332344305812883,1.0525148521828125",
             "2022-10-24"
            ],
            [
             10.7,
             "0.33332344305812883,1.0868570762377463",
             "2022-10-24"
            ],
            [
             11.7761,
             "0.33332344305812883,1.1211993002926803",
             "2022-10-24"
            ],
            [
             29.770650000000003,
             "0.3531509353608153,1.0181726281278787",
             "2022-10-24"
            ],
            [
             4.5,
             "0.3531509353608153,1.0868570762377463",
             "2022-10-24"
            ],
            [
             18.7867,
             "0.3531509353608153,1.1211993002926803",
             "2022-10-24"
            ],
            [
             12.889069999999998,
             "0.37297842766350187,1.0181726281278787",
             "2022-10-24"
            ],
            [
             15.7,
             "0.37297842766350187,1.0525148521828125",
             "2022-10-24"
            ],
            [
             20.8,
             "0.37297842766350187,1.0868570762377463",
             "2022-10-24"
            ],
            [
             15.9502725,
             "0.3928059199661884,1.0181726281278787",
             "2022-10-24"
            ],
            [
             27.1,
             "0.3928059199661884,1.0525148521828125",
             "2022-10-24"
            ],
            [
             32.591249999999995,
             "0.3928059199661884,1.1211993002926803",
             "2022-10-24"
            ],
            [
             5.8395,
             "0.26392721999872604,1.0353437401553456",
             "2022-10-24"
            ],
            [
             6.58965,
             "0.26392721999872604,1.1040281882652134",
             "2022-10-24"
            ],
            [
             8.307405,
             "0.2837547123014125,1.0353437401553456",
             "2022-10-24"
            ],
            [
             7.449,
             "0.2837547123014125,1.0696859642102794",
             "2022-10-24"
            ],
            [
             11.3651,
             "0.30358220460409907,1.0353437401553456",
             "2022-10-24"
            ],
            [
             16.3,
             "0.30358220460409907,1.1040281882652134",
             "2022-10-24"
            ],
            [
             20.9035,
             "0.30358220460409907,1.1383704123201472",
             "2022-10-24"
            ],
            [
             21.2242,
             "0.32340969690678556,1.0010015161004118",
             "2022-10-24"
            ],
            [
             9.025,
             "0.32340969690678556,1.1040281882652134",
             "2022-10-24"
            ],
            [
             18.570333333333334,
             "0.32340969690678556,1.1383704123201472",
             "2022-10-24"
            ],
            [
             8,
             "0.3432371892094721,1.0696859642102794",
             "2022-10-24"
            ],
            [
             30.325000000000003,
             "0.3630646815121586,1.0353437401553456",
             "2022-10-24"
            ],
            [
             20.73111111111111,
             "0.3630646815121586,1.0696859642102794",
             "2022-10-24"
            ],
            [
             20.8086,
             "0.3630646815121586,1.1040281882652134",
             "2022-10-24"
            ],
            [
             8.94388,
             "0.38289217381484514,1.0010015161004118",
             "2022-10-24"
            ],
            [
             36.9,
             "0.38289217381484514,1.0353437401553456",
             "2022-10-24"
            ],
            [
             24.7,
             "0.38289217381484514,1.0696859642102794",
             "2022-10-24"
            ],
            [
             11.077,
             "0.4027196661175316,1.0010015161004118",
             "2022-10-24"
            ],
            [
             17.5,
             "0.4027196661175316,1.0353437401553456",
             "2022-10-24"
            ],
            [
             21,
             "0.4027196661175316,1.1040281882652134",
             "2022-10-24"
            ]
           ],
           "geojson": {
            "features": [
             {
              "geometry": {
               "coordinates": [
                [
                 [
                  14.553899990911745,
                  53.5113495848048
                 ],
                 [
                  15.121915804547777,
                  53.705917582753145
                 ],
                 [
                  15.121915804547777,
                  54.09236893756014
                 ],
                 [
                  14.553899990911745,
                  54.28425616416384
                 ],
                 [
                  13.985884177275713,
                  54.09236893756014
                 ],
                 [
                  13.985884177275713,
                  53.705917582753145
                 ],
                 [
                  14.553899990911745,
                  53.5113495848048
                 ]
                ]
               ],
               "type": "Polygon"
              },
              "id": "0.25401347384738276,1.1211993002926803",
              "type": "Feature"
             },
             {
              "geometry": {
               "coordinates": [
                [
                 [
                  15.689931618183808,
                  51.10603061443655
                 ],
                 [
                  16.25794743181984,
                  51.31148211396355
                 ],
                 [
                  16.25794743181984,
                  51.71963908315648
                 ],
                 [
                  15.689931618183808,
                  51.92234756770137
                 ],
                 [
                  15.121915804547776,
                  51.71963908315648
                 ],
                 [
                  15.121915804547776,
                  51.31148211396355
                 ],
                 [
                  15.689931618183808,
                  51.10603061443655
                 ]
                ]
               ],
               "type": "Polygon"
              },
              "id": "0.27384096615006925,1.0525148521828125",
              "type": "Feature"
             },
             {
              "geometry": {
               "coordinates": [
                [
                 [
                  15.689931618183808,
                  52.32503236711657
                 ],
                 [
                  16.25794743181984,
                  52.52501192858379
                 ],
                 [
                  16.25794743181984,
                  52.922253769480314
                 ],
                 [
                  15.689931618183808,
                  53.11951951505613
                 ],
                 [
                  15.121915804547776,
                  52.922253769480314
                 ],
                 [
                  15.121915804547776,
                  52.52501192858379
                 ],
                 [
                  15.689931618183808,
                  52.32503236711657
                 ]
                ]
               ],
               "type": "Polygon"
              },
              "id": "0.27384096615006925,1.0868570762377463",
              "type": "Feature"
             },
             {
              "geometry": {
               "coordinates": [
                [
                 [
                  16.825963245455874,
                  49.8540108588769
                 ],
                 [
                  17.393979059091905,
                  50.06498632551648
                 ],
                 [
                  17.393979059091905,
                  50.48416681397755
                 ],
                 [
                  16.825963245455874,
                  50.69237434982357
                 ],
                 [
                  16.25794743181984,
                  50.48416681397755
                 ],
                 [
                  16.25794743181984,
                  50.06498632551648
                 ],
                 [
                  16.825963245455874,
                  49.8540108588769
                 ]
                ]
               ],
               "type": "Polygon"
              },
              "id": "0.2936684584527558,1.0181726281278787",
              "type": "Feature"
             },
             {
              "geometry": {
               "coordinates": [
                [
                 [
                  16.825963245455874,
                  52.32503236711657
                 ],
                 [
                  17.393979059091905,
                  52.52501192858379
                 ],
                 [
                  17.393979059091905,
                  52.922253769480314
                 ],
                 [
                  16.825963245455874,
                  53.11951951505613
                 ],
                 [
                  16.25794743181984,
                  52.922253769480314
                 ],
                 [
                  16.25794743181984,
                  52.52501192858379
                 ],
                 [
                  16.825963245455874,
                  52.32503236711657
                 ]
                ]
               ],
               "type": "Polygon"
              },
              "id": "0.2936684584527558,1.0868570762377463",
              "type": "Feature"
             },
             {
              "geometry": {
               "coordinates": [
                [
                 [
                  17.96199487272794,
                  49.8540108588769
                 ],
                 [
                  18.530010686363973,
                  50.06498632551648
                 ],
                 [
                  18.530010686363973,
                  50.48416681397755
                 ],
                 [
                  17.96199487272794,
                  50.69237434982357
                 ],
                 [
                  17.393979059091905,
                  50.48416681397755
                 ],
                 [
                  17.393979059091905,
                  50.06498632551648
                 ],
                 [
                  17.96199487272794,
                  49.8540108588769
                 ]
                ]
               ],
               "type": "Polygon"
              },
              "id": "0.31349595075544234,1.0181726281278787",
              "type": "Feature"
             },
             {
              "geometry": {
               "coordinates": [
                [
                 [
                  17.96199487272794,
                  51.10603061443655
                 ],
                 [
                  18.530010686363973,
                  51.31148211396355
                 ],
                 [
                  18.530010686363973,
                  51.71963908315648
                 ],
                 [
                  17.96199487272794,
                  51.92234756770137
                 ],
                 [
                  17.393979059091905,
                  51.71963908315648
                 ],
                 [
                  17.393979059091905,
                  51.31148211396355
                 ],
                 [
                  17.96199487272794,
                  51.10603061443655
                 ]
                ]
               ],
               "type": "Polygon"
              },
              "id": "0.31349595075544234,1.0525148521828125",
              "type": "Feature"
             },
             {
              "geometry": {
               "coordinates": [
                [
                 [
                  17.96199487272794,
                  53.5113495848048
                 ],
                 [
                  18.530010686363973,
                  53.705917582753145
                 ],
                 [
                  18.530010686363973,
                  54.09236893756014
                 ],
                 [
                  17.96199487272794,
                  54.28425616416384
                 ],
                 [
                  17.393979059091905,
                  54.09236893756014
                 ],
                 [
                  17.393979059091905,
                  53.705917582753145
                 ],
                 [
                  17.96199487272794,
                  53.5113495848048
                 ]
                ]
               ],
               "type": "Polygon"
              },
              "id": "0.31349595075544234,1.1211993002926803",
              "type": "Feature"
             },
             {
              "geometry": {
               "coordinates": [
                [
                 [
                  19.0980265,
                  49.8540108588769
                 ],
                 [
                  19.666042313636034,
                  50.06498632551648
                 ],
                 [
                  19.666042313636034,
                  50.48416681397755
                 ],
                 [
                  19.0980265,
                  50.69237434982357
                 ],
                 [
                  18.530010686363966,
                  50.48416681397755
                 ],
                 [
                  18.530010686363966,
                  50.06498632551648
                 ],
                 [
                  19.0980265,
                  49.8540108588769
                 ]
                ]
               ],
               "type": "Polygon"
              },
              "id": "0.33332344305812883,1.0181726281278787",
              "type": "Feature"
             },
             {
              "geometry": {
               "coordinates": [
                [
                 [
                  19.0980265,
                  51.10603061443655
                 ],
                 [
                  19.666042313636034,
                  51.31148211396355
                 ],
                 [
                  19.666042313636034,
                  51.71963908315648
                 ],
                 [
                  19.0980265,
                  51.92234756770137
                 ],
                 [
                  18.530010686363966,
                  51.71963908315648
                 ],
                 [
                  18.530010686363966,
                  51.31148211396355
                 ],
                 [
                  19.0980265,
                  51.10603061443655
                 ]
                ]
               ],
               "type": "Polygon"
              },
              "id": "0.33332344305812883,1.0525148521828125",
              "type": "Feature"
             },
             {
              "geometry": {
               "coordinates": [
                [
                 [
                  19.0980265,
                  52.32503236711657
                 ],
                 [
                  19.666042313636034,
                  52.52501192858379
                 ],
                 [
                  19.666042313636034,
                  52.922253769480314
                 ],
                 [
                  19.0980265,
                  53.11951951505613
                 ],
                 [
                  18.530010686363966,
                  52.922253769480314
                 ],
                 [
                  18.530010686363966,
                  52.52501192858379
                 ],
                 [
                  19.0980265,
                  52.32503236711657
                 ]
                ]
               ],
               "type": "Polygon"
              },
              "id": "0.33332344305812883,1.0868570762377463",
              "type": "Feature"
             },
             {
              "geometry": {
               "coordinates": [
                [
                 [
                  19.0980265,
                  53.5113495848048
                 ],
                 [
                  19.666042313636034,
                  53.705917582753145
                 ],
                 [
                  19.666042313636034,
                  54.09236893756014
                 ],
                 [
                  19.0980265,
                  54.28425616416384
                 ],
                 [
                  18.530010686363966,
                  54.09236893756014
                 ],
                 [
                  18.530010686363966,
                  53.705917582753145
                 ],
                 [
                  19.0980265,
                  53.5113495848048
                 ]
                ]
               ],
               "type": "Polygon"
              },
              "id": "0.33332344305812883,1.1211993002926803",
              "type": "Feature"
             },
             {
              "geometry": {
               "coordinates": [
                [
                 [
                  20.234058127272064,
                  49.8540108588769
                 ],
                 [
                  20.802073940908095,
                  50.06498632551648
                 ],
                 [
                  20.802073940908095,
                  50.48416681397755
                 ],
                 [
                  20.234058127272064,
                  50.69237434982357
                 ],
                 [
                  19.66604231363603,
                  50.48416681397755
                 ],
                 [
                  19.66604231363603,
                  50.06498632551648
                 ],
                 [
                  20.234058127272064,
                  49.8540108588769
                 ]
                ]
               ],
               "type": "Polygon"
              },
              "id": "0.3531509353608153,1.0181726281278787",
              "type": "Feature"
             },
             {
              "geometry": {
               "coordinates": [
                [
                 [
                  20.234058127272064,
                  52.32503236711657
                 ],
                 [
                  20.802073940908095,
                  52.52501192858379
                 ],
                 [
                  20.802073940908095,
                  52.922253769480314
                 ],
                 [
                  20.234058127272064,
                  53.11951951505613
                 ],
                 [
                  19.66604231363603,
                  52.922253769480314
                 ],
                 [
                  19.66604231363603,
                  52.52501192858379
                 ],
                 [
                  20.234058127272064,
                  52.32503236711657
                 ]
                ]
               ],
               "type": "Polygon"
              },
              "id": "0.3531509353608153,1.0868570762377463",
              "type": "Feature"
             },
             {
              "geometry": {
               "coordinates": [
                [
                 [
                  20.234058127272064,
                  53.5113495848048
                 ],
                 [
                  20.802073940908095,
                  53.705917582753145
                 ],
                 [
                  20.802073940908095,
                  54.09236893756014
                 ],
                 [
                  20.234058127272064,
                  54.28425616416384
                 ],
                 [
                  19.66604231363603,
                  54.09236893756014
                 ],
                 [
                  19.66604231363603,
                  53.705917582753145
                 ],
                 [
                  20.234058127272064,
                  53.5113495848048
                 ]
                ]
               ],
               "type": "Polygon"
              },
              "id": "0.3531509353608153,1.1211993002926803",
              "type": "Feature"
             },
             {
              "geometry": {
               "coordinates": [
                [
                 [
                  21.37008975454413,
                  49.8540108588769
                 ],
                 [
                  21.93810556818016,
                  50.06498632551648
                 ],
                 [
                  21.93810556818016,
                  50.48416681397755
                 ],
                 [
                  21.37008975454413,
                  50.69237434982357
                 ],
                 [
                  20.802073940908095,
                  50.48416681397755
                 ],
                 [
                  20.802073940908095,
                  50.06498632551648
                 ],
                 [
                  21.37008975454413,
                  49.8540108588769
                 ]
                ]
               ],
               "type": "Polygon"
              },
              "id": "0.37297842766350187,1.0181726281278787",
              "type": "Feature"
             },
             {
              "geometry": {
               "coordinates": [
                [
                 [
                  21.37008975454413,
                  51.10603061443655
                 ],
                 [
                  21.93810556818016,
                  51.31148211396355
                 ],
                 [
                  21.93810556818016,
                  51.71963908315648
                 ],
                 [
                  21.37008975454413,
                  51.92234756770137
                 ],
                 [
                  20.802073940908095,
                  51.71963908315648
                 ],
                 [
                  20.802073940908095,
                  51.31148211396355
                 ],
                 [
                  21.37008975454413,
                  51.10603061443655
                 ]
                ]
               ],
               "type": "Polygon"
              },
              "id": "0.37297842766350187,1.0525148521828125",
              "type": "Feature"
             },
             {
              "geometry": {
               "coordinates": [
                [
                 [
                  21.37008975454413,
                  52.32503236711657
                 ],
                 [
                  21.93810556818016,
                  52.52501192858379
                 ],
                 [
                  21.93810556818016,
                  52.922253769480314
                 ],
                 [
                  21.37008975454413,
                  53.11951951505613
                 ],
                 [
                  20.802073940908095,
                  52.922253769480314
                 ],
                 [
                  20.802073940908095,
                  52.52501192858379
                 ],
                 [
                  21.37008975454413,
                  52.32503236711657
                 ]
                ]
               ],
               "type": "Polygon"
              },
              "id": "0.37297842766350187,1.0868570762377463",
              "type": "Feature"
             },
             {
              "geometry": {
               "coordinates": [
                [
                 [
                  22.506121381816193,
                  49.8540108588769
                 ],
                 [
                  23.074137195452227,
                  50.06498632551648
                 ],
                 [
                  23.074137195452227,
                  50.48416681397755
                 ],
                 [
                  22.506121381816193,
                  50.69237434982357
                 ],
                 [
                  21.93810556818016,
                  50.48416681397755
                 ],
                 [
                  21.93810556818016,
                  50.06498632551648
                 ],
                 [
                  22.506121381816193,
                  49.8540108588769
                 ]
                ]
               ],
               "type": "Polygon"
              },
              "id": "0.3928059199661884,1.0181726281278787",
              "type": "Feature"
             },
             {
              "geometry": {
               "coordinates": [
                [
                 [
                  22.506121381816193,
                  51.10603061443655
                 ],
                 [
                  23.074137195452227,
                  51.31148211396355
                 ],
                 [
                  23.074137195452227,
                  51.71963908315648
                 ],
                 [
                  22.506121381816193,
                  51.92234756770137
                 ],
                 [
                  21.93810556818016,
                  51.71963908315648
                 ],
                 [
                  21.93810556818016,
                  51.31148211396355
                 ],
                 [
                  22.506121381816193,
                  51.10603061443655
                 ]
                ]
               ],
               "type": "Polygon"
              },
              "id": "0.3928059199661884,1.0525148521828125",
              "type": "Feature"
             },
             {
              "geometry": {
               "coordinates": [
                [
                 [
                  22.506121381816193,
                  53.5113495848048
                 ],
                 [
                  23.074137195452227,
                  53.705917582753145
                 ],
                 [
                  23.074137195452227,
                  54.09236893756014
                 ],
                 [
                  22.506121381816193,
                  54.28425616416384
                 ],
                 [
                  21.93810556818016,
                  54.09236893756014
                 ],
                 [
                  21.93810556818016,
                  53.705917582753145
                 ],
                 [
                  22.506121381816193,
                  53.5113495848048
                 ]
                ]
               ],
               "type": "Polygon"
              },
              "id": "0.3928059199661884,1.1211993002926803",
              "type": "Feature"
             },
             {
              "geometry": {
               "coordinates": [
                [
                 [
                  15.121915804547777,
                  50.48416681397755
                 ],
                 [
                  15.689931618183811,
                  50.69237434982357
                 ],
                 [
                  15.689931618183811,
                  51.10603061443655
                 ],
                 [
                  15.121915804547777,
                  51.31148211396355
                 ],
                 [
                  14.553899990911745,
                  51.10603061443655
                 ],
                 [
                  14.553899990911745,
                  50.69237434982357
                 ],
                 [
                  15.121915804547777,
                  50.48416681397755
                 ]
                ]
               ],
               "type": "Polygon"
              },
              "id": "0.26392721999872604,1.0353437401553456",
              "type": "Feature"
             },
             {
              "geometry": {
               "coordinates": [
                [
                 [
                  15.121915804547777,
                  52.922253769480314
                 ],
                 [
                  15.689931618183811,
                  53.11951951505616
                 ],
                 [
                  15.689931618183811,
                  53.5113495848048
                 ],
                 [
                  15.121915804547777,
                  53.705917582753145
                 ],
                 [
                  14.553899990911745,
                  53.5113495848048
                 ],
                 [
                  14.553899990911745,
                  53.11951951505616
                 ],
                 [
                  15.121915804547777,
                  52.922253769480314
                 ]
                ]
               ],
               "type": "Polygon"
              },
              "id": "0.26392721999872604,1.1040281882652134",
              "type": "Feature"
             },
             {
              "geometry": {
               "coordinates": [
                [
                 [
                  16.25794743181984,
                  50.48416681397755
                 ],
                 [
                  16.825963245455874,
                  50.69237434982357
                 ],
                 [
                  16.825963245455874,
                  51.10603061443655
                 ],
                 [
                  16.25794743181984,
                  51.31148211396355
                 ],
                 [
                  15.689931618183808,
                  51.10603061443655
                 ],
                 [
                  15.689931618183808,
                  50.69237434982357
                 ],
                 [
                  16.25794743181984,
                  50.48416681397755
                 ]
                ]
               ],
               "type": "Polygon"
              },
              "id": "0.2837547123014125,1.0353437401553456",
              "type": "Feature"
             },
             {
              "geometry": {
               "coordinates": [
                [
                 [
                  16.25794743181984,
                  51.71963908315648
                 ],
                 [
                  16.825963245455874,
                  51.92234756770137
                 ],
                 [
                  16.825963245455874,
                  52.32503236711657
                 ],
                 [
                  16.25794743181984,
                  52.52501192858379
                 ],
                 [
                  15.689931618183808,
                  52.32503236711657
                 ],
                 [
                  15.689931618183808,
                  51.92234756770137
                 ],
                 [
                  16.25794743181984,
                  51.71963908315648
                 ]
                ]
               ],
               "type": "Polygon"
              },
              "id": "0.2837547123014125,1.0696859642102794",
              "type": "Feature"
             },
             {
              "geometry": {
               "coordinates": [
                [
                 [
                  17.393979059091905,
                  50.48416681397755
                 ],
                 [
                  17.96199487272794,
                  50.69237434982357
                 ],
                 [
                  17.96199487272794,
                  51.10603061443655
                 ],
                 [
                  17.393979059091905,
                  51.31148211396355
                 ],
                 [
                  16.825963245455874,
                  51.10603061443655
                 ],
                 [
                  16.825963245455874,
                  50.69237434982357
                 ],
                 [
                  17.393979059091905,
                  50.48416681397755
                 ]
                ]
               ],
               "type": "Polygon"
              },
              "id": "0.30358220460409907,1.0353437401553456",
              "type": "Feature"
             },
             {
              "geometry": {
               "coordinates": [
                [
                 [
                  17.393979059091905,
                  52.922253769480314
                 ],
                 [
                  17.96199487272794,
                  53.11951951505616
                 ],
                 [
                  17.96199487272794,
                  53.5113495848048
                 ],
                 [
                  17.393979059091905,
                  53.705917582753145
                 ],
                 [
                  16.825963245455874,
                  53.5113495848048
                 ],
                 [
                  16.825963245455874,
                  53.11951951505616
                 ],
                 [
                  17.393979059091905,
                  52.922253769480314
                 ]
                ]
               ],
               "type": "Polygon"
              },
              "id": "0.30358220460409907,1.1040281882652134",
              "type": "Feature"
             },
             {
              "geometry": {
               "coordinates": [
                [
                 [
                  17.393979059091905,
                  54.09236893756014
                 ],
                 [
                  17.96199487272794,
                  54.28425616416384
                 ],
                 [
                  17.96199487272794,
                  54.66536362414315
                 ],
                 [
                  17.393979059091905,
                  54.854587911846494
                 ],
                 [
                  16.825963245455874,
                  54.66536362414315
                 ],
                 [
                  16.825963245455874,
                  54.28425616416384
                 ],
                 [
                  17.393979059091905,
                  54.09236893756014
                 ]
                ]
               ],
               "type": "Polygon"
              },
              "id": "0.30358220460409907,1.1383704123201472",
              "type": "Feature"
             },
             {
              "geometry": {
               "coordinates": [
                [
                 [
                  18.530010686363966,
                  49.215529421067494
                 ],
                 [
                  19.0980265,
                  49.42928352889036
                 ],
                 [
                  19.0980265,
                  49.8540108588769
                 ],
                 [
                  18.530010686363966,
                  50.06498632551648
                 ],
                 [
                  17.961994872727935,
                  49.8540108588769
                 ],
                 [
                  17.961994872727935,
                  49.42928352889036
                 ],
                 [
                  18.530010686363966,
                  49.215529421067494
                 ]
                ]
               ],
               "type": "Polygon"
              },
              "id": "0.32340969690678556,1.0010015161004118",
              "type": "Feature"
             },
             {
              "geometry": {
               "coordinates": [
                [
                 [
                  18.530010686363966,
                  52.922253769480314
                 ],
                 [
                  19.0980265,
                  53.11951951505616
                 ],
                 [
                  19.0980265,
                  53.5113495848048
                 ],
                 [
                  18.530010686363966,
                  53.705917582753145
                 ],
                 [
                  17.961994872727935,
                  53.5113495848048
                 ],
                 [
                  17.961994872727935,
                  53.11951951505616
                 ],
                 [
                  18.530010686363966,
                  52.922253769480314
                 ]
                ]
               ],
               "type": "Polygon"
              },
              "id": "0.32340969690678556,1.1040281882652134",
              "type": "Feature"
             },
             {
              "geometry": {
               "coordinates": [
                [
                 [
                  18.530010686363966,
                  54.09236893756014
                 ],
                 [
                  19.0980265,
                  54.28425616416384
                 ],
                 [
                  19.0980265,
                  54.66536362414315
                 ],
                 [
                  18.530010686363966,
                  54.854587911846494
                 ],
                 [
                  17.961994872727935,
                  54.66536362414315
                 ],
                 [
                  17.961994872727935,
                  54.28425616416384
                 ],
                 [
                  18.530010686363966,
                  54.09236893756014
                 ]
                ]
               ],
               "type": "Polygon"
              },
              "id": "0.32340969690678556,1.1383704123201472",
              "type": "Feature"
             },
             {
              "geometry": {
               "coordinates": [
                [
                 [
                  19.666042313636034,
                  50.48416681397755
                 ],
                 [
                  20.234058127272064,
                  50.69237434982357
                 ],
                 [
                  20.234058127272064,
                  51.10603061443655
                 ],
                 [
                  19.666042313636034,
                  51.31148211396355
                 ],
                 [
                  19.0980265,
                  51.10603061443655
                 ],
                 [
                  19.0980265,
                  50.69237434982357
                 ],
                 [
                  19.666042313636034,
                  50.48416681397755
                 ]
                ]
               ],
               "type": "Polygon"
              },
              "id": "0.3432371892094721,1.0353437401553456",
              "type": "Feature"
             },
             {
              "geometry": {
               "coordinates": [
                [
                 [
                  19.666042313636034,
                  51.71963908315648
                 ],
                 [
                  20.234058127272064,
                  51.92234756770137
                 ],
                 [
                  20.234058127272064,
                  52.32503236711657
                 ],
                 [
                  19.666042313636034,
                  52.52501192858379
                 ],
                 [
                  19.0980265,
                  52.32503236711657
                 ],
                 [
                  19.0980265,
                  51.92234756770137
                 ],
                 [
                  19.666042313636034,
                  51.71963908315648
                 ]
                ]
               ],
               "type": "Polygon"
              },
              "id": "0.3432371892094721,1.0696859642102794",
              "type": "Feature"
             },
             {
              "geometry": {
               "coordinates": [
                [
                 [
                  20.802073940908095,
                  50.48416681397755
                 ],
                 [
                  21.37008975454413,
                  50.69237434982357
                 ],
                 [
                  21.37008975454413,
                  51.10603061443655
                 ],
                 [
                  20.802073940908095,
                  51.31148211396355
                 ],
                 [
                  20.234058127272064,
                  51.10603061443655
                 ],
                 [
                  20.234058127272064,
                  50.69237434982357
                 ],
                 [
                  20.802073940908095,
                  50.48416681397755
                 ]
                ]
               ],
               "type": "Polygon"
              },
              "id": "0.3630646815121586,1.0353437401553456",
              "type": "Feature"
             },
             {
              "geometry": {
               "coordinates": [
                [
                 [
                  20.802073940908095,
                  51.71963908315648
                 ],
                 [
                  21.37008975454413,
                  51.92234756770137
                 ],
                 [
                  21.37008975454413,
                  52.32503236711657
                 ],
                 [
                  20.802073940908095,
                  52.52501192858379
                 ],
                 [
                  20.234058127272064,
                  52.32503236711657
                 ],
                 [
                  20.234058127272064,
                  51.92234756770137
                 ],
                 [
                  20.802073940908095,
                  51.71963908315648
                 ]
                ]
               ],
               "type": "Polygon"
              },
              "id": "0.3630646815121586,1.0696859642102794",
              "type": "Feature"
             },
             {
              "geometry": {
               "coordinates": [
                [
                 [
                  20.802073940908095,
                  52.922253769480314
                 ],
                 [
                  21.37008975454413,
                  53.11951951505616
                 ],
                 [
                  21.37008975454413,
                  53.5113495848048
                 ],
                 [
                  20.802073940908095,
                  53.705917582753145
                 ],
                 [
                  20.234058127272064,
                  53.5113495848048
                 ],
                 [
                  20.234058127272064,
                  53.11951951505616
                 ],
                 [
                  20.802073940908095,
                  52.922253769480314
                 ]
                ]
               ],
               "type": "Polygon"
              },
              "id": "0.3630646815121586,1.1040281882652134",
              "type": "Feature"
             },
             {
              "geometry": {
               "coordinates": [
                [
                 [
                  21.93810556818016,
                  49.215529421067494
                 ],
                 [
                  22.506121381816193,
                  49.42928352889036
                 ],
                 [
                  22.506121381816193,
                  49.8540108588769
                 ],
                 [
                  21.93810556818016,
                  50.06498632551648
                 ],
                 [
                  21.37008975454413,
                  49.8540108588769
                 ],
                 [
                  21.37008975454413,
                  49.42928352889036
                 ],
                 [
                  21.93810556818016,
                  49.215529421067494
                 ]
                ]
               ],
               "type": "Polygon"
              },
              "id": "0.38289217381484514,1.0010015161004118",
              "type": "Feature"
             },
             {
              "geometry": {
               "coordinates": [
                [
                 [
                  21.93810556818016,
                  50.48416681397755
                 ],
                 [
                  22.506121381816193,
                  50.69237434982357
                 ],
                 [
                  22.506121381816193,
                  51.10603061443655
                 ],
                 [
                  21.93810556818016,
                  51.31148211396355
                 ],
                 [
                  21.37008975454413,
                  51.10603061443655
                 ],
                 [
                  21.37008975454413,
                  50.69237434982357
                 ],
                 [
                  21.93810556818016,
                  50.48416681397755
                 ]
                ]
               ],
               "type": "Polygon"
              },
              "id": "0.38289217381484514,1.0353437401553456",
              "type": "Feature"
             },
             {
              "geometry": {
               "coordinates": [
                [
                 [
                  21.93810556818016,
                  51.71963908315648
                 ],
                 [
                  22.506121381816193,
                  51.92234756770137
                 ],
                 [
                  22.506121381816193,
                  52.32503236711657
                 ],
                 [
                  21.93810556818016,
                  52.52501192858379
                 ],
                 [
                  21.37008975454413,
                  52.32503236711657
                 ],
                 [
                  21.37008975454413,
                  51.92234756770137
                 ],
                 [
                  21.93810556818016,
                  51.71963908315648
                 ]
                ]
               ],
               "type": "Polygon"
              },
              "id": "0.38289217381484514,1.0696859642102794",
              "type": "Feature"
             },
             {
              "geometry": {
               "coordinates": [
                [
                 [
                  23.074137195452224,
                  49.215529421067494
                 ],
                 [
                  23.642153009088258,
                  49.42928352889036
                 ],
                 [
                  23.642153009088258,
                  49.8540108588769
                 ],
                 [
                  23.074137195452224,
                  50.06498632551648
                 ],
                 [
                  22.50612138181619,
                  49.8540108588769
                 ],
                 [
                  22.50612138181619,
                  49.42928352889036
                 ],
                 [
                  23.074137195452224,
                  49.215529421067494
                 ]
                ]
               ],
               "type": "Polygon"
              },
              "id": "0.4027196661175316,1.0010015161004118",
              "type": "Feature"
             },
             {
              "geometry": {
               "coordinates": [
                [
                 [
                  23.074137195452224,
                  50.48416681397755
                 ],
                 [
                  23.642153009088258,
                  50.69237434982357
                 ],
                 [
                  23.642153009088258,
                  51.10603061443655
                 ],
                 [
                  23.074137195452224,
                  51.31148211396355
                 ],
                 [
                  22.50612138181619,
                  51.10603061443655
                 ],
                 [
                  22.50612138181619,
                  50.69237434982357
                 ],
                 [
                  23.074137195452224,
                  50.48416681397755
                 ]
                ]
               ],
               "type": "Polygon"
              },
              "id": "0.4027196661175316,1.0353437401553456",
              "type": "Feature"
             },
             {
              "geometry": {
               "coordinates": [
                [
                 [
                  23.074137195452224,
                  52.922253769480314
                 ],
                 [
                  23.642153009088258,
                  53.11951951505616
                 ],
                 [
                  23.642153009088258,
                  53.5113495848048
                 ],
                 [
                  23.074137195452224,
                  53.705917582753145
                 ],
                 [
                  22.50612138181619,
                  53.5113495848048
                 ],
                 [
                  22.50612138181619,
                  53.11951951505616
                 ],
                 [
                  23.074137195452224,
                  52.922253769480314
                 ]
                ]
               ],
               "type": "Polygon"
              },
              "id": "0.4027196661175316,1.1040281882652134",
              "type": "Feature"
             }
            ],
            "type": "FeatureCollection"
           },
           "hovertemplate": "Avg value=%{z}<extra></extra>",
           "locations": [
            "0.25401347384738276,1.1211993002926803",
            "0.27384096615006925,1.0868570762377463",
            "0.2936684584527558,1.0181726281278787",
            "0.2936684584527558,1.0868570762377463",
            "0.31349595075544234,1.0181726281278787",
            "0.31349595075544234,1.0525148521828125",
            "0.31349595075544234,1.1211993002926803",
            "0.33332344305812883,1.0181726281278787",
            "0.33332344305812883,1.0525148521828125",
            "0.33332344305812883,1.0868570762377463",
            "0.33332344305812883,1.1211993002926803",
            "0.3531509353608153,1.0181726281278787",
            "0.3531509353608153,1.0868570762377463",
            "0.3531509353608153,1.1211993002926803",
            "0.37297842766350187,1.0181726281278787",
            "0.37297842766350187,1.0525148521828125",
            "0.37297842766350187,1.0868570762377463",
            "0.3928059199661884,1.0181726281278787",
            "0.3928059199661884,1.0525148521828125",
            "0.3928059199661884,1.1211993002926803",
            "0.26392721999872604,1.0353437401553456",
            "0.26392721999872604,1.1040281882652134",
            "0.2837547123014125,1.0353437401553456",
            "0.2837547123014125,1.0696859642102794",
            "0.30358220460409907,1.0353437401553456",
            "0.30358220460409907,1.1040281882652134",
            "0.30358220460409907,1.1383704123201472",
            "0.32340969690678556,1.0010015161004118",
            "0.32340969690678556,1.1040281882652134",
            "0.32340969690678556,1.1383704123201472",
            "0.3432371892094721,1.0696859642102794",
            "0.3630646815121586,1.0353437401553456",
            "0.3630646815121586,1.0696859642102794",
            "0.3630646815121586,1.1040281882652134",
            "0.38289217381484514,1.0010015161004118",
            "0.38289217381484514,1.0353437401553456",
            "0.38289217381484514,1.0696859642102794",
            "0.4027196661175316,1.0010015161004118",
            "0.4027196661175316,1.0353437401553456",
            "0.4027196661175316,1.1040281882652134"
           ],
           "marker": {
            "opacity": 0.5
           },
           "name": "",
           "subplot": "mapbox",
           "type": "choroplethmapbox",
           "z": [
            7.77448,
            11.8909,
            8.22702,
            10.59764,
            12.433007499999999,
            18.3206,
            17.3378,
            14.5802,
            11.2,
            10.7,
            11.7761,
            29.770650000000003,
            4.5,
            18.7867,
            12.889069999999998,
            15.7,
            20.8,
            15.9502725,
            27.1,
            32.591249999999995,
            5.8395,
            6.58965,
            8.307405,
            7.449,
            11.3651,
            16.3,
            20.9035,
            21.2242,
            9.025,
            18.570333333333334,
            8,
            30.325000000000003,
            20.73111111111111,
            20.8086,
            8.94388,
            36.9,
            24.7,
            11.077,
            17.5,
            21
           ]
          }
         ],
         "name": "2022-10-24"
        },
        {
         "data": [
          {
           "coloraxis": "coloraxis",
           "customdata": [
            [
             8.25524355,
             "0.25401347384738276,1.1211993002926803",
             "2022-10-25"
            ],
            [
             5.0828247,
             "0.27384096615006925,1.0525148521828125",
             "2022-10-25"
            ],
            [
             8.482546636363637,
             "0.27384096615006925,1.0868570762377463",
             "2022-10-25"
            ],
            [
             14.562420395409317,
             "0.2936684584527558,1.0181726281278787",
             "2022-10-25"
            ],
            [
             18.224474769501708,
             "0.2936684584527558,1.0868570762377463",
             "2022-10-25"
            ],
            [
             12.362849035946196,
             "0.31349595075544234,1.0181726281278787",
             "2022-10-25"
            ],
            [
             15.188056581632654,
             "0.31349595075544234,1.0525148521828125",
             "2022-10-25"
            ],
            [
             14.652686226415094,
             "0.31349595075544234,1.1211993002926803",
             "2022-10-25"
            ],
            [
             13.917223242424242,
             "0.33332344305812883,1.0181726281278787",
             "2022-10-25"
            ],
            [
             12.444053549190535,
             "0.33332344305812883,1.0525148521828125",
             "2022-10-25"
            ],
            [
             17.66136363636364,
             "0.33332344305812883,1.0868570762377463",
             "2022-10-25"
            ],
            [
             9.321694834123223,
             "0.33332344305812883,1.1211993002926803",
             "2022-10-25"
            ],
            [
             18.446433359219554,
             "0.3531509353608153,1.0181726281278787",
             "2022-10-25"
            ],
            [
             11.56969696969697,
             "0.3531509353608153,1.0868570762377463",
             "2022-10-25"
            ],
            [
             16.637304942080018,
             "0.3531509353608153,1.1211993002926803",
             "2022-10-25"
            ],
            [
             9.62330957301811,
             "0.37297842766350187,1.0181726281278787",
             "2022-10-25"
            ],
            [
             8.112626262626264,
             "0.37297842766350187,1.0525148521828125",
             "2022-10-25"
            ],
            [
             17.79949494949495,
             "0.37297842766350187,1.0868570762377463",
             "2022-10-25"
            ],
            [
             12.445991735055443,
             "0.3928059199661884,1.0181726281278787",
             "2022-10-25"
            ],
            [
             22.892817679558014,
             "0.3928059199661884,1.0525148521828125",
             "2022-10-25"
            ],
            [
             20.765213579545453,
             "0.3928059199661884,1.1211993002926803",
             "2022-10-25"
            ],
            [
             20.222913863636364,
             "0.26392721999872604,1.0353437401553456",
             "2022-10-25"
            ],
            [
             7.877085101492537,
             "0.26392721999872604,1.1040281882652134",
             "2022-10-25"
            ],
            [
             15.331698727272727,
             "0.2837547123014125,1.0353437401553456",
             "2022-10-25"
            ],
            [
             12.623753818181818,
             "0.2837547123014125,1.0696859642102794",
             "2022-10-25"
            ],
            [
             12.094080250000001,
             "0.30358220460409907,1.0353437401553456",
             "2022-10-25"
            ],
            [
             16.453061224489797,
             "0.30358220460409907,1.1040281882652134",
             "2022-10-25"
            ],
            [
             14.49178028301887,
             "0.30358220460409907,1.1383704123201472",
             "2022-10-25"
            ],
            [
             13.11307928181818,
             "0.32340969690678556,1.0010015161004118",
             "2022-10-25"
            ],
            [
             11.009988952020201,
             "0.32340969690678556,1.1040281882652134",
             "2022-10-25"
            ],
            [
             11.377379526951147,
             "0.32340969690678556,1.1383704123201472",
             "2022-10-25"
            ],
            [
             14.881920999999995,
             "0.3432371892094721,1.0353437401553456",
             "2022-10-25"
            ],
            [
             12.181372549019608,
             "0.3432371892094721,1.0696859642102794",
             "2022-10-25"
            ],
            [
             15.569795454545455,
             "0.3630646815121586,1.0353437401553456",
             "2022-10-25"
            ],
            [
             16.56976087404659,
             "0.3630646815121586,1.0696859642102794",
             "2022-10-25"
            ],
            [
             17.755300943396225,
             "0.3630646815121586,1.1040281882652134",
             "2022-10-25"
            ],
            [
             10.405875849056605,
             "0.38289217381484514,1.0010015161004118",
             "2022-10-25"
            ],
            [
             33.28939393939393,
             "0.38289217381484514,1.0353437401553456",
             "2022-10-25"
            ],
            [
             21.28030303030303,
             "0.38289217381484514,1.0696859642102794",
             "2022-10-25"
            ],
            [
             8.403863915094341,
             "0.4027196661175316,1.0010015161004118",
             "2022-10-25"
            ],
            [
             15.193181818181818,
             "0.4027196661175316,1.0353437401553456",
             "2022-10-25"
            ],
            [
             17.81560606060606,
             "0.4027196661175316,1.1040281882652134",
             "2022-10-25"
            ]
           ],
           "geojson": {
            "features": [
             {
              "geometry": {
               "coordinates": [
                [
                 [
                  14.553899990911745,
                  53.5113495848048
                 ],
                 [
                  15.121915804547777,
                  53.705917582753145
                 ],
                 [
                  15.121915804547777,
                  54.09236893756014
                 ],
                 [
                  14.553899990911745,
                  54.28425616416384
                 ],
                 [
                  13.985884177275713,
                  54.09236893756014
                 ],
                 [
                  13.985884177275713,
                  53.705917582753145
                 ],
                 [
                  14.553899990911745,
                  53.5113495848048
                 ]
                ]
               ],
               "type": "Polygon"
              },
              "id": "0.25401347384738276,1.1211993002926803",
              "type": "Feature"
             },
             {
              "geometry": {
               "coordinates": [
                [
                 [
                  15.689931618183808,
                  51.10603061443655
                 ],
                 [
                  16.25794743181984,
                  51.31148211396355
                 ],
                 [
                  16.25794743181984,
                  51.71963908315648
                 ],
                 [
                  15.689931618183808,
                  51.92234756770137
                 ],
                 [
                  15.121915804547776,
                  51.71963908315648
                 ],
                 [
                  15.121915804547776,
                  51.31148211396355
                 ],
                 [
                  15.689931618183808,
                  51.10603061443655
                 ]
                ]
               ],
               "type": "Polygon"
              },
              "id": "0.27384096615006925,1.0525148521828125",
              "type": "Feature"
             },
             {
              "geometry": {
               "coordinates": [
                [
                 [
                  15.689931618183808,
                  52.32503236711657
                 ],
                 [
                  16.25794743181984,
                  52.52501192858379
                 ],
                 [
                  16.25794743181984,
                  52.922253769480314
                 ],
                 [
                  15.689931618183808,
                  53.11951951505613
                 ],
                 [
                  15.121915804547776,
                  52.922253769480314
                 ],
                 [
                  15.121915804547776,
                  52.52501192858379
                 ],
                 [
                  15.689931618183808,
                  52.32503236711657
                 ]
                ]
               ],
               "type": "Polygon"
              },
              "id": "0.27384096615006925,1.0868570762377463",
              "type": "Feature"
             },
             {
              "geometry": {
               "coordinates": [
                [
                 [
                  16.825963245455874,
                  49.8540108588769
                 ],
                 [
                  17.393979059091905,
                  50.06498632551648
                 ],
                 [
                  17.393979059091905,
                  50.48416681397755
                 ],
                 [
                  16.825963245455874,
                  50.69237434982357
                 ],
                 [
                  16.25794743181984,
                  50.48416681397755
                 ],
                 [
                  16.25794743181984,
                  50.06498632551648
                 ],
                 [
                  16.825963245455874,
                  49.8540108588769
                 ]
                ]
               ],
               "type": "Polygon"
              },
              "id": "0.2936684584527558,1.0181726281278787",
              "type": "Feature"
             },
             {
              "geometry": {
               "coordinates": [
                [
                 [
                  16.825963245455874,
                  52.32503236711657
                 ],
                 [
                  17.393979059091905,
                  52.52501192858379
                 ],
                 [
                  17.393979059091905,
                  52.922253769480314
                 ],
                 [
                  16.825963245455874,
                  53.11951951505613
                 ],
                 [
                  16.25794743181984,
                  52.922253769480314
                 ],
                 [
                  16.25794743181984,
                  52.52501192858379
                 ],
                 [
                  16.825963245455874,
                  52.32503236711657
                 ]
                ]
               ],
               "type": "Polygon"
              },
              "id": "0.2936684584527558,1.0868570762377463",
              "type": "Feature"
             },
             {
              "geometry": {
               "coordinates": [
                [
                 [
                  17.96199487272794,
                  49.8540108588769
                 ],
                 [
                  18.530010686363973,
                  50.06498632551648
                 ],
                 [
                  18.530010686363973,
                  50.48416681397755
                 ],
                 [
                  17.96199487272794,
                  50.69237434982357
                 ],
                 [
                  17.393979059091905,
                  50.48416681397755
                 ],
                 [
                  17.393979059091905,
                  50.06498632551648
                 ],
                 [
                  17.96199487272794,
                  49.8540108588769
                 ]
                ]
               ],
               "type": "Polygon"
              },
              "id": "0.31349595075544234,1.0181726281278787",
              "type": "Feature"
             },
             {
              "geometry": {
               "coordinates": [
                [
                 [
                  17.96199487272794,
                  51.10603061443655
                 ],
                 [
                  18.530010686363973,
                  51.31148211396355
                 ],
                 [
                  18.530010686363973,
                  51.71963908315648
                 ],
                 [
                  17.96199487272794,
                  51.92234756770137
                 ],
                 [
                  17.393979059091905,
                  51.71963908315648
                 ],
                 [
                  17.393979059091905,
                  51.31148211396355
                 ],
                 [
                  17.96199487272794,
                  51.10603061443655
                 ]
                ]
               ],
               "type": "Polygon"
              },
              "id": "0.31349595075544234,1.0525148521828125",
              "type": "Feature"
             },
             {
              "geometry": {
               "coordinates": [
                [
                 [
                  17.96199487272794,
                  53.5113495848048
                 ],
                 [
                  18.530010686363973,
                  53.705917582753145
                 ],
                 [
                  18.530010686363973,
                  54.09236893756014
                 ],
                 [
                  17.96199487272794,
                  54.28425616416384
                 ],
                 [
                  17.393979059091905,
                  54.09236893756014
                 ],
                 [
                  17.393979059091905,
                  53.705917582753145
                 ],
                 [
                  17.96199487272794,
                  53.5113495848048
                 ]
                ]
               ],
               "type": "Polygon"
              },
              "id": "0.31349595075544234,1.1211993002926803",
              "type": "Feature"
             },
             {
              "geometry": {
               "coordinates": [
                [
                 [
                  19.0980265,
                  49.8540108588769
                 ],
                 [
                  19.666042313636034,
                  50.06498632551648
                 ],
                 [
                  19.666042313636034,
                  50.48416681397755
                 ],
                 [
                  19.0980265,
                  50.69237434982357
                 ],
                 [
                  18.530010686363966,
                  50.48416681397755
                 ],
                 [
                  18.530010686363966,
                  50.06498632551648
                 ],
                 [
                  19.0980265,
                  49.8540108588769
                 ]
                ]
               ],
               "type": "Polygon"
              },
              "id": "0.33332344305812883,1.0181726281278787",
              "type": "Feature"
             },
             {
              "geometry": {
               "coordinates": [
                [
                 [
                  19.0980265,
                  51.10603061443655
                 ],
                 [
                  19.666042313636034,
                  51.31148211396355
                 ],
                 [
                  19.666042313636034,
                  51.71963908315648
                 ],
                 [
                  19.0980265,
                  51.92234756770137
                 ],
                 [
                  18.530010686363966,
                  51.71963908315648
                 ],
                 [
                  18.530010686363966,
                  51.31148211396355
                 ],
                 [
                  19.0980265,
                  51.10603061443655
                 ]
                ]
               ],
               "type": "Polygon"
              },
              "id": "0.33332344305812883,1.0525148521828125",
              "type": "Feature"
             },
             {
              "geometry": {
               "coordinates": [
                [
                 [
                  19.0980265,
                  52.32503236711657
                 ],
                 [
                  19.666042313636034,
                  52.52501192858379
                 ],
                 [
                  19.666042313636034,
                  52.922253769480314
                 ],
                 [
                  19.0980265,
                  53.11951951505613
                 ],
                 [
                  18.530010686363966,
                  52.922253769480314
                 ],
                 [
                  18.530010686363966,
                  52.52501192858379
                 ],
                 [
                  19.0980265,
                  52.32503236711657
                 ]
                ]
               ],
               "type": "Polygon"
              },
              "id": "0.33332344305812883,1.0868570762377463",
              "type": "Feature"
             },
             {
              "geometry": {
               "coordinates": [
                [
                 [
                  19.0980265,
                  53.5113495848048
                 ],
                 [
                  19.666042313636034,
                  53.705917582753145
                 ],
                 [
                  19.666042313636034,
                  54.09236893756014
                 ],
                 [
                  19.0980265,
                  54.28425616416384
                 ],
                 [
                  18.530010686363966,
                  54.09236893756014
                 ],
                 [
                  18.530010686363966,
                  53.705917582753145
                 ],
                 [
                  19.0980265,
                  53.5113495848048
                 ]
                ]
               ],
               "type": "Polygon"
              },
              "id": "0.33332344305812883,1.1211993002926803",
              "type": "Feature"
             },
             {
              "geometry": {
               "coordinates": [
                [
                 [
                  20.234058127272064,
                  49.8540108588769
                 ],
                 [
                  20.802073940908095,
                  50.06498632551648
                 ],
                 [
                  20.802073940908095,
                  50.48416681397755
                 ],
                 [
                  20.234058127272064,
                  50.69237434982357
                 ],
                 [
                  19.66604231363603,
                  50.48416681397755
                 ],
                 [
                  19.66604231363603,
                  50.06498632551648
                 ],
                 [
                  20.234058127272064,
                  49.8540108588769
                 ]
                ]
               ],
               "type": "Polygon"
              },
              "id": "0.3531509353608153,1.0181726281278787",
              "type": "Feature"
             },
             {
              "geometry": {
               "coordinates": [
                [
                 [
                  20.234058127272064,
                  52.32503236711657
                 ],
                 [
                  20.802073940908095,
                  52.52501192858379
                 ],
                 [
                  20.802073940908095,
                  52.922253769480314
                 ],
                 [
                  20.234058127272064,
                  53.11951951505613
                 ],
                 [
                  19.66604231363603,
                  52.922253769480314
                 ],
                 [
                  19.66604231363603,
                  52.52501192858379
                 ],
                 [
                  20.234058127272064,
                  52.32503236711657
                 ]
                ]
               ],
               "type": "Polygon"
              },
              "id": "0.3531509353608153,1.0868570762377463",
              "type": "Feature"
             },
             {
              "geometry": {
               "coordinates": [
                [
                 [
                  20.234058127272064,
                  53.5113495848048
                 ],
                 [
                  20.802073940908095,
                  53.705917582753145
                 ],
                 [
                  20.802073940908095,
                  54.09236893756014
                 ],
                 [
                  20.234058127272064,
                  54.28425616416384
                 ],
                 [
                  19.66604231363603,
                  54.09236893756014
                 ],
                 [
                  19.66604231363603,
                  53.705917582753145
                 ],
                 [
                  20.234058127272064,
                  53.5113495848048
                 ]
                ]
               ],
               "type": "Polygon"
              },
              "id": "0.3531509353608153,1.1211993002926803",
              "type": "Feature"
             },
             {
              "geometry": {
               "coordinates": [
                [
                 [
                  21.37008975454413,
                  49.8540108588769
                 ],
                 [
                  21.93810556818016,
                  50.06498632551648
                 ],
                 [
                  21.93810556818016,
                  50.48416681397755
                 ],
                 [
                  21.37008975454413,
                  50.69237434982357
                 ],
                 [
                  20.802073940908095,
                  50.48416681397755
                 ],
                 [
                  20.802073940908095,
                  50.06498632551648
                 ],
                 [
                  21.37008975454413,
                  49.8540108588769
                 ]
                ]
               ],
               "type": "Polygon"
              },
              "id": "0.37297842766350187,1.0181726281278787",
              "type": "Feature"
             },
             {
              "geometry": {
               "coordinates": [
                [
                 [
                  21.37008975454413,
                  51.10603061443655
                 ],
                 [
                  21.93810556818016,
                  51.31148211396355
                 ],
                 [
                  21.93810556818016,
                  51.71963908315648
                 ],
                 [
                  21.37008975454413,
                  51.92234756770137
                 ],
                 [
                  20.802073940908095,
                  51.71963908315648
                 ],
                 [
                  20.802073940908095,
                  51.31148211396355
                 ],
                 [
                  21.37008975454413,
                  51.10603061443655
                 ]
                ]
               ],
               "type": "Polygon"
              },
              "id": "0.37297842766350187,1.0525148521828125",
              "type": "Feature"
             },
             {
              "geometry": {
               "coordinates": [
                [
                 [
                  21.37008975454413,
                  52.32503236711657
                 ],
                 [
                  21.93810556818016,
                  52.52501192858379
                 ],
                 [
                  21.93810556818016,
                  52.922253769480314
                 ],
                 [
                  21.37008975454413,
                  53.11951951505613
                 ],
                 [
                  20.802073940908095,
                  52.922253769480314
                 ],
                 [
                  20.802073940908095,
                  52.52501192858379
                 ],
                 [
                  21.37008975454413,
                  52.32503236711657
                 ]
                ]
               ],
               "type": "Polygon"
              },
              "id": "0.37297842766350187,1.0868570762377463",
              "type": "Feature"
             },
             {
              "geometry": {
               "coordinates": [
                [
                 [
                  22.506121381816193,
                  49.8540108588769
                 ],
                 [
                  23.074137195452227,
                  50.06498632551648
                 ],
                 [
                  23.074137195452227,
                  50.48416681397755
                 ],
                 [
                  22.506121381816193,
                  50.69237434982357
                 ],
                 [
                  21.93810556818016,
                  50.48416681397755
                 ],
                 [
                  21.93810556818016,
                  50.06498632551648
                 ],
                 [
                  22.506121381816193,
                  49.8540108588769
                 ]
                ]
               ],
               "type": "Polygon"
              },
              "id": "0.3928059199661884,1.0181726281278787",
              "type": "Feature"
             },
             {
              "geometry": {
               "coordinates": [
                [
                 [
                  22.506121381816193,
                  51.10603061443655
                 ],
                 [
                  23.074137195452227,
                  51.31148211396355
                 ],
                 [
                  23.074137195452227,
                  51.71963908315648
                 ],
                 [
                  22.506121381816193,
                  51.92234756770137
                 ],
                 [
                  21.93810556818016,
                  51.71963908315648
                 ],
                 [
                  21.93810556818016,
                  51.31148211396355
                 ],
                 [
                  22.506121381816193,
                  51.10603061443655
                 ]
                ]
               ],
               "type": "Polygon"
              },
              "id": "0.3928059199661884,1.0525148521828125",
              "type": "Feature"
             },
             {
              "geometry": {
               "coordinates": [
                [
                 [
                  22.506121381816193,
                  53.5113495848048
                 ],
                 [
                  23.074137195452227,
                  53.705917582753145
                 ],
                 [
                  23.074137195452227,
                  54.09236893756014
                 ],
                 [
                  22.506121381816193,
                  54.28425616416384
                 ],
                 [
                  21.93810556818016,
                  54.09236893756014
                 ],
                 [
                  21.93810556818016,
                  53.705917582753145
                 ],
                 [
                  22.506121381816193,
                  53.5113495848048
                 ]
                ]
               ],
               "type": "Polygon"
              },
              "id": "0.3928059199661884,1.1211993002926803",
              "type": "Feature"
             },
             {
              "geometry": {
               "coordinates": [
                [
                 [
                  15.121915804547777,
                  50.48416681397755
                 ],
                 [
                  15.689931618183811,
                  50.69237434982357
                 ],
                 [
                  15.689931618183811,
                  51.10603061443655
                 ],
                 [
                  15.121915804547777,
                  51.31148211396355
                 ],
                 [
                  14.553899990911745,
                  51.10603061443655
                 ],
                 [
                  14.553899990911745,
                  50.69237434982357
                 ],
                 [
                  15.121915804547777,
                  50.48416681397755
                 ]
                ]
               ],
               "type": "Polygon"
              },
              "id": "0.26392721999872604,1.0353437401553456",
              "type": "Feature"
             },
             {
              "geometry": {
               "coordinates": [
                [
                 [
                  15.121915804547777,
                  52.922253769480314
                 ],
                 [
                  15.689931618183811,
                  53.11951951505616
                 ],
                 [
                  15.689931618183811,
                  53.5113495848048
                 ],
                 [
                  15.121915804547777,
                  53.705917582753145
                 ],
                 [
                  14.553899990911745,
                  53.5113495848048
                 ],
                 [
                  14.553899990911745,
                  53.11951951505616
                 ],
                 [
                  15.121915804547777,
                  52.922253769480314
                 ]
                ]
               ],
               "type": "Polygon"
              },
              "id": "0.26392721999872604,1.1040281882652134",
              "type": "Feature"
             },
             {
              "geometry": {
               "coordinates": [
                [
                 [
                  16.25794743181984,
                  50.48416681397755
                 ],
                 [
                  16.825963245455874,
                  50.69237434982357
                 ],
                 [
                  16.825963245455874,
                  51.10603061443655
                 ],
                 [
                  16.25794743181984,
                  51.31148211396355
                 ],
                 [
                  15.689931618183808,
                  51.10603061443655
                 ],
                 [
                  15.689931618183808,
                  50.69237434982357
                 ],
                 [
                  16.25794743181984,
                  50.48416681397755
                 ]
                ]
               ],
               "type": "Polygon"
              },
              "id": "0.2837547123014125,1.0353437401553456",
              "type": "Feature"
             },
             {
              "geometry": {
               "coordinates": [
                [
                 [
                  16.25794743181984,
                  51.71963908315648
                 ],
                 [
                  16.825963245455874,
                  51.92234756770137
                 ],
                 [
                  16.825963245455874,
                  52.32503236711657
                 ],
                 [
                  16.25794743181984,
                  52.52501192858379
                 ],
                 [
                  15.689931618183808,
                  52.32503236711657
                 ],
                 [
                  15.689931618183808,
                  51.92234756770137
                 ],
                 [
                  16.25794743181984,
                  51.71963908315648
                 ]
                ]
               ],
               "type": "Polygon"
              },
              "id": "0.2837547123014125,1.0696859642102794",
              "type": "Feature"
             },
             {
              "geometry": {
               "coordinates": [
                [
                 [
                  17.393979059091905,
                  50.48416681397755
                 ],
                 [
                  17.96199487272794,
                  50.69237434982357
                 ],
                 [
                  17.96199487272794,
                  51.10603061443655
                 ],
                 [
                  17.393979059091905,
                  51.31148211396355
                 ],
                 [
                  16.825963245455874,
                  51.10603061443655
                 ],
                 [
                  16.825963245455874,
                  50.69237434982357
                 ],
                 [
                  17.393979059091905,
                  50.48416681397755
                 ]
                ]
               ],
               "type": "Polygon"
              },
              "id": "0.30358220460409907,1.0353437401553456",
              "type": "Feature"
             },
             {
              "geometry": {
               "coordinates": [
                [
                 [
                  17.393979059091905,
                  52.922253769480314
                 ],
                 [
                  17.96199487272794,
                  53.11951951505616
                 ],
                 [
                  17.96199487272794,
                  53.5113495848048
                 ],
                 [
                  17.393979059091905,
                  53.705917582753145
                 ],
                 [
                  16.825963245455874,
                  53.5113495848048
                 ],
                 [
                  16.825963245455874,
                  53.11951951505616
                 ],
                 [
                  17.393979059091905,
                  52.922253769480314
                 ]
                ]
               ],
               "type": "Polygon"
              },
              "id": "0.30358220460409907,1.1040281882652134",
              "type": "Feature"
             },
             {
              "geometry": {
               "coordinates": [
                [
                 [
                  17.393979059091905,
                  54.09236893756014
                 ],
                 [
                  17.96199487272794,
                  54.28425616416384
                 ],
                 [
                  17.96199487272794,
                  54.66536362414315
                 ],
                 [
                  17.393979059091905,
                  54.854587911846494
                 ],
                 [
                  16.825963245455874,
                  54.66536362414315
                 ],
                 [
                  16.825963245455874,
                  54.28425616416384
                 ],
                 [
                  17.393979059091905,
                  54.09236893756014
                 ]
                ]
               ],
               "type": "Polygon"
              },
              "id": "0.30358220460409907,1.1383704123201472",
              "type": "Feature"
             },
             {
              "geometry": {
               "coordinates": [
                [
                 [
                  18.530010686363966,
                  49.215529421067494
                 ],
                 [
                  19.0980265,
                  49.42928352889036
                 ],
                 [
                  19.0980265,
                  49.8540108588769
                 ],
                 [
                  18.530010686363966,
                  50.06498632551648
                 ],
                 [
                  17.961994872727935,
                  49.8540108588769
                 ],
                 [
                  17.961994872727935,
                  49.42928352889036
                 ],
                 [
                  18.530010686363966,
                  49.215529421067494
                 ]
                ]
               ],
               "type": "Polygon"
              },
              "id": "0.32340969690678556,1.0010015161004118",
              "type": "Feature"
             },
             {
              "geometry": {
               "coordinates": [
                [
                 [
                  18.530010686363966,
                  52.922253769480314
                 ],
                 [
                  19.0980265,
                  53.11951951505616
                 ],
                 [
                  19.0980265,
                  53.5113495848048
                 ],
                 [
                  18.530010686363966,
                  53.705917582753145
                 ],
                 [
                  17.961994872727935,
                  53.5113495848048
                 ],
                 [
                  17.961994872727935,
                  53.11951951505616
                 ],
                 [
                  18.530010686363966,
                  52.922253769480314
                 ]
                ]
               ],
               "type": "Polygon"
              },
              "id": "0.32340969690678556,1.1040281882652134",
              "type": "Feature"
             },
             {
              "geometry": {
               "coordinates": [
                [
                 [
                  18.530010686363966,
                  54.09236893756014
                 ],
                 [
                  19.0980265,
                  54.28425616416384
                 ],
                 [
                  19.0980265,
                  54.66536362414315
                 ],
                 [
                  18.530010686363966,
                  54.854587911846494
                 ],
                 [
                  17.961994872727935,
                  54.66536362414315
                 ],
                 [
                  17.961994872727935,
                  54.28425616416384
                 ],
                 [
                  18.530010686363966,
                  54.09236893756014
                 ]
                ]
               ],
               "type": "Polygon"
              },
              "id": "0.32340969690678556,1.1383704123201472",
              "type": "Feature"
             },
             {
              "geometry": {
               "coordinates": [
                [
                 [
                  19.666042313636034,
                  50.48416681397755
                 ],
                 [
                  20.234058127272064,
                  50.69237434982357
                 ],
                 [
                  20.234058127272064,
                  51.10603061443655
                 ],
                 [
                  19.666042313636034,
                  51.31148211396355
                 ],
                 [
                  19.0980265,
                  51.10603061443655
                 ],
                 [
                  19.0980265,
                  50.69237434982357
                 ],
                 [
                  19.666042313636034,
                  50.48416681397755
                 ]
                ]
               ],
               "type": "Polygon"
              },
              "id": "0.3432371892094721,1.0353437401553456",
              "type": "Feature"
             },
             {
              "geometry": {
               "coordinates": [
                [
                 [
                  19.666042313636034,
                  51.71963908315648
                 ],
                 [
                  20.234058127272064,
                  51.92234756770137
                 ],
                 [
                  20.234058127272064,
                  52.32503236711657
                 ],
                 [
                  19.666042313636034,
                  52.52501192858379
                 ],
                 [
                  19.0980265,
                  52.32503236711657
                 ],
                 [
                  19.0980265,
                  51.92234756770137
                 ],
                 [
                  19.666042313636034,
                  51.71963908315648
                 ]
                ]
               ],
               "type": "Polygon"
              },
              "id": "0.3432371892094721,1.0696859642102794",
              "type": "Feature"
             },
             {
              "geometry": {
               "coordinates": [
                [
                 [
                  20.802073940908095,
                  50.48416681397755
                 ],
                 [
                  21.37008975454413,
                  50.69237434982357
                 ],
                 [
                  21.37008975454413,
                  51.10603061443655
                 ],
                 [
                  20.802073940908095,
                  51.31148211396355
                 ],
                 [
                  20.234058127272064,
                  51.10603061443655
                 ],
                 [
                  20.234058127272064,
                  50.69237434982357
                 ],
                 [
                  20.802073940908095,
                  50.48416681397755
                 ]
                ]
               ],
               "type": "Polygon"
              },
              "id": "0.3630646815121586,1.0353437401553456",
              "type": "Feature"
             },
             {
              "geometry": {
               "coordinates": [
                [
                 [
                  20.802073940908095,
                  51.71963908315648
                 ],
                 [
                  21.37008975454413,
                  51.92234756770137
                 ],
                 [
                  21.37008975454413,
                  52.32503236711657
                 ],
                 [
                  20.802073940908095,
                  52.52501192858379
                 ],
                 [
                  20.234058127272064,
                  52.32503236711657
                 ],
                 [
                  20.234058127272064,
                  51.92234756770137
                 ],
                 [
                  20.802073940908095,
                  51.71963908315648
                 ]
                ]
               ],
               "type": "Polygon"
              },
              "id": "0.3630646815121586,1.0696859642102794",
              "type": "Feature"
             },
             {
              "geometry": {
               "coordinates": [
                [
                 [
                  20.802073940908095,
                  52.922253769480314
                 ],
                 [
                  21.37008975454413,
                  53.11951951505616
                 ],
                 [
                  21.37008975454413,
                  53.5113495848048
                 ],
                 [
                  20.802073940908095,
                  53.705917582753145
                 ],
                 [
                  20.234058127272064,
                  53.5113495848048
                 ],
                 [
                  20.234058127272064,
                  53.11951951505616
                 ],
                 [
                  20.802073940908095,
                  52.922253769480314
                 ]
                ]
               ],
               "type": "Polygon"
              },
              "id": "0.3630646815121586,1.1040281882652134",
              "type": "Feature"
             },
             {
              "geometry": {
               "coordinates": [
                [
                 [
                  21.93810556818016,
                  49.215529421067494
                 ],
                 [
                  22.506121381816193,
                  49.42928352889036
                 ],
                 [
                  22.506121381816193,
                  49.8540108588769
                 ],
                 [
                  21.93810556818016,
                  50.06498632551648
                 ],
                 [
                  21.37008975454413,
                  49.8540108588769
                 ],
                 [
                  21.37008975454413,
                  49.42928352889036
                 ],
                 [
                  21.93810556818016,
                  49.215529421067494
                 ]
                ]
               ],
               "type": "Polygon"
              },
              "id": "0.38289217381484514,1.0010015161004118",
              "type": "Feature"
             },
             {
              "geometry": {
               "coordinates": [
                [
                 [
                  21.93810556818016,
                  50.48416681397755
                 ],
                 [
                  22.506121381816193,
                  50.69237434982357
                 ],
                 [
                  22.506121381816193,
                  51.10603061443655
                 ],
                 [
                  21.93810556818016,
                  51.31148211396355
                 ],
                 [
                  21.37008975454413,
                  51.10603061443655
                 ],
                 [
                  21.37008975454413,
                  50.69237434982357
                 ],
                 [
                  21.93810556818016,
                  50.48416681397755
                 ]
                ]
               ],
               "type": "Polygon"
              },
              "id": "0.38289217381484514,1.0353437401553456",
              "type": "Feature"
             },
             {
              "geometry": {
               "coordinates": [
                [
                 [
                  21.93810556818016,
                  51.71963908315648
                 ],
                 [
                  22.506121381816193,
                  51.92234756770137
                 ],
                 [
                  22.506121381816193,
                  52.32503236711657
                 ],
                 [
                  21.93810556818016,
                  52.52501192858379
                 ],
                 [
                  21.37008975454413,
                  52.32503236711657
                 ],
                 [
                  21.37008975454413,
                  51.92234756770137
                 ],
                 [
                  21.93810556818016,
                  51.71963908315648
                 ]
                ]
               ],
               "type": "Polygon"
              },
              "id": "0.38289217381484514,1.0696859642102794",
              "type": "Feature"
             },
             {
              "geometry": {
               "coordinates": [
                [
                 [
                  23.074137195452224,
                  49.215529421067494
                 ],
                 [
                  23.642153009088258,
                  49.42928352889036
                 ],
                 [
                  23.642153009088258,
                  49.8540108588769
                 ],
                 [
                  23.074137195452224,
                  50.06498632551648
                 ],
                 [
                  22.50612138181619,
                  49.8540108588769
                 ],
                 [
                  22.50612138181619,
                  49.42928352889036
                 ],
                 [
                  23.074137195452224,
                  49.215529421067494
                 ]
                ]
               ],
               "type": "Polygon"
              },
              "id": "0.4027196661175316,1.0010015161004118",
              "type": "Feature"
             },
             {
              "geometry": {
               "coordinates": [
                [
                 [
                  23.074137195452224,
                  50.48416681397755
                 ],
                 [
                  23.642153009088258,
                  50.69237434982357
                 ],
                 [
                  23.642153009088258,
                  51.10603061443655
                 ],
                 [
                  23.074137195452224,
                  51.31148211396355
                 ],
                 [
                  22.50612138181619,
                  51.10603061443655
                 ],
                 [
                  22.50612138181619,
                  50.69237434982357
                 ],
                 [
                  23.074137195452224,
                  50.48416681397755
                 ]
                ]
               ],
               "type": "Polygon"
              },
              "id": "0.4027196661175316,1.0353437401553456",
              "type": "Feature"
             },
             {
              "geometry": {
               "coordinates": [
                [
                 [
                  23.074137195452224,
                  52.922253769480314
                 ],
                 [
                  23.642153009088258,
                  53.11951951505616
                 ],
                 [
                  23.642153009088258,
                  53.5113495848048
                 ],
                 [
                  23.074137195452224,
                  53.705917582753145
                 ],
                 [
                  22.50612138181619,
                  53.5113495848048
                 ],
                 [
                  22.50612138181619,
                  53.11951951505616
                 ],
                 [
                  23.074137195452224,
                  52.922253769480314
                 ]
                ]
               ],
               "type": "Polygon"
              },
              "id": "0.4027196661175316,1.1040281882652134",
              "type": "Feature"
             }
            ],
            "type": "FeatureCollection"
           },
           "hovertemplate": "Avg value=%{z}<extra></extra>",
           "locations": [
            "0.25401347384738276,1.1211993002926803",
            "0.27384096615006925,1.0525148521828125",
            "0.27384096615006925,1.0868570762377463",
            "0.2936684584527558,1.0181726281278787",
            "0.2936684584527558,1.0868570762377463",
            "0.31349595075544234,1.0181726281278787",
            "0.31349595075544234,1.0525148521828125",
            "0.31349595075544234,1.1211993002926803",
            "0.33332344305812883,1.0181726281278787",
            "0.33332344305812883,1.0525148521828125",
            "0.33332344305812883,1.0868570762377463",
            "0.33332344305812883,1.1211993002926803",
            "0.3531509353608153,1.0181726281278787",
            "0.3531509353608153,1.0868570762377463",
            "0.3531509353608153,1.1211993002926803",
            "0.37297842766350187,1.0181726281278787",
            "0.37297842766350187,1.0525148521828125",
            "0.37297842766350187,1.0868570762377463",
            "0.3928059199661884,1.0181726281278787",
            "0.3928059199661884,1.0525148521828125",
            "0.3928059199661884,1.1211993002926803",
            "0.26392721999872604,1.0353437401553456",
            "0.26392721999872604,1.1040281882652134",
            "0.2837547123014125,1.0353437401553456",
            "0.2837547123014125,1.0696859642102794",
            "0.30358220460409907,1.0353437401553456",
            "0.30358220460409907,1.1040281882652134",
            "0.30358220460409907,1.1383704123201472",
            "0.32340969690678556,1.0010015161004118",
            "0.32340969690678556,1.1040281882652134",
            "0.32340969690678556,1.1383704123201472",
            "0.3432371892094721,1.0353437401553456",
            "0.3432371892094721,1.0696859642102794",
            "0.3630646815121586,1.0353437401553456",
            "0.3630646815121586,1.0696859642102794",
            "0.3630646815121586,1.1040281882652134",
            "0.38289217381484514,1.0010015161004118",
            "0.38289217381484514,1.0353437401553456",
            "0.38289217381484514,1.0696859642102794",
            "0.4027196661175316,1.0010015161004118",
            "0.4027196661175316,1.0353437401553456",
            "0.4027196661175316,1.1040281882652134"
           ],
           "marker": {
            "opacity": 0.5
           },
           "name": "",
           "subplot": "mapbox",
           "type": "choroplethmapbox",
           "z": [
            8.25524355,
            5.0828247,
            8.482546636363637,
            14.562420395409317,
            18.224474769501708,
            12.362849035946196,
            15.188056581632654,
            14.652686226415094,
            13.917223242424242,
            12.444053549190535,
            17.66136363636364,
            9.321694834123223,
            18.446433359219554,
            11.56969696969697,
            16.637304942080018,
            9.62330957301811,
            8.112626262626264,
            17.79949494949495,
            12.445991735055443,
            22.892817679558014,
            20.765213579545453,
            20.222913863636364,
            7.877085101492537,
            15.331698727272727,
            12.623753818181818,
            12.094080250000001,
            16.453061224489797,
            14.49178028301887,
            13.11307928181818,
            11.009988952020201,
            11.377379526951147,
            14.881920999999995,
            12.181372549019608,
            15.569795454545455,
            16.56976087404659,
            17.755300943396225,
            10.405875849056605,
            33.28939393939393,
            21.28030303030303,
            8.403863915094341,
            15.193181818181818,
            17.81560606060606
           ]
          }
         ],
         "name": "2022-10-25"
        },
        {
         "data": [
          {
           "coloraxis": "coloraxis",
           "customdata": [
            [
             11.695526608187134,
             "0.25401347384738276,1.1211993002926803",
             "2022-10-26"
            ],
            [
             7.777199638554217,
             "0.27384096615006925,1.0525148521828125",
             "2022-10-26"
            ],
            [
             14.165476075268815,
             "0.27384096615006925,1.0868570762377463",
             "2022-10-26"
            ],
            [
             23.82128675576037,
             "0.2936684584527558,1.0181726281278787",
             "2022-10-26"
            ],
            [
             19.21993000415924,
             "0.2936684584527558,1.0868570762377463",
             "2022-10-26"
            ],
            [
             19.240609414905446,
             "0.31349595075544234,1.0181726281278787",
             "2022-10-26"
            ],
            [
             27.08091402439024,
             "0.31349595075544234,1.0525148521828125",
             "2022-10-26"
            ],
            [
             15.187003575418995,
             "0.31349595075544234,1.1211993002926803",
             "2022-10-26"
            ],
            [
             18.504396455425915,
             "0.33332344305812883,1.0181726281278787",
             "2022-10-26"
            ],
            [
             20.438178790983606,
             "0.33332344305812883,1.0525148521828125",
             "2022-10-26"
            ],
            [
             26.299415204678365,
             "0.33332344305812883,1.0868570762377463",
             "2022-10-26"
            ],
            [
             7.9703596153846155,
             "0.33332344305812883,1.1211993002926803",
             "2022-10-26"
            ],
            [
             21.325614267256707,
             "0.3531509353608153,1.0181726281278787",
             "2022-10-26"
            ],
            [
             18.363157894736844,
             "0.3531509353608153,1.0868570762377463",
             "2022-10-26"
            ],
            [
             13.503693857142856,
             "0.3531509353608153,1.1211993002926803",
             "2022-10-26"
            ],
            [
             13.544056471284271,
             "0.37297842766350187,1.0181726281278787",
             "2022-10-26"
            ],
            [
             18.031952662721896,
             "0.37297842766350187,1.0525148521828125",
             "2022-10-26"
            ],
            [
             13.860233918128655,
             "0.37297842766350187,1.0868570762377463",
             "2022-10-26"
            ],
            [
             20.00741572830509,
             "0.3928059199661884,1.0181726281278787",
             "2022-10-26"
            ],
            [
             28.22810457516339,
             "0.3928059199661884,1.0525148521828125",
             "2022-10-26"
            ],
            [
             14.672083010562037,
             "0.3928059199661884,1.1211993002926803",
             "2022-10-26"
            ],
            [
             23.369931451612903,
             "0.26392721999872604,1.0353437401553456",
             "2022-10-26"
            ],
            [
             13.782598138343886,
             "0.26392721999872604,1.1040281882652134",
             "2022-10-26"
            ],
            [
             20.346023548387098,
             "0.2837547123014125,1.0353437401553456",
             "2022-10-26"
            ],
            [
             25.545917634408603,
             "0.2837547123014125,1.0696859642102794",
             "2022-10-26"
            ],
            [
             17.501626459241223,
             "0.30358220460409907,1.0353437401553456",
             "2022-10-26"
            ],
            [
             27.77904191616766,
             "0.30358220460409907,1.1040281882652134",
             "2022-10-26"
            ],
            [
             29.236656353591158,
             "0.30358220460409907,1.1383704123201472",
             "2022-10-26"
            ],
            [
             18.103823094078443,
             "0.32340969690678556,1.0010015161004118",
             "2022-10-26"
            ],
            [
             15.434670749852938,
             "0.32340969690678556,1.1040281882652134",
             "2022-10-26"
            ],
            [
             11.775198807666051,
             "0.32340969690678556,1.1383704123201472",
             "2022-10-26"
            ],
            [
             13.380913975903614,
             "0.3432371892094721,1.0353437401553456",
             "2022-10-26"
            ],
            [
             20.333333333333332,
             "0.3432371892094721,1.0696859642102794",
             "2022-10-26"
            ],
            [
             22.60223032486845,
             "0.3630646815121586,1.0353437401553456",
             "2022-10-26"
            ],
            [
             23.7130931733177,
             "0.3630646815121586,1.0696859642102794",
             "2022-10-26"
            ],
            [
             18.52846316666667,
             "0.3630646815121586,1.1040281882652134",
             "2022-10-26"
            ],
            [
             9.628471446577908,
             "0.38289217381484514,1.0010015161004118",
             "2022-10-26"
            ],
            [
             40.473372781065095,
             "0.38289217381484514,1.0353437401553456",
             "2022-10-26"
            ],
            [
             19.36315789473684,
             "0.38289217381484514,1.0696859642102794",
             "2022-10-26"
            ],
            [
             14.118500888888889,
             "0.4027196661175316,1.0010015161004118",
             "2022-10-26"
            ],
            [
             21.730851063829782,
             "0.4027196661175316,1.0353437401553456",
             "2022-10-26"
            ],
            [
             13.49971211774575,
             "0.4027196661175316,1.1040281882652134",
             "2022-10-26"
            ]
           ],
           "geojson": {
            "features": [
             {
              "geometry": {
               "coordinates": [
                [
                 [
                  14.553899990911745,
                  53.5113495848048
                 ],
                 [
                  15.121915804547777,
                  53.705917582753145
                 ],
                 [
                  15.121915804547777,
                  54.09236893756014
                 ],
                 [
                  14.553899990911745,
                  54.28425616416384
                 ],
                 [
                  13.985884177275713,
                  54.09236893756014
                 ],
                 [
                  13.985884177275713,
                  53.705917582753145
                 ],
                 [
                  14.553899990911745,
                  53.5113495848048
                 ]
                ]
               ],
               "type": "Polygon"
              },
              "id": "0.25401347384738276,1.1211993002926803",
              "type": "Feature"
             },
             {
              "geometry": {
               "coordinates": [
                [
                 [
                  15.689931618183808,
                  51.10603061443655
                 ],
                 [
                  16.25794743181984,
                  51.31148211396355
                 ],
                 [
                  16.25794743181984,
                  51.71963908315648
                 ],
                 [
                  15.689931618183808,
                  51.92234756770137
                 ],
                 [
                  15.121915804547776,
                  51.71963908315648
                 ],
                 [
                  15.121915804547776,
                  51.31148211396355
                 ],
                 [
                  15.689931618183808,
                  51.10603061443655
                 ]
                ]
               ],
               "type": "Polygon"
              },
              "id": "0.27384096615006925,1.0525148521828125",
              "type": "Feature"
             },
             {
              "geometry": {
               "coordinates": [
                [
                 [
                  15.689931618183808,
                  52.32503236711657
                 ],
                 [
                  16.25794743181984,
                  52.52501192858379
                 ],
                 [
                  16.25794743181984,
                  52.922253769480314
                 ],
                 [
                  15.689931618183808,
                  53.11951951505613
                 ],
                 [
                  15.121915804547776,
                  52.922253769480314
                 ],
                 [
                  15.121915804547776,
                  52.52501192858379
                 ],
                 [
                  15.689931618183808,
                  52.32503236711657
                 ]
                ]
               ],
               "type": "Polygon"
              },
              "id": "0.27384096615006925,1.0868570762377463",
              "type": "Feature"
             },
             {
              "geometry": {
               "coordinates": [
                [
                 [
                  16.825963245455874,
                  49.8540108588769
                 ],
                 [
                  17.393979059091905,
                  50.06498632551648
                 ],
                 [
                  17.393979059091905,
                  50.48416681397755
                 ],
                 [
                  16.825963245455874,
                  50.69237434982357
                 ],
                 [
                  16.25794743181984,
                  50.48416681397755
                 ],
                 [
                  16.25794743181984,
                  50.06498632551648
                 ],
                 [
                  16.825963245455874,
                  49.8540108588769
                 ]
                ]
               ],
               "type": "Polygon"
              },
              "id": "0.2936684584527558,1.0181726281278787",
              "type": "Feature"
             },
             {
              "geometry": {
               "coordinates": [
                [
                 [
                  16.825963245455874,
                  52.32503236711657
                 ],
                 [
                  17.393979059091905,
                  52.52501192858379
                 ],
                 [
                  17.393979059091905,
                  52.922253769480314
                 ],
                 [
                  16.825963245455874,
                  53.11951951505613
                 ],
                 [
                  16.25794743181984,
                  52.922253769480314
                 ],
                 [
                  16.25794743181984,
                  52.52501192858379
                 ],
                 [
                  16.825963245455874,
                  52.32503236711657
                 ]
                ]
               ],
               "type": "Polygon"
              },
              "id": "0.2936684584527558,1.0868570762377463",
              "type": "Feature"
             },
             {
              "geometry": {
               "coordinates": [
                [
                 [
                  17.96199487272794,
                  49.8540108588769
                 ],
                 [
                  18.530010686363973,
                  50.06498632551648
                 ],
                 [
                  18.530010686363973,
                  50.48416681397755
                 ],
                 [
                  17.96199487272794,
                  50.69237434982357
                 ],
                 [
                  17.393979059091905,
                  50.48416681397755
                 ],
                 [
                  17.393979059091905,
                  50.06498632551648
                 ],
                 [
                  17.96199487272794,
                  49.8540108588769
                 ]
                ]
               ],
               "type": "Polygon"
              },
              "id": "0.31349595075544234,1.0181726281278787",
              "type": "Feature"
             },
             {
              "geometry": {
               "coordinates": [
                [
                 [
                  17.96199487272794,
                  51.10603061443655
                 ],
                 [
                  18.530010686363973,
                  51.31148211396355
                 ],
                 [
                  18.530010686363973,
                  51.71963908315648
                 ],
                 [
                  17.96199487272794,
                  51.92234756770137
                 ],
                 [
                  17.393979059091905,
                  51.71963908315648
                 ],
                 [
                  17.393979059091905,
                  51.31148211396355
                 ],
                 [
                  17.96199487272794,
                  51.10603061443655
                 ]
                ]
               ],
               "type": "Polygon"
              },
              "id": "0.31349595075544234,1.0525148521828125",
              "type": "Feature"
             },
             {
              "geometry": {
               "coordinates": [
                [
                 [
                  17.96199487272794,
                  53.5113495848048
                 ],
                 [
                  18.530010686363973,
                  53.705917582753145
                 ],
                 [
                  18.530010686363973,
                  54.09236893756014
                 ],
                 [
                  17.96199487272794,
                  54.28425616416384
                 ],
                 [
                  17.393979059091905,
                  54.09236893756014
                 ],
                 [
                  17.393979059091905,
                  53.705917582753145
                 ],
                 [
                  17.96199487272794,
                  53.5113495848048
                 ]
                ]
               ],
               "type": "Polygon"
              },
              "id": "0.31349595075544234,1.1211993002926803",
              "type": "Feature"
             },
             {
              "geometry": {
               "coordinates": [
                [
                 [
                  19.0980265,
                  49.8540108588769
                 ],
                 [
                  19.666042313636034,
                  50.06498632551648
                 ],
                 [
                  19.666042313636034,
                  50.48416681397755
                 ],
                 [
                  19.0980265,
                  50.69237434982357
                 ],
                 [
                  18.530010686363966,
                  50.48416681397755
                 ],
                 [
                  18.530010686363966,
                  50.06498632551648
                 ],
                 [
                  19.0980265,
                  49.8540108588769
                 ]
                ]
               ],
               "type": "Polygon"
              },
              "id": "0.33332344305812883,1.0181726281278787",
              "type": "Feature"
             },
             {
              "geometry": {
               "coordinates": [
                [
                 [
                  19.0980265,
                  51.10603061443655
                 ],
                 [
                  19.666042313636034,
                  51.31148211396355
                 ],
                 [
                  19.666042313636034,
                  51.71963908315648
                 ],
                 [
                  19.0980265,
                  51.92234756770137
                 ],
                 [
                  18.530010686363966,
                  51.71963908315648
                 ],
                 [
                  18.530010686363966,
                  51.31148211396355
                 ],
                 [
                  19.0980265,
                  51.10603061443655
                 ]
                ]
               ],
               "type": "Polygon"
              },
              "id": "0.33332344305812883,1.0525148521828125",
              "type": "Feature"
             },
             {
              "geometry": {
               "coordinates": [
                [
                 [
                  19.0980265,
                  52.32503236711657
                 ],
                 [
                  19.666042313636034,
                  52.52501192858379
                 ],
                 [
                  19.666042313636034,
                  52.922253769480314
                 ],
                 [
                  19.0980265,
                  53.11951951505613
                 ],
                 [
                  18.530010686363966,
                  52.922253769480314
                 ],
                 [
                  18.530010686363966,
                  52.52501192858379
                 ],
                 [
                  19.0980265,
                  52.32503236711657
                 ]
                ]
               ],
               "type": "Polygon"
              },
              "id": "0.33332344305812883,1.0868570762377463",
              "type": "Feature"
             },
             {
              "geometry": {
               "coordinates": [
                [
                 [
                  19.0980265,
                  53.5113495848048
                 ],
                 [
                  19.666042313636034,
                  53.705917582753145
                 ],
                 [
                  19.666042313636034,
                  54.09236893756014
                 ],
                 [
                  19.0980265,
                  54.28425616416384
                 ],
                 [
                  18.530010686363966,
                  54.09236893756014
                 ],
                 [
                  18.530010686363966,
                  53.705917582753145
                 ],
                 [
                  19.0980265,
                  53.5113495848048
                 ]
                ]
               ],
               "type": "Polygon"
              },
              "id": "0.33332344305812883,1.1211993002926803",
              "type": "Feature"
             },
             {
              "geometry": {
               "coordinates": [
                [
                 [
                  20.234058127272064,
                  49.8540108588769
                 ],
                 [
                  20.802073940908095,
                  50.06498632551648
                 ],
                 [
                  20.802073940908095,
                  50.48416681397755
                 ],
                 [
                  20.234058127272064,
                  50.69237434982357
                 ],
                 [
                  19.66604231363603,
                  50.48416681397755
                 ],
                 [
                  19.66604231363603,
                  50.06498632551648
                 ],
                 [
                  20.234058127272064,
                  49.8540108588769
                 ]
                ]
               ],
               "type": "Polygon"
              },
              "id": "0.3531509353608153,1.0181726281278787",
              "type": "Feature"
             },
             {
              "geometry": {
               "coordinates": [
                [
                 [
                  20.234058127272064,
                  52.32503236711657
                 ],
                 [
                  20.802073940908095,
                  52.52501192858379
                 ],
                 [
                  20.802073940908095,
                  52.922253769480314
                 ],
                 [
                  20.234058127272064,
                  53.11951951505613
                 ],
                 [
                  19.66604231363603,
                  52.922253769480314
                 ],
                 [
                  19.66604231363603,
                  52.52501192858379
                 ],
                 [
                  20.234058127272064,
                  52.32503236711657
                 ]
                ]
               ],
               "type": "Polygon"
              },
              "id": "0.3531509353608153,1.0868570762377463",
              "type": "Feature"
             },
             {
              "geometry": {
               "coordinates": [
                [
                 [
                  20.234058127272064,
                  53.5113495848048
                 ],
                 [
                  20.802073940908095,
                  53.705917582753145
                 ],
                 [
                  20.802073940908095,
                  54.09236893756014
                 ],
                 [
                  20.234058127272064,
                  54.28425616416384
                 ],
                 [
                  19.66604231363603,
                  54.09236893756014
                 ],
                 [
                  19.66604231363603,
                  53.705917582753145
                 ],
                 [
                  20.234058127272064,
                  53.5113495848048
                 ]
                ]
               ],
               "type": "Polygon"
              },
              "id": "0.3531509353608153,1.1211993002926803",
              "type": "Feature"
             },
             {
              "geometry": {
               "coordinates": [
                [
                 [
                  21.37008975454413,
                  49.8540108588769
                 ],
                 [
                  21.93810556818016,
                  50.06498632551648
                 ],
                 [
                  21.93810556818016,
                  50.48416681397755
                 ],
                 [
                  21.37008975454413,
                  50.69237434982357
                 ],
                 [
                  20.802073940908095,
                  50.48416681397755
                 ],
                 [
                  20.802073940908095,
                  50.06498632551648
                 ],
                 [
                  21.37008975454413,
                  49.8540108588769
                 ]
                ]
               ],
               "type": "Polygon"
              },
              "id": "0.37297842766350187,1.0181726281278787",
              "type": "Feature"
             },
             {
              "geometry": {
               "coordinates": [
                [
                 [
                  21.37008975454413,
                  51.10603061443655
                 ],
                 [
                  21.93810556818016,
                  51.31148211396355
                 ],
                 [
                  21.93810556818016,
                  51.71963908315648
                 ],
                 [
                  21.37008975454413,
                  51.92234756770137
                 ],
                 [
                  20.802073940908095,
                  51.71963908315648
                 ],
                 [
                  20.802073940908095,
                  51.31148211396355
                 ],
                 [
                  21.37008975454413,
                  51.10603061443655
                 ]
                ]
               ],
               "type": "Polygon"
              },
              "id": "0.37297842766350187,1.0525148521828125",
              "type": "Feature"
             },
             {
              "geometry": {
               "coordinates": [
                [
                 [
                  21.37008975454413,
                  52.32503236711657
                 ],
                 [
                  21.93810556818016,
                  52.52501192858379
                 ],
                 [
                  21.93810556818016,
                  52.922253769480314
                 ],
                 [
                  21.37008975454413,
                  53.11951951505613
                 ],
                 [
                  20.802073940908095,
                  52.922253769480314
                 ],
                 [
                  20.802073940908095,
                  52.52501192858379
                 ],
                 [
                  21.37008975454413,
                  52.32503236711657
                 ]
                ]
               ],
               "type": "Polygon"
              },
              "id": "0.37297842766350187,1.0868570762377463",
              "type": "Feature"
             },
             {
              "geometry": {
               "coordinates": [
                [
                 [
                  22.506121381816193,
                  49.8540108588769
                 ],
                 [
                  23.074137195452227,
                  50.06498632551648
                 ],
                 [
                  23.074137195452227,
                  50.48416681397755
                 ],
                 [
                  22.506121381816193,
                  50.69237434982357
                 ],
                 [
                  21.93810556818016,
                  50.48416681397755
                 ],
                 [
                  21.93810556818016,
                  50.06498632551648
                 ],
                 [
                  22.506121381816193,
                  49.8540108588769
                 ]
                ]
               ],
               "type": "Polygon"
              },
              "id": "0.3928059199661884,1.0181726281278787",
              "type": "Feature"
             },
             {
              "geometry": {
               "coordinates": [
                [
                 [
                  22.506121381816193,
                  51.10603061443655
                 ],
                 [
                  23.074137195452227,
                  51.31148211396355
                 ],
                 [
                  23.074137195452227,
                  51.71963908315648
                 ],
                 [
                  22.506121381816193,
                  51.92234756770137
                 ],
                 [
                  21.93810556818016,
                  51.71963908315648
                 ],
                 [
                  21.93810556818016,
                  51.31148211396355
                 ],
                 [
                  22.506121381816193,
                  51.10603061443655
                 ]
                ]
               ],
               "type": "Polygon"
              },
              "id": "0.3928059199661884,1.0525148521828125",
              "type": "Feature"
             },
             {
              "geometry": {
               "coordinates": [
                [
                 [
                  22.506121381816193,
                  53.5113495848048
                 ],
                 [
                  23.074137195452227,
                  53.705917582753145
                 ],
                 [
                  23.074137195452227,
                  54.09236893756014
                 ],
                 [
                  22.506121381816193,
                  54.28425616416384
                 ],
                 [
                  21.93810556818016,
                  54.09236893756014
                 ],
                 [
                  21.93810556818016,
                  53.705917582753145
                 ],
                 [
                  22.506121381816193,
                  53.5113495848048
                 ]
                ]
               ],
               "type": "Polygon"
              },
              "id": "0.3928059199661884,1.1211993002926803",
              "type": "Feature"
             },
             {
              "geometry": {
               "coordinates": [
                [
                 [
                  15.121915804547777,
                  50.48416681397755
                 ],
                 [
                  15.689931618183811,
                  50.69237434982357
                 ],
                 [
                  15.689931618183811,
                  51.10603061443655
                 ],
                 [
                  15.121915804547777,
                  51.31148211396355
                 ],
                 [
                  14.553899990911745,
                  51.10603061443655
                 ],
                 [
                  14.553899990911745,
                  50.69237434982357
                 ],
                 [
                  15.121915804547777,
                  50.48416681397755
                 ]
                ]
               ],
               "type": "Polygon"
              },
              "id": "0.26392721999872604,1.0353437401553456",
              "type": "Feature"
             },
             {
              "geometry": {
               "coordinates": [
                [
                 [
                  15.121915804547777,
                  52.922253769480314
                 ],
                 [
                  15.689931618183811,
                  53.11951951505616
                 ],
                 [
                  15.689931618183811,
                  53.5113495848048
                 ],
                 [
                  15.121915804547777,
                  53.705917582753145
                 ],
                 [
                  14.553899990911745,
                  53.5113495848048
                 ],
                 [
                  14.553899990911745,
                  53.11951951505616
                 ],
                 [
                  15.121915804547777,
                  52.922253769480314
                 ]
                ]
               ],
               "type": "Polygon"
              },
              "id": "0.26392721999872604,1.1040281882652134",
              "type": "Feature"
             },
             {
              "geometry": {
               "coordinates": [
                [
                 [
                  16.25794743181984,
                  50.48416681397755
                 ],
                 [
                  16.825963245455874,
                  50.69237434982357
                 ],
                 [
                  16.825963245455874,
                  51.10603061443655
                 ],
                 [
                  16.25794743181984,
                  51.31148211396355
                 ],
                 [
                  15.689931618183808,
                  51.10603061443655
                 ],
                 [
                  15.689931618183808,
                  50.69237434982357
                 ],
                 [
                  16.25794743181984,
                  50.48416681397755
                 ]
                ]
               ],
               "type": "Polygon"
              },
              "id": "0.2837547123014125,1.0353437401553456",
              "type": "Feature"
             },
             {
              "geometry": {
               "coordinates": [
                [
                 [
                  16.25794743181984,
                  51.71963908315648
                 ],
                 [
                  16.825963245455874,
                  51.92234756770137
                 ],
                 [
                  16.825963245455874,
                  52.32503236711657
                 ],
                 [
                  16.25794743181984,
                  52.52501192858379
                 ],
                 [
                  15.689931618183808,
                  52.32503236711657
                 ],
                 [
                  15.689931618183808,
                  51.92234756770137
                 ],
                 [
                  16.25794743181984,
                  51.71963908315648
                 ]
                ]
               ],
               "type": "Polygon"
              },
              "id": "0.2837547123014125,1.0696859642102794",
              "type": "Feature"
             },
             {
              "geometry": {
               "coordinates": [
                [
                 [
                  17.393979059091905,
                  50.48416681397755
                 ],
                 [
                  17.96199487272794,
                  50.69237434982357
                 ],
                 [
                  17.96199487272794,
                  51.10603061443655
                 ],
                 [
                  17.393979059091905,
                  51.31148211396355
                 ],
                 [
                  16.825963245455874,
                  51.10603061443655
                 ],
                 [
                  16.825963245455874,
                  50.69237434982357
                 ],
                 [
                  17.393979059091905,
                  50.48416681397755
                 ]
                ]
               ],
               "type": "Polygon"
              },
              "id": "0.30358220460409907,1.0353437401553456",
              "type": "Feature"
             },
             {
              "geometry": {
               "coordinates": [
                [
                 [
                  17.393979059091905,
                  52.922253769480314
                 ],
                 [
                  17.96199487272794,
                  53.11951951505616
                 ],
                 [
                  17.96199487272794,
                  53.5113495848048
                 ],
                 [
                  17.393979059091905,
                  53.705917582753145
                 ],
                 [
                  16.825963245455874,
                  53.5113495848048
                 ],
                 [
                  16.825963245455874,
                  53.11951951505616
                 ],
                 [
                  17.393979059091905,
                  52.922253769480314
                 ]
                ]
               ],
               "type": "Polygon"
              },
              "id": "0.30358220460409907,1.1040281882652134",
              "type": "Feature"
             },
             {
              "geometry": {
               "coordinates": [
                [
                 [
                  17.393979059091905,
                  54.09236893756014
                 ],
                 [
                  17.96199487272794,
                  54.28425616416384
                 ],
                 [
                  17.96199487272794,
                  54.66536362414315
                 ],
                 [
                  17.393979059091905,
                  54.854587911846494
                 ],
                 [
                  16.825963245455874,
                  54.66536362414315
                 ],
                 [
                  16.825963245455874,
                  54.28425616416384
                 ],
                 [
                  17.393979059091905,
                  54.09236893756014
                 ]
                ]
               ],
               "type": "Polygon"
              },
              "id": "0.30358220460409907,1.1383704123201472",
              "type": "Feature"
             },
             {
              "geometry": {
               "coordinates": [
                [
                 [
                  18.530010686363966,
                  49.215529421067494
                 ],
                 [
                  19.0980265,
                  49.42928352889036
                 ],
                 [
                  19.0980265,
                  49.8540108588769
                 ],
                 [
                  18.530010686363966,
                  50.06498632551648
                 ],
                 [
                  17.961994872727935,
                  49.8540108588769
                 ],
                 [
                  17.961994872727935,
                  49.42928352889036
                 ],
                 [
                  18.530010686363966,
                  49.215529421067494
                 ]
                ]
               ],
               "type": "Polygon"
              },
              "id": "0.32340969690678556,1.0010015161004118",
              "type": "Feature"
             },
             {
              "geometry": {
               "coordinates": [
                [
                 [
                  18.530010686363966,
                  52.922253769480314
                 ],
                 [
                  19.0980265,
                  53.11951951505616
                 ],
                 [
                  19.0980265,
                  53.5113495848048
                 ],
                 [
                  18.530010686363966,
                  53.705917582753145
                 ],
                 [
                  17.961994872727935,
                  53.5113495848048
                 ],
                 [
                  17.961994872727935,
                  53.11951951505616
                 ],
                 [
                  18.530010686363966,
                  52.922253769480314
                 ]
                ]
               ],
               "type": "Polygon"
              },
              "id": "0.32340969690678556,1.1040281882652134",
              "type": "Feature"
             },
             {
              "geometry": {
               "coordinates": [
                [
                 [
                  18.530010686363966,
                  54.09236893756014
                 ],
                 [
                  19.0980265,
                  54.28425616416384
                 ],
                 [
                  19.0980265,
                  54.66536362414315
                 ],
                 [
                  18.530010686363966,
                  54.854587911846494
                 ],
                 [
                  17.961994872727935,
                  54.66536362414315
                 ],
                 [
                  17.961994872727935,
                  54.28425616416384
                 ],
                 [
                  18.530010686363966,
                  54.09236893756014
                 ]
                ]
               ],
               "type": "Polygon"
              },
              "id": "0.32340969690678556,1.1383704123201472",
              "type": "Feature"
             },
             {
              "geometry": {
               "coordinates": [
                [
                 [
                  19.666042313636034,
                  50.48416681397755
                 ],
                 [
                  20.234058127272064,
                  50.69237434982357
                 ],
                 [
                  20.234058127272064,
                  51.10603061443655
                 ],
                 [
                  19.666042313636034,
                  51.31148211396355
                 ],
                 [
                  19.0980265,
                  51.10603061443655
                 ],
                 [
                  19.0980265,
                  50.69237434982357
                 ],
                 [
                  19.666042313636034,
                  50.48416681397755
                 ]
                ]
               ],
               "type": "Polygon"
              },
              "id": "0.3432371892094721,1.0353437401553456",
              "type": "Feature"
             },
             {
              "geometry": {
               "coordinates": [
                [
                 [
                  19.666042313636034,
                  51.71963908315648
                 ],
                 [
                  20.234058127272064,
                  51.92234756770137
                 ],
                 [
                  20.234058127272064,
                  52.32503236711657
                 ],
                 [
                  19.666042313636034,
                  52.52501192858379
                 ],
                 [
                  19.0980265,
                  52.32503236711657
                 ],
                 [
                  19.0980265,
                  51.92234756770137
                 ],
                 [
                  19.666042313636034,
                  51.71963908315648
                 ]
                ]
               ],
               "type": "Polygon"
              },
              "id": "0.3432371892094721,1.0696859642102794",
              "type": "Feature"
             },
             {
              "geometry": {
               "coordinates": [
                [
                 [
                  20.802073940908095,
                  50.48416681397755
                 ],
                 [
                  21.37008975454413,
                  50.69237434982357
                 ],
                 [
                  21.37008975454413,
                  51.10603061443655
                 ],
                 [
                  20.802073940908095,
                  51.31148211396355
                 ],
                 [
                  20.234058127272064,
                  51.10603061443655
                 ],
                 [
                  20.234058127272064,
                  50.69237434982357
                 ],
                 [
                  20.802073940908095,
                  50.48416681397755
                 ]
                ]
               ],
               "type": "Polygon"
              },
              "id": "0.3630646815121586,1.0353437401553456",
              "type": "Feature"
             },
             {
              "geometry": {
               "coordinates": [
                [
                 [
                  20.802073940908095,
                  51.71963908315648
                 ],
                 [
                  21.37008975454413,
                  51.92234756770137
                 ],
                 [
                  21.37008975454413,
                  52.32503236711657
                 ],
                 [
                  20.802073940908095,
                  52.52501192858379
                 ],
                 [
                  20.234058127272064,
                  52.32503236711657
                 ],
                 [
                  20.234058127272064,
                  51.92234756770137
                 ],
                 [
                  20.802073940908095,
                  51.71963908315648
                 ]
                ]
               ],
               "type": "Polygon"
              },
              "id": "0.3630646815121586,1.0696859642102794",
              "type": "Feature"
             },
             {
              "geometry": {
               "coordinates": [
                [
                 [
                  20.802073940908095,
                  52.922253769480314
                 ],
                 [
                  21.37008975454413,
                  53.11951951505616
                 ],
                 [
                  21.37008975454413,
                  53.5113495848048
                 ],
                 [
                  20.802073940908095,
                  53.705917582753145
                 ],
                 [
                  20.234058127272064,
                  53.5113495848048
                 ],
                 [
                  20.234058127272064,
                  53.11951951505616
                 ],
                 [
                  20.802073940908095,
                  52.922253769480314
                 ]
                ]
               ],
               "type": "Polygon"
              },
              "id": "0.3630646815121586,1.1040281882652134",
              "type": "Feature"
             },
             {
              "geometry": {
               "coordinates": [
                [
                 [
                  21.93810556818016,
                  49.215529421067494
                 ],
                 [
                  22.506121381816193,
                  49.42928352889036
                 ],
                 [
                  22.506121381816193,
                  49.8540108588769
                 ],
                 [
                  21.93810556818016,
                  50.06498632551648
                 ],
                 [
                  21.37008975454413,
                  49.8540108588769
                 ],
                 [
                  21.37008975454413,
                  49.42928352889036
                 ],
                 [
                  21.93810556818016,
                  49.215529421067494
                 ]
                ]
               ],
               "type": "Polygon"
              },
              "id": "0.38289217381484514,1.0010015161004118",
              "type": "Feature"
             },
             {
              "geometry": {
               "coordinates": [
                [
                 [
                  21.93810556818016,
                  50.48416681397755
                 ],
                 [
                  22.506121381816193,
                  50.69237434982357
                 ],
                 [
                  22.506121381816193,
                  51.10603061443655
                 ],
                 [
                  21.93810556818016,
                  51.31148211396355
                 ],
                 [
                  21.37008975454413,
                  51.10603061443655
                 ],
                 [
                  21.37008975454413,
                  50.69237434982357
                 ],
                 [
                  21.93810556818016,
                  50.48416681397755
                 ]
                ]
               ],
               "type": "Polygon"
              },
              "id": "0.38289217381484514,1.0353437401553456",
              "type": "Feature"
             },
             {
              "geometry": {
               "coordinates": [
                [
                 [
                  21.93810556818016,
                  51.71963908315648
                 ],
                 [
                  22.506121381816193,
                  51.92234756770137
                 ],
                 [
                  22.506121381816193,
                  52.32503236711657
                 ],
                 [
                  21.93810556818016,
                  52.52501192858379
                 ],
                 [
                  21.37008975454413,
                  52.32503236711657
                 ],
                 [
                  21.37008975454413,
                  51.92234756770137
                 ],
                 [
                  21.93810556818016,
                  51.71963908315648
                 ]
                ]
               ],
               "type": "Polygon"
              },
              "id": "0.38289217381484514,1.0696859642102794",
              "type": "Feature"
             },
             {
              "geometry": {
               "coordinates": [
                [
                 [
                  23.074137195452224,
                  49.215529421067494
                 ],
                 [
                  23.642153009088258,
                  49.42928352889036
                 ],
                 [
                  23.642153009088258,
                  49.8540108588769
                 ],
                 [
                  23.074137195452224,
                  50.06498632551648
                 ],
                 [
                  22.50612138181619,
                  49.8540108588769
                 ],
                 [
                  22.50612138181619,
                  49.42928352889036
                 ],
                 [
                  23.074137195452224,
                  49.215529421067494
                 ]
                ]
               ],
               "type": "Polygon"
              },
              "id": "0.4027196661175316,1.0010015161004118",
              "type": "Feature"
             },
             {
              "geometry": {
               "coordinates": [
                [
                 [
                  23.074137195452224,
                  50.48416681397755
                 ],
                 [
                  23.642153009088258,
                  50.69237434982357
                 ],
                 [
                  23.642153009088258,
                  51.10603061443655
                 ],
                 [
                  23.074137195452224,
                  51.31148211396355
                 ],
                 [
                  22.50612138181619,
                  51.10603061443655
                 ],
                 [
                  22.50612138181619,
                  50.69237434982357
                 ],
                 [
                  23.074137195452224,
                  50.48416681397755
                 ]
                ]
               ],
               "type": "Polygon"
              },
              "id": "0.4027196661175316,1.0353437401553456",
              "type": "Feature"
             },
             {
              "geometry": {
               "coordinates": [
                [
                 [
                  23.074137195452224,
                  52.922253769480314
                 ],
                 [
                  23.642153009088258,
                  53.11951951505616
                 ],
                 [
                  23.642153009088258,
                  53.5113495848048
                 ],
                 [
                  23.074137195452224,
                  53.705917582753145
                 ],
                 [
                  22.50612138181619,
                  53.5113495848048
                 ],
                 [
                  22.50612138181619,
                  53.11951951505616
                 ],
                 [
                  23.074137195452224,
                  52.922253769480314
                 ]
                ]
               ],
               "type": "Polygon"
              },
              "id": "0.4027196661175316,1.1040281882652134",
              "type": "Feature"
             }
            ],
            "type": "FeatureCollection"
           },
           "hovertemplate": "Avg value=%{z}<extra></extra>",
           "locations": [
            "0.25401347384738276,1.1211993002926803",
            "0.27384096615006925,1.0525148521828125",
            "0.27384096615006925,1.0868570762377463",
            "0.2936684584527558,1.0181726281278787",
            "0.2936684584527558,1.0868570762377463",
            "0.31349595075544234,1.0181726281278787",
            "0.31349595075544234,1.0525148521828125",
            "0.31349595075544234,1.1211993002926803",
            "0.33332344305812883,1.0181726281278787",
            "0.33332344305812883,1.0525148521828125",
            "0.33332344305812883,1.0868570762377463",
            "0.33332344305812883,1.1211993002926803",
            "0.3531509353608153,1.0181726281278787",
            "0.3531509353608153,1.0868570762377463",
            "0.3531509353608153,1.1211993002926803",
            "0.37297842766350187,1.0181726281278787",
            "0.37297842766350187,1.0525148521828125",
            "0.37297842766350187,1.0868570762377463",
            "0.3928059199661884,1.0181726281278787",
            "0.3928059199661884,1.0525148521828125",
            "0.3928059199661884,1.1211993002926803",
            "0.26392721999872604,1.0353437401553456",
            "0.26392721999872604,1.1040281882652134",
            "0.2837547123014125,1.0353437401553456",
            "0.2837547123014125,1.0696859642102794",
            "0.30358220460409907,1.0353437401553456",
            "0.30358220460409907,1.1040281882652134",
            "0.30358220460409907,1.1383704123201472",
            "0.32340969690678556,1.0010015161004118",
            "0.32340969690678556,1.1040281882652134",
            "0.32340969690678556,1.1383704123201472",
            "0.3432371892094721,1.0353437401553456",
            "0.3432371892094721,1.0696859642102794",
            "0.3630646815121586,1.0353437401553456",
            "0.3630646815121586,1.0696859642102794",
            "0.3630646815121586,1.1040281882652134",
            "0.38289217381484514,1.0010015161004118",
            "0.38289217381484514,1.0353437401553456",
            "0.38289217381484514,1.0696859642102794",
            "0.4027196661175316,1.0010015161004118",
            "0.4027196661175316,1.0353437401553456",
            "0.4027196661175316,1.1040281882652134"
           ],
           "marker": {
            "opacity": 0.5
           },
           "name": "",
           "subplot": "mapbox",
           "type": "choroplethmapbox",
           "z": [
            11.695526608187134,
            7.777199638554217,
            14.165476075268815,
            23.82128675576037,
            19.21993000415924,
            19.240609414905446,
            27.08091402439024,
            15.187003575418995,
            18.504396455425915,
            20.438178790983606,
            26.299415204678365,
            7.9703596153846155,
            21.325614267256707,
            18.363157894736844,
            13.503693857142856,
            13.544056471284271,
            18.031952662721896,
            13.860233918128655,
            20.00741572830509,
            28.22810457516339,
            14.672083010562037,
            23.369931451612903,
            13.782598138343886,
            20.346023548387098,
            25.545917634408603,
            17.501626459241223,
            27.77904191616766,
            29.236656353591158,
            18.103823094078443,
            15.434670749852938,
            11.775198807666051,
            13.380913975903614,
            20.333333333333332,
            22.60223032486845,
            23.7130931733177,
            18.52846316666667,
            9.628471446577908,
            40.473372781065095,
            19.36315789473684,
            14.118500888888889,
            21.730851063829782,
            13.49971211774575
           ]
          }
         ],
         "name": "2022-10-26"
        },
        {
         "data": [
          {
           "coloraxis": "coloraxis",
           "customdata": [
            [
             13.427831377551023,
             "0.25401347384738276,1.1211993002926803",
             "2022-10-27"
            ],
            [
             10.97567595744681,
             "0.27384096615006925,1.0525148521828125",
             "2022-10-27"
            ],
            [
             21.298383177570095,
             "0.27384096615006925,1.0868570762377463",
             "2022-10-27"
            ],
            [
             31.48129284404219,
             "0.2936684584527558,1.0181726281278787",
             "2022-10-27"
            ],
            [
             26.793246164194297,
             "0.2936684584527558,1.0868570762377463",
             "2022-10-27"
            ],
            [
             23.970037361473654,
             "0.31349595075544234,1.0181726281278787",
             "2022-10-27"
            ],
            [
             38.68703723404255,
             "0.31349595075544234,1.0525148521828125",
             "2022-10-27"
            ],
            [
             29.816258252427183,
             "0.31349595075544234,1.1211993002926803",
             "2022-10-27"
            ],
            [
             27.155382356589143,
             "0.33332344305812883,1.0181726281278787",
             "2022-10-27"
            ],
            [
             28.273471859089035,
             "0.33332344305812883,1.0525148521828125",
             "2022-10-27"
            ],
            [
             42.03199159498327,
             "0.33332344305812883,1.0868570762377463",
             "2022-10-27"
            ],
            [
             10.229873509615384,
             "0.33332344305812883,1.1211993002926803",
             "2022-10-27"
            ],
            [
             30.96021424324003,
             "0.3531509353608153,1.0181726281278787",
             "2022-10-27"
            ],
            [
             24.491237113402065,
             "0.3531509353608153,1.0868570762377463",
             "2022-10-27"
            ],
            [
             25.40443968301435,
             "0.3531509353608153,1.1211993002926803",
             "2022-10-27"
            ],
            [
             17.466254001587004,
             "0.37297842766350187,1.0181726281278787",
             "2022-10-27"
            ],
            [
             18.667010309278353,
             "0.37297842766350187,1.0525148521828125",
             "2022-10-27"
            ],
            [
             22.236597938144328,
             "0.37297842766350187,1.0868570762377463",
             "2022-10-27"
            ],
            [
             24.60985037017495,
             "0.3928059199661884,1.0181726281278787",
             "2022-10-27"
            ],
            [
             41.328,
             "0.3928059199661884,1.0525148521828125",
             "2022-10-27"
            ],
            [
             24.35429923500612,
             "0.3928059199661884,1.1211993002926803",
             "2022-10-27"
            ],
            [
             34.94935255813953,
             "0.26392721999872604,1.0353437401553456",
             "2022-10-27"
            ],
            [
             14.296180434589221,
             "0.26392721999872604,1.1040281882652134",
             "2022-10-27"
            ],
            [
             27.27089697674419,
             "0.2837547123014125,1.0353437401553456",
             "2022-10-27"
            ],
            [
             39.80416822429907,
             "0.2837547123014125,1.0696859642102794",
             "2022-10-27"
            ],
            [
             26.633967784577717,
             "0.30358220460409907,1.0353437401553456",
             "2022-10-27"
            ],
            [
             47.532474226804126,
             "0.30358220460409907,1.1040281882652134",
             "2022-10-27"
            ],
            [
             28.849959708737867,
             "0.30358220460409907,1.1383704123201472",
             "2022-10-27"
            ],
            [
             26.321946019583837,
             "0.32340969690678556,1.0010015161004118",
             "2022-10-27"
            ],
            [
             24.55307177274765,
             "0.32340969690678556,1.1040281882652134",
             "2022-10-27"
            ],
            [
             20.879099022421364,
             "0.32340969690678556,1.1383704123201472",
             "2022-10-27"
            ],
            [
             19.230008421052627,
             "0.3432371892094721,1.0353437401553456",
             "2022-10-27"
            ],
            [
             16.935095137420717,
             "0.3432371892094721,1.0696859642102794",
             "2022-10-27"
            ],
            [
             33.811388888888885,
             "0.3630646815121586,1.0353437401553456",
             "2022-10-27"
            ],
            [
             30.59239246356203,
             "0.3630646815121586,1.0696859642102794",
             "2022-10-27"
            ],
            [
             47.39698564593302,
             "0.3630646815121586,1.1040281882652134",
             "2022-10-27"
            ],
            [
             13.606957645631066,
             "0.38289217381484514,1.0010015161004118",
             "2022-10-27"
            ],
            [
             53.36185567010309,
             "0.38289217381484514,1.0353437401553456",
             "2022-10-27"
            ],
            [
             23.437078651685393,
             "0.38289217381484514,1.0696859642102794",
             "2022-10-27"
            ],
            [
             13.047106310679617,
             "0.4027196661175316,1.0010015161004118",
             "2022-10-27"
            ],
            [
             26.87302325581395,
             "0.4027196661175316,1.0353437401553456",
             "2022-10-27"
            ],
            [
             24.422945736434105,
             "0.4027196661175316,1.1040281882652134",
             "2022-10-27"
            ]
           ],
           "geojson": {
            "features": [
             {
              "geometry": {
               "coordinates": [
                [
                 [
                  14.553899990911745,
                  53.5113495848048
                 ],
                 [
                  15.121915804547777,
                  53.705917582753145
                 ],
                 [
                  15.121915804547777,
                  54.09236893756014
                 ],
                 [
                  14.553899990911745,
                  54.28425616416384
                 ],
                 [
                  13.985884177275713,
                  54.09236893756014
                 ],
                 [
                  13.985884177275713,
                  53.705917582753145
                 ],
                 [
                  14.553899990911745,
                  53.5113495848048
                 ]
                ]
               ],
               "type": "Polygon"
              },
              "id": "0.25401347384738276,1.1211993002926803",
              "type": "Feature"
             },
             {
              "geometry": {
               "coordinates": [
                [
                 [
                  15.689931618183808,
                  51.10603061443655
                 ],
                 [
                  16.25794743181984,
                  51.31148211396355
                 ],
                 [
                  16.25794743181984,
                  51.71963908315648
                 ],
                 [
                  15.689931618183808,
                  51.92234756770137
                 ],
                 [
                  15.121915804547776,
                  51.71963908315648
                 ],
                 [
                  15.121915804547776,
                  51.31148211396355
                 ],
                 [
                  15.689931618183808,
                  51.10603061443655
                 ]
                ]
               ],
               "type": "Polygon"
              },
              "id": "0.27384096615006925,1.0525148521828125",
              "type": "Feature"
             },
             {
              "geometry": {
               "coordinates": [
                [
                 [
                  15.689931618183808,
                  52.32503236711657
                 ],
                 [
                  16.25794743181984,
                  52.52501192858379
                 ],
                 [
                  16.25794743181984,
                  52.922253769480314
                 ],
                 [
                  15.689931618183808,
                  53.11951951505613
                 ],
                 [
                  15.121915804547776,
                  52.922253769480314
                 ],
                 [
                  15.121915804547776,
                  52.52501192858379
                 ],
                 [
                  15.689931618183808,
                  52.32503236711657
                 ]
                ]
               ],
               "type": "Polygon"
              },
              "id": "0.27384096615006925,1.0868570762377463",
              "type": "Feature"
             },
             {
              "geometry": {
               "coordinates": [
                [
                 [
                  16.825963245455874,
                  49.8540108588769
                 ],
                 [
                  17.393979059091905,
                  50.06498632551648
                 ],
                 [
                  17.393979059091905,
                  50.48416681397755
                 ],
                 [
                  16.825963245455874,
                  50.69237434982357
                 ],
                 [
                  16.25794743181984,
                  50.48416681397755
                 ],
                 [
                  16.25794743181984,
                  50.06498632551648
                 ],
                 [
                  16.825963245455874,
                  49.8540108588769
                 ]
                ]
               ],
               "type": "Polygon"
              },
              "id": "0.2936684584527558,1.0181726281278787",
              "type": "Feature"
             },
             {
              "geometry": {
               "coordinates": [
                [
                 [
                  16.825963245455874,
                  52.32503236711657
                 ],
                 [
                  17.393979059091905,
                  52.52501192858379
                 ],
                 [
                  17.393979059091905,
                  52.922253769480314
                 ],
                 [
                  16.825963245455874,
                  53.11951951505613
                 ],
                 [
                  16.25794743181984,
                  52.922253769480314
                 ],
                 [
                  16.25794743181984,
                  52.52501192858379
                 ],
                 [
                  16.825963245455874,
                  52.32503236711657
                 ]
                ]
               ],
               "type": "Polygon"
              },
              "id": "0.2936684584527558,1.0868570762377463",
              "type": "Feature"
             },
             {
              "geometry": {
               "coordinates": [
                [
                 [
                  17.96199487272794,
                  49.8540108588769
                 ],
                 [
                  18.530010686363973,
                  50.06498632551648
                 ],
                 [
                  18.530010686363973,
                  50.48416681397755
                 ],
                 [
                  17.96199487272794,
                  50.69237434982357
                 ],
                 [
                  17.393979059091905,
                  50.48416681397755
                 ],
                 [
                  17.393979059091905,
                  50.06498632551648
                 ],
                 [
                  17.96199487272794,
                  49.8540108588769
                 ]
                ]
               ],
               "type": "Polygon"
              },
              "id": "0.31349595075544234,1.0181726281278787",
              "type": "Feature"
             },
             {
              "geometry": {
               "coordinates": [
                [
                 [
                  17.96199487272794,
                  51.10603061443655
                 ],
                 [
                  18.530010686363973,
                  51.31148211396355
                 ],
                 [
                  18.530010686363973,
                  51.71963908315648
                 ],
                 [
                  17.96199487272794,
                  51.92234756770137
                 ],
                 [
                  17.393979059091905,
                  51.71963908315648
                 ],
                 [
                  17.393979059091905,
                  51.31148211396355
                 ],
                 [
                  17.96199487272794,
                  51.10603061443655
                 ]
                ]
               ],
               "type": "Polygon"
              },
              "id": "0.31349595075544234,1.0525148521828125",
              "type": "Feature"
             },
             {
              "geometry": {
               "coordinates": [
                [
                 [
                  17.96199487272794,
                  53.5113495848048
                 ],
                 [
                  18.530010686363973,
                  53.705917582753145
                 ],
                 [
                  18.530010686363973,
                  54.09236893756014
                 ],
                 [
                  17.96199487272794,
                  54.28425616416384
                 ],
                 [
                  17.393979059091905,
                  54.09236893756014
                 ],
                 [
                  17.393979059091905,
                  53.705917582753145
                 ],
                 [
                  17.96199487272794,
                  53.5113495848048
                 ]
                ]
               ],
               "type": "Polygon"
              },
              "id": "0.31349595075544234,1.1211993002926803",
              "type": "Feature"
             },
             {
              "geometry": {
               "coordinates": [
                [
                 [
                  19.0980265,
                  49.8540108588769
                 ],
                 [
                  19.666042313636034,
                  50.06498632551648
                 ],
                 [
                  19.666042313636034,
                  50.48416681397755
                 ],
                 [
                  19.0980265,
                  50.69237434982357
                 ],
                 [
                  18.530010686363966,
                  50.48416681397755
                 ],
                 [
                  18.530010686363966,
                  50.06498632551648
                 ],
                 [
                  19.0980265,
                  49.8540108588769
                 ]
                ]
               ],
               "type": "Polygon"
              },
              "id": "0.33332344305812883,1.0181726281278787",
              "type": "Feature"
             },
             {
              "geometry": {
               "coordinates": [
                [
                 [
                  19.0980265,
                  51.10603061443655
                 ],
                 [
                  19.666042313636034,
                  51.31148211396355
                 ],
                 [
                  19.666042313636034,
                  51.71963908315648
                 ],
                 [
                  19.0980265,
                  51.92234756770137
                 ],
                 [
                  18.530010686363966,
                  51.71963908315648
                 ],
                 [
                  18.530010686363966,
                  51.31148211396355
                 ],
                 [
                  19.0980265,
                  51.10603061443655
                 ]
                ]
               ],
               "type": "Polygon"
              },
              "id": "0.33332344305812883,1.0525148521828125",
              "type": "Feature"
             },
             {
              "geometry": {
               "coordinates": [
                [
                 [
                  19.0980265,
                  52.32503236711657
                 ],
                 [
                  19.666042313636034,
                  52.52501192858379
                 ],
                 [
                  19.666042313636034,
                  52.922253769480314
                 ],
                 [
                  19.0980265,
                  53.11951951505613
                 ],
                 [
                  18.530010686363966,
                  52.922253769480314
                 ],
                 [
                  18.530010686363966,
                  52.52501192858379
                 ],
                 [
                  19.0980265,
                  52.32503236711657
                 ]
                ]
               ],
               "type": "Polygon"
              },
              "id": "0.33332344305812883,1.0868570762377463",
              "type": "Feature"
             },
             {
              "geometry": {
               "coordinates": [
                [
                 [
                  19.0980265,
                  53.5113495848048
                 ],
                 [
                  19.666042313636034,
                  53.705917582753145
                 ],
                 [
                  19.666042313636034,
                  54.09236893756014
                 ],
                 [
                  19.0980265,
                  54.28425616416384
                 ],
                 [
                  18.530010686363966,
                  54.09236893756014
                 ],
                 [
                  18.530010686363966,
                  53.705917582753145
                 ],
                 [
                  19.0980265,
                  53.5113495848048
                 ]
                ]
               ],
               "type": "Polygon"
              },
              "id": "0.33332344305812883,1.1211993002926803",
              "type": "Feature"
             },
             {
              "geometry": {
               "coordinates": [
                [
                 [
                  20.234058127272064,
                  49.8540108588769
                 ],
                 [
                  20.802073940908095,
                  50.06498632551648
                 ],
                 [
                  20.802073940908095,
                  50.48416681397755
                 ],
                 [
                  20.234058127272064,
                  50.69237434982357
                 ],
                 [
                  19.66604231363603,
                  50.48416681397755
                 ],
                 [
                  19.66604231363603,
                  50.06498632551648
                 ],
                 [
                  20.234058127272064,
                  49.8540108588769
                 ]
                ]
               ],
               "type": "Polygon"
              },
              "id": "0.3531509353608153,1.0181726281278787",
              "type": "Feature"
             },
             {
              "geometry": {
               "coordinates": [
                [
                 [
                  20.234058127272064,
                  52.32503236711657
                 ],
                 [
                  20.802073940908095,
                  52.52501192858379
                 ],
                 [
                  20.802073940908095,
                  52.922253769480314
                 ],
                 [
                  20.234058127272064,
                  53.11951951505613
                 ],
                 [
                  19.66604231363603,
                  52.922253769480314
                 ],
                 [
                  19.66604231363603,
                  52.52501192858379
                 ],
                 [
                  20.234058127272064,
                  52.32503236711657
                 ]
                ]
               ],
               "type": "Polygon"
              },
              "id": "0.3531509353608153,1.0868570762377463",
              "type": "Feature"
             },
             {
              "geometry": {
               "coordinates": [
                [
                 [
                  20.234058127272064,
                  53.5113495848048
                 ],
                 [
                  20.802073940908095,
                  53.705917582753145
                 ],
                 [
                  20.802073940908095,
                  54.09236893756014
                 ],
                 [
                  20.234058127272064,
                  54.28425616416384
                 ],
                 [
                  19.66604231363603,
                  54.09236893756014
                 ],
                 [
                  19.66604231363603,
                  53.705917582753145
                 ],
                 [
                  20.234058127272064,
                  53.5113495848048
                 ]
                ]
               ],
               "type": "Polygon"
              },
              "id": "0.3531509353608153,1.1211993002926803",
              "type": "Feature"
             },
             {
              "geometry": {
               "coordinates": [
                [
                 [
                  21.37008975454413,
                  49.8540108588769
                 ],
                 [
                  21.93810556818016,
                  50.06498632551648
                 ],
                 [
                  21.93810556818016,
                  50.48416681397755
                 ],
                 [
                  21.37008975454413,
                  50.69237434982357
                 ],
                 [
                  20.802073940908095,
                  50.48416681397755
                 ],
                 [
                  20.802073940908095,
                  50.06498632551648
                 ],
                 [
                  21.37008975454413,
                  49.8540108588769
                 ]
                ]
               ],
               "type": "Polygon"
              },
              "id": "0.37297842766350187,1.0181726281278787",
              "type": "Feature"
             },
             {
              "geometry": {
               "coordinates": [
                [
                 [
                  21.37008975454413,
                  51.10603061443655
                 ],
                 [
                  21.93810556818016,
                  51.31148211396355
                 ],
                 [
                  21.93810556818016,
                  51.71963908315648
                 ],
                 [
                  21.37008975454413,
                  51.92234756770137
                 ],
                 [
                  20.802073940908095,
                  51.71963908315648
                 ],
                 [
                  20.802073940908095,
                  51.31148211396355
                 ],
                 [
                  21.37008975454413,
                  51.10603061443655
                 ]
                ]
               ],
               "type": "Polygon"
              },
              "id": "0.37297842766350187,1.0525148521828125",
              "type": "Feature"
             },
             {
              "geometry": {
               "coordinates": [
                [
                 [
                  21.37008975454413,
                  52.32503236711657
                 ],
                 [
                  21.93810556818016,
                  52.52501192858379
                 ],
                 [
                  21.93810556818016,
                  52.922253769480314
                 ],
                 [
                  21.37008975454413,
                  53.11951951505613
                 ],
                 [
                  20.802073940908095,
                  52.922253769480314
                 ],
                 [
                  20.802073940908095,
                  52.52501192858379
                 ],
                 [
                  21.37008975454413,
                  52.32503236711657
                 ]
                ]
               ],
               "type": "Polygon"
              },
              "id": "0.37297842766350187,1.0868570762377463",
              "type": "Feature"
             },
             {
              "geometry": {
               "coordinates": [
                [
                 [
                  22.506121381816193,
                  49.8540108588769
                 ],
                 [
                  23.074137195452227,
                  50.06498632551648
                 ],
                 [
                  23.074137195452227,
                  50.48416681397755
                 ],
                 [
                  22.506121381816193,
                  50.69237434982357
                 ],
                 [
                  21.93810556818016,
                  50.48416681397755
                 ],
                 [
                  21.93810556818016,
                  50.06498632551648
                 ],
                 [
                  22.506121381816193,
                  49.8540108588769
                 ]
                ]
               ],
               "type": "Polygon"
              },
              "id": "0.3928059199661884,1.0181726281278787",
              "type": "Feature"
             },
             {
              "geometry": {
               "coordinates": [
                [
                 [
                  22.506121381816193,
                  51.10603061443655
                 ],
                 [
                  23.074137195452227,
                  51.31148211396355
                 ],
                 [
                  23.074137195452227,
                  51.71963908315648
                 ],
                 [
                  22.506121381816193,
                  51.92234756770137
                 ],
                 [
                  21.93810556818016,
                  51.71963908315648
                 ],
                 [
                  21.93810556818016,
                  51.31148211396355
                 ],
                 [
                  22.506121381816193,
                  51.10603061443655
                 ]
                ]
               ],
               "type": "Polygon"
              },
              "id": "0.3928059199661884,1.0525148521828125",
              "type": "Feature"
             },
             {
              "geometry": {
               "coordinates": [
                [
                 [
                  22.506121381816193,
                  53.5113495848048
                 ],
                 [
                  23.074137195452227,
                  53.705917582753145
                 ],
                 [
                  23.074137195452227,
                  54.09236893756014
                 ],
                 [
                  22.506121381816193,
                  54.28425616416384
                 ],
                 [
                  21.93810556818016,
                  54.09236893756014
                 ],
                 [
                  21.93810556818016,
                  53.705917582753145
                 ],
                 [
                  22.506121381816193,
                  53.5113495848048
                 ]
                ]
               ],
               "type": "Polygon"
              },
              "id": "0.3928059199661884,1.1211993002926803",
              "type": "Feature"
             },
             {
              "geometry": {
               "coordinates": [
                [
                 [
                  15.121915804547777,
                  50.48416681397755
                 ],
                 [
                  15.689931618183811,
                  50.69237434982357
                 ],
                 [
                  15.689931618183811,
                  51.10603061443655
                 ],
                 [
                  15.121915804547777,
                  51.31148211396355
                 ],
                 [
                  14.553899990911745,
                  51.10603061443655
                 ],
                 [
                  14.553899990911745,
                  50.69237434982357
                 ],
                 [
                  15.121915804547777,
                  50.48416681397755
                 ]
                ]
               ],
               "type": "Polygon"
              },
              "id": "0.26392721999872604,1.0353437401553456",
              "type": "Feature"
             },
             {
              "geometry": {
               "coordinates": [
                [
                 [
                  15.121915804547777,
                  52.922253769480314
                 ],
                 [
                  15.689931618183811,
                  53.11951951505616
                 ],
                 [
                  15.689931618183811,
                  53.5113495848048
                 ],
                 [
                  15.121915804547777,
                  53.705917582753145
                 ],
                 [
                  14.553899990911745,
                  53.5113495848048
                 ],
                 [
                  14.553899990911745,
                  53.11951951505616
                 ],
                 [
                  15.121915804547777,
                  52.922253769480314
                 ]
                ]
               ],
               "type": "Polygon"
              },
              "id": "0.26392721999872604,1.1040281882652134",
              "type": "Feature"
             },
             {
              "geometry": {
               "coordinates": [
                [
                 [
                  16.25794743181984,
                  50.48416681397755
                 ],
                 [
                  16.825963245455874,
                  50.69237434982357
                 ],
                 [
                  16.825963245455874,
                  51.10603061443655
                 ],
                 [
                  16.25794743181984,
                  51.31148211396355
                 ],
                 [
                  15.689931618183808,
                  51.10603061443655
                 ],
                 [
                  15.689931618183808,
                  50.69237434982357
                 ],
                 [
                  16.25794743181984,
                  50.48416681397755
                 ]
                ]
               ],
               "type": "Polygon"
              },
              "id": "0.2837547123014125,1.0353437401553456",
              "type": "Feature"
             },
             {
              "geometry": {
               "coordinates": [
                [
                 [
                  16.25794743181984,
                  51.71963908315648
                 ],
                 [
                  16.825963245455874,
                  51.92234756770137
                 ],
                 [
                  16.825963245455874,
                  52.32503236711657
                 ],
                 [
                  16.25794743181984,
                  52.52501192858379
                 ],
                 [
                  15.689931618183808,
                  52.32503236711657
                 ],
                 [
                  15.689931618183808,
                  51.92234756770137
                 ],
                 [
                  16.25794743181984,
                  51.71963908315648
                 ]
                ]
               ],
               "type": "Polygon"
              },
              "id": "0.2837547123014125,1.0696859642102794",
              "type": "Feature"
             },
             {
              "geometry": {
               "coordinates": [
                [
                 [
                  17.393979059091905,
                  50.48416681397755
                 ],
                 [
                  17.96199487272794,
                  50.69237434982357
                 ],
                 [
                  17.96199487272794,
                  51.10603061443655
                 ],
                 [
                  17.393979059091905,
                  51.31148211396355
                 ],
                 [
                  16.825963245455874,
                  51.10603061443655
                 ],
                 [
                  16.825963245455874,
                  50.69237434982357
                 ],
                 [
                  17.393979059091905,
                  50.48416681397755
                 ]
                ]
               ],
               "type": "Polygon"
              },
              "id": "0.30358220460409907,1.0353437401553456",
              "type": "Feature"
             },
             {
              "geometry": {
               "coordinates": [
                [
                 [
                  17.393979059091905,
                  52.922253769480314
                 ],
                 [
                  17.96199487272794,
                  53.11951951505616
                 ],
                 [
                  17.96199487272794,
                  53.5113495848048
                 ],
                 [
                  17.393979059091905,
                  53.705917582753145
                 ],
                 [
                  16.825963245455874,
                  53.5113495848048
                 ],
                 [
                  16.825963245455874,
                  53.11951951505616
                 ],
                 [
                  17.393979059091905,
                  52.922253769480314
                 ]
                ]
               ],
               "type": "Polygon"
              },
              "id": "0.30358220460409907,1.1040281882652134",
              "type": "Feature"
             },
             {
              "geometry": {
               "coordinates": [
                [
                 [
                  17.393979059091905,
                  54.09236893756014
                 ],
                 [
                  17.96199487272794,
                  54.28425616416384
                 ],
                 [
                  17.96199487272794,
                  54.66536362414315
                 ],
                 [
                  17.393979059091905,
                  54.854587911846494
                 ],
                 [
                  16.825963245455874,
                  54.66536362414315
                 ],
                 [
                  16.825963245455874,
                  54.28425616416384
                 ],
                 [
                  17.393979059091905,
                  54.09236893756014
                 ]
                ]
               ],
               "type": "Polygon"
              },
              "id": "0.30358220460409907,1.1383704123201472",
              "type": "Feature"
             },
             {
              "geometry": {
               "coordinates": [
                [
                 [
                  18.530010686363966,
                  49.215529421067494
                 ],
                 [
                  19.0980265,
                  49.42928352889036
                 ],
                 [
                  19.0980265,
                  49.8540108588769
                 ],
                 [
                  18.530010686363966,
                  50.06498632551648
                 ],
                 [
                  17.961994872727935,
                  49.8540108588769
                 ],
                 [
                  17.961994872727935,
                  49.42928352889036
                 ],
                 [
                  18.530010686363966,
                  49.215529421067494
                 ]
                ]
               ],
               "type": "Polygon"
              },
              "id": "0.32340969690678556,1.0010015161004118",
              "type": "Feature"
             },
             {
              "geometry": {
               "coordinates": [
                [
                 [
                  18.530010686363966,
                  52.922253769480314
                 ],
                 [
                  19.0980265,
                  53.11951951505616
                 ],
                 [
                  19.0980265,
                  53.5113495848048
                 ],
                 [
                  18.530010686363966,
                  53.705917582753145
                 ],
                 [
                  17.961994872727935,
                  53.5113495848048
                 ],
                 [
                  17.961994872727935,
                  53.11951951505616
                 ],
                 [
                  18.530010686363966,
                  52.922253769480314
                 ]
                ]
               ],
               "type": "Polygon"
              },
              "id": "0.32340969690678556,1.1040281882652134",
              "type": "Feature"
             },
             {
              "geometry": {
               "coordinates": [
                [
                 [
                  18.530010686363966,
                  54.09236893756014
                 ],
                 [
                  19.0980265,
                  54.28425616416384
                 ],
                 [
                  19.0980265,
                  54.66536362414315
                 ],
                 [
                  18.530010686363966,
                  54.854587911846494
                 ],
                 [
                  17.961994872727935,
                  54.66536362414315
                 ],
                 [
                  17.961994872727935,
                  54.28425616416384
                 ],
                 [
                  18.530010686363966,
                  54.09236893756014
                 ]
                ]
               ],
               "type": "Polygon"
              },
              "id": "0.32340969690678556,1.1383704123201472",
              "type": "Feature"
             },
             {
              "geometry": {
               "coordinates": [
                [
                 [
                  19.666042313636034,
                  50.48416681397755
                 ],
                 [
                  20.234058127272064,
                  50.69237434982357
                 ],
                 [
                  20.234058127272064,
                  51.10603061443655
                 ],
                 [
                  19.666042313636034,
                  51.31148211396355
                 ],
                 [
                  19.0980265,
                  51.10603061443655
                 ],
                 [
                  19.0980265,
                  50.69237434982357
                 ],
                 [
                  19.666042313636034,
                  50.48416681397755
                 ]
                ]
               ],
               "type": "Polygon"
              },
              "id": "0.3432371892094721,1.0353437401553456",
              "type": "Feature"
             },
             {
              "geometry": {
               "coordinates": [
                [
                 [
                  19.666042313636034,
                  51.71963908315648
                 ],
                 [
                  20.234058127272064,
                  51.92234756770137
                 ],
                 [
                  20.234058127272064,
                  52.32503236711657
                 ],
                 [
                  19.666042313636034,
                  52.52501192858379
                 ],
                 [
                  19.0980265,
                  52.32503236711657
                 ],
                 [
                  19.0980265,
                  51.92234756770137
                 ],
                 [
                  19.666042313636034,
                  51.71963908315648
                 ]
                ]
               ],
               "type": "Polygon"
              },
              "id": "0.3432371892094721,1.0696859642102794",
              "type": "Feature"
             },
             {
              "geometry": {
               "coordinates": [
                [
                 [
                  20.802073940908095,
                  50.48416681397755
                 ],
                 [
                  21.37008975454413,
                  50.69237434982357
                 ],
                 [
                  21.37008975454413,
                  51.10603061443655
                 ],
                 [
                  20.802073940908095,
                  51.31148211396355
                 ],
                 [
                  20.234058127272064,
                  51.10603061443655
                 ],
                 [
                  20.234058127272064,
                  50.69237434982357
                 ],
                 [
                  20.802073940908095,
                  50.48416681397755
                 ]
                ]
               ],
               "type": "Polygon"
              },
              "id": "0.3630646815121586,1.0353437401553456",
              "type": "Feature"
             },
             {
              "geometry": {
               "coordinates": [
                [
                 [
                  20.802073940908095,
                  51.71963908315648
                 ],
                 [
                  21.37008975454413,
                  51.92234756770137
                 ],
                 [
                  21.37008975454413,
                  52.32503236711657
                 ],
                 [
                  20.802073940908095,
                  52.52501192858379
                 ],
                 [
                  20.234058127272064,
                  52.32503236711657
                 ],
                 [
                  20.234058127272064,
                  51.92234756770137
                 ],
                 [
                  20.802073940908095,
                  51.71963908315648
                 ]
                ]
               ],
               "type": "Polygon"
              },
              "id": "0.3630646815121586,1.0696859642102794",
              "type": "Feature"
             },
             {
              "geometry": {
               "coordinates": [
                [
                 [
                  20.802073940908095,
                  52.922253769480314
                 ],
                 [
                  21.37008975454413,
                  53.11951951505616
                 ],
                 [
                  21.37008975454413,
                  53.5113495848048
                 ],
                 [
                  20.802073940908095,
                  53.705917582753145
                 ],
                 [
                  20.234058127272064,
                  53.5113495848048
                 ],
                 [
                  20.234058127272064,
                  53.11951951505616
                 ],
                 [
                  20.802073940908095,
                  52.922253769480314
                 ]
                ]
               ],
               "type": "Polygon"
              },
              "id": "0.3630646815121586,1.1040281882652134",
              "type": "Feature"
             },
             {
              "geometry": {
               "coordinates": [
                [
                 [
                  21.93810556818016,
                  49.215529421067494
                 ],
                 [
                  22.506121381816193,
                  49.42928352889036
                 ],
                 [
                  22.506121381816193,
                  49.8540108588769
                 ],
                 [
                  21.93810556818016,
                  50.06498632551648
                 ],
                 [
                  21.37008975454413,
                  49.8540108588769
                 ],
                 [
                  21.37008975454413,
                  49.42928352889036
                 ],
                 [
                  21.93810556818016,
                  49.215529421067494
                 ]
                ]
               ],
               "type": "Polygon"
              },
              "id": "0.38289217381484514,1.0010015161004118",
              "type": "Feature"
             },
             {
              "geometry": {
               "coordinates": [
                [
                 [
                  21.93810556818016,
                  50.48416681397755
                 ],
                 [
                  22.506121381816193,
                  50.69237434982357
                 ],
                 [
                  22.506121381816193,
                  51.10603061443655
                 ],
                 [
                  21.93810556818016,
                  51.31148211396355
                 ],
                 [
                  21.37008975454413,
                  51.10603061443655
                 ],
                 [
                  21.37008975454413,
                  50.69237434982357
                 ],
                 [
                  21.93810556818016,
                  50.48416681397755
                 ]
                ]
               ],
               "type": "Polygon"
              },
              "id": "0.38289217381484514,1.0353437401553456",
              "type": "Feature"
             },
             {
              "geometry": {
               "coordinates": [
                [
                 [
                  21.93810556818016,
                  51.71963908315648
                 ],
                 [
                  22.506121381816193,
                  51.92234756770137
                 ],
                 [
                  22.506121381816193,
                  52.32503236711657
                 ],
                 [
                  21.93810556818016,
                  52.52501192858379
                 ],
                 [
                  21.37008975454413,
                  52.32503236711657
                 ],
                 [
                  21.37008975454413,
                  51.92234756770137
                 ],
                 [
                  21.93810556818016,
                  51.71963908315648
                 ]
                ]
               ],
               "type": "Polygon"
              },
              "id": "0.38289217381484514,1.0696859642102794",
              "type": "Feature"
             },
             {
              "geometry": {
               "coordinates": [
                [
                 [
                  23.074137195452224,
                  49.215529421067494
                 ],
                 [
                  23.642153009088258,
                  49.42928352889036
                 ],
                 [
                  23.642153009088258,
                  49.8540108588769
                 ],
                 [
                  23.074137195452224,
                  50.06498632551648
                 ],
                 [
                  22.50612138181619,
                  49.8540108588769
                 ],
                 [
                  22.50612138181619,
                  49.42928352889036
                 ],
                 [
                  23.074137195452224,
                  49.215529421067494
                 ]
                ]
               ],
               "type": "Polygon"
              },
              "id": "0.4027196661175316,1.0010015161004118",
              "type": "Feature"
             },
             {
              "geometry": {
               "coordinates": [
                [
                 [
                  23.074137195452224,
                  50.48416681397755
                 ],
                 [
                  23.642153009088258,
                  50.69237434982357
                 ],
                 [
                  23.642153009088258,
                  51.10603061443655
                 ],
                 [
                  23.074137195452224,
                  51.31148211396355
                 ],
                 [
                  22.50612138181619,
                  51.10603061443655
                 ],
                 [
                  22.50612138181619,
                  50.69237434982357
                 ],
                 [
                  23.074137195452224,
                  50.48416681397755
                 ]
                ]
               ],
               "type": "Polygon"
              },
              "id": "0.4027196661175316,1.0353437401553456",
              "type": "Feature"
             },
             {
              "geometry": {
               "coordinates": [
                [
                 [
                  23.074137195452224,
                  52.922253769480314
                 ],
                 [
                  23.642153009088258,
                  53.11951951505616
                 ],
                 [
                  23.642153009088258,
                  53.5113495848048
                 ],
                 [
                  23.074137195452224,
                  53.705917582753145
                 ],
                 [
                  22.50612138181619,
                  53.5113495848048
                 ],
                 [
                  22.50612138181619,
                  53.11951951505616
                 ],
                 [
                  23.074137195452224,
                  52.922253769480314
                 ]
                ]
               ],
               "type": "Polygon"
              },
              "id": "0.4027196661175316,1.1040281882652134",
              "type": "Feature"
             }
            ],
            "type": "FeatureCollection"
           },
           "hovertemplate": "Avg value=%{z}<extra></extra>",
           "locations": [
            "0.25401347384738276,1.1211993002926803",
            "0.27384096615006925,1.0525148521828125",
            "0.27384096615006925,1.0868570762377463",
            "0.2936684584527558,1.0181726281278787",
            "0.2936684584527558,1.0868570762377463",
            "0.31349595075544234,1.0181726281278787",
            "0.31349595075544234,1.0525148521828125",
            "0.31349595075544234,1.1211993002926803",
            "0.33332344305812883,1.0181726281278787",
            "0.33332344305812883,1.0525148521828125",
            "0.33332344305812883,1.0868570762377463",
            "0.33332344305812883,1.1211993002926803",
            "0.3531509353608153,1.0181726281278787",
            "0.3531509353608153,1.0868570762377463",
            "0.3531509353608153,1.1211993002926803",
            "0.37297842766350187,1.0181726281278787",
            "0.37297842766350187,1.0525148521828125",
            "0.37297842766350187,1.0868570762377463",
            "0.3928059199661884,1.0181726281278787",
            "0.3928059199661884,1.0525148521828125",
            "0.3928059199661884,1.1211993002926803",
            "0.26392721999872604,1.0353437401553456",
            "0.26392721999872604,1.1040281882652134",
            "0.2837547123014125,1.0353437401553456",
            "0.2837547123014125,1.0696859642102794",
            "0.30358220460409907,1.0353437401553456",
            "0.30358220460409907,1.1040281882652134",
            "0.30358220460409907,1.1383704123201472",
            "0.32340969690678556,1.0010015161004118",
            "0.32340969690678556,1.1040281882652134",
            "0.32340969690678556,1.1383704123201472",
            "0.3432371892094721,1.0353437401553456",
            "0.3432371892094721,1.0696859642102794",
            "0.3630646815121586,1.0353437401553456",
            "0.3630646815121586,1.0696859642102794",
            "0.3630646815121586,1.1040281882652134",
            "0.38289217381484514,1.0010015161004118",
            "0.38289217381484514,1.0353437401553456",
            "0.38289217381484514,1.0696859642102794",
            "0.4027196661175316,1.0010015161004118",
            "0.4027196661175316,1.0353437401553456",
            "0.4027196661175316,1.1040281882652134"
           ],
           "marker": {
            "opacity": 0.5
           },
           "name": "",
           "subplot": "mapbox",
           "type": "choroplethmapbox",
           "z": [
            13.427831377551023,
            10.97567595744681,
            21.298383177570095,
            31.48129284404219,
            26.793246164194297,
            23.970037361473654,
            38.68703723404255,
            29.816258252427183,
            27.155382356589143,
            28.273471859089035,
            42.03199159498327,
            10.229873509615384,
            30.96021424324003,
            24.491237113402065,
            25.40443968301435,
            17.466254001587004,
            18.667010309278353,
            22.236597938144328,
            24.60985037017495,
            41.328,
            24.35429923500612,
            34.94935255813953,
            14.296180434589221,
            27.27089697674419,
            39.80416822429907,
            26.633967784577717,
            47.532474226804126,
            28.849959708737867,
            26.321946019583837,
            24.55307177274765,
            20.879099022421364,
            19.230008421052627,
            16.935095137420717,
            33.811388888888885,
            30.59239246356203,
            47.39698564593302,
            13.606957645631066,
            53.36185567010309,
            23.437078651685393,
            13.047106310679617,
            26.87302325581395,
            24.422945736434105
           ]
          }
         ],
         "name": "2022-10-27"
        },
        {
         "data": [
          {
           "coloraxis": "coloraxis",
           "customdata": [
            [
             14.842069196428573,
             "0.25401347384738276,1.1211993002926803",
             "2022-10-28"
            ],
            [
             8.622575567010308,
             "0.27384096615006925,1.0525148521828125",
             "2022-10-28"
            ],
            [
             23.569223451327435,
             "0.27384096615006925,1.0868570762377463",
             "2022-10-28"
            ],
            [
             21.722983062556516,
             "0.2936684584527558,1.0181726281278787",
             "2022-10-28"
            ],
            [
             21.44648900004388,
             "0.2936684584527558,1.0868570762377463",
             "2022-10-28"
            ],
            [
             15.142101471087358,
             "0.31349595075544234,1.0181726281278787",
             "2022-10-28"
            ],
            [
             28.50746028037383,
             "0.31349595075544234,1.0525148521828125",
             "2022-10-28"
            ],
            [
             27.057155172413793,
             "0.31349595075544234,1.1211993002926803",
             "2022-10-28"
            ],
            [
             24.138614957403533,
             "0.33332344305812883,1.0181726281278787",
             "2022-10-28"
            ],
            [
             17.930024423935457,
             "0.33332344305812883,1.0525148521828125",
             "2022-10-28"
            ],
            [
             26.203409090909098,
             "0.33332344305812883,1.0868570762377463",
             "2022-10-28"
            ],
            [
             13.390774635193132,
             "0.33332344305812883,1.1211993002926803",
             "2022-10-28"
            ],
            [
             38.29630966031746,
             "0.3531509353608153,1.0181726281278787",
             "2022-10-28"
            ],
            [
             21.812727272727273,
             "0.3531509353608153,1.0868570762377463",
             "2022-10-28"
            ],
            [
             26.921762733766236,
             "0.3531509353608153,1.1211993002926803",
             "2022-10-28"
            ],
            [
             10.236495131080893,
             "0.37297842766350187,1.0181726281278787",
             "2022-10-28"
            ],
            [
             17.146543778801842,
             "0.37297842766350187,1.0525148521828125",
             "2022-10-28"
            ],
            [
             24.560909090909096,
             "0.37297842766350187,1.0868570762377463",
             "2022-10-28"
            ],
            [
             18.232355763895523,
             "0.3928059199661884,1.0181726281278787",
             "2022-10-28"
            ],
            [
             32.11144278606967,
             "0.3928059199661884,1.0525148521828125",
             "2022-10-28"
            ],
            [
             30.226630879042705,
             "0.3928059199661884,1.1211993002926803",
             "2022-10-28"
            ],
            [
             24.053837605042016,
             "0.26392721999872604,1.0353437401553456",
             "2022-10-28"
            ],
            [
             13.30096333202036,
             "0.26392721999872604,1.1040281882652134",
             "2022-10-28"
            ],
            [
             14.719499133926671,
             "0.2837547123014125,1.0353437401553456",
             "2022-10-28"
            ],
            [
             20.756621973094177,
             "0.2837547123014125,1.0696859642102794",
             "2022-10-28"
            ],
            [
             20.084786154973546,
             "0.30358220460409907,1.0353437401553456",
             "2022-10-28"
            ],
            [
             31.08796296296296,
             "0.30358220460409907,1.1040281882652134",
             "2022-10-28"
            ],
            [
             25.53979956331877,
             "0.30358220460409907,1.1383704123201472",
             "2022-10-28"
            ],
            [
             22.31215031177433,
             "0.32340969690678556,1.0010015161004118",
             "2022-10-28"
            ],
            [
             23.3972570620286,
             "0.32340969690678556,1.1040281882652134",
             "2022-10-28"
            ],
            [
             23.909424883043368,
             "0.32340969690678556,1.1383704123201472",
             "2022-10-28"
            ],
            [
             18.281506422018346,
             "0.3432371892094721,1.0353437401553456",
             "2022-10-28"
            ],
            [
             20.483193277310924,
             "0.3432371892094721,1.0696859642102794",
             "2022-10-28"
            ],
            [
             29.086943023916525,
             "0.3630646815121586,1.0353437401553456",
             "2022-10-28"
            ],
            [
             25.096459041730494,
             "0.3630646815121586,1.0696859642102794",
             "2022-10-28"
            ],
            [
             39.720442794759826,
             "0.3630646815121586,1.1040281882652134",
             "2022-10-28"
            ],
            [
             11.137557795340623,
             "0.38289217381484514,1.0010015161004118",
             "2022-10-28"
            ],
            [
             41.690410958904124,
             "0.38289217381484514,1.0353437401553456",
             "2022-10-28"
            ],
            [
             29.03503649635036,
             "0.38289217381484514,1.0696859642102794",
             "2022-10-28"
            ],
            [
             9.20023149122807,
             "0.4027196661175316,1.0010015161004118",
             "2022-10-28"
            ],
            [
             18.946058091286307,
             "0.4027196661175316,1.0353437401553456",
             "2022-10-28"
            ],
            [
             29.044665359799392,
             "0.4027196661175316,1.1040281882652134",
             "2022-10-28"
            ]
           ],
           "geojson": {
            "features": [
             {
              "geometry": {
               "coordinates": [
                [
                 [
                  14.553899990911745,
                  53.5113495848048
                 ],
                 [
                  15.121915804547777,
                  53.705917582753145
                 ],
                 [
                  15.121915804547777,
                  54.09236893756014
                 ],
                 [
                  14.553899990911745,
                  54.28425616416384
                 ],
                 [
                  13.985884177275713,
                  54.09236893756014
                 ],
                 [
                  13.985884177275713,
                  53.705917582753145
                 ],
                 [
                  14.553899990911745,
                  53.5113495848048
                 ]
                ]
               ],
               "type": "Polygon"
              },
              "id": "0.25401347384738276,1.1211993002926803",
              "type": "Feature"
             },
             {
              "geometry": {
               "coordinates": [
                [
                 [
                  15.689931618183808,
                  51.10603061443655
                 ],
                 [
                  16.25794743181984,
                  51.31148211396355
                 ],
                 [
                  16.25794743181984,
                  51.71963908315648
                 ],
                 [
                  15.689931618183808,
                  51.92234756770137
                 ],
                 [
                  15.121915804547776,
                  51.71963908315648
                 ],
                 [
                  15.121915804547776,
                  51.31148211396355
                 ],
                 [
                  15.689931618183808,
                  51.10603061443655
                 ]
                ]
               ],
               "type": "Polygon"
              },
              "id": "0.27384096615006925,1.0525148521828125",
              "type": "Feature"
             },
             {
              "geometry": {
               "coordinates": [
                [
                 [
                  15.689931618183808,
                  52.32503236711657
                 ],
                 [
                  16.25794743181984,
                  52.52501192858379
                 ],
                 [
                  16.25794743181984,
                  52.922253769480314
                 ],
                 [
                  15.689931618183808,
                  53.11951951505613
                 ],
                 [
                  15.121915804547776,
                  52.922253769480314
                 ],
                 [
                  15.121915804547776,
                  52.52501192858379
                 ],
                 [
                  15.689931618183808,
                  52.32503236711657
                 ]
                ]
               ],
               "type": "Polygon"
              },
              "id": "0.27384096615006925,1.0868570762377463",
              "type": "Feature"
             },
             {
              "geometry": {
               "coordinates": [
                [
                 [
                  16.825963245455874,
                  49.8540108588769
                 ],
                 [
                  17.393979059091905,
                  50.06498632551648
                 ],
                 [
                  17.393979059091905,
                  50.48416681397755
                 ],
                 [
                  16.825963245455874,
                  50.69237434982357
                 ],
                 [
                  16.25794743181984,
                  50.48416681397755
                 ],
                 [
                  16.25794743181984,
                  50.06498632551648
                 ],
                 [
                  16.825963245455874,
                  49.8540108588769
                 ]
                ]
               ],
               "type": "Polygon"
              },
              "id": "0.2936684584527558,1.0181726281278787",
              "type": "Feature"
             },
             {
              "geometry": {
               "coordinates": [
                [
                 [
                  16.825963245455874,
                  52.32503236711657
                 ],
                 [
                  17.393979059091905,
                  52.52501192858379
                 ],
                 [
                  17.393979059091905,
                  52.922253769480314
                 ],
                 [
                  16.825963245455874,
                  53.11951951505613
                 ],
                 [
                  16.25794743181984,
                  52.922253769480314
                 ],
                 [
                  16.25794743181984,
                  52.52501192858379
                 ],
                 [
                  16.825963245455874,
                  52.32503236711657
                 ]
                ]
               ],
               "type": "Polygon"
              },
              "id": "0.2936684584527558,1.0868570762377463",
              "type": "Feature"
             },
             {
              "geometry": {
               "coordinates": [
                [
                 [
                  17.96199487272794,
                  49.8540108588769
                 ],
                 [
                  18.530010686363973,
                  50.06498632551648
                 ],
                 [
                  18.530010686363973,
                  50.48416681397755
                 ],
                 [
                  17.96199487272794,
                  50.69237434982357
                 ],
                 [
                  17.393979059091905,
                  50.48416681397755
                 ],
                 [
                  17.393979059091905,
                  50.06498632551648
                 ],
                 [
                  17.96199487272794,
                  49.8540108588769
                 ]
                ]
               ],
               "type": "Polygon"
              },
              "id": "0.31349595075544234,1.0181726281278787",
              "type": "Feature"
             },
             {
              "geometry": {
               "coordinates": [
                [
                 [
                  17.96199487272794,
                  51.10603061443655
                 ],
                 [
                  18.530010686363973,
                  51.31148211396355
                 ],
                 [
                  18.530010686363973,
                  51.71963908315648
                 ],
                 [
                  17.96199487272794,
                  51.92234756770137
                 ],
                 [
                  17.393979059091905,
                  51.71963908315648
                 ],
                 [
                  17.393979059091905,
                  51.31148211396355
                 ],
                 [
                  17.96199487272794,
                  51.10603061443655
                 ]
                ]
               ],
               "type": "Polygon"
              },
              "id": "0.31349595075544234,1.0525148521828125",
              "type": "Feature"
             },
             {
              "geometry": {
               "coordinates": [
                [
                 [
                  17.96199487272794,
                  53.5113495848048
                 ],
                 [
                  18.530010686363973,
                  53.705917582753145
                 ],
                 [
                  18.530010686363973,
                  54.09236893756014
                 ],
                 [
                  17.96199487272794,
                  54.28425616416384
                 ],
                 [
                  17.393979059091905,
                  54.09236893756014
                 ],
                 [
                  17.393979059091905,
                  53.705917582753145
                 ],
                 [
                  17.96199487272794,
                  53.5113495848048
                 ]
                ]
               ],
               "type": "Polygon"
              },
              "id": "0.31349595075544234,1.1211993002926803",
              "type": "Feature"
             },
             {
              "geometry": {
               "coordinates": [
                [
                 [
                  19.0980265,
                  49.8540108588769
                 ],
                 [
                  19.666042313636034,
                  50.06498632551648
                 ],
                 [
                  19.666042313636034,
                  50.48416681397755
                 ],
                 [
                  19.0980265,
                  50.69237434982357
                 ],
                 [
                  18.530010686363966,
                  50.48416681397755
                 ],
                 [
                  18.530010686363966,
                  50.06498632551648
                 ],
                 [
                  19.0980265,
                  49.8540108588769
                 ]
                ]
               ],
               "type": "Polygon"
              },
              "id": "0.33332344305812883,1.0181726281278787",
              "type": "Feature"
             },
             {
              "geometry": {
               "coordinates": [
                [
                 [
                  19.0980265,
                  51.10603061443655
                 ],
                 [
                  19.666042313636034,
                  51.31148211396355
                 ],
                 [
                  19.666042313636034,
                  51.71963908315648
                 ],
                 [
                  19.0980265,
                  51.92234756770137
                 ],
                 [
                  18.530010686363966,
                  51.71963908315648
                 ],
                 [
                  18.530010686363966,
                  51.31148211396355
                 ],
                 [
                  19.0980265,
                  51.10603061443655
                 ]
                ]
               ],
               "type": "Polygon"
              },
              "id": "0.33332344305812883,1.0525148521828125",
              "type": "Feature"
             },
             {
              "geometry": {
               "coordinates": [
                [
                 [
                  19.0980265,
                  52.32503236711657
                 ],
                 [
                  19.666042313636034,
                  52.52501192858379
                 ],
                 [
                  19.666042313636034,
                  52.922253769480314
                 ],
                 [
                  19.0980265,
                  53.11951951505613
                 ],
                 [
                  18.530010686363966,
                  52.922253769480314
                 ],
                 [
                  18.530010686363966,
                  52.52501192858379
                 ],
                 [
                  19.0980265,
                  52.32503236711657
                 ]
                ]
               ],
               "type": "Polygon"
              },
              "id": "0.33332344305812883,1.0868570762377463",
              "type": "Feature"
             },
             {
              "geometry": {
               "coordinates": [
                [
                 [
                  19.0980265,
                  53.5113495848048
                 ],
                 [
                  19.666042313636034,
                  53.705917582753145
                 ],
                 [
                  19.666042313636034,
                  54.09236893756014
                 ],
                 [
                  19.0980265,
                  54.28425616416384
                 ],
                 [
                  18.530010686363966,
                  54.09236893756014
                 ],
                 [
                  18.530010686363966,
                  53.705917582753145
                 ],
                 [
                  19.0980265,
                  53.5113495848048
                 ]
                ]
               ],
               "type": "Polygon"
              },
              "id": "0.33332344305812883,1.1211993002926803",
              "type": "Feature"
             },
             {
              "geometry": {
               "coordinates": [
                [
                 [
                  20.234058127272064,
                  49.8540108588769
                 ],
                 [
                  20.802073940908095,
                  50.06498632551648
                 ],
                 [
                  20.802073940908095,
                  50.48416681397755
                 ],
                 [
                  20.234058127272064,
                  50.69237434982357
                 ],
                 [
                  19.66604231363603,
                  50.48416681397755
                 ],
                 [
                  19.66604231363603,
                  50.06498632551648
                 ],
                 [
                  20.234058127272064,
                  49.8540108588769
                 ]
                ]
               ],
               "type": "Polygon"
              },
              "id": "0.3531509353608153,1.0181726281278787",
              "type": "Feature"
             },
             {
              "geometry": {
               "coordinates": [
                [
                 [
                  20.234058127272064,
                  52.32503236711657
                 ],
                 [
                  20.802073940908095,
                  52.52501192858379
                 ],
                 [
                  20.802073940908095,
                  52.922253769480314
                 ],
                 [
                  20.234058127272064,
                  53.11951951505613
                 ],
                 [
                  19.66604231363603,
                  52.922253769480314
                 ],
                 [
                  19.66604231363603,
                  52.52501192858379
                 ],
                 [
                  20.234058127272064,
                  52.32503236711657
                 ]
                ]
               ],
               "type": "Polygon"
              },
              "id": "0.3531509353608153,1.0868570762377463",
              "type": "Feature"
             },
             {
              "geometry": {
               "coordinates": [
                [
                 [
                  20.234058127272064,
                  53.5113495848048
                 ],
                 [
                  20.802073940908095,
                  53.705917582753145
                 ],
                 [
                  20.802073940908095,
                  54.09236893756014
                 ],
                 [
                  20.234058127272064,
                  54.28425616416384
                 ],
                 [
                  19.66604231363603,
                  54.09236893756014
                 ],
                 [
                  19.66604231363603,
                  53.705917582753145
                 ],
                 [
                  20.234058127272064,
                  53.5113495848048
                 ]
                ]
               ],
               "type": "Polygon"
              },
              "id": "0.3531509353608153,1.1211993002926803",
              "type": "Feature"
             },
             {
              "geometry": {
               "coordinates": [
                [
                 [
                  21.37008975454413,
                  49.8540108588769
                 ],
                 [
                  21.93810556818016,
                  50.06498632551648
                 ],
                 [
                  21.93810556818016,
                  50.48416681397755
                 ],
                 [
                  21.37008975454413,
                  50.69237434982357
                 ],
                 [
                  20.802073940908095,
                  50.48416681397755
                 ],
                 [
                  20.802073940908095,
                  50.06498632551648
                 ],
                 [
                  21.37008975454413,
                  49.8540108588769
                 ]
                ]
               ],
               "type": "Polygon"
              },
              "id": "0.37297842766350187,1.0181726281278787",
              "type": "Feature"
             },
             {
              "geometry": {
               "coordinates": [
                [
                 [
                  21.37008975454413,
                  51.10603061443655
                 ],
                 [
                  21.93810556818016,
                  51.31148211396355
                 ],
                 [
                  21.93810556818016,
                  51.71963908315648
                 ],
                 [
                  21.37008975454413,
                  51.92234756770137
                 ],
                 [
                  20.802073940908095,
                  51.71963908315648
                 ],
                 [
                  20.802073940908095,
                  51.31148211396355
                 ],
                 [
                  21.37008975454413,
                  51.10603061443655
                 ]
                ]
               ],
               "type": "Polygon"
              },
              "id": "0.37297842766350187,1.0525148521828125",
              "type": "Feature"
             },
             {
              "geometry": {
               "coordinates": [
                [
                 [
                  21.37008975454413,
                  52.32503236711657
                 ],
                 [
                  21.93810556818016,
                  52.52501192858379
                 ],
                 [
                  21.93810556818016,
                  52.922253769480314
                 ],
                 [
                  21.37008975454413,
                  53.11951951505613
                 ],
                 [
                  20.802073940908095,
                  52.922253769480314
                 ],
                 [
                  20.802073940908095,
                  52.52501192858379
                 ],
                 [
                  21.37008975454413,
                  52.32503236711657
                 ]
                ]
               ],
               "type": "Polygon"
              },
              "id": "0.37297842766350187,1.0868570762377463",
              "type": "Feature"
             },
             {
              "geometry": {
               "coordinates": [
                [
                 [
                  22.506121381816193,
                  49.8540108588769
                 ],
                 [
                  23.074137195452227,
                  50.06498632551648
                 ],
                 [
                  23.074137195452227,
                  50.48416681397755
                 ],
                 [
                  22.506121381816193,
                  50.69237434982357
                 ],
                 [
                  21.93810556818016,
                  50.48416681397755
                 ],
                 [
                  21.93810556818016,
                  50.06498632551648
                 ],
                 [
                  22.506121381816193,
                  49.8540108588769
                 ]
                ]
               ],
               "type": "Polygon"
              },
              "id": "0.3928059199661884,1.0181726281278787",
              "type": "Feature"
             },
             {
              "geometry": {
               "coordinates": [
                [
                 [
                  22.506121381816193,
                  51.10603061443655
                 ],
                 [
                  23.074137195452227,
                  51.31148211396355
                 ],
                 [
                  23.074137195452227,
                  51.71963908315648
                 ],
                 [
                  22.506121381816193,
                  51.92234756770137
                 ],
                 [
                  21.93810556818016,
                  51.71963908315648
                 ],
                 [
                  21.93810556818016,
                  51.31148211396355
                 ],
                 [
                  22.506121381816193,
                  51.10603061443655
                 ]
                ]
               ],
               "type": "Polygon"
              },
              "id": "0.3928059199661884,1.0525148521828125",
              "type": "Feature"
             },
             {
              "geometry": {
               "coordinates": [
                [
                 [
                  22.506121381816193,
                  53.5113495848048
                 ],
                 [
                  23.074137195452227,
                  53.705917582753145
                 ],
                 [
                  23.074137195452227,
                  54.09236893756014
                 ],
                 [
                  22.506121381816193,
                  54.28425616416384
                 ],
                 [
                  21.93810556818016,
                  54.09236893756014
                 ],
                 [
                  21.93810556818016,
                  53.705917582753145
                 ],
                 [
                  22.506121381816193,
                  53.5113495848048
                 ]
                ]
               ],
               "type": "Polygon"
              },
              "id": "0.3928059199661884,1.1211993002926803",
              "type": "Feature"
             },
             {
              "geometry": {
               "coordinates": [
                [
                 [
                  15.121915804547777,
                  50.48416681397755
                 ],
                 [
                  15.689931618183811,
                  50.69237434982357
                 ],
                 [
                  15.689931618183811,
                  51.10603061443655
                 ],
                 [
                  15.121915804547777,
                  51.31148211396355
                 ],
                 [
                  14.553899990911745,
                  51.10603061443655
                 ],
                 [
                  14.553899990911745,
                  50.69237434982357
                 ],
                 [
                  15.121915804547777,
                  50.48416681397755
                 ]
                ]
               ],
               "type": "Polygon"
              },
              "id": "0.26392721999872604,1.0353437401553456",
              "type": "Feature"
             },
             {
              "geometry": {
               "coordinates": [
                [
                 [
                  15.121915804547777,
                  52.922253769480314
                 ],
                 [
                  15.689931618183811,
                  53.11951951505616
                 ],
                 [
                  15.689931618183811,
                  53.5113495848048
                 ],
                 [
                  15.121915804547777,
                  53.705917582753145
                 ],
                 [
                  14.553899990911745,
                  53.5113495848048
                 ],
                 [
                  14.553899990911745,
                  53.11951951505616
                 ],
                 [
                  15.121915804547777,
                  52.922253769480314
                 ]
                ]
               ],
               "type": "Polygon"
              },
              "id": "0.26392721999872604,1.1040281882652134",
              "type": "Feature"
             },
             {
              "geometry": {
               "coordinates": [
                [
                 [
                  16.25794743181984,
                  50.48416681397755
                 ],
                 [
                  16.825963245455874,
                  50.69237434982357
                 ],
                 [
                  16.825963245455874,
                  51.10603061443655
                 ],
                 [
                  16.25794743181984,
                  51.31148211396355
                 ],
                 [
                  15.689931618183808,
                  51.10603061443655
                 ],
                 [
                  15.689931618183808,
                  50.69237434982357
                 ],
                 [
                  16.25794743181984,
                  50.48416681397755
                 ]
                ]
               ],
               "type": "Polygon"
              },
              "id": "0.2837547123014125,1.0353437401553456",
              "type": "Feature"
             },
             {
              "geometry": {
               "coordinates": [
                [
                 [
                  16.25794743181984,
                  51.71963908315648
                 ],
                 [
                  16.825963245455874,
                  51.92234756770137
                 ],
                 [
                  16.825963245455874,
                  52.32503236711657
                 ],
                 [
                  16.25794743181984,
                  52.52501192858379
                 ],
                 [
                  15.689931618183808,
                  52.32503236711657
                 ],
                 [
                  15.689931618183808,
                  51.92234756770137
                 ],
                 [
                  16.25794743181984,
                  51.71963908315648
                 ]
                ]
               ],
               "type": "Polygon"
              },
              "id": "0.2837547123014125,1.0696859642102794",
              "type": "Feature"
             },
             {
              "geometry": {
               "coordinates": [
                [
                 [
                  17.393979059091905,
                  50.48416681397755
                 ],
                 [
                  17.96199487272794,
                  50.69237434982357
                 ],
                 [
                  17.96199487272794,
                  51.10603061443655
                 ],
                 [
                  17.393979059091905,
                  51.31148211396355
                 ],
                 [
                  16.825963245455874,
                  51.10603061443655
                 ],
                 [
                  16.825963245455874,
                  50.69237434982357
                 ],
                 [
                  17.393979059091905,
                  50.48416681397755
                 ]
                ]
               ],
               "type": "Polygon"
              },
              "id": "0.30358220460409907,1.0353437401553456",
              "type": "Feature"
             },
             {
              "geometry": {
               "coordinates": [
                [
                 [
                  17.393979059091905,
                  52.922253769480314
                 ],
                 [
                  17.96199487272794,
                  53.11951951505616
                 ],
                 [
                  17.96199487272794,
                  53.5113495848048
                 ],
                 [
                  17.393979059091905,
                  53.705917582753145
                 ],
                 [
                  16.825963245455874,
                  53.5113495848048
                 ],
                 [
                  16.825963245455874,
                  53.11951951505616
                 ],
                 [
                  17.393979059091905,
                  52.922253769480314
                 ]
                ]
               ],
               "type": "Polygon"
              },
              "id": "0.30358220460409907,1.1040281882652134",
              "type": "Feature"
             },
             {
              "geometry": {
               "coordinates": [
                [
                 [
                  17.393979059091905,
                  54.09236893756014
                 ],
                 [
                  17.96199487272794,
                  54.28425616416384
                 ],
                 [
                  17.96199487272794,
                  54.66536362414315
                 ],
                 [
                  17.393979059091905,
                  54.854587911846494
                 ],
                 [
                  16.825963245455874,
                  54.66536362414315
                 ],
                 [
                  16.825963245455874,
                  54.28425616416384
                 ],
                 [
                  17.393979059091905,
                  54.09236893756014
                 ]
                ]
               ],
               "type": "Polygon"
              },
              "id": "0.30358220460409907,1.1383704123201472",
              "type": "Feature"
             },
             {
              "geometry": {
               "coordinates": [
                [
                 [
                  18.530010686363966,
                  49.215529421067494
                 ],
                 [
                  19.0980265,
                  49.42928352889036
                 ],
                 [
                  19.0980265,
                  49.8540108588769
                 ],
                 [
                  18.530010686363966,
                  50.06498632551648
                 ],
                 [
                  17.961994872727935,
                  49.8540108588769
                 ],
                 [
                  17.961994872727935,
                  49.42928352889036
                 ],
                 [
                  18.530010686363966,
                  49.215529421067494
                 ]
                ]
               ],
               "type": "Polygon"
              },
              "id": "0.32340969690678556,1.0010015161004118",
              "type": "Feature"
             },
             {
              "geometry": {
               "coordinates": [
                [
                 [
                  18.530010686363966,
                  52.922253769480314
                 ],
                 [
                  19.0980265,
                  53.11951951505616
                 ],
                 [
                  19.0980265,
                  53.5113495848048
                 ],
                 [
                  18.530010686363966,
                  53.705917582753145
                 ],
                 [
                  17.961994872727935,
                  53.5113495848048
                 ],
                 [
                  17.961994872727935,
                  53.11951951505616
                 ],
                 [
                  18.530010686363966,
                  52.922253769480314
                 ]
                ]
               ],
               "type": "Polygon"
              },
              "id": "0.32340969690678556,1.1040281882652134",
              "type": "Feature"
             },
             {
              "geometry": {
               "coordinates": [
                [
                 [
                  18.530010686363966,
                  54.09236893756014
                 ],
                 [
                  19.0980265,
                  54.28425616416384
                 ],
                 [
                  19.0980265,
                  54.66536362414315
                 ],
                 [
                  18.530010686363966,
                  54.854587911846494
                 ],
                 [
                  17.961994872727935,
                  54.66536362414315
                 ],
                 [
                  17.961994872727935,
                  54.28425616416384
                 ],
                 [
                  18.530010686363966,
                  54.09236893756014
                 ]
                ]
               ],
               "type": "Polygon"
              },
              "id": "0.32340969690678556,1.1383704123201472",
              "type": "Feature"
             },
             {
              "geometry": {
               "coordinates": [
                [
                 [
                  19.666042313636034,
                  50.48416681397755
                 ],
                 [
                  20.234058127272064,
                  50.69237434982357
                 ],
                 [
                  20.234058127272064,
                  51.10603061443655
                 ],
                 [
                  19.666042313636034,
                  51.31148211396355
                 ],
                 [
                  19.0980265,
                  51.10603061443655
                 ],
                 [
                  19.0980265,
                  50.69237434982357
                 ],
                 [
                  19.666042313636034,
                  50.48416681397755
                 ]
                ]
               ],
               "type": "Polygon"
              },
              "id": "0.3432371892094721,1.0353437401553456",
              "type": "Feature"
             },
             {
              "geometry": {
               "coordinates": [
                [
                 [
                  19.666042313636034,
                  51.71963908315648
                 ],
                 [
                  20.234058127272064,
                  51.92234756770137
                 ],
                 [
                  20.234058127272064,
                  52.32503236711657
                 ],
                 [
                  19.666042313636034,
                  52.52501192858379
                 ],
                 [
                  19.0980265,
                  52.32503236711657
                 ],
                 [
                  19.0980265,
                  51.92234756770137
                 ],
                 [
                  19.666042313636034,
                  51.71963908315648
                 ]
                ]
               ],
               "type": "Polygon"
              },
              "id": "0.3432371892094721,1.0696859642102794",
              "type": "Feature"
             },
             {
              "geometry": {
               "coordinates": [
                [
                 [
                  20.802073940908095,
                  50.48416681397755
                 ],
                 [
                  21.37008975454413,
                  50.69237434982357
                 ],
                 [
                  21.37008975454413,
                  51.10603061443655
                 ],
                 [
                  20.802073940908095,
                  51.31148211396355
                 ],
                 [
                  20.234058127272064,
                  51.10603061443655
                 ],
                 [
                  20.234058127272064,
                  50.69237434982357
                 ],
                 [
                  20.802073940908095,
                  50.48416681397755
                 ]
                ]
               ],
               "type": "Polygon"
              },
              "id": "0.3630646815121586,1.0353437401553456",
              "type": "Feature"
             },
             {
              "geometry": {
               "coordinates": [
                [
                 [
                  20.802073940908095,
                  51.71963908315648
                 ],
                 [
                  21.37008975454413,
                  51.92234756770137
                 ],
                 [
                  21.37008975454413,
                  52.32503236711657
                 ],
                 [
                  20.802073940908095,
                  52.52501192858379
                 ],
                 [
                  20.234058127272064,
                  52.32503236711657
                 ],
                 [
                  20.234058127272064,
                  51.92234756770137
                 ],
                 [
                  20.802073940908095,
                  51.71963908315648
                 ]
                ]
               ],
               "type": "Polygon"
              },
              "id": "0.3630646815121586,1.0696859642102794",
              "type": "Feature"
             },
             {
              "geometry": {
               "coordinates": [
                [
                 [
                  20.802073940908095,
                  52.922253769480314
                 ],
                 [
                  21.37008975454413,
                  53.11951951505616
                 ],
                 [
                  21.37008975454413,
                  53.5113495848048
                 ],
                 [
                  20.802073940908095,
                  53.705917582753145
                 ],
                 [
                  20.234058127272064,
                  53.5113495848048
                 ],
                 [
                  20.234058127272064,
                  53.11951951505616
                 ],
                 [
                  20.802073940908095,
                  52.922253769480314
                 ]
                ]
               ],
               "type": "Polygon"
              },
              "id": "0.3630646815121586,1.1040281882652134",
              "type": "Feature"
             },
             {
              "geometry": {
               "coordinates": [
                [
                 [
                  21.93810556818016,
                  49.215529421067494
                 ],
                 [
                  22.506121381816193,
                  49.42928352889036
                 ],
                 [
                  22.506121381816193,
                  49.8540108588769
                 ],
                 [
                  21.93810556818016,
                  50.06498632551648
                 ],
                 [
                  21.37008975454413,
                  49.8540108588769
                 ],
                 [
                  21.37008975454413,
                  49.42928352889036
                 ],
                 [
                  21.93810556818016,
                  49.215529421067494
                 ]
                ]
               ],
               "type": "Polygon"
              },
              "id": "0.38289217381484514,1.0010015161004118",
              "type": "Feature"
             },
             {
              "geometry": {
               "coordinates": [
                [
                 [
                  21.93810556818016,
                  50.48416681397755
                 ],
                 [
                  22.506121381816193,
                  50.69237434982357
                 ],
                 [
                  22.506121381816193,
                  51.10603061443655
                 ],
                 [
                  21.93810556818016,
                  51.31148211396355
                 ],
                 [
                  21.37008975454413,
                  51.10603061443655
                 ],
                 [
                  21.37008975454413,
                  50.69237434982357
                 ],
                 [
                  21.93810556818016,
                  50.48416681397755
                 ]
                ]
               ],
               "type": "Polygon"
              },
              "id": "0.38289217381484514,1.0353437401553456",
              "type": "Feature"
             },
             {
              "geometry": {
               "coordinates": [
                [
                 [
                  21.93810556818016,
                  51.71963908315648
                 ],
                 [
                  22.506121381816193,
                  51.92234756770137
                 ],
                 [
                  22.506121381816193,
                  52.32503236711657
                 ],
                 [
                  21.93810556818016,
                  52.52501192858379
                 ],
                 [
                  21.37008975454413,
                  52.32503236711657
                 ],
                 [
                  21.37008975454413,
                  51.92234756770137
                 ],
                 [
                  21.93810556818016,
                  51.71963908315648
                 ]
                ]
               ],
               "type": "Polygon"
              },
              "id": "0.38289217381484514,1.0696859642102794",
              "type": "Feature"
             },
             {
              "geometry": {
               "coordinates": [
                [
                 [
                  23.074137195452224,
                  49.215529421067494
                 ],
                 [
                  23.642153009088258,
                  49.42928352889036
                 ],
                 [
                  23.642153009088258,
                  49.8540108588769
                 ],
                 [
                  23.074137195452224,
                  50.06498632551648
                 ],
                 [
                  22.50612138181619,
                  49.8540108588769
                 ],
                 [
                  22.50612138181619,
                  49.42928352889036
                 ],
                 [
                  23.074137195452224,
                  49.215529421067494
                 ]
                ]
               ],
               "type": "Polygon"
              },
              "id": "0.4027196661175316,1.0010015161004118",
              "type": "Feature"
             },
             {
              "geometry": {
               "coordinates": [
                [
                 [
                  23.074137195452224,
                  50.48416681397755
                 ],
                 [
                  23.642153009088258,
                  50.69237434982357
                 ],
                 [
                  23.642153009088258,
                  51.10603061443655
                 ],
                 [
                  23.074137195452224,
                  51.31148211396355
                 ],
                 [
                  22.50612138181619,
                  51.10603061443655
                 ],
                 [
                  22.50612138181619,
                  50.69237434982357
                 ],
                 [
                  23.074137195452224,
                  50.48416681397755
                 ]
                ]
               ],
               "type": "Polygon"
              },
              "id": "0.4027196661175316,1.0353437401553456",
              "type": "Feature"
             },
             {
              "geometry": {
               "coordinates": [
                [
                 [
                  23.074137195452224,
                  52.922253769480314
                 ],
                 [
                  23.642153009088258,
                  53.11951951505616
                 ],
                 [
                  23.642153009088258,
                  53.5113495848048
                 ],
                 [
                  23.074137195452224,
                  53.705917582753145
                 ],
                 [
                  22.50612138181619,
                  53.5113495848048
                 ],
                 [
                  22.50612138181619,
                  53.11951951505616
                 ],
                 [
                  23.074137195452224,
                  52.922253769480314
                 ]
                ]
               ],
               "type": "Polygon"
              },
              "id": "0.4027196661175316,1.1040281882652134",
              "type": "Feature"
             }
            ],
            "type": "FeatureCollection"
           },
           "hovertemplate": "Avg value=%{z}<extra></extra>",
           "locations": [
            "0.25401347384738276,1.1211993002926803",
            "0.27384096615006925,1.0525148521828125",
            "0.27384096615006925,1.0868570762377463",
            "0.2936684584527558,1.0181726281278787",
            "0.2936684584527558,1.0868570762377463",
            "0.31349595075544234,1.0181726281278787",
            "0.31349595075544234,1.0525148521828125",
            "0.31349595075544234,1.1211993002926803",
            "0.33332344305812883,1.0181726281278787",
            "0.33332344305812883,1.0525148521828125",
            "0.33332344305812883,1.0868570762377463",
            "0.33332344305812883,1.1211993002926803",
            "0.3531509353608153,1.0181726281278787",
            "0.3531509353608153,1.0868570762377463",
            "0.3531509353608153,1.1211993002926803",
            "0.37297842766350187,1.0181726281278787",
            "0.37297842766350187,1.0525148521828125",
            "0.37297842766350187,1.0868570762377463",
            "0.3928059199661884,1.0181726281278787",
            "0.3928059199661884,1.0525148521828125",
            "0.3928059199661884,1.1211993002926803",
            "0.26392721999872604,1.0353437401553456",
            "0.26392721999872604,1.1040281882652134",
            "0.2837547123014125,1.0353437401553456",
            "0.2837547123014125,1.0696859642102794",
            "0.30358220460409907,1.0353437401553456",
            "0.30358220460409907,1.1040281882652134",
            "0.30358220460409907,1.1383704123201472",
            "0.32340969690678556,1.0010015161004118",
            "0.32340969690678556,1.1040281882652134",
            "0.32340969690678556,1.1383704123201472",
            "0.3432371892094721,1.0353437401553456",
            "0.3432371892094721,1.0696859642102794",
            "0.3630646815121586,1.0353437401553456",
            "0.3630646815121586,1.0696859642102794",
            "0.3630646815121586,1.1040281882652134",
            "0.38289217381484514,1.0010015161004118",
            "0.38289217381484514,1.0353437401553456",
            "0.38289217381484514,1.0696859642102794",
            "0.4027196661175316,1.0010015161004118",
            "0.4027196661175316,1.0353437401553456",
            "0.4027196661175316,1.1040281882652134"
           ],
           "marker": {
            "opacity": 0.5
           },
           "name": "",
           "subplot": "mapbox",
           "type": "choroplethmapbox",
           "z": [
            14.842069196428573,
            8.622575567010308,
            23.569223451327435,
            21.722983062556516,
            21.44648900004388,
            15.142101471087358,
            28.50746028037383,
            27.057155172413793,
            24.138614957403533,
            17.930024423935457,
            26.203409090909098,
            13.390774635193132,
            38.29630966031746,
            21.812727272727273,
            26.921762733766236,
            10.236495131080893,
            17.146543778801842,
            24.560909090909096,
            18.232355763895523,
            32.11144278606967,
            30.226630879042705,
            24.053837605042016,
            13.30096333202036,
            14.719499133926671,
            20.756621973094177,
            20.084786154973546,
            31.08796296296296,
            25.53979956331877,
            22.31215031177433,
            23.3972570620286,
            23.909424883043368,
            18.281506422018346,
            20.483193277310924,
            29.086943023916525,
            25.096459041730494,
            39.720442794759826,
            11.137557795340623,
            41.690410958904124,
            29.03503649635036,
            9.20023149122807,
            18.946058091286307,
            29.044665359799392
           ]
          }
         ],
         "name": "2022-10-28"
        }
       ],
       "layout": {
        "autosize": true,
        "coloraxis": {
         "cmax": 53.36185567010309,
         "cmin": 4.5,
         "colorbar": {
          "title": {
           "text": "Avg value"
          }
         },
         "colorscale": [
          [
           0,
           "#0d0887"
          ],
          [
           0.1111111111111111,
           "#46039f"
          ],
          [
           0.2222222222222222,
           "#7201a8"
          ],
          [
           0.3333333333333333,
           "#9c179e"
          ],
          [
           0.4444444444444444,
           "#bd3786"
          ],
          [
           0.5555555555555556,
           "#d8576b"
          ],
          [
           0.6666666666666666,
           "#ed7953"
          ],
          [
           0.7777777777777778,
           "#fb9f3a"
          ],
          [
           0.8888888888888888,
           "#fdca26"
          ],
          [
           1,
           "#f0f921"
          ]
         ]
        },
        "legend": {
         "tracegroupgap": 0
        },
        "mapbox": {
         "accesstoken": "pk.eyJ1Ijoib3Jlb3JlIiwiYSI6ImNrdndwNm13aTBhZzYyb2xjcng4dGdnNWEifQ.LADFJcYpNwTupseSVwA72g",
         "bearing": 0,
         "center": {
          "lat": 52.00496297599872,
          "lon": 12.641585588758062
         },
         "domain": {
          "x": [
           0,
           1
          ],
          "y": [
           0,
           1
          ]
         },
         "pitch": 0,
         "zoom": 4.6263987373057756
        },
        "margin": {
         "t": 60
        },
        "sliders": [
         {
          "active": 4,
          "currentvalue": {
           "prefix": "frame="
          },
          "len": 0.9,
          "pad": {
           "b": 10,
           "t": 60
          },
          "steps": [
           {
            "args": [
             [
              "2022-10-24"
             ],
             {
              "frame": {
               "duration": 0,
               "redraw": true
              },
              "fromcurrent": true,
              "mode": "immediate",
              "transition": {
               "duration": 0,
               "easing": "linear"
              }
             }
            ],
            "label": "2022-10-24",
            "method": "animate"
           },
           {
            "args": [
             [
              "2022-10-25"
             ],
             {
              "frame": {
               "duration": 0,
               "redraw": true
              },
              "fromcurrent": true,
              "mode": "immediate",
              "transition": {
               "duration": 0,
               "easing": "linear"
              }
             }
            ],
            "label": "2022-10-25",
            "method": "animate"
           },
           {
            "args": [
             [
              "2022-10-26"
             ],
             {
              "frame": {
               "duration": 0,
               "redraw": true
              },
              "fromcurrent": true,
              "mode": "immediate",
              "transition": {
               "duration": 0,
               "easing": "linear"
              }
             }
            ],
            "label": "2022-10-26",
            "method": "animate"
           },
           {
            "args": [
             [
              "2022-10-27"
             ],
             {
              "frame": {
               "duration": 0,
               "redraw": true
              },
              "fromcurrent": true,
              "mode": "immediate",
              "transition": {
               "duration": 0,
               "easing": "linear"
              }
             }
            ],
            "label": "2022-10-27",
            "method": "animate"
           },
           {
            "args": [
             [
              "2022-10-28"
             ],
             {
              "frame": {
               "duration": 0,
               "redraw": true
              },
              "fromcurrent": true,
              "mode": "immediate",
              "transition": {
               "duration": 0,
               "easing": "linear"
              }
             }
            ],
            "label": "2022-10-28",
            "method": "animate"
           }
          ],
          "x": 0.1,
          "xanchor": "left",
          "y": 0,
          "yanchor": "top"
         }
        ],
        "template": {
         "data": {
          "bar": [
           {
            "error_x": {
             "color": "#2a3f5f"
            },
            "error_y": {
             "color": "#2a3f5f"
            },
            "marker": {
             "line": {
              "color": "#E5ECF6",
              "width": 0.5
             },
             "pattern": {
              "fillmode": "overlay",
              "size": 10,
              "solidity": 0.2
             }
            },
            "type": "bar"
           }
          ],
          "barpolar": [
           {
            "marker": {
             "line": {
              "color": "#E5ECF6",
              "width": 0.5
             },
             "pattern": {
              "fillmode": "overlay",
              "size": 10,
              "solidity": 0.2
             }
            },
            "type": "barpolar"
           }
          ],
          "carpet": [
           {
            "aaxis": {
             "endlinecolor": "#2a3f5f",
             "gridcolor": "white",
             "linecolor": "white",
             "minorgridcolor": "white",
             "startlinecolor": "#2a3f5f"
            },
            "baxis": {
             "endlinecolor": "#2a3f5f",
             "gridcolor": "white",
             "linecolor": "white",
             "minorgridcolor": "white",
             "startlinecolor": "#2a3f5f"
            },
            "type": "carpet"
           }
          ],
          "choropleth": [
           {
            "colorbar": {
             "outlinewidth": 0,
             "ticks": ""
            },
            "type": "choropleth"
           }
          ],
          "contour": [
           {
            "colorbar": {
             "outlinewidth": 0,
             "ticks": ""
            },
            "colorscale": [
             [
              0,
              "#0d0887"
             ],
             [
              0.1111111111111111,
              "#46039f"
             ],
             [
              0.2222222222222222,
              "#7201a8"
             ],
             [
              0.3333333333333333,
              "#9c179e"
             ],
             [
              0.4444444444444444,
              "#bd3786"
             ],
             [
              0.5555555555555556,
              "#d8576b"
             ],
             [
              0.6666666666666666,
              "#ed7953"
             ],
             [
              0.7777777777777778,
              "#fb9f3a"
             ],
             [
              0.8888888888888888,
              "#fdca26"
             ],
             [
              1,
              "#f0f921"
             ]
            ],
            "type": "contour"
           }
          ],
          "contourcarpet": [
           {
            "colorbar": {
             "outlinewidth": 0,
             "ticks": ""
            },
            "type": "contourcarpet"
           }
          ],
          "heatmap": [
           {
            "colorbar": {
             "outlinewidth": 0,
             "ticks": ""
            },
            "colorscale": [
             [
              0,
              "#0d0887"
             ],
             [
              0.1111111111111111,
              "#46039f"
             ],
             [
              0.2222222222222222,
              "#7201a8"
             ],
             [
              0.3333333333333333,
              "#9c179e"
             ],
             [
              0.4444444444444444,
              "#bd3786"
             ],
             [
              0.5555555555555556,
              "#d8576b"
             ],
             [
              0.6666666666666666,
              "#ed7953"
             ],
             [
              0.7777777777777778,
              "#fb9f3a"
             ],
             [
              0.8888888888888888,
              "#fdca26"
             ],
             [
              1,
              "#f0f921"
             ]
            ],
            "type": "heatmap"
           }
          ],
          "heatmapgl": [
           {
            "colorbar": {
             "outlinewidth": 0,
             "ticks": ""
            },
            "colorscale": [
             [
              0,
              "#0d0887"
             ],
             [
              0.1111111111111111,
              "#46039f"
             ],
             [
              0.2222222222222222,
              "#7201a8"
             ],
             [
              0.3333333333333333,
              "#9c179e"
             ],
             [
              0.4444444444444444,
              "#bd3786"
             ],
             [
              0.5555555555555556,
              "#d8576b"
             ],
             [
              0.6666666666666666,
              "#ed7953"
             ],
             [
              0.7777777777777778,
              "#fb9f3a"
             ],
             [
              0.8888888888888888,
              "#fdca26"
             ],
             [
              1,
              "#f0f921"
             ]
            ],
            "type": "heatmapgl"
           }
          ],
          "histogram": [
           {
            "marker": {
             "pattern": {
              "fillmode": "overlay",
              "size": 10,
              "solidity": 0.2
             }
            },
            "type": "histogram"
           }
          ],
          "histogram2d": [
           {
            "colorbar": {
             "outlinewidth": 0,
             "ticks": ""
            },
            "colorscale": [
             [
              0,
              "#0d0887"
             ],
             [
              0.1111111111111111,
              "#46039f"
             ],
             [
              0.2222222222222222,
              "#7201a8"
             ],
             [
              0.3333333333333333,
              "#9c179e"
             ],
             [
              0.4444444444444444,
              "#bd3786"
             ],
             [
              0.5555555555555556,
              "#d8576b"
             ],
             [
              0.6666666666666666,
              "#ed7953"
             ],
             [
              0.7777777777777778,
              "#fb9f3a"
             ],
             [
              0.8888888888888888,
              "#fdca26"
             ],
             [
              1,
              "#f0f921"
             ]
            ],
            "type": "histogram2d"
           }
          ],
          "histogram2dcontour": [
           {
            "colorbar": {
             "outlinewidth": 0,
             "ticks": ""
            },
            "colorscale": [
             [
              0,
              "#0d0887"
             ],
             [
              0.1111111111111111,
              "#46039f"
             ],
             [
              0.2222222222222222,
              "#7201a8"
             ],
             [
              0.3333333333333333,
              "#9c179e"
             ],
             [
              0.4444444444444444,
              "#bd3786"
             ],
             [
              0.5555555555555556,
              "#d8576b"
             ],
             [
              0.6666666666666666,
              "#ed7953"
             ],
             [
              0.7777777777777778,
              "#fb9f3a"
             ],
             [
              0.8888888888888888,
              "#fdca26"
             ],
             [
              1,
              "#f0f921"
             ]
            ],
            "type": "histogram2dcontour"
           }
          ],
          "mesh3d": [
           {
            "colorbar": {
             "outlinewidth": 0,
             "ticks": ""
            },
            "type": "mesh3d"
           }
          ],
          "parcoords": [
           {
            "line": {
             "colorbar": {
              "outlinewidth": 0,
              "ticks": ""
             }
            },
            "type": "parcoords"
           }
          ],
          "pie": [
           {
            "automargin": true,
            "type": "pie"
           }
          ],
          "scatter": [
           {
            "fillpattern": {
             "fillmode": "overlay",
             "size": 10,
             "solidity": 0.2
            },
            "type": "scatter"
           }
          ],
          "scatter3d": [
           {
            "line": {
             "colorbar": {
              "outlinewidth": 0,
              "ticks": ""
             }
            },
            "marker": {
             "colorbar": {
              "outlinewidth": 0,
              "ticks": ""
             }
            },
            "type": "scatter3d"
           }
          ],
          "scattercarpet": [
           {
            "marker": {
             "colorbar": {
              "outlinewidth": 0,
              "ticks": ""
             }
            },
            "type": "scattercarpet"
           }
          ],
          "scattergeo": [
           {
            "marker": {
             "colorbar": {
              "outlinewidth": 0,
              "ticks": ""
             }
            },
            "type": "scattergeo"
           }
          ],
          "scattergl": [
           {
            "marker": {
             "colorbar": {
              "outlinewidth": 0,
              "ticks": ""
             }
            },
            "type": "scattergl"
           }
          ],
          "scattermapbox": [
           {
            "marker": {
             "colorbar": {
              "outlinewidth": 0,
              "ticks": ""
             }
            },
            "type": "scattermapbox"
           }
          ],
          "scatterpolar": [
           {
            "marker": {
             "colorbar": {
              "outlinewidth": 0,
              "ticks": ""
             }
            },
            "type": "scatterpolar"
           }
          ],
          "scatterpolargl": [
           {
            "marker": {
             "colorbar": {
              "outlinewidth": 0,
              "ticks": ""
             }
            },
            "type": "scatterpolargl"
           }
          ],
          "scatterternary": [
           {
            "marker": {
             "colorbar": {
              "outlinewidth": 0,
              "ticks": ""
             }
            },
            "type": "scatterternary"
           }
          ],
          "surface": [
           {
            "colorbar": {
             "outlinewidth": 0,
             "ticks": ""
            },
            "colorscale": [
             [
              0,
              "#0d0887"
             ],
             [
              0.1111111111111111,
              "#46039f"
             ],
             [
              0.2222222222222222,
              "#7201a8"
             ],
             [
              0.3333333333333333,
              "#9c179e"
             ],
             [
              0.4444444444444444,
              "#bd3786"
             ],
             [
              0.5555555555555556,
              "#d8576b"
             ],
             [
              0.6666666666666666,
              "#ed7953"
             ],
             [
              0.7777777777777778,
              "#fb9f3a"
             ],
             [
              0.8888888888888888,
              "#fdca26"
             ],
             [
              1,
              "#f0f921"
             ]
            ],
            "type": "surface"
           }
          ],
          "table": [
           {
            "cells": {
             "fill": {
              "color": "#EBF0F8"
             },
             "line": {
              "color": "white"
             }
            },
            "header": {
             "fill": {
              "color": "#C8D4E3"
             },
             "line": {
              "color": "white"
             }
            },
            "type": "table"
           }
          ]
         },
         "layout": {
          "annotationdefaults": {
           "arrowcolor": "#2a3f5f",
           "arrowhead": 0,
           "arrowwidth": 1
          },
          "autotypenumbers": "strict",
          "coloraxis": {
           "colorbar": {
            "outlinewidth": 0,
            "ticks": ""
           }
          },
          "colorscale": {
           "diverging": [
            [
             0,
             "#8e0152"
            ],
            [
             0.1,
             "#c51b7d"
            ],
            [
             0.2,
             "#de77ae"
            ],
            [
             0.3,
             "#f1b6da"
            ],
            [
             0.4,
             "#fde0ef"
            ],
            [
             0.5,
             "#f7f7f7"
            ],
            [
             0.6,
             "#e6f5d0"
            ],
            [
             0.7,
             "#b8e186"
            ],
            [
             0.8,
             "#7fbc41"
            ],
            [
             0.9,
             "#4d9221"
            ],
            [
             1,
             "#276419"
            ]
           ],
           "sequential": [
            [
             0,
             "#0d0887"
            ],
            [
             0.1111111111111111,
             "#46039f"
            ],
            [
             0.2222222222222222,
             "#7201a8"
            ],
            [
             0.3333333333333333,
             "#9c179e"
            ],
            [
             0.4444444444444444,
             "#bd3786"
            ],
            [
             0.5555555555555556,
             "#d8576b"
            ],
            [
             0.6666666666666666,
             "#ed7953"
            ],
            [
             0.7777777777777778,
             "#fb9f3a"
            ],
            [
             0.8888888888888888,
             "#fdca26"
            ],
            [
             1,
             "#f0f921"
            ]
           ],
           "sequentialminus": [
            [
             0,
             "#0d0887"
            ],
            [
             0.1111111111111111,
             "#46039f"
            ],
            [
             0.2222222222222222,
             "#7201a8"
            ],
            [
             0.3333333333333333,
             "#9c179e"
            ],
            [
             0.4444444444444444,
             "#bd3786"
            ],
            [
             0.5555555555555556,
             "#d8576b"
            ],
            [
             0.6666666666666666,
             "#ed7953"
            ],
            [
             0.7777777777777778,
             "#fb9f3a"
            ],
            [
             0.8888888888888888,
             "#fdca26"
            ],
            [
             1,
             "#f0f921"
            ]
           ]
          },
          "colorway": [
           "#636efa",
           "#EF553B",
           "#00cc96",
           "#ab63fa",
           "#FFA15A",
           "#19d3f3",
           "#FF6692",
           "#B6E880",
           "#FF97FF",
           "#FECB52"
          ],
          "font": {
           "color": "#2a3f5f"
          },
          "geo": {
           "bgcolor": "white",
           "lakecolor": "white",
           "landcolor": "#E5ECF6",
           "showlakes": true,
           "showland": true,
           "subunitcolor": "white"
          },
          "hoverlabel": {
           "align": "left"
          },
          "hovermode": "closest",
          "mapbox": {
           "style": "light"
          },
          "paper_bgcolor": "white",
          "plot_bgcolor": "#E5ECF6",
          "polar": {
           "angularaxis": {
            "gridcolor": "white",
            "linecolor": "white",
            "ticks": ""
           },
           "bgcolor": "#E5ECF6",
           "radialaxis": {
            "gridcolor": "white",
            "linecolor": "white",
            "ticks": ""
           }
          },
          "scene": {
           "xaxis": {
            "backgroundcolor": "#E5ECF6",
            "gridcolor": "white",
            "gridwidth": 2,
            "linecolor": "white",
            "showbackground": true,
            "ticks": "",
            "zerolinecolor": "white"
           },
           "yaxis": {
            "backgroundcolor": "#E5ECF6",
            "gridcolor": "white",
            "gridwidth": 2,
            "linecolor": "white",
            "showbackground": true,
            "ticks": "",
            "zerolinecolor": "white"
           },
           "zaxis": {
            "backgroundcolor": "#E5ECF6",
            "gridcolor": "white",
            "gridwidth": 2,
            "linecolor": "white",
            "showbackground": true,
            "ticks": "",
            "zerolinecolor": "white"
           }
          },
          "shapedefaults": {
           "line": {
            "color": "#2a3f5f"
           }
          },
          "ternary": {
           "aaxis": {
            "gridcolor": "white",
            "linecolor": "white",
            "ticks": ""
           },
           "baxis": {
            "gridcolor": "white",
            "linecolor": "white",
            "ticks": ""
           },
           "bgcolor": "#E5ECF6",
           "caxis": {
            "gridcolor": "white",
            "linecolor": "white",
            "ticks": ""
           }
          },
          "title": {
           "x": 0.05
          },
          "xaxis": {
           "automargin": true,
           "gridcolor": "white",
           "linecolor": "white",
           "ticks": "",
           "title": {
            "standoff": 15
           },
           "zerolinecolor": "white",
           "zerolinewidth": 2
          },
          "yaxis": {
           "automargin": true,
           "gridcolor": "white",
           "linecolor": "white",
           "ticks": "",
           "title": {
            "standoff": 15
           },
           "zerolinecolor": "white",
           "zerolinewidth": 2
          }
         }
        },
        "updatemenus": [
         {
          "active": 0,
          "buttons": [
           {
            "args": [
             null,
             {
              "frame": {
               "duration": 500,
               "redraw": true
              },
              "fromcurrent": true,
              "mode": "immediate",
              "transition": {
               "duration": 500,
               "easing": "linear"
              }
             }
            ],
            "label": "&#9654;",
            "method": "animate"
           },
           {
            "args": [
             [
              null
             ],
             {
              "frame": {
               "duration": 0,
               "redraw": true
              },
              "fromcurrent": true,
              "mode": "immediate",
              "transition": {
               "duration": 0,
               "easing": "linear"
              }
             }
            ],
            "label": "&#9724;",
            "method": "animate"
           }
          ],
          "direction": "left",
          "pad": {
           "r": 10,
           "t": 70
          },
          "showactive": false,
          "type": "buttons",
          "x": 0.1,
          "xanchor": "right",
          "y": 0,
          "yanchor": "top"
         }
        ]
       }
      },
      "image/png": "[encoded data removed]",
      "text/html": [
       "<div>                            <div id=\"0dc0ee9d-39e2-4292-8bce-fbbc3986ae74\" class=\"plotly-graph-div\" style=\"height:525px; width:100%;\"></div>            <script type=\"text/javascript\">                require([\"plotly\"], function(Plotly) {                    window.PLOTLYENV=window.PLOTLYENV || {};                                    if (document.getElementById(\"0dc0ee9d-39e2-4292-8bce-fbbc3986ae74\")) {                    Plotly.newPlot(                        \"0dc0ee9d-39e2-4292-8bce-fbbc3986ae74\",                        [{\"coloraxis\":\"coloraxis\",\"customdata\":[[7.77448,\"0.25401347384738276,1.1211993002926803\",\"2022-10-24\"],[11.8909,\"0.27384096615006925,1.0868570762377463\",\"2022-10-24\"],[8.22702,\"0.2936684584527558,1.0181726281278787\",\"2022-10-24\"],[10.59764,\"0.2936684584527558,1.0868570762377463\",\"2022-10-24\"],[12.433007499999999,\"0.31349595075544234,1.0181726281278787\",\"2022-10-24\"],[18.3206,\"0.31349595075544234,1.0525148521828125\",\"2022-10-24\"],[17.3378,\"0.31349595075544234,1.1211993002926803\",\"2022-10-24\"],[14.5802,\"0.33332344305812883,1.0181726281278787\",\"2022-10-24\"],[11.2,\"0.33332344305812883,1.0525148521828125\",\"2022-10-24\"],[10.7,\"0.33332344305812883,1.0868570762377463\",\"2022-10-24\"],[11.7761,\"0.33332344305812883,1.1211993002926803\",\"2022-10-24\"],[29.770650000000003,\"0.3531509353608153,1.0181726281278787\",\"2022-10-24\"],[4.5,\"0.3531509353608153,1.0868570762377463\",\"2022-10-24\"],[18.7867,\"0.3531509353608153,1.1211993002926803\",\"2022-10-24\"],[12.889069999999998,\"0.37297842766350187,1.0181726281278787\",\"2022-10-24\"],[15.7,\"0.37297842766350187,1.0525148521828125\",\"2022-10-24\"],[20.8,\"0.37297842766350187,1.0868570762377463\",\"2022-10-24\"],[15.9502725,\"0.3928059199661884,1.0181726281278787\",\"2022-10-24\"],[27.1,\"0.3928059199661884,1.0525148521828125\",\"2022-10-24\"],[32.591249999999995,\"0.3928059199661884,1.1211993002926803\",\"2022-10-24\"],[5.8395,\"0.26392721999872604,1.0353437401553456\",\"2022-10-24\"],[6.58965,\"0.26392721999872604,1.1040281882652134\",\"2022-10-24\"],[8.307405,\"0.2837547123014125,1.0353437401553456\",\"2022-10-24\"],[7.449,\"0.2837547123014125,1.0696859642102794\",\"2022-10-24\"],[11.3651,\"0.30358220460409907,1.0353437401553456\",\"2022-10-24\"],[16.3,\"0.30358220460409907,1.1040281882652134\",\"2022-10-24\"],[20.9035,\"0.30358220460409907,1.1383704123201472\",\"2022-10-24\"],[21.2242,\"0.32340969690678556,1.0010015161004118\",\"2022-10-24\"],[9.025,\"0.32340969690678556,1.1040281882652134\",\"2022-10-24\"],[18.570333333333334,\"0.32340969690678556,1.1383704123201472\",\"2022-10-24\"],[8.0,\"0.3432371892094721,1.0696859642102794\",\"2022-10-24\"],[30.325000000000003,\"0.3630646815121586,1.0353437401553456\",\"2022-10-24\"],[20.73111111111111,\"0.3630646815121586,1.0696859642102794\",\"2022-10-24\"],[20.8086,\"0.3630646815121586,1.1040281882652134\",\"2022-10-24\"],[8.94388,\"0.38289217381484514,1.0010015161004118\",\"2022-10-24\"],[36.9,\"0.38289217381484514,1.0353437401553456\",\"2022-10-24\"],[24.7,\"0.38289217381484514,1.0696859642102794\",\"2022-10-24\"],[11.077,\"0.4027196661175316,1.0010015161004118\",\"2022-10-24\"],[17.5,\"0.4027196661175316,1.0353437401553456\",\"2022-10-24\"],[21.0,\"0.4027196661175316,1.1040281882652134\",\"2022-10-24\"]],\"geojson\":{\"type\":\"FeatureCollection\",\"features\":[{\"type\":\"Feature\",\"id\":\"0.25401347384738276,1.1211993002926803\",\"geometry\":{\"type\":\"Polygon\",\"coordinates\":[[[14.553899990911745,53.5113495848048],[15.121915804547777,53.705917582753145],[15.121915804547777,54.09236893756014],[14.553899990911745,54.28425616416384],[13.985884177275713,54.09236893756014],[13.985884177275713,53.705917582753145],[14.553899990911745,53.5113495848048]]]}},{\"type\":\"Feature\",\"id\":\"0.27384096615006925,1.0525148521828125\",\"geometry\":{\"type\":\"Polygon\",\"coordinates\":[[[15.689931618183808,51.10603061443655],[16.25794743181984,51.31148211396355],[16.25794743181984,51.71963908315648],[15.689931618183808,51.92234756770137],[15.121915804547776,51.71963908315648],[15.121915804547776,51.31148211396355],[15.689931618183808,51.10603061443655]]]}},{\"type\":\"Feature\",\"id\":\"0.27384096615006925,1.0868570762377463\",\"geometry\":{\"type\":\"Polygon\",\"coordinates\":[[[15.689931618183808,52.32503236711657],[16.25794743181984,52.52501192858379],[16.25794743181984,52.922253769480314],[15.689931618183808,53.11951951505613],[15.121915804547776,52.922253769480314],[15.121915804547776,52.52501192858379],[15.689931618183808,52.32503236711657]]]}},{\"type\":\"Feature\",\"id\":\"0.2936684584527558,1.0181726281278787\",\"geometry\":{\"type\":\"Polygon\",\"coordinates\":[[[16.825963245455874,49.8540108588769],[17.393979059091905,50.06498632551648],[17.393979059091905,50.48416681397755],[16.825963245455874,50.69237434982357],[16.25794743181984,50.48416681397755],[16.25794743181984,50.06498632551648],[16.825963245455874,49.8540108588769]]]}},{\"type\":\"Feature\",\"id\":\"0.2936684584527558,1.0868570762377463\",\"geometry\":{\"type\":\"Polygon\",\"coordinates\":[[[16.825963245455874,52.32503236711657],[17.393979059091905,52.52501192858379],[17.393979059091905,52.922253769480314],[16.825963245455874,53.11951951505613],[16.25794743181984,52.922253769480314],[16.25794743181984,52.52501192858379],[16.825963245455874,52.32503236711657]]]}},{\"type\":\"Feature\",\"id\":\"0.31349595075544234,1.0181726281278787\",\"geometry\":{\"type\":\"Polygon\",\"coordinates\":[[[17.96199487272794,49.8540108588769],[18.530010686363973,50.06498632551648],[18.530010686363973,50.48416681397755],[17.96199487272794,50.69237434982357],[17.393979059091905,50.48416681397755],[17.393979059091905,50.06498632551648],[17.96199487272794,49.8540108588769]]]}},{\"type\":\"Feature\",\"id\":\"0.31349595075544234,1.0525148521828125\",\"geometry\":{\"type\":\"Polygon\",\"coordinates\":[[[17.96199487272794,51.10603061443655],[18.530010686363973,51.31148211396355],[18.530010686363973,51.71963908315648],[17.96199487272794,51.92234756770137],[17.393979059091905,51.71963908315648],[17.393979059091905,51.31148211396355],[17.96199487272794,51.10603061443655]]]}},{\"type\":\"Feature\",\"id\":\"0.31349595075544234,1.1211993002926803\",\"geometry\":{\"type\":\"Polygon\",\"coordinates\":[[[17.96199487272794,53.5113495848048],[18.530010686363973,53.705917582753145],[18.530010686363973,54.09236893756014],[17.96199487272794,54.28425616416384],[17.393979059091905,54.09236893756014],[17.393979059091905,53.705917582753145],[17.96199487272794,53.5113495848048]]]}},{\"type\":\"Feature\",\"id\":\"0.33332344305812883,1.0181726281278787\",\"geometry\":{\"type\":\"Polygon\",\"coordinates\":[[[19.0980265,49.8540108588769],[19.666042313636034,50.06498632551648],[19.666042313636034,50.48416681397755],[19.0980265,50.69237434982357],[18.530010686363966,50.48416681397755],[18.530010686363966,50.06498632551648],[19.0980265,49.8540108588769]]]}},{\"type\":\"Feature\",\"id\":\"0.33332344305812883,1.0525148521828125\",\"geometry\":{\"type\":\"Polygon\",\"coordinates\":[[[19.0980265,51.10603061443655],[19.666042313636034,51.31148211396355],[19.666042313636034,51.71963908315648],[19.0980265,51.92234756770137],[18.530010686363966,51.71963908315648],[18.530010686363966,51.31148211396355],[19.0980265,51.10603061443655]]]}},{\"type\":\"Feature\",\"id\":\"0.33332344305812883,1.0868570762377463\",\"geometry\":{\"type\":\"Polygon\",\"coordinates\":[[[19.0980265,52.32503236711657],[19.666042313636034,52.52501192858379],[19.666042313636034,52.922253769480314],[19.0980265,53.11951951505613],[18.530010686363966,52.922253769480314],[18.530010686363966,52.52501192858379],[19.0980265,52.32503236711657]]]}},{\"type\":\"Feature\",\"id\":\"0.33332344305812883,1.1211993002926803\",\"geometry\":{\"type\":\"Polygon\",\"coordinates\":[[[19.0980265,53.5113495848048],[19.666042313636034,53.705917582753145],[19.666042313636034,54.09236893756014],[19.0980265,54.28425616416384],[18.530010686363966,54.09236893756014],[18.530010686363966,53.705917582753145],[19.0980265,53.5113495848048]]]}},{\"type\":\"Feature\",\"id\":\"0.3531509353608153,1.0181726281278787\",\"geometry\":{\"type\":\"Polygon\",\"coordinates\":[[[20.234058127272064,49.8540108588769],[20.802073940908095,50.06498632551648],[20.802073940908095,50.48416681397755],[20.234058127272064,50.69237434982357],[19.66604231363603,50.48416681397755],[19.66604231363603,50.06498632551648],[20.234058127272064,49.8540108588769]]]}},{\"type\":\"Feature\",\"id\":\"0.3531509353608153,1.0868570762377463\",\"geometry\":{\"type\":\"Polygon\",\"coordinates\":[[[20.234058127272064,52.32503236711657],[20.802073940908095,52.52501192858379],[20.802073940908095,52.922253769480314],[20.234058127272064,53.11951951505613],[19.66604231363603,52.922253769480314],[19.66604231363603,52.52501192858379],[20.234058127272064,52.32503236711657]]]}},{\"type\":\"Feature\",\"id\":\"0.3531509353608153,1.1211993002926803\",\"geometry\":{\"type\":\"Polygon\",\"coordinates\":[[[20.234058127272064,53.5113495848048],[20.802073940908095,53.705917582753145],[20.802073940908095,54.09236893756014],[20.234058127272064,54.28425616416384],[19.66604231363603,54.09236893756014],[19.66604231363603,53.705917582753145],[20.234058127272064,53.5113495848048]]]}},{\"type\":\"Feature\",\"id\":\"0.37297842766350187,1.0181726281278787\",\"geometry\":{\"type\":\"Polygon\",\"coordinates\":[[[21.37008975454413,49.8540108588769],[21.93810556818016,50.06498632551648],[21.93810556818016,50.48416681397755],[21.37008975454413,50.69237434982357],[20.802073940908095,50.48416681397755],[20.802073940908095,50.06498632551648],[21.37008975454413,49.8540108588769]]]}},{\"type\":\"Feature\",\"id\":\"0.37297842766350187,1.0525148521828125\",\"geometry\":{\"type\":\"Polygon\",\"coordinates\":[[[21.37008975454413,51.10603061443655],[21.93810556818016,51.31148211396355],[21.93810556818016,51.71963908315648],[21.37008975454413,51.92234756770137],[20.802073940908095,51.71963908315648],[20.802073940908095,51.31148211396355],[21.37008975454413,51.10603061443655]]]}},{\"type\":\"Feature\",\"id\":\"0.37297842766350187,1.0868570762377463\",\"geometry\":{\"type\":\"Polygon\",\"coordinates\":[[[21.37008975454413,52.32503236711657],[21.93810556818016,52.52501192858379],[21.93810556818016,52.922253769480314],[21.37008975454413,53.11951951505613],[20.802073940908095,52.922253769480314],[20.802073940908095,52.52501192858379],[21.37008975454413,52.32503236711657]]]}},{\"type\":\"Feature\",\"id\":\"0.3928059199661884,1.0181726281278787\",\"geometry\":{\"type\":\"Polygon\",\"coordinates\":[[[22.506121381816193,49.8540108588769],[23.074137195452227,50.06498632551648],[23.074137195452227,50.48416681397755],[22.506121381816193,50.69237434982357],[21.93810556818016,50.48416681397755],[21.93810556818016,50.06498632551648],[22.506121381816193,49.8540108588769]]]}},{\"type\":\"Feature\",\"id\":\"0.3928059199661884,1.0525148521828125\",\"geometry\":{\"type\":\"Polygon\",\"coordinates\":[[[22.506121381816193,51.10603061443655],[23.074137195452227,51.31148211396355],[23.074137195452227,51.71963908315648],[22.506121381816193,51.92234756770137],[21.93810556818016,51.71963908315648],[21.93810556818016,51.31148211396355],[22.506121381816193,51.10603061443655]]]}},{\"type\":\"Feature\",\"id\":\"0.3928059199661884,1.1211993002926803\",\"geometry\":{\"type\":\"Polygon\",\"coordinates\":[[[22.506121381816193,53.5113495848048],[23.074137195452227,53.705917582753145],[23.074137195452227,54.09236893756014],[22.506121381816193,54.28425616416384],[21.93810556818016,54.09236893756014],[21.93810556818016,53.705917582753145],[22.506121381816193,53.5113495848048]]]}},{\"type\":\"Feature\",\"id\":\"0.26392721999872604,1.0353437401553456\",\"geometry\":{\"type\":\"Polygon\",\"coordinates\":[[[15.121915804547777,50.48416681397755],[15.689931618183811,50.69237434982357],[15.689931618183811,51.10603061443655],[15.121915804547777,51.31148211396355],[14.553899990911745,51.10603061443655],[14.553899990911745,50.69237434982357],[15.121915804547777,50.48416681397755]]]}},{\"type\":\"Feature\",\"id\":\"0.26392721999872604,1.1040281882652134\",\"geometry\":{\"type\":\"Polygon\",\"coordinates\":[[[15.121915804547777,52.922253769480314],[15.689931618183811,53.11951951505616],[15.689931618183811,53.5113495848048],[15.121915804547777,53.705917582753145],[14.553899990911745,53.5113495848048],[14.553899990911745,53.11951951505616],[15.121915804547777,52.922253769480314]]]}},{\"type\":\"Feature\",\"id\":\"0.2837547123014125,1.0353437401553456\",\"geometry\":{\"type\":\"Polygon\",\"coordinates\":[[[16.25794743181984,50.48416681397755],[16.825963245455874,50.69237434982357],[16.825963245455874,51.10603061443655],[16.25794743181984,51.31148211396355],[15.689931618183808,51.10603061443655],[15.689931618183808,50.69237434982357],[16.25794743181984,50.48416681397755]]]}},{\"type\":\"Feature\",\"id\":\"0.2837547123014125,1.0696859642102794\",\"geometry\":{\"type\":\"Polygon\",\"coordinates\":[[[16.25794743181984,51.71963908315648],[16.825963245455874,51.92234756770137],[16.825963245455874,52.32503236711657],[16.25794743181984,52.52501192858379],[15.689931618183808,52.32503236711657],[15.689931618183808,51.92234756770137],[16.25794743181984,51.71963908315648]]]}},{\"type\":\"Feature\",\"id\":\"0.30358220460409907,1.0353437401553456\",\"geometry\":{\"type\":\"Polygon\",\"coordinates\":[[[17.393979059091905,50.48416681397755],[17.96199487272794,50.69237434982357],[17.96199487272794,51.10603061443655],[17.393979059091905,51.31148211396355],[16.825963245455874,51.10603061443655],[16.825963245455874,50.69237434982357],[17.393979059091905,50.48416681397755]]]}},{\"type\":\"Feature\",\"id\":\"0.30358220460409907,1.1040281882652134\",\"geometry\":{\"type\":\"Polygon\",\"coordinates\":[[[17.393979059091905,52.922253769480314],[17.96199487272794,53.11951951505616],[17.96199487272794,53.5113495848048],[17.393979059091905,53.705917582753145],[16.825963245455874,53.5113495848048],[16.825963245455874,53.11951951505616],[17.393979059091905,52.922253769480314]]]}},{\"type\":\"Feature\",\"id\":\"0.30358220460409907,1.1383704123201472\",\"geometry\":{\"type\":\"Polygon\",\"coordinates\":[[[17.393979059091905,54.09236893756014],[17.96199487272794,54.28425616416384],[17.96199487272794,54.66536362414315],[17.393979059091905,54.854587911846494],[16.825963245455874,54.66536362414315],[16.825963245455874,54.28425616416384],[17.393979059091905,54.09236893756014]]]}},{\"type\":\"Feature\",\"id\":\"0.32340969690678556,1.0010015161004118\",\"geometry\":{\"type\":\"Polygon\",\"coordinates\":[[[18.530010686363966,49.215529421067494],[19.0980265,49.42928352889036],[19.0980265,49.8540108588769],[18.530010686363966,50.06498632551648],[17.961994872727935,49.8540108588769],[17.961994872727935,49.42928352889036],[18.530010686363966,49.215529421067494]]]}},{\"type\":\"Feature\",\"id\":\"0.32340969690678556,1.1040281882652134\",\"geometry\":{\"type\":\"Polygon\",\"coordinates\":[[[18.530010686363966,52.922253769480314],[19.0980265,53.11951951505616],[19.0980265,53.5113495848048],[18.530010686363966,53.705917582753145],[17.961994872727935,53.5113495848048],[17.961994872727935,53.11951951505616],[18.530010686363966,52.922253769480314]]]}},{\"type\":\"Feature\",\"id\":\"0.32340969690678556,1.1383704123201472\",\"geometry\":{\"type\":\"Polygon\",\"coordinates\":[[[18.530010686363966,54.09236893756014],[19.0980265,54.28425616416384],[19.0980265,54.66536362414315],[18.530010686363966,54.854587911846494],[17.961994872727935,54.66536362414315],[17.961994872727935,54.28425616416384],[18.530010686363966,54.09236893756014]]]}},{\"type\":\"Feature\",\"id\":\"0.3432371892094721,1.0353437401553456\",\"geometry\":{\"type\":\"Polygon\",\"coordinates\":[[[19.666042313636034,50.48416681397755],[20.234058127272064,50.69237434982357],[20.234058127272064,51.10603061443655],[19.666042313636034,51.31148211396355],[19.0980265,51.10603061443655],[19.0980265,50.69237434982357],[19.666042313636034,50.48416681397755]]]}},{\"type\":\"Feature\",\"id\":\"0.3432371892094721,1.0696859642102794\",\"geometry\":{\"type\":\"Polygon\",\"coordinates\":[[[19.666042313636034,51.71963908315648],[20.234058127272064,51.92234756770137],[20.234058127272064,52.32503236711657],[19.666042313636034,52.52501192858379],[19.0980265,52.32503236711657],[19.0980265,51.92234756770137],[19.666042313636034,51.71963908315648]]]}},{\"type\":\"Feature\",\"id\":\"0.3630646815121586,1.0353437401553456\",\"geometry\":{\"type\":\"Polygon\",\"coordinates\":[[[20.802073940908095,50.48416681397755],[21.37008975454413,50.69237434982357],[21.37008975454413,51.10603061443655],[20.802073940908095,51.31148211396355],[20.234058127272064,51.10603061443655],[20.234058127272064,50.69237434982357],[20.802073940908095,50.48416681397755]]]}},{\"type\":\"Feature\",\"id\":\"0.3630646815121586,1.0696859642102794\",\"geometry\":{\"type\":\"Polygon\",\"coordinates\":[[[20.802073940908095,51.71963908315648],[21.37008975454413,51.92234756770137],[21.37008975454413,52.32503236711657],[20.802073940908095,52.52501192858379],[20.234058127272064,52.32503236711657],[20.234058127272064,51.92234756770137],[20.802073940908095,51.71963908315648]]]}},{\"type\":\"Feature\",\"id\":\"0.3630646815121586,1.1040281882652134\",\"geometry\":{\"type\":\"Polygon\",\"coordinates\":[[[20.802073940908095,52.922253769480314],[21.37008975454413,53.11951951505616],[21.37008975454413,53.5113495848048],[20.802073940908095,53.705917582753145],[20.234058127272064,53.5113495848048],[20.234058127272064,53.11951951505616],[20.802073940908095,52.922253769480314]]]}},{\"type\":\"Feature\",\"id\":\"0.38289217381484514,1.0010015161004118\",\"geometry\":{\"type\":\"Polygon\",\"coordinates\":[[[21.93810556818016,49.215529421067494],[22.506121381816193,49.42928352889036],[22.506121381816193,49.8540108588769],[21.93810556818016,50.06498632551648],[21.37008975454413,49.8540108588769],[21.37008975454413,49.42928352889036],[21.93810556818016,49.215529421067494]]]}},{\"type\":\"Feature\",\"id\":\"0.38289217381484514,1.0353437401553456\",\"geometry\":{\"type\":\"Polygon\",\"coordinates\":[[[21.93810556818016,50.48416681397755],[22.506121381816193,50.69237434982357],[22.506121381816193,51.10603061443655],[21.93810556818016,51.31148211396355],[21.37008975454413,51.10603061443655],[21.37008975454413,50.69237434982357],[21.93810556818016,50.48416681397755]]]}},{\"type\":\"Feature\",\"id\":\"0.38289217381484514,1.0696859642102794\",\"geometry\":{\"type\":\"Polygon\",\"coordinates\":[[[21.93810556818016,51.71963908315648],[22.506121381816193,51.92234756770137],[22.506121381816193,52.32503236711657],[21.93810556818016,52.52501192858379],[21.37008975454413,52.32503236711657],[21.37008975454413,51.92234756770137],[21.93810556818016,51.71963908315648]]]}},{\"type\":\"Feature\",\"id\":\"0.4027196661175316,1.0010015161004118\",\"geometry\":{\"type\":\"Polygon\",\"coordinates\":[[[23.074137195452224,49.215529421067494],[23.642153009088258,49.42928352889036],[23.642153009088258,49.8540108588769],[23.074137195452224,50.06498632551648],[22.50612138181619,49.8540108588769],[22.50612138181619,49.42928352889036],[23.074137195452224,49.215529421067494]]]}},{\"type\":\"Feature\",\"id\":\"0.4027196661175316,1.0353437401553456\",\"geometry\":{\"type\":\"Polygon\",\"coordinates\":[[[23.074137195452224,50.48416681397755],[23.642153009088258,50.69237434982357],[23.642153009088258,51.10603061443655],[23.074137195452224,51.31148211396355],[22.50612138181619,51.10603061443655],[22.50612138181619,50.69237434982357],[23.074137195452224,50.48416681397755]]]}},{\"type\":\"Feature\",\"id\":\"0.4027196661175316,1.1040281882652134\",\"geometry\":{\"type\":\"Polygon\",\"coordinates\":[[[23.074137195452224,52.922253769480314],[23.642153009088258,53.11951951505616],[23.642153009088258,53.5113495848048],[23.074137195452224,53.705917582753145],[22.50612138181619,53.5113495848048],[22.50612138181619,53.11951951505616],[23.074137195452224,52.922253769480314]]]}}]},\"hovertemplate\":\"Avg value=%{z}<extra></extra>\",\"locations\":[\"0.25401347384738276,1.1211993002926803\",\"0.27384096615006925,1.0868570762377463\",\"0.2936684584527558,1.0181726281278787\",\"0.2936684584527558,1.0868570762377463\",\"0.31349595075544234,1.0181726281278787\",\"0.31349595075544234,1.0525148521828125\",\"0.31349595075544234,1.1211993002926803\",\"0.33332344305812883,1.0181726281278787\",\"0.33332344305812883,1.0525148521828125\",\"0.33332344305812883,1.0868570762377463\",\"0.33332344305812883,1.1211993002926803\",\"0.3531509353608153,1.0181726281278787\",\"0.3531509353608153,1.0868570762377463\",\"0.3531509353608153,1.1211993002926803\",\"0.37297842766350187,1.0181726281278787\",\"0.37297842766350187,1.0525148521828125\",\"0.37297842766350187,1.0868570762377463\",\"0.3928059199661884,1.0181726281278787\",\"0.3928059199661884,1.0525148521828125\",\"0.3928059199661884,1.1211993002926803\",\"0.26392721999872604,1.0353437401553456\",\"0.26392721999872604,1.1040281882652134\",\"0.2837547123014125,1.0353437401553456\",\"0.2837547123014125,1.0696859642102794\",\"0.30358220460409907,1.0353437401553456\",\"0.30358220460409907,1.1040281882652134\",\"0.30358220460409907,1.1383704123201472\",\"0.32340969690678556,1.0010015161004118\",\"0.32340969690678556,1.1040281882652134\",\"0.32340969690678556,1.1383704123201472\",\"0.3432371892094721,1.0696859642102794\",\"0.3630646815121586,1.0353437401553456\",\"0.3630646815121586,1.0696859642102794\",\"0.3630646815121586,1.1040281882652134\",\"0.38289217381484514,1.0010015161004118\",\"0.38289217381484514,1.0353437401553456\",\"0.38289217381484514,1.0696859642102794\",\"0.4027196661175316,1.0010015161004118\",\"0.4027196661175316,1.0353437401553456\",\"0.4027196661175316,1.1040281882652134\"],\"marker\":{\"opacity\":0.5},\"name\":\"\",\"subplot\":\"mapbox\",\"z\":[7.77448,11.8909,8.22702,10.59764,12.433007499999999,18.3206,17.3378,14.5802,11.2,10.7,11.7761,29.770650000000003,4.5,18.7867,12.889069999999998,15.7,20.8,15.9502725,27.1,32.591249999999995,5.8395,6.58965,8.307405,7.449,11.3651,16.3,20.9035,21.2242,9.025,18.570333333333334,8.0,30.325000000000003,20.73111111111111,20.8086,8.94388,36.9,24.7,11.077,17.5,21.0],\"type\":\"choroplethmapbox\"}],                        {\"template\":{\"data\":{\"histogram2dcontour\":[{\"type\":\"histogram2dcontour\",\"colorbar\":{\"outlinewidth\":0,\"ticks\":\"\"},\"colorscale\":[[0.0,\"#0d0887\"],[0.1111111111111111,\"#46039f\"],[0.2222222222222222,\"#7201a8\"],[0.3333333333333333,\"#9c179e\"],[0.4444444444444444,\"#bd3786\"],[0.5555555555555556,\"#d8576b\"],[0.6666666666666666,\"#ed7953\"],[0.7777777777777778,\"#fb9f3a\"],[0.8888888888888888,\"#fdca26\"],[1.0,\"#f0f921\"]]}],\"choropleth\":[{\"type\":\"choropleth\",\"colorbar\":{\"outlinewidth\":0,\"ticks\":\"\"}}],\"histogram2d\":[{\"type\":\"histogram2d\",\"colorbar\":{\"outlinewidth\":0,\"ticks\":\"\"},\"colorscale\":[[0.0,\"#0d0887\"],[0.1111111111111111,\"#46039f\"],[0.2222222222222222,\"#7201a8\"],[0.3333333333333333,\"#9c179e\"],[0.4444444444444444,\"#bd3786\"],[0.5555555555555556,\"#d8576b\"],[0.6666666666666666,\"#ed7953\"],[0.7777777777777778,\"#fb9f3a\"],[0.8888888888888888,\"#fdca26\"],[1.0,\"#f0f921\"]]}],\"heatmap\":[{\"type\":\"heatmap\",\"colorbar\":{\"outlinewidth\":0,\"ticks\":\"\"},\"colorscale\":[[0.0,\"#0d0887\"],[0.1111111111111111,\"#46039f\"],[0.2222222222222222,\"#7201a8\"],[0.3333333333333333,\"#9c179e\"],[0.4444444444444444,\"#bd3786\"],[0.5555555555555556,\"#d8576b\"],[0.6666666666666666,\"#ed7953\"],[0.7777777777777778,\"#fb9f3a\"],[0.8888888888888888,\"#fdca26\"],[1.0,\"#f0f921\"]]}],\"heatmapgl\":[{\"type\":\"heatmapgl\",\"colorbar\":{\"outlinewidth\":0,\"ticks\":\"\"},\"colorscale\":[[0.0,\"#0d0887\"],[0.1111111111111111,\"#46039f\"],[0.2222222222222222,\"#7201a8\"],[0.3333333333333333,\"#9c179e\"],[0.4444444444444444,\"#bd3786\"],[0.5555555555555556,\"#d8576b\"],[0.6666666666666666,\"#ed7953\"],[0.7777777777777778,\"#fb9f3a\"],[0.8888888888888888,\"#fdca26\"],[1.0,\"#f0f921\"]]}],\"contourcarpet\":[{\"type\":\"contourcarpet\",\"colorbar\":{\"outlinewidth\":0,\"ticks\":\"\"}}],\"contour\":[{\"type\":\"contour\",\"colorbar\":{\"outlinewidth\":0,\"ticks\":\"\"},\"colorscale\":[[0.0,\"#0d0887\"],[0.1111111111111111,\"#46039f\"],[0.2222222222222222,\"#7201a8\"],[0.3333333333333333,\"#9c179e\"],[0.4444444444444444,\"#bd3786\"],[0.5555555555555556,\"#d8576b\"],[0.6666666666666666,\"#ed7953\"],[0.7777777777777778,\"#fb9f3a\"],[0.8888888888888888,\"#fdca26\"],[1.0,\"#f0f921\"]]}],\"surface\":[{\"type\":\"surface\",\"colorbar\":{\"outlinewidth\":0,\"ticks\":\"\"},\"colorscale\":[[0.0,\"#0d0887\"],[0.1111111111111111,\"#46039f\"],[0.2222222222222222,\"#7201a8\"],[0.3333333333333333,\"#9c179e\"],[0.4444444444444444,\"#bd3786\"],[0.5555555555555556,\"#d8576b\"],[0.6666666666666666,\"#ed7953\"],[0.7777777777777778,\"#fb9f3a\"],[0.8888888888888888,\"#fdca26\"],[1.0,\"#f0f921\"]]}],\"mesh3d\":[{\"type\":\"mesh3d\",\"colorbar\":{\"outlinewidth\":0,\"ticks\":\"\"}}],\"scatter\":[{\"fillpattern\":{\"fillmode\":\"overlay\",\"size\":10,\"solidity\":0.2},\"type\":\"scatter\"}],\"parcoords\":[{\"type\":\"parcoords\",\"line\":{\"colorbar\":{\"outlinewidth\":0,\"ticks\":\"\"}}}],\"scatterpolargl\":[{\"type\":\"scatterpolargl\",\"marker\":{\"colorbar\":{\"outlinewidth\":0,\"ticks\":\"\"}}}],\"bar\":[{\"error_x\":{\"color\":\"#2a3f5f\"},\"error_y\":{\"color\":\"#2a3f5f\"},\"marker\":{\"line\":{\"color\":\"#E5ECF6\",\"width\":0.5},\"pattern\":{\"fillmode\":\"overlay\",\"size\":10,\"solidity\":0.2}},\"type\":\"bar\"}],\"scattergeo\":[{\"type\":\"scattergeo\",\"marker\":{\"colorbar\":{\"outlinewidth\":0,\"ticks\":\"\"}}}],\"scatterpolar\":[{\"type\":\"scatterpolar\",\"marker\":{\"colorbar\":{\"outlinewidth\":0,\"ticks\":\"\"}}}],\"histogram\":[{\"marker\":{\"pattern\":{\"fillmode\":\"overlay\",\"size\":10,\"solidity\":0.2}},\"type\":\"histogram\"}],\"scattergl\":[{\"type\":\"scattergl\",\"marker\":{\"colorbar\":{\"outlinewidth\":0,\"ticks\":\"\"}}}],\"scatter3d\":[{\"type\":\"scatter3d\",\"line\":{\"colorbar\":{\"outlinewidth\":0,\"ticks\":\"\"}},\"marker\":{\"colorbar\":{\"outlinewidth\":0,\"ticks\":\"\"}}}],\"scattermapbox\":[{\"type\":\"scattermapbox\",\"marker\":{\"colorbar\":{\"outlinewidth\":0,\"ticks\":\"\"}}}],\"scatterternary\":[{\"type\":\"scatterternary\",\"marker\":{\"colorbar\":{\"outlinewidth\":0,\"ticks\":\"\"}}}],\"scattercarpet\":[{\"type\":\"scattercarpet\",\"marker\":{\"colorbar\":{\"outlinewidth\":0,\"ticks\":\"\"}}}],\"carpet\":[{\"aaxis\":{\"endlinecolor\":\"#2a3f5f\",\"gridcolor\":\"white\",\"linecolor\":\"white\",\"minorgridcolor\":\"white\",\"startlinecolor\":\"#2a3f5f\"},\"baxis\":{\"endlinecolor\":\"#2a3f5f\",\"gridcolor\":\"white\",\"linecolor\":\"white\",\"minorgridcolor\":\"white\",\"startlinecolor\":\"#2a3f5f\"},\"type\":\"carpet\"}],\"table\":[{\"cells\":{\"fill\":{\"color\":\"#EBF0F8\"},\"line\":{\"color\":\"white\"}},\"header\":{\"fill\":{\"color\":\"#C8D4E3\"},\"line\":{\"color\":\"white\"}},\"type\":\"table\"}],\"barpolar\":[{\"marker\":{\"line\":{\"color\":\"#E5ECF6\",\"width\":0.5},\"pattern\":{\"fillmode\":\"overlay\",\"size\":10,\"solidity\":0.2}},\"type\":\"barpolar\"}],\"pie\":[{\"automargin\":true,\"type\":\"pie\"}]},\"layout\":{\"autotypenumbers\":\"strict\",\"colorway\":[\"#636efa\",\"#EF553B\",\"#00cc96\",\"#ab63fa\",\"#FFA15A\",\"#19d3f3\",\"#FF6692\",\"#B6E880\",\"#FF97FF\",\"#FECB52\"],\"font\":{\"color\":\"#2a3f5f\"},\"hovermode\":\"closest\",\"hoverlabel\":{\"align\":\"left\"},\"paper_bgcolor\":\"white\",\"plot_bgcolor\":\"#E5ECF6\",\"polar\":{\"bgcolor\":\"#E5ECF6\",\"angularaxis\":{\"gridcolor\":\"white\",\"linecolor\":\"white\",\"ticks\":\"\"},\"radialaxis\":{\"gridcolor\":\"white\",\"linecolor\":\"white\",\"ticks\":\"\"}},\"ternary\":{\"bgcolor\":\"#E5ECF6\",\"aaxis\":{\"gridcolor\":\"white\",\"linecolor\":\"white\",\"ticks\":\"\"},\"baxis\":{\"gridcolor\":\"white\",\"linecolor\":\"white\",\"ticks\":\"\"},\"caxis\":{\"gridcolor\":\"white\",\"linecolor\":\"white\",\"ticks\":\"\"}},\"coloraxis\":{\"colorbar\":{\"outlinewidth\":0,\"ticks\":\"\"}},\"colorscale\":{\"sequential\":[[0.0,\"#0d0887\"],[0.1111111111111111,\"#46039f\"],[0.2222222222222222,\"#7201a8\"],[0.3333333333333333,\"#9c179e\"],[0.4444444444444444,\"#bd3786\"],[0.5555555555555556,\"#d8576b\"],[0.6666666666666666,\"#ed7953\"],[0.7777777777777778,\"#fb9f3a\"],[0.8888888888888888,\"#fdca26\"],[1.0,\"#f0f921\"]],\"sequentialminus\":[[0.0,\"#0d0887\"],[0.1111111111111111,\"#46039f\"],[0.2222222222222222,\"#7201a8\"],[0.3333333333333333,\"#9c179e\"],[0.4444444444444444,\"#bd3786\"],[0.5555555555555556,\"#d8576b\"],[0.6666666666666666,\"#ed7953\"],[0.7777777777777778,\"#fb9f3a\"],[0.8888888888888888,\"#fdca26\"],[1.0,\"#f0f921\"]],\"diverging\":[[0,\"#8e0152\"],[0.1,\"#c51b7d\"],[0.2,\"#de77ae\"],[0.3,\"#f1b6da\"],[0.4,\"#fde0ef\"],[0.5,\"#f7f7f7\"],[0.6,\"#e6f5d0\"],[0.7,\"#b8e186\"],[0.8,\"#7fbc41\"],[0.9,\"#4d9221\"],[1,\"#276419\"]]},\"xaxis\":{\"gridcolor\":\"white\",\"linecolor\":\"white\",\"ticks\":\"\",\"title\":{\"standoff\":15},\"zerolinecolor\":\"white\",\"automargin\":true,\"zerolinewidth\":2},\"yaxis\":{\"gridcolor\":\"white\",\"linecolor\":\"white\",\"ticks\":\"\",\"title\":{\"standoff\":15},\"zerolinecolor\":\"white\",\"automargin\":true,\"zerolinewidth\":2},\"scene\":{\"xaxis\":{\"backgroundcolor\":\"#E5ECF6\",\"gridcolor\":\"white\",\"linecolor\":\"white\",\"showbackground\":true,\"ticks\":\"\",\"zerolinecolor\":\"white\",\"gridwidth\":2},\"yaxis\":{\"backgroundcolor\":\"#E5ECF6\",\"gridcolor\":\"white\",\"linecolor\":\"white\",\"showbackground\":true,\"ticks\":\"\",\"zerolinecolor\":\"white\",\"gridwidth\":2},\"zaxis\":{\"backgroundcolor\":\"#E5ECF6\",\"gridcolor\":\"white\",\"linecolor\":\"white\",\"showbackground\":true,\"ticks\":\"\",\"zerolinecolor\":\"white\",\"gridwidth\":2}},\"shapedefaults\":{\"line\":{\"color\":\"#2a3f5f\"}},\"annotationdefaults\":{\"arrowcolor\":\"#2a3f5f\",\"arrowhead\":0,\"arrowwidth\":1},\"geo\":{\"bgcolor\":\"white\",\"landcolor\":\"#E5ECF6\",\"subunitcolor\":\"white\",\"showland\":true,\"showlakes\":true,\"lakecolor\":\"white\"},\"title\":{\"x\":0.05},\"mapbox\":{\"style\":\"light\"}}},\"mapbox\":{\"domain\":{\"x\":[0.0,1.0],\"y\":[0.0,1.0]},\"center\":{\"lat\":52.0536875,\"lon\":19.0980265},\"accesstoken\":\"pk.eyJ1Ijoib3Jlb3JlIiwiYSI6ImNrdndwNm13aTBhZzYyb2xjcng4dGdnNWEifQ.LADFJcYpNwTupseSVwA72g\",\"zoom\":4.86554972569759},\"coloraxis\":{\"colorbar\":{\"title\":{\"text\":\"Avg value\"}},\"colorscale\":[[0.0,\"#0d0887\"],[0.1111111111111111,\"#46039f\"],[0.2222222222222222,\"#7201a8\"],[0.3333333333333333,\"#9c179e\"],[0.4444444444444444,\"#bd3786\"],[0.5555555555555556,\"#d8576b\"],[0.6666666666666666,\"#ed7953\"],[0.7777777777777778,\"#fb9f3a\"],[0.8888888888888888,\"#fdca26\"],[1.0,\"#f0f921\"]],\"cmin\":4.5,\"cmax\":53.36185567010309},\"legend\":{\"tracegroupgap\":0},\"margin\":{\"t\":60},\"updatemenus\":[{\"buttons\":[{\"args\":[null,{\"frame\":{\"duration\":500,\"redraw\":true},\"mode\":\"immediate\",\"fromcurrent\":true,\"transition\":{\"duration\":500,\"easing\":\"linear\"}}],\"label\":\"&#9654;\",\"method\":\"animate\"},{\"args\":[[null],{\"frame\":{\"duration\":0,\"redraw\":true},\"mode\":\"immediate\",\"fromcurrent\":true,\"transition\":{\"duration\":0,\"easing\":\"linear\"}}],\"label\":\"&#9724;\",\"method\":\"animate\"}],\"direction\":\"left\",\"pad\":{\"r\":10,\"t\":70},\"showactive\":false,\"type\":\"buttons\",\"x\":0.1,\"xanchor\":\"right\",\"y\":0,\"yanchor\":\"top\"}],\"sliders\":[{\"active\":0,\"currentvalue\":{\"prefix\":\"frame=\"},\"len\":0.9,\"pad\":{\"b\":10,\"t\":60},\"steps\":[{\"args\":[[\"2022-10-24\"],{\"frame\":{\"duration\":0,\"redraw\":true},\"mode\":\"immediate\",\"fromcurrent\":true,\"transition\":{\"duration\":0,\"easing\":\"linear\"}}],\"label\":\"2022-10-24\",\"method\":\"animate\"},{\"args\":[[\"2022-10-25\"],{\"frame\":{\"duration\":0,\"redraw\":true},\"mode\":\"immediate\",\"fromcurrent\":true,\"transition\":{\"duration\":0,\"easing\":\"linear\"}}],\"label\":\"2022-10-25\",\"method\":\"animate\"},{\"args\":[[\"2022-10-26\"],{\"frame\":{\"duration\":0,\"redraw\":true},\"mode\":\"immediate\",\"fromcurrent\":true,\"transition\":{\"duration\":0,\"easing\":\"linear\"}}],\"label\":\"2022-10-26\",\"method\":\"animate\"},{\"args\":[[\"2022-10-27\"],{\"frame\":{\"duration\":0,\"redraw\":true},\"mode\":\"immediate\",\"fromcurrent\":true,\"transition\":{\"duration\":0,\"easing\":\"linear\"}}],\"label\":\"2022-10-27\",\"method\":\"animate\"},{\"args\":[[\"2022-10-28\"],{\"frame\":{\"duration\":0,\"redraw\":true},\"mode\":\"immediate\",\"fromcurrent\":true,\"transition\":{\"duration\":0,\"easing\":\"linear\"}}],\"label\":\"2022-10-28\",\"method\":\"animate\"}],\"x\":0.1,\"xanchor\":\"left\",\"y\":0,\"yanchor\":\"top\"}]},                        {\"responsive\": true}                    ).then(function(){\n",
       "                            Plotly.addFrames('0dc0ee9d-39e2-4292-8bce-fbbc3986ae74', [{\"data\":[{\"coloraxis\":\"coloraxis\",\"customdata\":[[7.77448,\"0.25401347384738276,1.1211993002926803\",\"2022-10-24\"],[11.8909,\"0.27384096615006925,1.0868570762377463\",\"2022-10-24\"],[8.22702,\"0.2936684584527558,1.0181726281278787\",\"2022-10-24\"],[10.59764,\"0.2936684584527558,1.0868570762377463\",\"2022-10-24\"],[12.433007499999999,\"0.31349595075544234,1.0181726281278787\",\"2022-10-24\"],[18.3206,\"0.31349595075544234,1.0525148521828125\",\"2022-10-24\"],[17.3378,\"0.31349595075544234,1.1211993002926803\",\"2022-10-24\"],[14.5802,\"0.33332344305812883,1.0181726281278787\",\"2022-10-24\"],[11.2,\"0.33332344305812883,1.0525148521828125\",\"2022-10-24\"],[10.7,\"0.33332344305812883,1.0868570762377463\",\"2022-10-24\"],[11.7761,\"0.33332344305812883,1.1211993002926803\",\"2022-10-24\"],[29.770650000000003,\"0.3531509353608153,1.0181726281278787\",\"2022-10-24\"],[4.5,\"0.3531509353608153,1.0868570762377463\",\"2022-10-24\"],[18.7867,\"0.3531509353608153,1.1211993002926803\",\"2022-10-24\"],[12.889069999999998,\"0.37297842766350187,1.0181726281278787\",\"2022-10-24\"],[15.7,\"0.37297842766350187,1.0525148521828125\",\"2022-10-24\"],[20.8,\"0.37297842766350187,1.0868570762377463\",\"2022-10-24\"],[15.9502725,\"0.3928059199661884,1.0181726281278787\",\"2022-10-24\"],[27.1,\"0.3928059199661884,1.0525148521828125\",\"2022-10-24\"],[32.591249999999995,\"0.3928059199661884,1.1211993002926803\",\"2022-10-24\"],[5.8395,\"0.26392721999872604,1.0353437401553456\",\"2022-10-24\"],[6.58965,\"0.26392721999872604,1.1040281882652134\",\"2022-10-24\"],[8.307405,\"0.2837547123014125,1.0353437401553456\",\"2022-10-24\"],[7.449,\"0.2837547123014125,1.0696859642102794\",\"2022-10-24\"],[11.3651,\"0.30358220460409907,1.0353437401553456\",\"2022-10-24\"],[16.3,\"0.30358220460409907,1.1040281882652134\",\"2022-10-24\"],[20.9035,\"0.30358220460409907,1.1383704123201472\",\"2022-10-24\"],[21.2242,\"0.32340969690678556,1.0010015161004118\",\"2022-10-24\"],[9.025,\"0.32340969690678556,1.1040281882652134\",\"2022-10-24\"],[18.570333333333334,\"0.32340969690678556,1.1383704123201472\",\"2022-10-24\"],[8.0,\"0.3432371892094721,1.0696859642102794\",\"2022-10-24\"],[30.325000000000003,\"0.3630646815121586,1.0353437401553456\",\"2022-10-24\"],[20.73111111111111,\"0.3630646815121586,1.0696859642102794\",\"2022-10-24\"],[20.8086,\"0.3630646815121586,1.1040281882652134\",\"2022-10-24\"],[8.94388,\"0.38289217381484514,1.0010015161004118\",\"2022-10-24\"],[36.9,\"0.38289217381484514,1.0353437401553456\",\"2022-10-24\"],[24.7,\"0.38289217381484514,1.0696859642102794\",\"2022-10-24\"],[11.077,\"0.4027196661175316,1.0010015161004118\",\"2022-10-24\"],[17.5,\"0.4027196661175316,1.0353437401553456\",\"2022-10-24\"],[21.0,\"0.4027196661175316,1.1040281882652134\",\"2022-10-24\"]],\"geojson\":{\"type\":\"FeatureCollection\",\"features\":[{\"type\":\"Feature\",\"id\":\"0.25401347384738276,1.1211993002926803\",\"geometry\":{\"type\":\"Polygon\",\"coordinates\":[[[14.553899990911745,53.5113495848048],[15.121915804547777,53.705917582753145],[15.121915804547777,54.09236893756014],[14.553899990911745,54.28425616416384],[13.985884177275713,54.09236893756014],[13.985884177275713,53.705917582753145],[14.553899990911745,53.5113495848048]]]}},{\"type\":\"Feature\",\"id\":\"0.27384096615006925,1.0525148521828125\",\"geometry\":{\"type\":\"Polygon\",\"coordinates\":[[[15.689931618183808,51.10603061443655],[16.25794743181984,51.31148211396355],[16.25794743181984,51.71963908315648],[15.689931618183808,51.92234756770137],[15.121915804547776,51.71963908315648],[15.121915804547776,51.31148211396355],[15.689931618183808,51.10603061443655]]]}},{\"type\":\"Feature\",\"id\":\"0.27384096615006925,1.0868570762377463\",\"geometry\":{\"type\":\"Polygon\",\"coordinates\":[[[15.689931618183808,52.32503236711657],[16.25794743181984,52.52501192858379],[16.25794743181984,52.922253769480314],[15.689931618183808,53.11951951505613],[15.121915804547776,52.922253769480314],[15.121915804547776,52.52501192858379],[15.689931618183808,52.32503236711657]]]}},{\"type\":\"Feature\",\"id\":\"0.2936684584527558,1.0181726281278787\",\"geometry\":{\"type\":\"Polygon\",\"coordinates\":[[[16.825963245455874,49.8540108588769],[17.393979059091905,50.06498632551648],[17.393979059091905,50.48416681397755],[16.825963245455874,50.69237434982357],[16.25794743181984,50.48416681397755],[16.25794743181984,50.06498632551648],[16.825963245455874,49.8540108588769]]]}},{\"type\":\"Feature\",\"id\":\"0.2936684584527558,1.0868570762377463\",\"geometry\":{\"type\":\"Polygon\",\"coordinates\":[[[16.825963245455874,52.32503236711657],[17.393979059091905,52.52501192858379],[17.393979059091905,52.922253769480314],[16.825963245455874,53.11951951505613],[16.25794743181984,52.922253769480314],[16.25794743181984,52.52501192858379],[16.825963245455874,52.32503236711657]]]}},{\"type\":\"Feature\",\"id\":\"0.31349595075544234,1.0181726281278787\",\"geometry\":{\"type\":\"Polygon\",\"coordinates\":[[[17.96199487272794,49.8540108588769],[18.530010686363973,50.06498632551648],[18.530010686363973,50.48416681397755],[17.96199487272794,50.69237434982357],[17.393979059091905,50.48416681397755],[17.393979059091905,50.06498632551648],[17.96199487272794,49.8540108588769]]]}},{\"type\":\"Feature\",\"id\":\"0.31349595075544234,1.0525148521828125\",\"geometry\":{\"type\":\"Polygon\",\"coordinates\":[[[17.96199487272794,51.10603061443655],[18.530010686363973,51.31148211396355],[18.530010686363973,51.71963908315648],[17.96199487272794,51.92234756770137],[17.393979059091905,51.71963908315648],[17.393979059091905,51.31148211396355],[17.96199487272794,51.10603061443655]]]}},{\"type\":\"Feature\",\"id\":\"0.31349595075544234,1.1211993002926803\",\"geometry\":{\"type\":\"Polygon\",\"coordinates\":[[[17.96199487272794,53.5113495848048],[18.530010686363973,53.705917582753145],[18.530010686363973,54.09236893756014],[17.96199487272794,54.28425616416384],[17.393979059091905,54.09236893756014],[17.393979059091905,53.705917582753145],[17.96199487272794,53.5113495848048]]]}},{\"type\":\"Feature\",\"id\":\"0.33332344305812883,1.0181726281278787\",\"geometry\":{\"type\":\"Polygon\",\"coordinates\":[[[19.0980265,49.8540108588769],[19.666042313636034,50.06498632551648],[19.666042313636034,50.48416681397755],[19.0980265,50.69237434982357],[18.530010686363966,50.48416681397755],[18.530010686363966,50.06498632551648],[19.0980265,49.8540108588769]]]}},{\"type\":\"Feature\",\"id\":\"0.33332344305812883,1.0525148521828125\",\"geometry\":{\"type\":\"Polygon\",\"coordinates\":[[[19.0980265,51.10603061443655],[19.666042313636034,51.31148211396355],[19.666042313636034,51.71963908315648],[19.0980265,51.92234756770137],[18.530010686363966,51.71963908315648],[18.530010686363966,51.31148211396355],[19.0980265,51.10603061443655]]]}},{\"type\":\"Feature\",\"id\":\"0.33332344305812883,1.0868570762377463\",\"geometry\":{\"type\":\"Polygon\",\"coordinates\":[[[19.0980265,52.32503236711657],[19.666042313636034,52.52501192858379],[19.666042313636034,52.922253769480314],[19.0980265,53.11951951505613],[18.530010686363966,52.922253769480314],[18.530010686363966,52.52501192858379],[19.0980265,52.32503236711657]]]}},{\"type\":\"Feature\",\"id\":\"0.33332344305812883,1.1211993002926803\",\"geometry\":{\"type\":\"Polygon\",\"coordinates\":[[[19.0980265,53.5113495848048],[19.666042313636034,53.705917582753145],[19.666042313636034,54.09236893756014],[19.0980265,54.28425616416384],[18.530010686363966,54.09236893756014],[18.530010686363966,53.705917582753145],[19.0980265,53.5113495848048]]]}},{\"type\":\"Feature\",\"id\":\"0.3531509353608153,1.0181726281278787\",\"geometry\":{\"type\":\"Polygon\",\"coordinates\":[[[20.234058127272064,49.8540108588769],[20.802073940908095,50.06498632551648],[20.802073940908095,50.48416681397755],[20.234058127272064,50.69237434982357],[19.66604231363603,50.48416681397755],[19.66604231363603,50.06498632551648],[20.234058127272064,49.8540108588769]]]}},{\"type\":\"Feature\",\"id\":\"0.3531509353608153,1.0868570762377463\",\"geometry\":{\"type\":\"Polygon\",\"coordinates\":[[[20.234058127272064,52.32503236711657],[20.802073940908095,52.52501192858379],[20.802073940908095,52.922253769480314],[20.234058127272064,53.11951951505613],[19.66604231363603,52.922253769480314],[19.66604231363603,52.52501192858379],[20.234058127272064,52.32503236711657]]]}},{\"type\":\"Feature\",\"id\":\"0.3531509353608153,1.1211993002926803\",\"geometry\":{\"type\":\"Polygon\",\"coordinates\":[[[20.234058127272064,53.5113495848048],[20.802073940908095,53.705917582753145],[20.802073940908095,54.09236893756014],[20.234058127272064,54.28425616416384],[19.66604231363603,54.09236893756014],[19.66604231363603,53.705917582753145],[20.234058127272064,53.5113495848048]]]}},{\"type\":\"Feature\",\"id\":\"0.37297842766350187,1.0181726281278787\",\"geometry\":{\"type\":\"Polygon\",\"coordinates\":[[[21.37008975454413,49.8540108588769],[21.93810556818016,50.06498632551648],[21.93810556818016,50.48416681397755],[21.37008975454413,50.69237434982357],[20.802073940908095,50.48416681397755],[20.802073940908095,50.06498632551648],[21.37008975454413,49.8540108588769]]]}},{\"type\":\"Feature\",\"id\":\"0.37297842766350187,1.0525148521828125\",\"geometry\":{\"type\":\"Polygon\",\"coordinates\":[[[21.37008975454413,51.10603061443655],[21.93810556818016,51.31148211396355],[21.93810556818016,51.71963908315648],[21.37008975454413,51.92234756770137],[20.802073940908095,51.71963908315648],[20.802073940908095,51.31148211396355],[21.37008975454413,51.10603061443655]]]}},{\"type\":\"Feature\",\"id\":\"0.37297842766350187,1.0868570762377463\",\"geometry\":{\"type\":\"Polygon\",\"coordinates\":[[[21.37008975454413,52.32503236711657],[21.93810556818016,52.52501192858379],[21.93810556818016,52.922253769480314],[21.37008975454413,53.11951951505613],[20.802073940908095,52.922253769480314],[20.802073940908095,52.52501192858379],[21.37008975454413,52.32503236711657]]]}},{\"type\":\"Feature\",\"id\":\"0.3928059199661884,1.0181726281278787\",\"geometry\":{\"type\":\"Polygon\",\"coordinates\":[[[22.506121381816193,49.8540108588769],[23.074137195452227,50.06498632551648],[23.074137195452227,50.48416681397755],[22.506121381816193,50.69237434982357],[21.93810556818016,50.48416681397755],[21.93810556818016,50.06498632551648],[22.506121381816193,49.8540108588769]]]}},{\"type\":\"Feature\",\"id\":\"0.3928059199661884,1.0525148521828125\",\"geometry\":{\"type\":\"Polygon\",\"coordinates\":[[[22.506121381816193,51.10603061443655],[23.074137195452227,51.31148211396355],[23.074137195452227,51.71963908315648],[22.506121381816193,51.92234756770137],[21.93810556818016,51.71963908315648],[21.93810556818016,51.31148211396355],[22.506121381816193,51.10603061443655]]]}},{\"type\":\"Feature\",\"id\":\"0.3928059199661884,1.1211993002926803\",\"geometry\":{\"type\":\"Polygon\",\"coordinates\":[[[22.506121381816193,53.5113495848048],[23.074137195452227,53.705917582753145],[23.074137195452227,54.09236893756014],[22.506121381816193,54.28425616416384],[21.93810556818016,54.09236893756014],[21.93810556818016,53.705917582753145],[22.506121381816193,53.5113495848048]]]}},{\"type\":\"Feature\",\"id\":\"0.26392721999872604,1.0353437401553456\",\"geometry\":{\"type\":\"Polygon\",\"coordinates\":[[[15.121915804547777,50.48416681397755],[15.689931618183811,50.69237434982357],[15.689931618183811,51.10603061443655],[15.121915804547777,51.31148211396355],[14.553899990911745,51.10603061443655],[14.553899990911745,50.69237434982357],[15.121915804547777,50.48416681397755]]]}},{\"type\":\"Feature\",\"id\":\"0.26392721999872604,1.1040281882652134\",\"geometry\":{\"type\":\"Polygon\",\"coordinates\":[[[15.121915804547777,52.922253769480314],[15.689931618183811,53.11951951505616],[15.689931618183811,53.5113495848048],[15.121915804547777,53.705917582753145],[14.553899990911745,53.5113495848048],[14.553899990911745,53.11951951505616],[15.121915804547777,52.922253769480314]]]}},{\"type\":\"Feature\",\"id\":\"0.2837547123014125,1.0353437401553456\",\"geometry\":{\"type\":\"Polygon\",\"coordinates\":[[[16.25794743181984,50.48416681397755],[16.825963245455874,50.69237434982357],[16.825963245455874,51.10603061443655],[16.25794743181984,51.31148211396355],[15.689931618183808,51.10603061443655],[15.689931618183808,50.69237434982357],[16.25794743181984,50.48416681397755]]]}},{\"type\":\"Feature\",\"id\":\"0.2837547123014125,1.0696859642102794\",\"geometry\":{\"type\":\"Polygon\",\"coordinates\":[[[16.25794743181984,51.71963908315648],[16.825963245455874,51.92234756770137],[16.825963245455874,52.32503236711657],[16.25794743181984,52.52501192858379],[15.689931618183808,52.32503236711657],[15.689931618183808,51.92234756770137],[16.25794743181984,51.71963908315648]]]}},{\"type\":\"Feature\",\"id\":\"0.30358220460409907,1.0353437401553456\",\"geometry\":{\"type\":\"Polygon\",\"coordinates\":[[[17.393979059091905,50.48416681397755],[17.96199487272794,50.69237434982357],[17.96199487272794,51.10603061443655],[17.393979059091905,51.31148211396355],[16.825963245455874,51.10603061443655],[16.825963245455874,50.69237434982357],[17.393979059091905,50.48416681397755]]]}},{\"type\":\"Feature\",\"id\":\"0.30358220460409907,1.1040281882652134\",\"geometry\":{\"type\":\"Polygon\",\"coordinates\":[[[17.393979059091905,52.922253769480314],[17.96199487272794,53.11951951505616],[17.96199487272794,53.5113495848048],[17.393979059091905,53.705917582753145],[16.825963245455874,53.5113495848048],[16.825963245455874,53.11951951505616],[17.393979059091905,52.922253769480314]]]}},{\"type\":\"Feature\",\"id\":\"0.30358220460409907,1.1383704123201472\",\"geometry\":{\"type\":\"Polygon\",\"coordinates\":[[[17.393979059091905,54.09236893756014],[17.96199487272794,54.28425616416384],[17.96199487272794,54.66536362414315],[17.393979059091905,54.854587911846494],[16.825963245455874,54.66536362414315],[16.825963245455874,54.28425616416384],[17.393979059091905,54.09236893756014]]]}},{\"type\":\"Feature\",\"id\":\"0.32340969690678556,1.0010015161004118\",\"geometry\":{\"type\":\"Polygon\",\"coordinates\":[[[18.530010686363966,49.215529421067494],[19.0980265,49.42928352889036],[19.0980265,49.8540108588769],[18.530010686363966,50.06498632551648],[17.961994872727935,49.8540108588769],[17.961994872727935,49.42928352889036],[18.530010686363966,49.215529421067494]]]}},{\"type\":\"Feature\",\"id\":\"0.32340969690678556,1.1040281882652134\",\"geometry\":{\"type\":\"Polygon\",\"coordinates\":[[[18.530010686363966,52.922253769480314],[19.0980265,53.11951951505616],[19.0980265,53.5113495848048],[18.530010686363966,53.705917582753145],[17.961994872727935,53.5113495848048],[17.961994872727935,53.11951951505616],[18.530010686363966,52.922253769480314]]]}},{\"type\":\"Feature\",\"id\":\"0.32340969690678556,1.1383704123201472\",\"geometry\":{\"type\":\"Polygon\",\"coordinates\":[[[18.530010686363966,54.09236893756014],[19.0980265,54.28425616416384],[19.0980265,54.66536362414315],[18.530010686363966,54.854587911846494],[17.961994872727935,54.66536362414315],[17.961994872727935,54.28425616416384],[18.530010686363966,54.09236893756014]]]}},{\"type\":\"Feature\",\"id\":\"0.3432371892094721,1.0353437401553456\",\"geometry\":{\"type\":\"Polygon\",\"coordinates\":[[[19.666042313636034,50.48416681397755],[20.234058127272064,50.69237434982357],[20.234058127272064,51.10603061443655],[19.666042313636034,51.31148211396355],[19.0980265,51.10603061443655],[19.0980265,50.69237434982357],[19.666042313636034,50.48416681397755]]]}},{\"type\":\"Feature\",\"id\":\"0.3432371892094721,1.0696859642102794\",\"geometry\":{\"type\":\"Polygon\",\"coordinates\":[[[19.666042313636034,51.71963908315648],[20.234058127272064,51.92234756770137],[20.234058127272064,52.32503236711657],[19.666042313636034,52.52501192858379],[19.0980265,52.32503236711657],[19.0980265,51.92234756770137],[19.666042313636034,51.71963908315648]]]}},{\"type\":\"Feature\",\"id\":\"0.3630646815121586,1.0353437401553456\",\"geometry\":{\"type\":\"Polygon\",\"coordinates\":[[[20.802073940908095,50.48416681397755],[21.37008975454413,50.69237434982357],[21.37008975454413,51.10603061443655],[20.802073940908095,51.31148211396355],[20.234058127272064,51.10603061443655],[20.234058127272064,50.69237434982357],[20.802073940908095,50.48416681397755]]]}},{\"type\":\"Feature\",\"id\":\"0.3630646815121586,1.0696859642102794\",\"geometry\":{\"type\":\"Polygon\",\"coordinates\":[[[20.802073940908095,51.71963908315648],[21.37008975454413,51.92234756770137],[21.37008975454413,52.32503236711657],[20.802073940908095,52.52501192858379],[20.234058127272064,52.32503236711657],[20.234058127272064,51.92234756770137],[20.802073940908095,51.71963908315648]]]}},{\"type\":\"Feature\",\"id\":\"0.3630646815121586,1.1040281882652134\",\"geometry\":{\"type\":\"Polygon\",\"coordinates\":[[[20.802073940908095,52.922253769480314],[21.37008975454413,53.11951951505616],[21.37008975454413,53.5113495848048],[20.802073940908095,53.705917582753145],[20.234058127272064,53.5113495848048],[20.234058127272064,53.11951951505616],[20.802073940908095,52.922253769480314]]]}},{\"type\":\"Feature\",\"id\":\"0.38289217381484514,1.0010015161004118\",\"geometry\":{\"type\":\"Polygon\",\"coordinates\":[[[21.93810556818016,49.215529421067494],[22.506121381816193,49.42928352889036],[22.506121381816193,49.8540108588769],[21.93810556818016,50.06498632551648],[21.37008975454413,49.8540108588769],[21.37008975454413,49.42928352889036],[21.93810556818016,49.215529421067494]]]}},{\"type\":\"Feature\",\"id\":\"0.38289217381484514,1.0353437401553456\",\"geometry\":{\"type\":\"Polygon\",\"coordinates\":[[[21.93810556818016,50.48416681397755],[22.506121381816193,50.69237434982357],[22.506121381816193,51.10603061443655],[21.93810556818016,51.31148211396355],[21.37008975454413,51.10603061443655],[21.37008975454413,50.69237434982357],[21.93810556818016,50.48416681397755]]]}},{\"type\":\"Feature\",\"id\":\"0.38289217381484514,1.0696859642102794\",\"geometry\":{\"type\":\"Polygon\",\"coordinates\":[[[21.93810556818016,51.71963908315648],[22.506121381816193,51.92234756770137],[22.506121381816193,52.32503236711657],[21.93810556818016,52.52501192858379],[21.37008975454413,52.32503236711657],[21.37008975454413,51.92234756770137],[21.93810556818016,51.71963908315648]]]}},{\"type\":\"Feature\",\"id\":\"0.4027196661175316,1.0010015161004118\",\"geometry\":{\"type\":\"Polygon\",\"coordinates\":[[[23.074137195452224,49.215529421067494],[23.642153009088258,49.42928352889036],[23.642153009088258,49.8540108588769],[23.074137195452224,50.06498632551648],[22.50612138181619,49.8540108588769],[22.50612138181619,49.42928352889036],[23.074137195452224,49.215529421067494]]]}},{\"type\":\"Feature\",\"id\":\"0.4027196661175316,1.0353437401553456\",\"geometry\":{\"type\":\"Polygon\",\"coordinates\":[[[23.074137195452224,50.48416681397755],[23.642153009088258,50.69237434982357],[23.642153009088258,51.10603061443655],[23.074137195452224,51.31148211396355],[22.50612138181619,51.10603061443655],[22.50612138181619,50.69237434982357],[23.074137195452224,50.48416681397755]]]}},{\"type\":\"Feature\",\"id\":\"0.4027196661175316,1.1040281882652134\",\"geometry\":{\"type\":\"Polygon\",\"coordinates\":[[[23.074137195452224,52.922253769480314],[23.642153009088258,53.11951951505616],[23.642153009088258,53.5113495848048],[23.074137195452224,53.705917582753145],[22.50612138181619,53.5113495848048],[22.50612138181619,53.11951951505616],[23.074137195452224,52.922253769480314]]]}}]},\"hovertemplate\":\"Avg value=%{z}<extra></extra>\",\"locations\":[\"0.25401347384738276,1.1211993002926803\",\"0.27384096615006925,1.0868570762377463\",\"0.2936684584527558,1.0181726281278787\",\"0.2936684584527558,1.0868570762377463\",\"0.31349595075544234,1.0181726281278787\",\"0.31349595075544234,1.0525148521828125\",\"0.31349595075544234,1.1211993002926803\",\"0.33332344305812883,1.0181726281278787\",\"0.33332344305812883,1.0525148521828125\",\"0.33332344305812883,1.0868570762377463\",\"0.33332344305812883,1.1211993002926803\",\"0.3531509353608153,1.0181726281278787\",\"0.3531509353608153,1.0868570762377463\",\"0.3531509353608153,1.1211993002926803\",\"0.37297842766350187,1.0181726281278787\",\"0.37297842766350187,1.0525148521828125\",\"0.37297842766350187,1.0868570762377463\",\"0.3928059199661884,1.0181726281278787\",\"0.3928059199661884,1.0525148521828125\",\"0.3928059199661884,1.1211993002926803\",\"0.26392721999872604,1.0353437401553456\",\"0.26392721999872604,1.1040281882652134\",\"0.2837547123014125,1.0353437401553456\",\"0.2837547123014125,1.0696859642102794\",\"0.30358220460409907,1.0353437401553456\",\"0.30358220460409907,1.1040281882652134\",\"0.30358220460409907,1.1383704123201472\",\"0.32340969690678556,1.0010015161004118\",\"0.32340969690678556,1.1040281882652134\",\"0.32340969690678556,1.1383704123201472\",\"0.3432371892094721,1.0696859642102794\",\"0.3630646815121586,1.0353437401553456\",\"0.3630646815121586,1.0696859642102794\",\"0.3630646815121586,1.1040281882652134\",\"0.38289217381484514,1.0010015161004118\",\"0.38289217381484514,1.0353437401553456\",\"0.38289217381484514,1.0696859642102794\",\"0.4027196661175316,1.0010015161004118\",\"0.4027196661175316,1.0353437401553456\",\"0.4027196661175316,1.1040281882652134\"],\"marker\":{\"opacity\":0.5},\"name\":\"\",\"subplot\":\"mapbox\",\"z\":[7.77448,11.8909,8.22702,10.59764,12.433007499999999,18.3206,17.3378,14.5802,11.2,10.7,11.7761,29.770650000000003,4.5,18.7867,12.889069999999998,15.7,20.8,15.9502725,27.1,32.591249999999995,5.8395,6.58965,8.307405,7.449,11.3651,16.3,20.9035,21.2242,9.025,18.570333333333334,8.0,30.325000000000003,20.73111111111111,20.8086,8.94388,36.9,24.7,11.077,17.5,21.0],\"type\":\"choroplethmapbox\"}],\"name\":\"2022-10-24\"},{\"data\":[{\"coloraxis\":\"coloraxis\",\"customdata\":[[8.25524355,\"0.25401347384738276,1.1211993002926803\",\"2022-10-25\"],[5.0828247,\"0.27384096615006925,1.0525148521828125\",\"2022-10-25\"],[8.482546636363637,\"0.27384096615006925,1.0868570762377463\",\"2022-10-25\"],[14.562420395409317,\"0.2936684584527558,1.0181726281278787\",\"2022-10-25\"],[18.224474769501708,\"0.2936684584527558,1.0868570762377463\",\"2022-10-25\"],[12.362849035946196,\"0.31349595075544234,1.0181726281278787\",\"2022-10-25\"],[15.188056581632654,\"0.31349595075544234,1.0525148521828125\",\"2022-10-25\"],[14.652686226415094,\"0.31349595075544234,1.1211993002926803\",\"2022-10-25\"],[13.917223242424242,\"0.33332344305812883,1.0181726281278787\",\"2022-10-25\"],[12.444053549190535,\"0.33332344305812883,1.0525148521828125\",\"2022-10-25\"],[17.66136363636364,\"0.33332344305812883,1.0868570762377463\",\"2022-10-25\"],[9.321694834123223,\"0.33332344305812883,1.1211993002926803\",\"2022-10-25\"],[18.446433359219554,\"0.3531509353608153,1.0181726281278787\",\"2022-10-25\"],[11.56969696969697,\"0.3531509353608153,1.0868570762377463\",\"2022-10-25\"],[16.637304942080018,\"0.3531509353608153,1.1211993002926803\",\"2022-10-25\"],[9.62330957301811,\"0.37297842766350187,1.0181726281278787\",\"2022-10-25\"],[8.112626262626264,\"0.37297842766350187,1.0525148521828125\",\"2022-10-25\"],[17.79949494949495,\"0.37297842766350187,1.0868570762377463\",\"2022-10-25\"],[12.445991735055443,\"0.3928059199661884,1.0181726281278787\",\"2022-10-25\"],[22.892817679558014,\"0.3928059199661884,1.0525148521828125\",\"2022-10-25\"],[20.765213579545453,\"0.3928059199661884,1.1211993002926803\",\"2022-10-25\"],[20.222913863636364,\"0.26392721999872604,1.0353437401553456\",\"2022-10-25\"],[7.877085101492537,\"0.26392721999872604,1.1040281882652134\",\"2022-10-25\"],[15.331698727272727,\"0.2837547123014125,1.0353437401553456\",\"2022-10-25\"],[12.623753818181818,\"0.2837547123014125,1.0696859642102794\",\"2022-10-25\"],[12.094080250000001,\"0.30358220460409907,1.0353437401553456\",\"2022-10-25\"],[16.453061224489797,\"0.30358220460409907,1.1040281882652134\",\"2022-10-25\"],[14.49178028301887,\"0.30358220460409907,1.1383704123201472\",\"2022-10-25\"],[13.11307928181818,\"0.32340969690678556,1.0010015161004118\",\"2022-10-25\"],[11.009988952020201,\"0.32340969690678556,1.1040281882652134\",\"2022-10-25\"],[11.377379526951147,\"0.32340969690678556,1.1383704123201472\",\"2022-10-25\"],[14.881920999999995,\"0.3432371892094721,1.0353437401553456\",\"2022-10-25\"],[12.181372549019608,\"0.3432371892094721,1.0696859642102794\",\"2022-10-25\"],[15.569795454545455,\"0.3630646815121586,1.0353437401553456\",\"2022-10-25\"],[16.56976087404659,\"0.3630646815121586,1.0696859642102794\",\"2022-10-25\"],[17.755300943396225,\"0.3630646815121586,1.1040281882652134\",\"2022-10-25\"],[10.405875849056605,\"0.38289217381484514,1.0010015161004118\",\"2022-10-25\"],[33.28939393939393,\"0.38289217381484514,1.0353437401553456\",\"2022-10-25\"],[21.28030303030303,\"0.38289217381484514,1.0696859642102794\",\"2022-10-25\"],[8.403863915094341,\"0.4027196661175316,1.0010015161004118\",\"2022-10-25\"],[15.193181818181818,\"0.4027196661175316,1.0353437401553456\",\"2022-10-25\"],[17.81560606060606,\"0.4027196661175316,1.1040281882652134\",\"2022-10-25\"]],\"geojson\":{\"type\":\"FeatureCollection\",\"features\":[{\"type\":\"Feature\",\"id\":\"0.25401347384738276,1.1211993002926803\",\"geometry\":{\"type\":\"Polygon\",\"coordinates\":[[[14.553899990911745,53.5113495848048],[15.121915804547777,53.705917582753145],[15.121915804547777,54.09236893756014],[14.553899990911745,54.28425616416384],[13.985884177275713,54.09236893756014],[13.985884177275713,53.705917582753145],[14.553899990911745,53.5113495848048]]]}},{\"type\":\"Feature\",\"id\":\"0.27384096615006925,1.0525148521828125\",\"geometry\":{\"type\":\"Polygon\",\"coordinates\":[[[15.689931618183808,51.10603061443655],[16.25794743181984,51.31148211396355],[16.25794743181984,51.71963908315648],[15.689931618183808,51.92234756770137],[15.121915804547776,51.71963908315648],[15.121915804547776,51.31148211396355],[15.689931618183808,51.10603061443655]]]}},{\"type\":\"Feature\",\"id\":\"0.27384096615006925,1.0868570762377463\",\"geometry\":{\"type\":\"Polygon\",\"coordinates\":[[[15.689931618183808,52.32503236711657],[16.25794743181984,52.52501192858379],[16.25794743181984,52.922253769480314],[15.689931618183808,53.11951951505613],[15.121915804547776,52.922253769480314],[15.121915804547776,52.52501192858379],[15.689931618183808,52.32503236711657]]]}},{\"type\":\"Feature\",\"id\":\"0.2936684584527558,1.0181726281278787\",\"geometry\":{\"type\":\"Polygon\",\"coordinates\":[[[16.825963245455874,49.8540108588769],[17.393979059091905,50.06498632551648],[17.393979059091905,50.48416681397755],[16.825963245455874,50.69237434982357],[16.25794743181984,50.48416681397755],[16.25794743181984,50.06498632551648],[16.825963245455874,49.8540108588769]]]}},{\"type\":\"Feature\",\"id\":\"0.2936684584527558,1.0868570762377463\",\"geometry\":{\"type\":\"Polygon\",\"coordinates\":[[[16.825963245455874,52.32503236711657],[17.393979059091905,52.52501192858379],[17.393979059091905,52.922253769480314],[16.825963245455874,53.11951951505613],[16.25794743181984,52.922253769480314],[16.25794743181984,52.52501192858379],[16.825963245455874,52.32503236711657]]]}},{\"type\":\"Feature\",\"id\":\"0.31349595075544234,1.0181726281278787\",\"geometry\":{\"type\":\"Polygon\",\"coordinates\":[[[17.96199487272794,49.8540108588769],[18.530010686363973,50.06498632551648],[18.530010686363973,50.48416681397755],[17.96199487272794,50.69237434982357],[17.393979059091905,50.48416681397755],[17.393979059091905,50.06498632551648],[17.96199487272794,49.8540108588769]]]}},{\"type\":\"Feature\",\"id\":\"0.31349595075544234,1.0525148521828125\",\"geometry\":{\"type\":\"Polygon\",\"coordinates\":[[[17.96199487272794,51.10603061443655],[18.530010686363973,51.31148211396355],[18.530010686363973,51.71963908315648],[17.96199487272794,51.92234756770137],[17.393979059091905,51.71963908315648],[17.393979059091905,51.31148211396355],[17.96199487272794,51.10603061443655]]]}},{\"type\":\"Feature\",\"id\":\"0.31349595075544234,1.1211993002926803\",\"geometry\":{\"type\":\"Polygon\",\"coordinates\":[[[17.96199487272794,53.5113495848048],[18.530010686363973,53.705917582753145],[18.530010686363973,54.09236893756014],[17.96199487272794,54.28425616416384],[17.393979059091905,54.09236893756014],[17.393979059091905,53.705917582753145],[17.96199487272794,53.5113495848048]]]}},{\"type\":\"Feature\",\"id\":\"0.33332344305812883,1.0181726281278787\",\"geometry\":{\"type\":\"Polygon\",\"coordinates\":[[[19.0980265,49.8540108588769],[19.666042313636034,50.06498632551648],[19.666042313636034,50.48416681397755],[19.0980265,50.69237434982357],[18.530010686363966,50.48416681397755],[18.530010686363966,50.06498632551648],[19.0980265,49.8540108588769]]]}},{\"type\":\"Feature\",\"id\":\"0.33332344305812883,1.0525148521828125\",\"geometry\":{\"type\":\"Polygon\",\"coordinates\":[[[19.0980265,51.10603061443655],[19.666042313636034,51.31148211396355],[19.666042313636034,51.71963908315648],[19.0980265,51.92234756770137],[18.530010686363966,51.71963908315648],[18.530010686363966,51.31148211396355],[19.0980265,51.10603061443655]]]}},{\"type\":\"Feature\",\"id\":\"0.33332344305812883,1.0868570762377463\",\"geometry\":{\"type\":\"Polygon\",\"coordinates\":[[[19.0980265,52.32503236711657],[19.666042313636034,52.52501192858379],[19.666042313636034,52.922253769480314],[19.0980265,53.11951951505613],[18.530010686363966,52.922253769480314],[18.530010686363966,52.52501192858379],[19.0980265,52.32503236711657]]]}},{\"type\":\"Feature\",\"id\":\"0.33332344305812883,1.1211993002926803\",\"geometry\":{\"type\":\"Polygon\",\"coordinates\":[[[19.0980265,53.5113495848048],[19.666042313636034,53.705917582753145],[19.666042313636034,54.09236893756014],[19.0980265,54.28425616416384],[18.530010686363966,54.09236893756014],[18.530010686363966,53.705917582753145],[19.0980265,53.5113495848048]]]}},{\"type\":\"Feature\",\"id\":\"0.3531509353608153,1.0181726281278787\",\"geometry\":{\"type\":\"Polygon\",\"coordinates\":[[[20.234058127272064,49.8540108588769],[20.802073940908095,50.06498632551648],[20.802073940908095,50.48416681397755],[20.234058127272064,50.69237434982357],[19.66604231363603,50.48416681397755],[19.66604231363603,50.06498632551648],[20.234058127272064,49.8540108588769]]]}},{\"type\":\"Feature\",\"id\":\"0.3531509353608153,1.0868570762377463\",\"geometry\":{\"type\":\"Polygon\",\"coordinates\":[[[20.234058127272064,52.32503236711657],[20.802073940908095,52.52501192858379],[20.802073940908095,52.922253769480314],[20.234058127272064,53.11951951505613],[19.66604231363603,52.922253769480314],[19.66604231363603,52.52501192858379],[20.234058127272064,52.32503236711657]]]}},{\"type\":\"Feature\",\"id\":\"0.3531509353608153,1.1211993002926803\",\"geometry\":{\"type\":\"Polygon\",\"coordinates\":[[[20.234058127272064,53.5113495848048],[20.802073940908095,53.705917582753145],[20.802073940908095,54.09236893756014],[20.234058127272064,54.28425616416384],[19.66604231363603,54.09236893756014],[19.66604231363603,53.705917582753145],[20.234058127272064,53.5113495848048]]]}},{\"type\":\"Feature\",\"id\":\"0.37297842766350187,1.0181726281278787\",\"geometry\":{\"type\":\"Polygon\",\"coordinates\":[[[21.37008975454413,49.8540108588769],[21.93810556818016,50.06498632551648],[21.93810556818016,50.48416681397755],[21.37008975454413,50.69237434982357],[20.802073940908095,50.48416681397755],[20.802073940908095,50.06498632551648],[21.37008975454413,49.8540108588769]]]}},{\"type\":\"Feature\",\"id\":\"0.37297842766350187,1.0525148521828125\",\"geometry\":{\"type\":\"Polygon\",\"coordinates\":[[[21.37008975454413,51.10603061443655],[21.93810556818016,51.31148211396355],[21.93810556818016,51.71963908315648],[21.37008975454413,51.92234756770137],[20.802073940908095,51.71963908315648],[20.802073940908095,51.31148211396355],[21.37008975454413,51.10603061443655]]]}},{\"type\":\"Feature\",\"id\":\"0.37297842766350187,1.0868570762377463\",\"geometry\":{\"type\":\"Polygon\",\"coordinates\":[[[21.37008975454413,52.32503236711657],[21.93810556818016,52.52501192858379],[21.93810556818016,52.922253769480314],[21.37008975454413,53.11951951505613],[20.802073940908095,52.922253769480314],[20.802073940908095,52.52501192858379],[21.37008975454413,52.32503236711657]]]}},{\"type\":\"Feature\",\"id\":\"0.3928059199661884,1.0181726281278787\",\"geometry\":{\"type\":\"Polygon\",\"coordinates\":[[[22.506121381816193,49.8540108588769],[23.074137195452227,50.06498632551648],[23.074137195452227,50.48416681397755],[22.506121381816193,50.69237434982357],[21.93810556818016,50.48416681397755],[21.93810556818016,50.06498632551648],[22.506121381816193,49.8540108588769]]]}},{\"type\":\"Feature\",\"id\":\"0.3928059199661884,1.0525148521828125\",\"geometry\":{\"type\":\"Polygon\",\"coordinates\":[[[22.506121381816193,51.10603061443655],[23.074137195452227,51.31148211396355],[23.074137195452227,51.71963908315648],[22.506121381816193,51.92234756770137],[21.93810556818016,51.71963908315648],[21.93810556818016,51.31148211396355],[22.506121381816193,51.10603061443655]]]}},{\"type\":\"Feature\",\"id\":\"0.3928059199661884,1.1211993002926803\",\"geometry\":{\"type\":\"Polygon\",\"coordinates\":[[[22.506121381816193,53.5113495848048],[23.074137195452227,53.705917582753145],[23.074137195452227,54.09236893756014],[22.506121381816193,54.28425616416384],[21.93810556818016,54.09236893756014],[21.93810556818016,53.705917582753145],[22.506121381816193,53.5113495848048]]]}},{\"type\":\"Feature\",\"id\":\"0.26392721999872604,1.0353437401553456\",\"geometry\":{\"type\":\"Polygon\",\"coordinates\":[[[15.121915804547777,50.48416681397755],[15.689931618183811,50.69237434982357],[15.689931618183811,51.10603061443655],[15.121915804547777,51.31148211396355],[14.553899990911745,51.10603061443655],[14.553899990911745,50.69237434982357],[15.121915804547777,50.48416681397755]]]}},{\"type\":\"Feature\",\"id\":\"0.26392721999872604,1.1040281882652134\",\"geometry\":{\"type\":\"Polygon\",\"coordinates\":[[[15.121915804547777,52.922253769480314],[15.689931618183811,53.11951951505616],[15.689931618183811,53.5113495848048],[15.121915804547777,53.705917582753145],[14.553899990911745,53.5113495848048],[14.553899990911745,53.11951951505616],[15.121915804547777,52.922253769480314]]]}},{\"type\":\"Feature\",\"id\":\"0.2837547123014125,1.0353437401553456\",\"geometry\":{\"type\":\"Polygon\",\"coordinates\":[[[16.25794743181984,50.48416681397755],[16.825963245455874,50.69237434982357],[16.825963245455874,51.10603061443655],[16.25794743181984,51.31148211396355],[15.689931618183808,51.10603061443655],[15.689931618183808,50.69237434982357],[16.25794743181984,50.48416681397755]]]}},{\"type\":\"Feature\",\"id\":\"0.2837547123014125,1.0696859642102794\",\"geometry\":{\"type\":\"Polygon\",\"coordinates\":[[[16.25794743181984,51.71963908315648],[16.825963245455874,51.92234756770137],[16.825963245455874,52.32503236711657],[16.25794743181984,52.52501192858379],[15.689931618183808,52.32503236711657],[15.689931618183808,51.92234756770137],[16.25794743181984,51.71963908315648]]]}},{\"type\":\"Feature\",\"id\":\"0.30358220460409907,1.0353437401553456\",\"geometry\":{\"type\":\"Polygon\",\"coordinates\":[[[17.393979059091905,50.48416681397755],[17.96199487272794,50.69237434982357],[17.96199487272794,51.10603061443655],[17.393979059091905,51.31148211396355],[16.825963245455874,51.10603061443655],[16.825963245455874,50.69237434982357],[17.393979059091905,50.48416681397755]]]}},{\"type\":\"Feature\",\"id\":\"0.30358220460409907,1.1040281882652134\",\"geometry\":{\"type\":\"Polygon\",\"coordinates\":[[[17.393979059091905,52.922253769480314],[17.96199487272794,53.11951951505616],[17.96199487272794,53.5113495848048],[17.393979059091905,53.705917582753145],[16.825963245455874,53.5113495848048],[16.825963245455874,53.11951951505616],[17.393979059091905,52.922253769480314]]]}},{\"type\":\"Feature\",\"id\":\"0.30358220460409907,1.1383704123201472\",\"geometry\":{\"type\":\"Polygon\",\"coordinates\":[[[17.393979059091905,54.09236893756014],[17.96199487272794,54.28425616416384],[17.96199487272794,54.66536362414315],[17.393979059091905,54.854587911846494],[16.825963245455874,54.66536362414315],[16.825963245455874,54.28425616416384],[17.393979059091905,54.09236893756014]]]}},{\"type\":\"Feature\",\"id\":\"0.32340969690678556,1.0010015161004118\",\"geometry\":{\"type\":\"Polygon\",\"coordinates\":[[[18.530010686363966,49.215529421067494],[19.0980265,49.42928352889036],[19.0980265,49.8540108588769],[18.530010686363966,50.06498632551648],[17.961994872727935,49.8540108588769],[17.961994872727935,49.42928352889036],[18.530010686363966,49.215529421067494]]]}},{\"type\":\"Feature\",\"id\":\"0.32340969690678556,1.1040281882652134\",\"geometry\":{\"type\":\"Polygon\",\"coordinates\":[[[18.530010686363966,52.922253769480314],[19.0980265,53.11951951505616],[19.0980265,53.5113495848048],[18.530010686363966,53.705917582753145],[17.961994872727935,53.5113495848048],[17.961994872727935,53.11951951505616],[18.530010686363966,52.922253769480314]]]}},{\"type\":\"Feature\",\"id\":\"0.32340969690678556,1.1383704123201472\",\"geometry\":{\"type\":\"Polygon\",\"coordinates\":[[[18.530010686363966,54.09236893756014],[19.0980265,54.28425616416384],[19.0980265,54.66536362414315],[18.530010686363966,54.854587911846494],[17.961994872727935,54.66536362414315],[17.961994872727935,54.28425616416384],[18.530010686363966,54.09236893756014]]]}},{\"type\":\"Feature\",\"id\":\"0.3432371892094721,1.0353437401553456\",\"geometry\":{\"type\":\"Polygon\",\"coordinates\":[[[19.666042313636034,50.48416681397755],[20.234058127272064,50.69237434982357],[20.234058127272064,51.10603061443655],[19.666042313636034,51.31148211396355],[19.0980265,51.10603061443655],[19.0980265,50.69237434982357],[19.666042313636034,50.48416681397755]]]}},{\"type\":\"Feature\",\"id\":\"0.3432371892094721,1.0696859642102794\",\"geometry\":{\"type\":\"Polygon\",\"coordinates\":[[[19.666042313636034,51.71963908315648],[20.234058127272064,51.92234756770137],[20.234058127272064,52.32503236711657],[19.666042313636034,52.52501192858379],[19.0980265,52.32503236711657],[19.0980265,51.92234756770137],[19.666042313636034,51.71963908315648]]]}},{\"type\":\"Feature\",\"id\":\"0.3630646815121586,1.0353437401553456\",\"geometry\":{\"type\":\"Polygon\",\"coordinates\":[[[20.802073940908095,50.48416681397755],[21.37008975454413,50.69237434982357],[21.37008975454413,51.10603061443655],[20.802073940908095,51.31148211396355],[20.234058127272064,51.10603061443655],[20.234058127272064,50.69237434982357],[20.802073940908095,50.48416681397755]]]}},{\"type\":\"Feature\",\"id\":\"0.3630646815121586,1.0696859642102794\",\"geometry\":{\"type\":\"Polygon\",\"coordinates\":[[[20.802073940908095,51.71963908315648],[21.37008975454413,51.92234756770137],[21.37008975454413,52.32503236711657],[20.802073940908095,52.52501192858379],[20.234058127272064,52.32503236711657],[20.234058127272064,51.92234756770137],[20.802073940908095,51.71963908315648]]]}},{\"type\":\"Feature\",\"id\":\"0.3630646815121586,1.1040281882652134\",\"geometry\":{\"type\":\"Polygon\",\"coordinates\":[[[20.802073940908095,52.922253769480314],[21.37008975454413,53.11951951505616],[21.37008975454413,53.5113495848048],[20.802073940908095,53.705917582753145],[20.234058127272064,53.5113495848048],[20.234058127272064,53.11951951505616],[20.802073940908095,52.922253769480314]]]}},{\"type\":\"Feature\",\"id\":\"0.38289217381484514,1.0010015161004118\",\"geometry\":{\"type\":\"Polygon\",\"coordinates\":[[[21.93810556818016,49.215529421067494],[22.506121381816193,49.42928352889036],[22.506121381816193,49.8540108588769],[21.93810556818016,50.06498632551648],[21.37008975454413,49.8540108588769],[21.37008975454413,49.42928352889036],[21.93810556818016,49.215529421067494]]]}},{\"type\":\"Feature\",\"id\":\"0.38289217381484514,1.0353437401553456\",\"geometry\":{\"type\":\"Polygon\",\"coordinates\":[[[21.93810556818016,50.48416681397755],[22.506121381816193,50.69237434982357],[22.506121381816193,51.10603061443655],[21.93810556818016,51.31148211396355],[21.37008975454413,51.10603061443655],[21.37008975454413,50.69237434982357],[21.93810556818016,50.48416681397755]]]}},{\"type\":\"Feature\",\"id\":\"0.38289217381484514,1.0696859642102794\",\"geometry\":{\"type\":\"Polygon\",\"coordinates\":[[[21.93810556818016,51.71963908315648],[22.506121381816193,51.92234756770137],[22.506121381816193,52.32503236711657],[21.93810556818016,52.52501192858379],[21.37008975454413,52.32503236711657],[21.37008975454413,51.92234756770137],[21.93810556818016,51.71963908315648]]]}},{\"type\":\"Feature\",\"id\":\"0.4027196661175316,1.0010015161004118\",\"geometry\":{\"type\":\"Polygon\",\"coordinates\":[[[23.074137195452224,49.215529421067494],[23.642153009088258,49.42928352889036],[23.642153009088258,49.8540108588769],[23.074137195452224,50.06498632551648],[22.50612138181619,49.8540108588769],[22.50612138181619,49.42928352889036],[23.074137195452224,49.215529421067494]]]}},{\"type\":\"Feature\",\"id\":\"0.4027196661175316,1.0353437401553456\",\"geometry\":{\"type\":\"Polygon\",\"coordinates\":[[[23.074137195452224,50.48416681397755],[23.642153009088258,50.69237434982357],[23.642153009088258,51.10603061443655],[23.074137195452224,51.31148211396355],[22.50612138181619,51.10603061443655],[22.50612138181619,50.69237434982357],[23.074137195452224,50.48416681397755]]]}},{\"type\":\"Feature\",\"id\":\"0.4027196661175316,1.1040281882652134\",\"geometry\":{\"type\":\"Polygon\",\"coordinates\":[[[23.074137195452224,52.922253769480314],[23.642153009088258,53.11951951505616],[23.642153009088258,53.5113495848048],[23.074137195452224,53.705917582753145],[22.50612138181619,53.5113495848048],[22.50612138181619,53.11951951505616],[23.074137195452224,52.922253769480314]]]}}]},\"hovertemplate\":\"Avg value=%{z}<extra></extra>\",\"locations\":[\"0.25401347384738276,1.1211993002926803\",\"0.27384096615006925,1.0525148521828125\",\"0.27384096615006925,1.0868570762377463\",\"0.2936684584527558,1.0181726281278787\",\"0.2936684584527558,1.0868570762377463\",\"0.31349595075544234,1.0181726281278787\",\"0.31349595075544234,1.0525148521828125\",\"0.31349595075544234,1.1211993002926803\",\"0.33332344305812883,1.0181726281278787\",\"0.33332344305812883,1.0525148521828125\",\"0.33332344305812883,1.0868570762377463\",\"0.33332344305812883,1.1211993002926803\",\"0.3531509353608153,1.0181726281278787\",\"0.3531509353608153,1.0868570762377463\",\"0.3531509353608153,1.1211993002926803\",\"0.37297842766350187,1.0181726281278787\",\"0.37297842766350187,1.0525148521828125\",\"0.37297842766350187,1.0868570762377463\",\"0.3928059199661884,1.0181726281278787\",\"0.3928059199661884,1.0525148521828125\",\"0.3928059199661884,1.1211993002926803\",\"0.26392721999872604,1.0353437401553456\",\"0.26392721999872604,1.1040281882652134\",\"0.2837547123014125,1.0353437401553456\",\"0.2837547123014125,1.0696859642102794\",\"0.30358220460409907,1.0353437401553456\",\"0.30358220460409907,1.1040281882652134\",\"0.30358220460409907,1.1383704123201472\",\"0.32340969690678556,1.0010015161004118\",\"0.32340969690678556,1.1040281882652134\",\"0.32340969690678556,1.1383704123201472\",\"0.3432371892094721,1.0353437401553456\",\"0.3432371892094721,1.0696859642102794\",\"0.3630646815121586,1.0353437401553456\",\"0.3630646815121586,1.0696859642102794\",\"0.3630646815121586,1.1040281882652134\",\"0.38289217381484514,1.0010015161004118\",\"0.38289217381484514,1.0353437401553456\",\"0.38289217381484514,1.0696859642102794\",\"0.4027196661175316,1.0010015161004118\",\"0.4027196661175316,1.0353437401553456\",\"0.4027196661175316,1.1040281882652134\"],\"marker\":{\"opacity\":0.5},\"name\":\"\",\"subplot\":\"mapbox\",\"z\":[8.25524355,5.0828247,8.482546636363637,14.562420395409317,18.224474769501708,12.362849035946196,15.188056581632654,14.652686226415094,13.917223242424242,12.444053549190535,17.66136363636364,9.321694834123223,18.446433359219554,11.56969696969697,16.637304942080018,9.62330957301811,8.112626262626264,17.79949494949495,12.445991735055443,22.892817679558014,20.765213579545453,20.222913863636364,7.877085101492537,15.331698727272727,12.623753818181818,12.094080250000001,16.453061224489797,14.49178028301887,13.11307928181818,11.009988952020201,11.377379526951147,14.881920999999995,12.181372549019608,15.569795454545455,16.56976087404659,17.755300943396225,10.405875849056605,33.28939393939393,21.28030303030303,8.403863915094341,15.193181818181818,17.81560606060606],\"type\":\"choroplethmapbox\"}],\"name\":\"2022-10-25\"},{\"data\":[{\"coloraxis\":\"coloraxis\",\"customdata\":[[11.695526608187134,\"0.25401347384738276,1.1211993002926803\",\"2022-10-26\"],[7.777199638554217,\"0.27384096615006925,1.0525148521828125\",\"2022-10-26\"],[14.165476075268815,\"0.27384096615006925,1.0868570762377463\",\"2022-10-26\"],[23.82128675576037,\"0.2936684584527558,1.0181726281278787\",\"2022-10-26\"],[19.21993000415924,\"0.2936684584527558,1.0868570762377463\",\"2022-10-26\"],[19.240609414905446,\"0.31349595075544234,1.0181726281278787\",\"2022-10-26\"],[27.08091402439024,\"0.31349595075544234,1.0525148521828125\",\"2022-10-26\"],[15.187003575418995,\"0.31349595075544234,1.1211993002926803\",\"2022-10-26\"],[18.504396455425915,\"0.33332344305812883,1.0181726281278787\",\"2022-10-26\"],[20.438178790983606,\"0.33332344305812883,1.0525148521828125\",\"2022-10-26\"],[26.299415204678365,\"0.33332344305812883,1.0868570762377463\",\"2022-10-26\"],[7.9703596153846155,\"0.33332344305812883,1.1211993002926803\",\"2022-10-26\"],[21.325614267256707,\"0.3531509353608153,1.0181726281278787\",\"2022-10-26\"],[18.363157894736844,\"0.3531509353608153,1.0868570762377463\",\"2022-10-26\"],[13.503693857142856,\"0.3531509353608153,1.1211993002926803\",\"2022-10-26\"],[13.544056471284271,\"0.37297842766350187,1.0181726281278787\",\"2022-10-26\"],[18.031952662721896,\"0.37297842766350187,1.0525148521828125\",\"2022-10-26\"],[13.860233918128655,\"0.37297842766350187,1.0868570762377463\",\"2022-10-26\"],[20.00741572830509,\"0.3928059199661884,1.0181726281278787\",\"2022-10-26\"],[28.22810457516339,\"0.3928059199661884,1.0525148521828125\",\"2022-10-26\"],[14.672083010562037,\"0.3928059199661884,1.1211993002926803\",\"2022-10-26\"],[23.369931451612903,\"0.26392721999872604,1.0353437401553456\",\"2022-10-26\"],[13.782598138343886,\"0.26392721999872604,1.1040281882652134\",\"2022-10-26\"],[20.346023548387098,\"0.2837547123014125,1.0353437401553456\",\"2022-10-26\"],[25.545917634408603,\"0.2837547123014125,1.0696859642102794\",\"2022-10-26\"],[17.501626459241223,\"0.30358220460409907,1.0353437401553456\",\"2022-10-26\"],[27.77904191616766,\"0.30358220460409907,1.1040281882652134\",\"2022-10-26\"],[29.236656353591158,\"0.30358220460409907,1.1383704123201472\",\"2022-10-26\"],[18.103823094078443,\"0.32340969690678556,1.0010015161004118\",\"2022-10-26\"],[15.434670749852938,\"0.32340969690678556,1.1040281882652134\",\"2022-10-26\"],[11.775198807666051,\"0.32340969690678556,1.1383704123201472\",\"2022-10-26\"],[13.380913975903614,\"0.3432371892094721,1.0353437401553456\",\"2022-10-26\"],[20.333333333333332,\"0.3432371892094721,1.0696859642102794\",\"2022-10-26\"],[22.60223032486845,\"0.3630646815121586,1.0353437401553456\",\"2022-10-26\"],[23.7130931733177,\"0.3630646815121586,1.0696859642102794\",\"2022-10-26\"],[18.52846316666667,\"0.3630646815121586,1.1040281882652134\",\"2022-10-26\"],[9.628471446577908,\"0.38289217381484514,1.0010015161004118\",\"2022-10-26\"],[40.473372781065095,\"0.38289217381484514,1.0353437401553456\",\"2022-10-26\"],[19.36315789473684,\"0.38289217381484514,1.0696859642102794\",\"2022-10-26\"],[14.118500888888889,\"0.4027196661175316,1.0010015161004118\",\"2022-10-26\"],[21.730851063829782,\"0.4027196661175316,1.0353437401553456\",\"2022-10-26\"],[13.49971211774575,\"0.4027196661175316,1.1040281882652134\",\"2022-10-26\"]],\"geojson\":{\"type\":\"FeatureCollection\",\"features\":[{\"type\":\"Feature\",\"id\":\"0.25401347384738276,1.1211993002926803\",\"geometry\":{\"type\":\"Polygon\",\"coordinates\":[[[14.553899990911745,53.5113495848048],[15.121915804547777,53.705917582753145],[15.121915804547777,54.09236893756014],[14.553899990911745,54.28425616416384],[13.985884177275713,54.09236893756014],[13.985884177275713,53.705917582753145],[14.553899990911745,53.5113495848048]]]}},{\"type\":\"Feature\",\"id\":\"0.27384096615006925,1.0525148521828125\",\"geometry\":{\"type\":\"Polygon\",\"coordinates\":[[[15.689931618183808,51.10603061443655],[16.25794743181984,51.31148211396355],[16.25794743181984,51.71963908315648],[15.689931618183808,51.92234756770137],[15.121915804547776,51.71963908315648],[15.121915804547776,51.31148211396355],[15.689931618183808,51.10603061443655]]]}},{\"type\":\"Feature\",\"id\":\"0.27384096615006925,1.0868570762377463\",\"geometry\":{\"type\":\"Polygon\",\"coordinates\":[[[15.689931618183808,52.32503236711657],[16.25794743181984,52.52501192858379],[16.25794743181984,52.922253769480314],[15.689931618183808,53.11951951505613],[15.121915804547776,52.922253769480314],[15.121915804547776,52.52501192858379],[15.689931618183808,52.32503236711657]]]}},{\"type\":\"Feature\",\"id\":\"0.2936684584527558,1.0181726281278787\",\"geometry\":{\"type\":\"Polygon\",\"coordinates\":[[[16.825963245455874,49.8540108588769],[17.393979059091905,50.06498632551648],[17.393979059091905,50.48416681397755],[16.825963245455874,50.69237434982357],[16.25794743181984,50.48416681397755],[16.25794743181984,50.06498632551648],[16.825963245455874,49.8540108588769]]]}},{\"type\":\"Feature\",\"id\":\"0.2936684584527558,1.0868570762377463\",\"geometry\":{\"type\":\"Polygon\",\"coordinates\":[[[16.825963245455874,52.32503236711657],[17.393979059091905,52.52501192858379],[17.393979059091905,52.922253769480314],[16.825963245455874,53.11951951505613],[16.25794743181984,52.922253769480314],[16.25794743181984,52.52501192858379],[16.825963245455874,52.32503236711657]]]}},{\"type\":\"Feature\",\"id\":\"0.31349595075544234,1.0181726281278787\",\"geometry\":{\"type\":\"Polygon\",\"coordinates\":[[[17.96199487272794,49.8540108588769],[18.530010686363973,50.06498632551648],[18.530010686363973,50.48416681397755],[17.96199487272794,50.69237434982357],[17.393979059091905,50.48416681397755],[17.393979059091905,50.06498632551648],[17.96199487272794,49.8540108588769]]]}},{\"type\":\"Feature\",\"id\":\"0.31349595075544234,1.0525148521828125\",\"geometry\":{\"type\":\"Polygon\",\"coordinates\":[[[17.96199487272794,51.10603061443655],[18.530010686363973,51.31148211396355],[18.530010686363973,51.71963908315648],[17.96199487272794,51.92234756770137],[17.393979059091905,51.71963908315648],[17.393979059091905,51.31148211396355],[17.96199487272794,51.10603061443655]]]}},{\"type\":\"Feature\",\"id\":\"0.31349595075544234,1.1211993002926803\",\"geometry\":{\"type\":\"Polygon\",\"coordinates\":[[[17.96199487272794,53.5113495848048],[18.530010686363973,53.705917582753145],[18.530010686363973,54.09236893756014],[17.96199487272794,54.28425616416384],[17.393979059091905,54.09236893756014],[17.393979059091905,53.705917582753145],[17.96199487272794,53.5113495848048]]]}},{\"type\":\"Feature\",\"id\":\"0.33332344305812883,1.0181726281278787\",\"geometry\":{\"type\":\"Polygon\",\"coordinates\":[[[19.0980265,49.8540108588769],[19.666042313636034,50.06498632551648],[19.666042313636034,50.48416681397755],[19.0980265,50.69237434982357],[18.530010686363966,50.48416681397755],[18.530010686363966,50.06498632551648],[19.0980265,49.8540108588769]]]}},{\"type\":\"Feature\",\"id\":\"0.33332344305812883,1.0525148521828125\",\"geometry\":{\"type\":\"Polygon\",\"coordinates\":[[[19.0980265,51.10603061443655],[19.666042313636034,51.31148211396355],[19.666042313636034,51.71963908315648],[19.0980265,51.92234756770137],[18.530010686363966,51.71963908315648],[18.530010686363966,51.31148211396355],[19.0980265,51.10603061443655]]]}},{\"type\":\"Feature\",\"id\":\"0.33332344305812883,1.0868570762377463\",\"geometry\":{\"type\":\"Polygon\",\"coordinates\":[[[19.0980265,52.32503236711657],[19.666042313636034,52.52501192858379],[19.666042313636034,52.922253769480314],[19.0980265,53.11951951505613],[18.530010686363966,52.922253769480314],[18.530010686363966,52.52501192858379],[19.0980265,52.32503236711657]]]}},{\"type\":\"Feature\",\"id\":\"0.33332344305812883,1.1211993002926803\",\"geometry\":{\"type\":\"Polygon\",\"coordinates\":[[[19.0980265,53.5113495848048],[19.666042313636034,53.705917582753145],[19.666042313636034,54.09236893756014],[19.0980265,54.28425616416384],[18.530010686363966,54.09236893756014],[18.530010686363966,53.705917582753145],[19.0980265,53.5113495848048]]]}},{\"type\":\"Feature\",\"id\":\"0.3531509353608153,1.0181726281278787\",\"geometry\":{\"type\":\"Polygon\",\"coordinates\":[[[20.234058127272064,49.8540108588769],[20.802073940908095,50.06498632551648],[20.802073940908095,50.48416681397755],[20.234058127272064,50.69237434982357],[19.66604231363603,50.48416681397755],[19.66604231363603,50.06498632551648],[20.234058127272064,49.8540108588769]]]}},{\"type\":\"Feature\",\"id\":\"0.3531509353608153,1.0868570762377463\",\"geometry\":{\"type\":\"Polygon\",\"coordinates\":[[[20.234058127272064,52.32503236711657],[20.802073940908095,52.52501192858379],[20.802073940908095,52.922253769480314],[20.234058127272064,53.11951951505613],[19.66604231363603,52.922253769480314],[19.66604231363603,52.52501192858379],[20.234058127272064,52.32503236711657]]]}},{\"type\":\"Feature\",\"id\":\"0.3531509353608153,1.1211993002926803\",\"geometry\":{\"type\":\"Polygon\",\"coordinates\":[[[20.234058127272064,53.5113495848048],[20.802073940908095,53.705917582753145],[20.802073940908095,54.09236893756014],[20.234058127272064,54.28425616416384],[19.66604231363603,54.09236893756014],[19.66604231363603,53.705917582753145],[20.234058127272064,53.5113495848048]]]}},{\"type\":\"Feature\",\"id\":\"0.37297842766350187,1.0181726281278787\",\"geometry\":{\"type\":\"Polygon\",\"coordinates\":[[[21.37008975454413,49.8540108588769],[21.93810556818016,50.06498632551648],[21.93810556818016,50.48416681397755],[21.37008975454413,50.69237434982357],[20.802073940908095,50.48416681397755],[20.802073940908095,50.06498632551648],[21.37008975454413,49.8540108588769]]]}},{\"type\":\"Feature\",\"id\":\"0.37297842766350187,1.0525148521828125\",\"geometry\":{\"type\":\"Polygon\",\"coordinates\":[[[21.37008975454413,51.10603061443655],[21.93810556818016,51.31148211396355],[21.93810556818016,51.71963908315648],[21.37008975454413,51.92234756770137],[20.802073940908095,51.71963908315648],[20.802073940908095,51.31148211396355],[21.37008975454413,51.10603061443655]]]}},{\"type\":\"Feature\",\"id\":\"0.37297842766350187,1.0868570762377463\",\"geometry\":{\"type\":\"Polygon\",\"coordinates\":[[[21.37008975454413,52.32503236711657],[21.93810556818016,52.52501192858379],[21.93810556818016,52.922253769480314],[21.37008975454413,53.11951951505613],[20.802073940908095,52.922253769480314],[20.802073940908095,52.52501192858379],[21.37008975454413,52.32503236711657]]]}},{\"type\":\"Feature\",\"id\":\"0.3928059199661884,1.0181726281278787\",\"geometry\":{\"type\":\"Polygon\",\"coordinates\":[[[22.506121381816193,49.8540108588769],[23.074137195452227,50.06498632551648],[23.074137195452227,50.48416681397755],[22.506121381816193,50.69237434982357],[21.93810556818016,50.48416681397755],[21.93810556818016,50.06498632551648],[22.506121381816193,49.8540108588769]]]}},{\"type\":\"Feature\",\"id\":\"0.3928059199661884,1.0525148521828125\",\"geometry\":{\"type\":\"Polygon\",\"coordinates\":[[[22.506121381816193,51.10603061443655],[23.074137195452227,51.31148211396355],[23.074137195452227,51.71963908315648],[22.506121381816193,51.92234756770137],[21.93810556818016,51.71963908315648],[21.93810556818016,51.31148211396355],[22.506121381816193,51.10603061443655]]]}},{\"type\":\"Feature\",\"id\":\"0.3928059199661884,1.1211993002926803\",\"geometry\":{\"type\":\"Polygon\",\"coordinates\":[[[22.506121381816193,53.5113495848048],[23.074137195452227,53.705917582753145],[23.074137195452227,54.09236893756014],[22.506121381816193,54.28425616416384],[21.93810556818016,54.09236893756014],[21.93810556818016,53.705917582753145],[22.506121381816193,53.5113495848048]]]}},{\"type\":\"Feature\",\"id\":\"0.26392721999872604,1.0353437401553456\",\"geometry\":{\"type\":\"Polygon\",\"coordinates\":[[[15.121915804547777,50.48416681397755],[15.689931618183811,50.69237434982357],[15.689931618183811,51.10603061443655],[15.121915804547777,51.31148211396355],[14.553899990911745,51.10603061443655],[14.553899990911745,50.69237434982357],[15.121915804547777,50.48416681397755]]]}},{\"type\":\"Feature\",\"id\":\"0.26392721999872604,1.1040281882652134\",\"geometry\":{\"type\":\"Polygon\",\"coordinates\":[[[15.121915804547777,52.922253769480314],[15.689931618183811,53.11951951505616],[15.689931618183811,53.5113495848048],[15.121915804547777,53.705917582753145],[14.553899990911745,53.5113495848048],[14.553899990911745,53.11951951505616],[15.121915804547777,52.922253769480314]]]}},{\"type\":\"Feature\",\"id\":\"0.2837547123014125,1.0353437401553456\",\"geometry\":{\"type\":\"Polygon\",\"coordinates\":[[[16.25794743181984,50.48416681397755],[16.825963245455874,50.69237434982357],[16.825963245455874,51.10603061443655],[16.25794743181984,51.31148211396355],[15.689931618183808,51.10603061443655],[15.689931618183808,50.69237434982357],[16.25794743181984,50.48416681397755]]]}},{\"type\":\"Feature\",\"id\":\"0.2837547123014125,1.0696859642102794\",\"geometry\":{\"type\":\"Polygon\",\"coordinates\":[[[16.25794743181984,51.71963908315648],[16.825963245455874,51.92234756770137],[16.825963245455874,52.32503236711657],[16.25794743181984,52.52501192858379],[15.689931618183808,52.32503236711657],[15.689931618183808,51.92234756770137],[16.25794743181984,51.71963908315648]]]}},{\"type\":\"Feature\",\"id\":\"0.30358220460409907,1.0353437401553456\",\"geometry\":{\"type\":\"Polygon\",\"coordinates\":[[[17.393979059091905,50.48416681397755],[17.96199487272794,50.69237434982357],[17.96199487272794,51.10603061443655],[17.393979059091905,51.31148211396355],[16.825963245455874,51.10603061443655],[16.825963245455874,50.69237434982357],[17.393979059091905,50.48416681397755]]]}},{\"type\":\"Feature\",\"id\":\"0.30358220460409907,1.1040281882652134\",\"geometry\":{\"type\":\"Polygon\",\"coordinates\":[[[17.393979059091905,52.922253769480314],[17.96199487272794,53.11951951505616],[17.96199487272794,53.5113495848048],[17.393979059091905,53.705917582753145],[16.825963245455874,53.5113495848048],[16.825963245455874,53.11951951505616],[17.393979059091905,52.922253769480314]]]}},{\"type\":\"Feature\",\"id\":\"0.30358220460409907,1.1383704123201472\",\"geometry\":{\"type\":\"Polygon\",\"coordinates\":[[[17.393979059091905,54.09236893756014],[17.96199487272794,54.28425616416384],[17.96199487272794,54.66536362414315],[17.393979059091905,54.854587911846494],[16.825963245455874,54.66536362414315],[16.825963245455874,54.28425616416384],[17.393979059091905,54.09236893756014]]]}},{\"type\":\"Feature\",\"id\":\"0.32340969690678556,1.0010015161004118\",\"geometry\":{\"type\":\"Polygon\",\"coordinates\":[[[18.530010686363966,49.215529421067494],[19.0980265,49.42928352889036],[19.0980265,49.8540108588769],[18.530010686363966,50.06498632551648],[17.961994872727935,49.8540108588769],[17.961994872727935,49.42928352889036],[18.530010686363966,49.215529421067494]]]}},{\"type\":\"Feature\",\"id\":\"0.32340969690678556,1.1040281882652134\",\"geometry\":{\"type\":\"Polygon\",\"coordinates\":[[[18.530010686363966,52.922253769480314],[19.0980265,53.11951951505616],[19.0980265,53.5113495848048],[18.530010686363966,53.705917582753145],[17.961994872727935,53.5113495848048],[17.961994872727935,53.11951951505616],[18.530010686363966,52.922253769480314]]]}},{\"type\":\"Feature\",\"id\":\"0.32340969690678556,1.1383704123201472\",\"geometry\":{\"type\":\"Polygon\",\"coordinates\":[[[18.530010686363966,54.09236893756014],[19.0980265,54.28425616416384],[19.0980265,54.66536362414315],[18.530010686363966,54.854587911846494],[17.961994872727935,54.66536362414315],[17.961994872727935,54.28425616416384],[18.530010686363966,54.09236893756014]]]}},{\"type\":\"Feature\",\"id\":\"0.3432371892094721,1.0353437401553456\",\"geometry\":{\"type\":\"Polygon\",\"coordinates\":[[[19.666042313636034,50.48416681397755],[20.234058127272064,50.69237434982357],[20.234058127272064,51.10603061443655],[19.666042313636034,51.31148211396355],[19.0980265,51.10603061443655],[19.0980265,50.69237434982357],[19.666042313636034,50.48416681397755]]]}},{\"type\":\"Feature\",\"id\":\"0.3432371892094721,1.0696859642102794\",\"geometry\":{\"type\":\"Polygon\",\"coordinates\":[[[19.666042313636034,51.71963908315648],[20.234058127272064,51.92234756770137],[20.234058127272064,52.32503236711657],[19.666042313636034,52.52501192858379],[19.0980265,52.32503236711657],[19.0980265,51.92234756770137],[19.666042313636034,51.71963908315648]]]}},{\"type\":\"Feature\",\"id\":\"0.3630646815121586,1.0353437401553456\",\"geometry\":{\"type\":\"Polygon\",\"coordinates\":[[[20.802073940908095,50.48416681397755],[21.37008975454413,50.69237434982357],[21.37008975454413,51.10603061443655],[20.802073940908095,51.31148211396355],[20.234058127272064,51.10603061443655],[20.234058127272064,50.69237434982357],[20.802073940908095,50.48416681397755]]]}},{\"type\":\"Feature\",\"id\":\"0.3630646815121586,1.0696859642102794\",\"geometry\":{\"type\":\"Polygon\",\"coordinates\":[[[20.802073940908095,51.71963908315648],[21.37008975454413,51.92234756770137],[21.37008975454413,52.32503236711657],[20.802073940908095,52.52501192858379],[20.234058127272064,52.32503236711657],[20.234058127272064,51.92234756770137],[20.802073940908095,51.71963908315648]]]}},{\"type\":\"Feature\",\"id\":\"0.3630646815121586,1.1040281882652134\",\"geometry\":{\"type\":\"Polygon\",\"coordinates\":[[[20.802073940908095,52.922253769480314],[21.37008975454413,53.11951951505616],[21.37008975454413,53.5113495848048],[20.802073940908095,53.705917582753145],[20.234058127272064,53.5113495848048],[20.234058127272064,53.11951951505616],[20.802073940908095,52.922253769480314]]]}},{\"type\":\"Feature\",\"id\":\"0.38289217381484514,1.0010015161004118\",\"geometry\":{\"type\":\"Polygon\",\"coordinates\":[[[21.93810556818016,49.215529421067494],[22.506121381816193,49.42928352889036],[22.506121381816193,49.8540108588769],[21.93810556818016,50.06498632551648],[21.37008975454413,49.8540108588769],[21.37008975454413,49.42928352889036],[21.93810556818016,49.215529421067494]]]}},{\"type\":\"Feature\",\"id\":\"0.38289217381484514,1.0353437401553456\",\"geometry\":{\"type\":\"Polygon\",\"coordinates\":[[[21.93810556818016,50.48416681397755],[22.506121381816193,50.69237434982357],[22.506121381816193,51.10603061443655],[21.93810556818016,51.31148211396355],[21.37008975454413,51.10603061443655],[21.37008975454413,50.69237434982357],[21.93810556818016,50.48416681397755]]]}},{\"type\":\"Feature\",\"id\":\"0.38289217381484514,1.0696859642102794\",\"geometry\":{\"type\":\"Polygon\",\"coordinates\":[[[21.93810556818016,51.71963908315648],[22.506121381816193,51.92234756770137],[22.506121381816193,52.32503236711657],[21.93810556818016,52.52501192858379],[21.37008975454413,52.32503236711657],[21.37008975454413,51.92234756770137],[21.93810556818016,51.71963908315648]]]}},{\"type\":\"Feature\",\"id\":\"0.4027196661175316,1.0010015161004118\",\"geometry\":{\"type\":\"Polygon\",\"coordinates\":[[[23.074137195452224,49.215529421067494],[23.642153009088258,49.42928352889036],[23.642153009088258,49.8540108588769],[23.074137195452224,50.06498632551648],[22.50612138181619,49.8540108588769],[22.50612138181619,49.42928352889036],[23.074137195452224,49.215529421067494]]]}},{\"type\":\"Feature\",\"id\":\"0.4027196661175316,1.0353437401553456\",\"geometry\":{\"type\":\"Polygon\",\"coordinates\":[[[23.074137195452224,50.48416681397755],[23.642153009088258,50.69237434982357],[23.642153009088258,51.10603061443655],[23.074137195452224,51.31148211396355],[22.50612138181619,51.10603061443655],[22.50612138181619,50.69237434982357],[23.074137195452224,50.48416681397755]]]}},{\"type\":\"Feature\",\"id\":\"0.4027196661175316,1.1040281882652134\",\"geometry\":{\"type\":\"Polygon\",\"coordinates\":[[[23.074137195452224,52.922253769480314],[23.642153009088258,53.11951951505616],[23.642153009088258,53.5113495848048],[23.074137195452224,53.705917582753145],[22.50612138181619,53.5113495848048],[22.50612138181619,53.11951951505616],[23.074137195452224,52.922253769480314]]]}}]},\"hovertemplate\":\"Avg value=%{z}<extra></extra>\",\"locations\":[\"0.25401347384738276,1.1211993002926803\",\"0.27384096615006925,1.0525148521828125\",\"0.27384096615006925,1.0868570762377463\",\"0.2936684584527558,1.0181726281278787\",\"0.2936684584527558,1.0868570762377463\",\"0.31349595075544234,1.0181726281278787\",\"0.31349595075544234,1.0525148521828125\",\"0.31349595075544234,1.1211993002926803\",\"0.33332344305812883,1.0181726281278787\",\"0.33332344305812883,1.0525148521828125\",\"0.33332344305812883,1.0868570762377463\",\"0.33332344305812883,1.1211993002926803\",\"0.3531509353608153,1.0181726281278787\",\"0.3531509353608153,1.0868570762377463\",\"0.3531509353608153,1.1211993002926803\",\"0.37297842766350187,1.0181726281278787\",\"0.37297842766350187,1.0525148521828125\",\"0.37297842766350187,1.0868570762377463\",\"0.3928059199661884,1.0181726281278787\",\"0.3928059199661884,1.0525148521828125\",\"0.3928059199661884,1.1211993002926803\",\"0.26392721999872604,1.0353437401553456\",\"0.26392721999872604,1.1040281882652134\",\"0.2837547123014125,1.0353437401553456\",\"0.2837547123014125,1.0696859642102794\",\"0.30358220460409907,1.0353437401553456\",\"0.30358220460409907,1.1040281882652134\",\"0.30358220460409907,1.1383704123201472\",\"0.32340969690678556,1.0010015161004118\",\"0.32340969690678556,1.1040281882652134\",\"0.32340969690678556,1.1383704123201472\",\"0.3432371892094721,1.0353437401553456\",\"0.3432371892094721,1.0696859642102794\",\"0.3630646815121586,1.0353437401553456\",\"0.3630646815121586,1.0696859642102794\",\"0.3630646815121586,1.1040281882652134\",\"0.38289217381484514,1.0010015161004118\",\"0.38289217381484514,1.0353437401553456\",\"0.38289217381484514,1.0696859642102794\",\"0.4027196661175316,1.0010015161004118\",\"0.4027196661175316,1.0353437401553456\",\"0.4027196661175316,1.1040281882652134\"],\"marker\":{\"opacity\":0.5},\"name\":\"\",\"subplot\":\"mapbox\",\"z\":[11.695526608187134,7.777199638554217,14.165476075268815,23.82128675576037,19.21993000415924,19.240609414905446,27.08091402439024,15.187003575418995,18.504396455425915,20.438178790983606,26.299415204678365,7.9703596153846155,21.325614267256707,18.363157894736844,13.503693857142856,13.544056471284271,18.031952662721896,13.860233918128655,20.00741572830509,28.22810457516339,14.672083010562037,23.369931451612903,13.782598138343886,20.346023548387098,25.545917634408603,17.501626459241223,27.77904191616766,29.236656353591158,18.103823094078443,15.434670749852938,11.775198807666051,13.380913975903614,20.333333333333332,22.60223032486845,23.7130931733177,18.52846316666667,9.628471446577908,40.473372781065095,19.36315789473684,14.118500888888889,21.730851063829782,13.49971211774575],\"type\":\"choroplethmapbox\"}],\"name\":\"2022-10-26\"},{\"data\":[{\"coloraxis\":\"coloraxis\",\"customdata\":[[13.427831377551023,\"0.25401347384738276,1.1211993002926803\",\"2022-10-27\"],[10.97567595744681,\"0.27384096615006925,1.0525148521828125\",\"2022-10-27\"],[21.298383177570095,\"0.27384096615006925,1.0868570762377463\",\"2022-10-27\"],[31.48129284404219,\"0.2936684584527558,1.0181726281278787\",\"2022-10-27\"],[26.793246164194297,\"0.2936684584527558,1.0868570762377463\",\"2022-10-27\"],[23.970037361473654,\"0.31349595075544234,1.0181726281278787\",\"2022-10-27\"],[38.68703723404255,\"0.31349595075544234,1.0525148521828125\",\"2022-10-27\"],[29.816258252427183,\"0.31349595075544234,1.1211993002926803\",\"2022-10-27\"],[27.155382356589143,\"0.33332344305812883,1.0181726281278787\",\"2022-10-27\"],[28.273471859089035,\"0.33332344305812883,1.0525148521828125\",\"2022-10-27\"],[42.03199159498327,\"0.33332344305812883,1.0868570762377463\",\"2022-10-27\"],[10.229873509615384,\"0.33332344305812883,1.1211993002926803\",\"2022-10-27\"],[30.96021424324003,\"0.3531509353608153,1.0181726281278787\",\"2022-10-27\"],[24.491237113402065,\"0.3531509353608153,1.0868570762377463\",\"2022-10-27\"],[25.40443968301435,\"0.3531509353608153,1.1211993002926803\",\"2022-10-27\"],[17.466254001587004,\"0.37297842766350187,1.0181726281278787\",\"2022-10-27\"],[18.667010309278353,\"0.37297842766350187,1.0525148521828125\",\"2022-10-27\"],[22.236597938144328,\"0.37297842766350187,1.0868570762377463\",\"2022-10-27\"],[24.60985037017495,\"0.3928059199661884,1.0181726281278787\",\"2022-10-27\"],[41.328,\"0.3928059199661884,1.0525148521828125\",\"2022-10-27\"],[24.35429923500612,\"0.3928059199661884,1.1211993002926803\",\"2022-10-27\"],[34.94935255813953,\"0.26392721999872604,1.0353437401553456\",\"2022-10-27\"],[14.296180434589221,\"0.26392721999872604,1.1040281882652134\",\"2022-10-27\"],[27.27089697674419,\"0.2837547123014125,1.0353437401553456\",\"2022-10-27\"],[39.80416822429907,\"0.2837547123014125,1.0696859642102794\",\"2022-10-27\"],[26.633967784577717,\"0.30358220460409907,1.0353437401553456\",\"2022-10-27\"],[47.532474226804126,\"0.30358220460409907,1.1040281882652134\",\"2022-10-27\"],[28.849959708737867,\"0.30358220460409907,1.1383704123201472\",\"2022-10-27\"],[26.321946019583837,\"0.32340969690678556,1.0010015161004118\",\"2022-10-27\"],[24.55307177274765,\"0.32340969690678556,1.1040281882652134\",\"2022-10-27\"],[20.879099022421364,\"0.32340969690678556,1.1383704123201472\",\"2022-10-27\"],[19.230008421052627,\"0.3432371892094721,1.0353437401553456\",\"2022-10-27\"],[16.935095137420717,\"0.3432371892094721,1.0696859642102794\",\"2022-10-27\"],[33.811388888888885,\"0.3630646815121586,1.0353437401553456\",\"2022-10-27\"],[30.59239246356203,\"0.3630646815121586,1.0696859642102794\",\"2022-10-27\"],[47.39698564593302,\"0.3630646815121586,1.1040281882652134\",\"2022-10-27\"],[13.606957645631066,\"0.38289217381484514,1.0010015161004118\",\"2022-10-27\"],[53.36185567010309,\"0.38289217381484514,1.0353437401553456\",\"2022-10-27\"],[23.437078651685393,\"0.38289217381484514,1.0696859642102794\",\"2022-10-27\"],[13.047106310679617,\"0.4027196661175316,1.0010015161004118\",\"2022-10-27\"],[26.87302325581395,\"0.4027196661175316,1.0353437401553456\",\"2022-10-27\"],[24.422945736434105,\"0.4027196661175316,1.1040281882652134\",\"2022-10-27\"]],\"geojson\":{\"type\":\"FeatureCollection\",\"features\":[{\"type\":\"Feature\",\"id\":\"0.25401347384738276,1.1211993002926803\",\"geometry\":{\"type\":\"Polygon\",\"coordinates\":[[[14.553899990911745,53.5113495848048],[15.121915804547777,53.705917582753145],[15.121915804547777,54.09236893756014],[14.553899990911745,54.28425616416384],[13.985884177275713,54.09236893756014],[13.985884177275713,53.705917582753145],[14.553899990911745,53.5113495848048]]]}},{\"type\":\"Feature\",\"id\":\"0.27384096615006925,1.0525148521828125\",\"geometry\":{\"type\":\"Polygon\",\"coordinates\":[[[15.689931618183808,51.10603061443655],[16.25794743181984,51.31148211396355],[16.25794743181984,51.71963908315648],[15.689931618183808,51.92234756770137],[15.121915804547776,51.71963908315648],[15.121915804547776,51.31148211396355],[15.689931618183808,51.10603061443655]]]}},{\"type\":\"Feature\",\"id\":\"0.27384096615006925,1.0868570762377463\",\"geometry\":{\"type\":\"Polygon\",\"coordinates\":[[[15.689931618183808,52.32503236711657],[16.25794743181984,52.52501192858379],[16.25794743181984,52.922253769480314],[15.689931618183808,53.11951951505613],[15.121915804547776,52.922253769480314],[15.121915804547776,52.52501192858379],[15.689931618183808,52.32503236711657]]]}},{\"type\":\"Feature\",\"id\":\"0.2936684584527558,1.0181726281278787\",\"geometry\":{\"type\":\"Polygon\",\"coordinates\":[[[16.825963245455874,49.8540108588769],[17.393979059091905,50.06498632551648],[17.393979059091905,50.48416681397755],[16.825963245455874,50.69237434982357],[16.25794743181984,50.48416681397755],[16.25794743181984,50.06498632551648],[16.825963245455874,49.8540108588769]]]}},{\"type\":\"Feature\",\"id\":\"0.2936684584527558,1.0868570762377463\",\"geometry\":{\"type\":\"Polygon\",\"coordinates\":[[[16.825963245455874,52.32503236711657],[17.393979059091905,52.52501192858379],[17.393979059091905,52.922253769480314],[16.825963245455874,53.11951951505613],[16.25794743181984,52.922253769480314],[16.25794743181984,52.52501192858379],[16.825963245455874,52.32503236711657]]]}},{\"type\":\"Feature\",\"id\":\"0.31349595075544234,1.0181726281278787\",\"geometry\":{\"type\":\"Polygon\",\"coordinates\":[[[17.96199487272794,49.8540108588769],[18.530010686363973,50.06498632551648],[18.530010686363973,50.48416681397755],[17.96199487272794,50.69237434982357],[17.393979059091905,50.48416681397755],[17.393979059091905,50.06498632551648],[17.96199487272794,49.8540108588769]]]}},{\"type\":\"Feature\",\"id\":\"0.31349595075544234,1.0525148521828125\",\"geometry\":{\"type\":\"Polygon\",\"coordinates\":[[[17.96199487272794,51.10603061443655],[18.530010686363973,51.31148211396355],[18.530010686363973,51.71963908315648],[17.96199487272794,51.92234756770137],[17.393979059091905,51.71963908315648],[17.393979059091905,51.31148211396355],[17.96199487272794,51.10603061443655]]]}},{\"type\":\"Feature\",\"id\":\"0.31349595075544234,1.1211993002926803\",\"geometry\":{\"type\":\"Polygon\",\"coordinates\":[[[17.96199487272794,53.5113495848048],[18.530010686363973,53.705917582753145],[18.530010686363973,54.09236893756014],[17.96199487272794,54.28425616416384],[17.393979059091905,54.09236893756014],[17.393979059091905,53.705917582753145],[17.96199487272794,53.5113495848048]]]}},{\"type\":\"Feature\",\"id\":\"0.33332344305812883,1.0181726281278787\",\"geometry\":{\"type\":\"Polygon\",\"coordinates\":[[[19.0980265,49.8540108588769],[19.666042313636034,50.06498632551648],[19.666042313636034,50.48416681397755],[19.0980265,50.69237434982357],[18.530010686363966,50.48416681397755],[18.530010686363966,50.06498632551648],[19.0980265,49.8540108588769]]]}},{\"type\":\"Feature\",\"id\":\"0.33332344305812883,1.0525148521828125\",\"geometry\":{\"type\":\"Polygon\",\"coordinates\":[[[19.0980265,51.10603061443655],[19.666042313636034,51.31148211396355],[19.666042313636034,51.71963908315648],[19.0980265,51.92234756770137],[18.530010686363966,51.71963908315648],[18.530010686363966,51.31148211396355],[19.0980265,51.10603061443655]]]}},{\"type\":\"Feature\",\"id\":\"0.33332344305812883,1.0868570762377463\",\"geometry\":{\"type\":\"Polygon\",\"coordinates\":[[[19.0980265,52.32503236711657],[19.666042313636034,52.52501192858379],[19.666042313636034,52.922253769480314],[19.0980265,53.11951951505613],[18.530010686363966,52.922253769480314],[18.530010686363966,52.52501192858379],[19.0980265,52.32503236711657]]]}},{\"type\":\"Feature\",\"id\":\"0.33332344305812883,1.1211993002926803\",\"geometry\":{\"type\":\"Polygon\",\"coordinates\":[[[19.0980265,53.5113495848048],[19.666042313636034,53.705917582753145],[19.666042313636034,54.09236893756014],[19.0980265,54.28425616416384],[18.530010686363966,54.09236893756014],[18.530010686363966,53.705917582753145],[19.0980265,53.5113495848048]]]}},{\"type\":\"Feature\",\"id\":\"0.3531509353608153,1.0181726281278787\",\"geometry\":{\"type\":\"Polygon\",\"coordinates\":[[[20.234058127272064,49.8540108588769],[20.802073940908095,50.06498632551648],[20.802073940908095,50.48416681397755],[20.234058127272064,50.69237434982357],[19.66604231363603,50.48416681397755],[19.66604231363603,50.06498632551648],[20.234058127272064,49.8540108588769]]]}},{\"type\":\"Feature\",\"id\":\"0.3531509353608153,1.0868570762377463\",\"geometry\":{\"type\":\"Polygon\",\"coordinates\":[[[20.234058127272064,52.32503236711657],[20.802073940908095,52.52501192858379],[20.802073940908095,52.922253769480314],[20.234058127272064,53.11951951505613],[19.66604231363603,52.922253769480314],[19.66604231363603,52.52501192858379],[20.234058127272064,52.32503236711657]]]}},{\"type\":\"Feature\",\"id\":\"0.3531509353608153,1.1211993002926803\",\"geometry\":{\"type\":\"Polygon\",\"coordinates\":[[[20.234058127272064,53.5113495848048],[20.802073940908095,53.705917582753145],[20.802073940908095,54.09236893756014],[20.234058127272064,54.28425616416384],[19.66604231363603,54.09236893756014],[19.66604231363603,53.705917582753145],[20.234058127272064,53.5113495848048]]]}},{\"type\":\"Feature\",\"id\":\"0.37297842766350187,1.0181726281278787\",\"geometry\":{\"type\":\"Polygon\",\"coordinates\":[[[21.37008975454413,49.8540108588769],[21.93810556818016,50.06498632551648],[21.93810556818016,50.48416681397755],[21.37008975454413,50.69237434982357],[20.802073940908095,50.48416681397755],[20.802073940908095,50.06498632551648],[21.37008975454413,49.8540108588769]]]}},{\"type\":\"Feature\",\"id\":\"0.37297842766350187,1.0525148521828125\",\"geometry\":{\"type\":\"Polygon\",\"coordinates\":[[[21.37008975454413,51.10603061443655],[21.93810556818016,51.31148211396355],[21.93810556818016,51.71963908315648],[21.37008975454413,51.92234756770137],[20.802073940908095,51.71963908315648],[20.802073940908095,51.31148211396355],[21.37008975454413,51.10603061443655]]]}},{\"type\":\"Feature\",\"id\":\"0.37297842766350187,1.0868570762377463\",\"geometry\":{\"type\":\"Polygon\",\"coordinates\":[[[21.37008975454413,52.32503236711657],[21.93810556818016,52.52501192858379],[21.93810556818016,52.922253769480314],[21.37008975454413,53.11951951505613],[20.802073940908095,52.922253769480314],[20.802073940908095,52.52501192858379],[21.37008975454413,52.32503236711657]]]}},{\"type\":\"Feature\",\"id\":\"0.3928059199661884,1.0181726281278787\",\"geometry\":{\"type\":\"Polygon\",\"coordinates\":[[[22.506121381816193,49.8540108588769],[23.074137195452227,50.06498632551648],[23.074137195452227,50.48416681397755],[22.506121381816193,50.69237434982357],[21.93810556818016,50.48416681397755],[21.93810556818016,50.06498632551648],[22.506121381816193,49.8540108588769]]]}},{\"type\":\"Feature\",\"id\":\"0.3928059199661884,1.0525148521828125\",\"geometry\":{\"type\":\"Polygon\",\"coordinates\":[[[22.506121381816193,51.10603061443655],[23.074137195452227,51.31148211396355],[23.074137195452227,51.71963908315648],[22.506121381816193,51.92234756770137],[21.93810556818016,51.71963908315648],[21.93810556818016,51.31148211396355],[22.506121381816193,51.10603061443655]]]}},{\"type\":\"Feature\",\"id\":\"0.3928059199661884,1.1211993002926803\",\"geometry\":{\"type\":\"Polygon\",\"coordinates\":[[[22.506121381816193,53.5113495848048],[23.074137195452227,53.705917582753145],[23.074137195452227,54.09236893756014],[22.506121381816193,54.28425616416384],[21.93810556818016,54.09236893756014],[21.93810556818016,53.705917582753145],[22.506121381816193,53.5113495848048]]]}},{\"type\":\"Feature\",\"id\":\"0.26392721999872604,1.0353437401553456\",\"geometry\":{\"type\":\"Polygon\",\"coordinates\":[[[15.121915804547777,50.48416681397755],[15.689931618183811,50.69237434982357],[15.689931618183811,51.10603061443655],[15.121915804547777,51.31148211396355],[14.553899990911745,51.10603061443655],[14.553899990911745,50.69237434982357],[15.121915804547777,50.48416681397755]]]}},{\"type\":\"Feature\",\"id\":\"0.26392721999872604,1.1040281882652134\",\"geometry\":{\"type\":\"Polygon\",\"coordinates\":[[[15.121915804547777,52.922253769480314],[15.689931618183811,53.11951951505616],[15.689931618183811,53.5113495848048],[15.121915804547777,53.705917582753145],[14.553899990911745,53.5113495848048],[14.553899990911745,53.11951951505616],[15.121915804547777,52.922253769480314]]]}},{\"type\":\"Feature\",\"id\":\"0.2837547123014125,1.0353437401553456\",\"geometry\":{\"type\":\"Polygon\",\"coordinates\":[[[16.25794743181984,50.48416681397755],[16.825963245455874,50.69237434982357],[16.825963245455874,51.10603061443655],[16.25794743181984,51.31148211396355],[15.689931618183808,51.10603061443655],[15.689931618183808,50.69237434982357],[16.25794743181984,50.48416681397755]]]}},{\"type\":\"Feature\",\"id\":\"0.2837547123014125,1.0696859642102794\",\"geometry\":{\"type\":\"Polygon\",\"coordinates\":[[[16.25794743181984,51.71963908315648],[16.825963245455874,51.92234756770137],[16.825963245455874,52.32503236711657],[16.25794743181984,52.52501192858379],[15.689931618183808,52.32503236711657],[15.689931618183808,51.92234756770137],[16.25794743181984,51.71963908315648]]]}},{\"type\":\"Feature\",\"id\":\"0.30358220460409907,1.0353437401553456\",\"geometry\":{\"type\":\"Polygon\",\"coordinates\":[[[17.393979059091905,50.48416681397755],[17.96199487272794,50.69237434982357],[17.96199487272794,51.10603061443655],[17.393979059091905,51.31148211396355],[16.825963245455874,51.10603061443655],[16.825963245455874,50.69237434982357],[17.393979059091905,50.48416681397755]]]}},{\"type\":\"Feature\",\"id\":\"0.30358220460409907,1.1040281882652134\",\"geometry\":{\"type\":\"Polygon\",\"coordinates\":[[[17.393979059091905,52.922253769480314],[17.96199487272794,53.11951951505616],[17.96199487272794,53.5113495848048],[17.393979059091905,53.705917582753145],[16.825963245455874,53.5113495848048],[16.825963245455874,53.11951951505616],[17.393979059091905,52.922253769480314]]]}},{\"type\":\"Feature\",\"id\":\"0.30358220460409907,1.1383704123201472\",\"geometry\":{\"type\":\"Polygon\",\"coordinates\":[[[17.393979059091905,54.09236893756014],[17.96199487272794,54.28425616416384],[17.96199487272794,54.66536362414315],[17.393979059091905,54.854587911846494],[16.825963245455874,54.66536362414315],[16.825963245455874,54.28425616416384],[17.393979059091905,54.09236893756014]]]}},{\"type\":\"Feature\",\"id\":\"0.32340969690678556,1.0010015161004118\",\"geometry\":{\"type\":\"Polygon\",\"coordinates\":[[[18.530010686363966,49.215529421067494],[19.0980265,49.42928352889036],[19.0980265,49.8540108588769],[18.530010686363966,50.06498632551648],[17.961994872727935,49.8540108588769],[17.961994872727935,49.42928352889036],[18.530010686363966,49.215529421067494]]]}},{\"type\":\"Feature\",\"id\":\"0.32340969690678556,1.1040281882652134\",\"geometry\":{\"type\":\"Polygon\",\"coordinates\":[[[18.530010686363966,52.922253769480314],[19.0980265,53.11951951505616],[19.0980265,53.5113495848048],[18.530010686363966,53.705917582753145],[17.961994872727935,53.5113495848048],[17.961994872727935,53.11951951505616],[18.530010686363966,52.922253769480314]]]}},{\"type\":\"Feature\",\"id\":\"0.32340969690678556,1.1383704123201472\",\"geometry\":{\"type\":\"Polygon\",\"coordinates\":[[[18.530010686363966,54.09236893756014],[19.0980265,54.28425616416384],[19.0980265,54.66536362414315],[18.530010686363966,54.854587911846494],[17.961994872727935,54.66536362414315],[17.961994872727935,54.28425616416384],[18.530010686363966,54.09236893756014]]]}},{\"type\":\"Feature\",\"id\":\"0.3432371892094721,1.0353437401553456\",\"geometry\":{\"type\":\"Polygon\",\"coordinates\":[[[19.666042313636034,50.48416681397755],[20.234058127272064,50.69237434982357],[20.234058127272064,51.10603061443655],[19.666042313636034,51.31148211396355],[19.0980265,51.10603061443655],[19.0980265,50.69237434982357],[19.666042313636034,50.48416681397755]]]}},{\"type\":\"Feature\",\"id\":\"0.3432371892094721,1.0696859642102794\",\"geometry\":{\"type\":\"Polygon\",\"coordinates\":[[[19.666042313636034,51.71963908315648],[20.234058127272064,51.92234756770137],[20.234058127272064,52.32503236711657],[19.666042313636034,52.52501192858379],[19.0980265,52.32503236711657],[19.0980265,51.92234756770137],[19.666042313636034,51.71963908315648]]]}},{\"type\":\"Feature\",\"id\":\"0.3630646815121586,1.0353437401553456\",\"geometry\":{\"type\":\"Polygon\",\"coordinates\":[[[20.802073940908095,50.48416681397755],[21.37008975454413,50.69237434982357],[21.37008975454413,51.10603061443655],[20.802073940908095,51.31148211396355],[20.234058127272064,51.10603061443655],[20.234058127272064,50.69237434982357],[20.802073940908095,50.48416681397755]]]}},{\"type\":\"Feature\",\"id\":\"0.3630646815121586,1.0696859642102794\",\"geometry\":{\"type\":\"Polygon\",\"coordinates\":[[[20.802073940908095,51.71963908315648],[21.37008975454413,51.92234756770137],[21.37008975454413,52.32503236711657],[20.802073940908095,52.52501192858379],[20.234058127272064,52.32503236711657],[20.234058127272064,51.92234756770137],[20.802073940908095,51.71963908315648]]]}},{\"type\":\"Feature\",\"id\":\"0.3630646815121586,1.1040281882652134\",\"geometry\":{\"type\":\"Polygon\",\"coordinates\":[[[20.802073940908095,52.922253769480314],[21.37008975454413,53.11951951505616],[21.37008975454413,53.5113495848048],[20.802073940908095,53.705917582753145],[20.234058127272064,53.5113495848048],[20.234058127272064,53.11951951505616],[20.802073940908095,52.922253769480314]]]}},{\"type\":\"Feature\",\"id\":\"0.38289217381484514,1.0010015161004118\",\"geometry\":{\"type\":\"Polygon\",\"coordinates\":[[[21.93810556818016,49.215529421067494],[22.506121381816193,49.42928352889036],[22.506121381816193,49.8540108588769],[21.93810556818016,50.06498632551648],[21.37008975454413,49.8540108588769],[21.37008975454413,49.42928352889036],[21.93810556818016,49.215529421067494]]]}},{\"type\":\"Feature\",\"id\":\"0.38289217381484514,1.0353437401553456\",\"geometry\":{\"type\":\"Polygon\",\"coordinates\":[[[21.93810556818016,50.48416681397755],[22.506121381816193,50.69237434982357],[22.506121381816193,51.10603061443655],[21.93810556818016,51.31148211396355],[21.37008975454413,51.10603061443655],[21.37008975454413,50.69237434982357],[21.93810556818016,50.48416681397755]]]}},{\"type\":\"Feature\",\"id\":\"0.38289217381484514,1.0696859642102794\",\"geometry\":{\"type\":\"Polygon\",\"coordinates\":[[[21.93810556818016,51.71963908315648],[22.506121381816193,51.92234756770137],[22.506121381816193,52.32503236711657],[21.93810556818016,52.52501192858379],[21.37008975454413,52.32503236711657],[21.37008975454413,51.92234756770137],[21.93810556818016,51.71963908315648]]]}},{\"type\":\"Feature\",\"id\":\"0.4027196661175316,1.0010015161004118\",\"geometry\":{\"type\":\"Polygon\",\"coordinates\":[[[23.074137195452224,49.215529421067494],[23.642153009088258,49.42928352889036],[23.642153009088258,49.8540108588769],[23.074137195452224,50.06498632551648],[22.50612138181619,49.8540108588769],[22.50612138181619,49.42928352889036],[23.074137195452224,49.215529421067494]]]}},{\"type\":\"Feature\",\"id\":\"0.4027196661175316,1.0353437401553456\",\"geometry\":{\"type\":\"Polygon\",\"coordinates\":[[[23.074137195452224,50.48416681397755],[23.642153009088258,50.69237434982357],[23.642153009088258,51.10603061443655],[23.074137195452224,51.31148211396355],[22.50612138181619,51.10603061443655],[22.50612138181619,50.69237434982357],[23.074137195452224,50.48416681397755]]]}},{\"type\":\"Feature\",\"id\":\"0.4027196661175316,1.1040281882652134\",\"geometry\":{\"type\":\"Polygon\",\"coordinates\":[[[23.074137195452224,52.922253769480314],[23.642153009088258,53.11951951505616],[23.642153009088258,53.5113495848048],[23.074137195452224,53.705917582753145],[22.50612138181619,53.5113495848048],[22.50612138181619,53.11951951505616],[23.074137195452224,52.922253769480314]]]}}]},\"hovertemplate\":\"Avg value=%{z}<extra></extra>\",\"locations\":[\"0.25401347384738276,1.1211993002926803\",\"0.27384096615006925,1.0525148521828125\",\"0.27384096615006925,1.0868570762377463\",\"0.2936684584527558,1.0181726281278787\",\"0.2936684584527558,1.0868570762377463\",\"0.31349595075544234,1.0181726281278787\",\"0.31349595075544234,1.0525148521828125\",\"0.31349595075544234,1.1211993002926803\",\"0.33332344305812883,1.0181726281278787\",\"0.33332344305812883,1.0525148521828125\",\"0.33332344305812883,1.0868570762377463\",\"0.33332344305812883,1.1211993002926803\",\"0.3531509353608153,1.0181726281278787\",\"0.3531509353608153,1.0868570762377463\",\"0.3531509353608153,1.1211993002926803\",\"0.37297842766350187,1.0181726281278787\",\"0.37297842766350187,1.0525148521828125\",\"0.37297842766350187,1.0868570762377463\",\"0.3928059199661884,1.0181726281278787\",\"0.3928059199661884,1.0525148521828125\",\"0.3928059199661884,1.1211993002926803\",\"0.26392721999872604,1.0353437401553456\",\"0.26392721999872604,1.1040281882652134\",\"0.2837547123014125,1.0353437401553456\",\"0.2837547123014125,1.0696859642102794\",\"0.30358220460409907,1.0353437401553456\",\"0.30358220460409907,1.1040281882652134\",\"0.30358220460409907,1.1383704123201472\",\"0.32340969690678556,1.0010015161004118\",\"0.32340969690678556,1.1040281882652134\",\"0.32340969690678556,1.1383704123201472\",\"0.3432371892094721,1.0353437401553456\",\"0.3432371892094721,1.0696859642102794\",\"0.3630646815121586,1.0353437401553456\",\"0.3630646815121586,1.0696859642102794\",\"0.3630646815121586,1.1040281882652134\",\"0.38289217381484514,1.0010015161004118\",\"0.38289217381484514,1.0353437401553456\",\"0.38289217381484514,1.0696859642102794\",\"0.4027196661175316,1.0010015161004118\",\"0.4027196661175316,1.0353437401553456\",\"0.4027196661175316,1.1040281882652134\"],\"marker\":{\"opacity\":0.5},\"name\":\"\",\"subplot\":\"mapbox\",\"z\":[13.427831377551023,10.97567595744681,21.298383177570095,31.48129284404219,26.793246164194297,23.970037361473654,38.68703723404255,29.816258252427183,27.155382356589143,28.273471859089035,42.03199159498327,10.229873509615384,30.96021424324003,24.491237113402065,25.40443968301435,17.466254001587004,18.667010309278353,22.236597938144328,24.60985037017495,41.328,24.35429923500612,34.94935255813953,14.296180434589221,27.27089697674419,39.80416822429907,26.633967784577717,47.532474226804126,28.849959708737867,26.321946019583837,24.55307177274765,20.879099022421364,19.230008421052627,16.935095137420717,33.811388888888885,30.59239246356203,47.39698564593302,13.606957645631066,53.36185567010309,23.437078651685393,13.047106310679617,26.87302325581395,24.422945736434105],\"type\":\"choroplethmapbox\"}],\"name\":\"2022-10-27\"},{\"data\":[{\"coloraxis\":\"coloraxis\",\"customdata\":[[14.842069196428573,\"0.25401347384738276,1.1211993002926803\",\"2022-10-28\"],[8.622575567010308,\"0.27384096615006925,1.0525148521828125\",\"2022-10-28\"],[23.569223451327435,\"0.27384096615006925,1.0868570762377463\",\"2022-10-28\"],[21.722983062556516,\"0.2936684584527558,1.0181726281278787\",\"2022-10-28\"],[21.44648900004388,\"0.2936684584527558,1.0868570762377463\",\"2022-10-28\"],[15.142101471087358,\"0.31349595075544234,1.0181726281278787\",\"2022-10-28\"],[28.50746028037383,\"0.31349595075544234,1.0525148521828125\",\"2022-10-28\"],[27.057155172413793,\"0.31349595075544234,1.1211993002926803\",\"2022-10-28\"],[24.138614957403533,\"0.33332344305812883,1.0181726281278787\",\"2022-10-28\"],[17.930024423935457,\"0.33332344305812883,1.0525148521828125\",\"2022-10-28\"],[26.203409090909098,\"0.33332344305812883,1.0868570762377463\",\"2022-10-28\"],[13.390774635193132,\"0.33332344305812883,1.1211993002926803\",\"2022-10-28\"],[38.29630966031746,\"0.3531509353608153,1.0181726281278787\",\"2022-10-28\"],[21.812727272727273,\"0.3531509353608153,1.0868570762377463\",\"2022-10-28\"],[26.921762733766236,\"0.3531509353608153,1.1211993002926803\",\"2022-10-28\"],[10.236495131080893,\"0.37297842766350187,1.0181726281278787\",\"2022-10-28\"],[17.146543778801842,\"0.37297842766350187,1.0525148521828125\",\"2022-10-28\"],[24.560909090909096,\"0.37297842766350187,1.0868570762377463\",\"2022-10-28\"],[18.232355763895523,\"0.3928059199661884,1.0181726281278787\",\"2022-10-28\"],[32.11144278606967,\"0.3928059199661884,1.0525148521828125\",\"2022-10-28\"],[30.226630879042705,\"0.3928059199661884,1.1211993002926803\",\"2022-10-28\"],[24.053837605042016,\"0.26392721999872604,1.0353437401553456\",\"2022-10-28\"],[13.30096333202036,\"0.26392721999872604,1.1040281882652134\",\"2022-10-28\"],[14.719499133926671,\"0.2837547123014125,1.0353437401553456\",\"2022-10-28\"],[20.756621973094177,\"0.2837547123014125,1.0696859642102794\",\"2022-10-28\"],[20.084786154973546,\"0.30358220460409907,1.0353437401553456\",\"2022-10-28\"],[31.08796296296296,\"0.30358220460409907,1.1040281882652134\",\"2022-10-28\"],[25.53979956331877,\"0.30358220460409907,1.1383704123201472\",\"2022-10-28\"],[22.31215031177433,\"0.32340969690678556,1.0010015161004118\",\"2022-10-28\"],[23.3972570620286,\"0.32340969690678556,1.1040281882652134\",\"2022-10-28\"],[23.909424883043368,\"0.32340969690678556,1.1383704123201472\",\"2022-10-28\"],[18.281506422018346,\"0.3432371892094721,1.0353437401553456\",\"2022-10-28\"],[20.483193277310924,\"0.3432371892094721,1.0696859642102794\",\"2022-10-28\"],[29.086943023916525,\"0.3630646815121586,1.0353437401553456\",\"2022-10-28\"],[25.096459041730494,\"0.3630646815121586,1.0696859642102794\",\"2022-10-28\"],[39.720442794759826,\"0.3630646815121586,1.1040281882652134\",\"2022-10-28\"],[11.137557795340623,\"0.38289217381484514,1.0010015161004118\",\"2022-10-28\"],[41.690410958904124,\"0.38289217381484514,1.0353437401553456\",\"2022-10-28\"],[29.03503649635036,\"0.38289217381484514,1.0696859642102794\",\"2022-10-28\"],[9.20023149122807,\"0.4027196661175316,1.0010015161004118\",\"2022-10-28\"],[18.946058091286307,\"0.4027196661175316,1.0353437401553456\",\"2022-10-28\"],[29.044665359799392,\"0.4027196661175316,1.1040281882652134\",\"2022-10-28\"]],\"geojson\":{\"type\":\"FeatureCollection\",\"features\":[{\"type\":\"Feature\",\"id\":\"0.25401347384738276,1.1211993002926803\",\"geometry\":{\"type\":\"Polygon\",\"coordinates\":[[[14.553899990911745,53.5113495848048],[15.121915804547777,53.705917582753145],[15.121915804547777,54.09236893756014],[14.553899990911745,54.28425616416384],[13.985884177275713,54.09236893756014],[13.985884177275713,53.705917582753145],[14.553899990911745,53.5113495848048]]]}},{\"type\":\"Feature\",\"id\":\"0.27384096615006925,1.0525148521828125\",\"geometry\":{\"type\":\"Polygon\",\"coordinates\":[[[15.689931618183808,51.10603061443655],[16.25794743181984,51.31148211396355],[16.25794743181984,51.71963908315648],[15.689931618183808,51.92234756770137],[15.121915804547776,51.71963908315648],[15.121915804547776,51.31148211396355],[15.689931618183808,51.10603061443655]]]}},{\"type\":\"Feature\",\"id\":\"0.27384096615006925,1.0868570762377463\",\"geometry\":{\"type\":\"Polygon\",\"coordinates\":[[[15.689931618183808,52.32503236711657],[16.25794743181984,52.52501192858379],[16.25794743181984,52.922253769480314],[15.689931618183808,53.11951951505613],[15.121915804547776,52.922253769480314],[15.121915804547776,52.52501192858379],[15.689931618183808,52.32503236711657]]]}},{\"type\":\"Feature\",\"id\":\"0.2936684584527558,1.0181726281278787\",\"geometry\":{\"type\":\"Polygon\",\"coordinates\":[[[16.825963245455874,49.8540108588769],[17.393979059091905,50.06498632551648],[17.393979059091905,50.48416681397755],[16.825963245455874,50.69237434982357],[16.25794743181984,50.48416681397755],[16.25794743181984,50.06498632551648],[16.825963245455874,49.8540108588769]]]}},{\"type\":\"Feature\",\"id\":\"0.2936684584527558,1.0868570762377463\",\"geometry\":{\"type\":\"Polygon\",\"coordinates\":[[[16.825963245455874,52.32503236711657],[17.393979059091905,52.52501192858379],[17.393979059091905,52.922253769480314],[16.825963245455874,53.11951951505613],[16.25794743181984,52.922253769480314],[16.25794743181984,52.52501192858379],[16.825963245455874,52.32503236711657]]]}},{\"type\":\"Feature\",\"id\":\"0.31349595075544234,1.0181726281278787\",\"geometry\":{\"type\":\"Polygon\",\"coordinates\":[[[17.96199487272794,49.8540108588769],[18.530010686363973,50.06498632551648],[18.530010686363973,50.48416681397755],[17.96199487272794,50.69237434982357],[17.393979059091905,50.48416681397755],[17.393979059091905,50.06498632551648],[17.96199487272794,49.8540108588769]]]}},{\"type\":\"Feature\",\"id\":\"0.31349595075544234,1.0525148521828125\",\"geometry\":{\"type\":\"Polygon\",\"coordinates\":[[[17.96199487272794,51.10603061443655],[18.530010686363973,51.31148211396355],[18.530010686363973,51.71963908315648],[17.96199487272794,51.92234756770137],[17.393979059091905,51.71963908315648],[17.393979059091905,51.31148211396355],[17.96199487272794,51.10603061443655]]]}},{\"type\":\"Feature\",\"id\":\"0.31349595075544234,1.1211993002926803\",\"geometry\":{\"type\":\"Polygon\",\"coordinates\":[[[17.96199487272794,53.5113495848048],[18.530010686363973,53.705917582753145],[18.530010686363973,54.09236893756014],[17.96199487272794,54.28425616416384],[17.393979059091905,54.09236893756014],[17.393979059091905,53.705917582753145],[17.96199487272794,53.5113495848048]]]}},{\"type\":\"Feature\",\"id\":\"0.33332344305812883,1.0181726281278787\",\"geometry\":{\"type\":\"Polygon\",\"coordinates\":[[[19.0980265,49.8540108588769],[19.666042313636034,50.06498632551648],[19.666042313636034,50.48416681397755],[19.0980265,50.69237434982357],[18.530010686363966,50.48416681397755],[18.530010686363966,50.06498632551648],[19.0980265,49.8540108588769]]]}},{\"type\":\"Feature\",\"id\":\"0.33332344305812883,1.0525148521828125\",\"geometry\":{\"type\":\"Polygon\",\"coordinates\":[[[19.0980265,51.10603061443655],[19.666042313636034,51.31148211396355],[19.666042313636034,51.71963908315648],[19.0980265,51.92234756770137],[18.530010686363966,51.71963908315648],[18.530010686363966,51.31148211396355],[19.0980265,51.10603061443655]]]}},{\"type\":\"Feature\",\"id\":\"0.33332344305812883,1.0868570762377463\",\"geometry\":{\"type\":\"Polygon\",\"coordinates\":[[[19.0980265,52.32503236711657],[19.666042313636034,52.52501192858379],[19.666042313636034,52.922253769480314],[19.0980265,53.11951951505613],[18.530010686363966,52.922253769480314],[18.530010686363966,52.52501192858379],[19.0980265,52.32503236711657]]]}},{\"type\":\"Feature\",\"id\":\"0.33332344305812883,1.1211993002926803\",\"geometry\":{\"type\":\"Polygon\",\"coordinates\":[[[19.0980265,53.5113495848048],[19.666042313636034,53.705917582753145],[19.666042313636034,54.09236893756014],[19.0980265,54.28425616416384],[18.530010686363966,54.09236893756014],[18.530010686363966,53.705917582753145],[19.0980265,53.5113495848048]]]}},{\"type\":\"Feature\",\"id\":\"0.3531509353608153,1.0181726281278787\",\"geometry\":{\"type\":\"Polygon\",\"coordinates\":[[[20.234058127272064,49.8540108588769],[20.802073940908095,50.06498632551648],[20.802073940908095,50.48416681397755],[20.234058127272064,50.69237434982357],[19.66604231363603,50.48416681397755],[19.66604231363603,50.06498632551648],[20.234058127272064,49.8540108588769]]]}},{\"type\":\"Feature\",\"id\":\"0.3531509353608153,1.0868570762377463\",\"geometry\":{\"type\":\"Polygon\",\"coordinates\":[[[20.234058127272064,52.32503236711657],[20.802073940908095,52.52501192858379],[20.802073940908095,52.922253769480314],[20.234058127272064,53.11951951505613],[19.66604231363603,52.922253769480314],[19.66604231363603,52.52501192858379],[20.234058127272064,52.32503236711657]]]}},{\"type\":\"Feature\",\"id\":\"0.3531509353608153,1.1211993002926803\",\"geometry\":{\"type\":\"Polygon\",\"coordinates\":[[[20.234058127272064,53.5113495848048],[20.802073940908095,53.705917582753145],[20.802073940908095,54.09236893756014],[20.234058127272064,54.28425616416384],[19.66604231363603,54.09236893756014],[19.66604231363603,53.705917582753145],[20.234058127272064,53.5113495848048]]]}},{\"type\":\"Feature\",\"id\":\"0.37297842766350187,1.0181726281278787\",\"geometry\":{\"type\":\"Polygon\",\"coordinates\":[[[21.37008975454413,49.8540108588769],[21.93810556818016,50.06498632551648],[21.93810556818016,50.48416681397755],[21.37008975454413,50.69237434982357],[20.802073940908095,50.48416681397755],[20.802073940908095,50.06498632551648],[21.37008975454413,49.8540108588769]]]}},{\"type\":\"Feature\",\"id\":\"0.37297842766350187,1.0525148521828125\",\"geometry\":{\"type\":\"Polygon\",\"coordinates\":[[[21.37008975454413,51.10603061443655],[21.93810556818016,51.31148211396355],[21.93810556818016,51.71963908315648],[21.37008975454413,51.92234756770137],[20.802073940908095,51.71963908315648],[20.802073940908095,51.31148211396355],[21.37008975454413,51.10603061443655]]]}},{\"type\":\"Feature\",\"id\":\"0.37297842766350187,1.0868570762377463\",\"geometry\":{\"type\":\"Polygon\",\"coordinates\":[[[21.37008975454413,52.32503236711657],[21.93810556818016,52.52501192858379],[21.93810556818016,52.922253769480314],[21.37008975454413,53.11951951505613],[20.802073940908095,52.922253769480314],[20.802073940908095,52.52501192858379],[21.37008975454413,52.32503236711657]]]}},{\"type\":\"Feature\",\"id\":\"0.3928059199661884,1.0181726281278787\",\"geometry\":{\"type\":\"Polygon\",\"coordinates\":[[[22.506121381816193,49.8540108588769],[23.074137195452227,50.06498632551648],[23.074137195452227,50.48416681397755],[22.506121381816193,50.69237434982357],[21.93810556818016,50.48416681397755],[21.93810556818016,50.06498632551648],[22.506121381816193,49.8540108588769]]]}},{\"type\":\"Feature\",\"id\":\"0.3928059199661884,1.0525148521828125\",\"geometry\":{\"type\":\"Polygon\",\"coordinates\":[[[22.506121381816193,51.10603061443655],[23.074137195452227,51.31148211396355],[23.074137195452227,51.71963908315648],[22.506121381816193,51.92234756770137],[21.93810556818016,51.71963908315648],[21.93810556818016,51.31148211396355],[22.506121381816193,51.10603061443655]]]}},{\"type\":\"Feature\",\"id\":\"0.3928059199661884,1.1211993002926803\",\"geometry\":{\"type\":\"Polygon\",\"coordinates\":[[[22.506121381816193,53.5113495848048],[23.074137195452227,53.705917582753145],[23.074137195452227,54.09236893756014],[22.506121381816193,54.28425616416384],[21.93810556818016,54.09236893756014],[21.93810556818016,53.705917582753145],[22.506121381816193,53.5113495848048]]]}},{\"type\":\"Feature\",\"id\":\"0.26392721999872604,1.0353437401553456\",\"geometry\":{\"type\":\"Polygon\",\"coordinates\":[[[15.121915804547777,50.48416681397755],[15.689931618183811,50.69237434982357],[15.689931618183811,51.10603061443655],[15.121915804547777,51.31148211396355],[14.553899990911745,51.10603061443655],[14.553899990911745,50.69237434982357],[15.121915804547777,50.48416681397755]]]}},{\"type\":\"Feature\",\"id\":\"0.26392721999872604,1.1040281882652134\",\"geometry\":{\"type\":\"Polygon\",\"coordinates\":[[[15.121915804547777,52.922253769480314],[15.689931618183811,53.11951951505616],[15.689931618183811,53.5113495848048],[15.121915804547777,53.705917582753145],[14.553899990911745,53.5113495848048],[14.553899990911745,53.11951951505616],[15.121915804547777,52.922253769480314]]]}},{\"type\":\"Feature\",\"id\":\"0.2837547123014125,1.0353437401553456\",\"geometry\":{\"type\":\"Polygon\",\"coordinates\":[[[16.25794743181984,50.48416681397755],[16.825963245455874,50.69237434982357],[16.825963245455874,51.10603061443655],[16.25794743181984,51.31148211396355],[15.689931618183808,51.10603061443655],[15.689931618183808,50.69237434982357],[16.25794743181984,50.48416681397755]]]}},{\"type\":\"Feature\",\"id\":\"0.2837547123014125,1.0696859642102794\",\"geometry\":{\"type\":\"Polygon\",\"coordinates\":[[[16.25794743181984,51.71963908315648],[16.825963245455874,51.92234756770137],[16.825963245455874,52.32503236711657],[16.25794743181984,52.52501192858379],[15.689931618183808,52.32503236711657],[15.689931618183808,51.92234756770137],[16.25794743181984,51.71963908315648]]]}},{\"type\":\"Feature\",\"id\":\"0.30358220460409907,1.0353437401553456\",\"geometry\":{\"type\":\"Polygon\",\"coordinates\":[[[17.393979059091905,50.48416681397755],[17.96199487272794,50.69237434982357],[17.96199487272794,51.10603061443655],[17.393979059091905,51.31148211396355],[16.825963245455874,51.10603061443655],[16.825963245455874,50.69237434982357],[17.393979059091905,50.48416681397755]]]}},{\"type\":\"Feature\",\"id\":\"0.30358220460409907,1.1040281882652134\",\"geometry\":{\"type\":\"Polygon\",\"coordinates\":[[[17.393979059091905,52.922253769480314],[17.96199487272794,53.11951951505616],[17.96199487272794,53.5113495848048],[17.393979059091905,53.705917582753145],[16.825963245455874,53.5113495848048],[16.825963245455874,53.11951951505616],[17.393979059091905,52.922253769480314]]]}},{\"type\":\"Feature\",\"id\":\"0.30358220460409907,1.1383704123201472\",\"geometry\":{\"type\":\"Polygon\",\"coordinates\":[[[17.393979059091905,54.09236893756014],[17.96199487272794,54.28425616416384],[17.96199487272794,54.66536362414315],[17.393979059091905,54.854587911846494],[16.825963245455874,54.66536362414315],[16.825963245455874,54.28425616416384],[17.393979059091905,54.09236893756014]]]}},{\"type\":\"Feature\",\"id\":\"0.32340969690678556,1.0010015161004118\",\"geometry\":{\"type\":\"Polygon\",\"coordinates\":[[[18.530010686363966,49.215529421067494],[19.0980265,49.42928352889036],[19.0980265,49.8540108588769],[18.530010686363966,50.06498632551648],[17.961994872727935,49.8540108588769],[17.961994872727935,49.42928352889036],[18.530010686363966,49.215529421067494]]]}},{\"type\":\"Feature\",\"id\":\"0.32340969690678556,1.1040281882652134\",\"geometry\":{\"type\":\"Polygon\",\"coordinates\":[[[18.530010686363966,52.922253769480314],[19.0980265,53.11951951505616],[19.0980265,53.5113495848048],[18.530010686363966,53.705917582753145],[17.961994872727935,53.5113495848048],[17.961994872727935,53.11951951505616],[18.530010686363966,52.922253769480314]]]}},{\"type\":\"Feature\",\"id\":\"0.32340969690678556,1.1383704123201472\",\"geometry\":{\"type\":\"Polygon\",\"coordinates\":[[[18.530010686363966,54.09236893756014],[19.0980265,54.28425616416384],[19.0980265,54.66536362414315],[18.530010686363966,54.854587911846494],[17.961994872727935,54.66536362414315],[17.961994872727935,54.28425616416384],[18.530010686363966,54.09236893756014]]]}},{\"type\":\"Feature\",\"id\":\"0.3432371892094721,1.0353437401553456\",\"geometry\":{\"type\":\"Polygon\",\"coordinates\":[[[19.666042313636034,50.48416681397755],[20.234058127272064,50.69237434982357],[20.234058127272064,51.10603061443655],[19.666042313636034,51.31148211396355],[19.0980265,51.10603061443655],[19.0980265,50.69237434982357],[19.666042313636034,50.48416681397755]]]}},{\"type\":\"Feature\",\"id\":\"0.3432371892094721,1.0696859642102794\",\"geometry\":{\"type\":\"Polygon\",\"coordinates\":[[[19.666042313636034,51.71963908315648],[20.234058127272064,51.92234756770137],[20.234058127272064,52.32503236711657],[19.666042313636034,52.52501192858379],[19.0980265,52.32503236711657],[19.0980265,51.92234756770137],[19.666042313636034,51.71963908315648]]]}},{\"type\":\"Feature\",\"id\":\"0.3630646815121586,1.0353437401553456\",\"geometry\":{\"type\":\"Polygon\",\"coordinates\":[[[20.802073940908095,50.48416681397755],[21.37008975454413,50.69237434982357],[21.37008975454413,51.10603061443655],[20.802073940908095,51.31148211396355],[20.234058127272064,51.10603061443655],[20.234058127272064,50.69237434982357],[20.802073940908095,50.48416681397755]]]}},{\"type\":\"Feature\",\"id\":\"0.3630646815121586,1.0696859642102794\",\"geometry\":{\"type\":\"Polygon\",\"coordinates\":[[[20.802073940908095,51.71963908315648],[21.37008975454413,51.92234756770137],[21.37008975454413,52.32503236711657],[20.802073940908095,52.52501192858379],[20.234058127272064,52.32503236711657],[20.234058127272064,51.92234756770137],[20.802073940908095,51.71963908315648]]]}},{\"type\":\"Feature\",\"id\":\"0.3630646815121586,1.1040281882652134\",\"geometry\":{\"type\":\"Polygon\",\"coordinates\":[[[20.802073940908095,52.922253769480314],[21.37008975454413,53.11951951505616],[21.37008975454413,53.5113495848048],[20.802073940908095,53.705917582753145],[20.234058127272064,53.5113495848048],[20.234058127272064,53.11951951505616],[20.802073940908095,52.922253769480314]]]}},{\"type\":\"Feature\",\"id\":\"0.38289217381484514,1.0010015161004118\",\"geometry\":{\"type\":\"Polygon\",\"coordinates\":[[[21.93810556818016,49.215529421067494],[22.506121381816193,49.42928352889036],[22.506121381816193,49.8540108588769],[21.93810556818016,50.06498632551648],[21.37008975454413,49.8540108588769],[21.37008975454413,49.42928352889036],[21.93810556818016,49.215529421067494]]]}},{\"type\":\"Feature\",\"id\":\"0.38289217381484514,1.0353437401553456\",\"geometry\":{\"type\":\"Polygon\",\"coordinates\":[[[21.93810556818016,50.48416681397755],[22.506121381816193,50.69237434982357],[22.506121381816193,51.10603061443655],[21.93810556818016,51.31148211396355],[21.37008975454413,51.10603061443655],[21.37008975454413,50.69237434982357],[21.93810556818016,50.48416681397755]]]}},{\"type\":\"Feature\",\"id\":\"0.38289217381484514,1.0696859642102794\",\"geometry\":{\"type\":\"Polygon\",\"coordinates\":[[[21.93810556818016,51.71963908315648],[22.506121381816193,51.92234756770137],[22.506121381816193,52.32503236711657],[21.93810556818016,52.52501192858379],[21.37008975454413,52.32503236711657],[21.37008975454413,51.92234756770137],[21.93810556818016,51.71963908315648]]]}},{\"type\":\"Feature\",\"id\":\"0.4027196661175316,1.0010015161004118\",\"geometry\":{\"type\":\"Polygon\",\"coordinates\":[[[23.074137195452224,49.215529421067494],[23.642153009088258,49.42928352889036],[23.642153009088258,49.8540108588769],[23.074137195452224,50.06498632551648],[22.50612138181619,49.8540108588769],[22.50612138181619,49.42928352889036],[23.074137195452224,49.215529421067494]]]}},{\"type\":\"Feature\",\"id\":\"0.4027196661175316,1.0353437401553456\",\"geometry\":{\"type\":\"Polygon\",\"coordinates\":[[[23.074137195452224,50.48416681397755],[23.642153009088258,50.69237434982357],[23.642153009088258,51.10603061443655],[23.074137195452224,51.31148211396355],[22.50612138181619,51.10603061443655],[22.50612138181619,50.69237434982357],[23.074137195452224,50.48416681397755]]]}},{\"type\":\"Feature\",\"id\":\"0.4027196661175316,1.1040281882652134\",\"geometry\":{\"type\":\"Polygon\",\"coordinates\":[[[23.074137195452224,52.922253769480314],[23.642153009088258,53.11951951505616],[23.642153009088258,53.5113495848048],[23.074137195452224,53.705917582753145],[22.50612138181619,53.5113495848048],[22.50612138181619,53.11951951505616],[23.074137195452224,52.922253769480314]]]}}]},\"hovertemplate\":\"Avg value=%{z}<extra></extra>\",\"locations\":[\"0.25401347384738276,1.1211993002926803\",\"0.27384096615006925,1.0525148521828125\",\"0.27384096615006925,1.0868570762377463\",\"0.2936684584527558,1.0181726281278787\",\"0.2936684584527558,1.0868570762377463\",\"0.31349595075544234,1.0181726281278787\",\"0.31349595075544234,1.0525148521828125\",\"0.31349595075544234,1.1211993002926803\",\"0.33332344305812883,1.0181726281278787\",\"0.33332344305812883,1.0525148521828125\",\"0.33332344305812883,1.0868570762377463\",\"0.33332344305812883,1.1211993002926803\",\"0.3531509353608153,1.0181726281278787\",\"0.3531509353608153,1.0868570762377463\",\"0.3531509353608153,1.1211993002926803\",\"0.37297842766350187,1.0181726281278787\",\"0.37297842766350187,1.0525148521828125\",\"0.37297842766350187,1.0868570762377463\",\"0.3928059199661884,1.0181726281278787\",\"0.3928059199661884,1.0525148521828125\",\"0.3928059199661884,1.1211993002926803\",\"0.26392721999872604,1.0353437401553456\",\"0.26392721999872604,1.1040281882652134\",\"0.2837547123014125,1.0353437401553456\",\"0.2837547123014125,1.0696859642102794\",\"0.30358220460409907,1.0353437401553456\",\"0.30358220460409907,1.1040281882652134\",\"0.30358220460409907,1.1383704123201472\",\"0.32340969690678556,1.0010015161004118\",\"0.32340969690678556,1.1040281882652134\",\"0.32340969690678556,1.1383704123201472\",\"0.3432371892094721,1.0353437401553456\",\"0.3432371892094721,1.0696859642102794\",\"0.3630646815121586,1.0353437401553456\",\"0.3630646815121586,1.0696859642102794\",\"0.3630646815121586,1.1040281882652134\",\"0.38289217381484514,1.0010015161004118\",\"0.38289217381484514,1.0353437401553456\",\"0.38289217381484514,1.0696859642102794\",\"0.4027196661175316,1.0010015161004118\",\"0.4027196661175316,1.0353437401553456\",\"0.4027196661175316,1.1040281882652134\"],\"marker\":{\"opacity\":0.5},\"name\":\"\",\"subplot\":\"mapbox\",\"z\":[14.842069196428573,8.622575567010308,23.569223451327435,21.722983062556516,21.44648900004388,15.142101471087358,28.50746028037383,27.057155172413793,24.138614957403533,17.930024423935457,26.203409090909098,13.390774635193132,38.29630966031746,21.812727272727273,26.921762733766236,10.236495131080893,17.146543778801842,24.560909090909096,18.232355763895523,32.11144278606967,30.226630879042705,24.053837605042016,13.30096333202036,14.719499133926671,20.756621973094177,20.084786154973546,31.08796296296296,25.53979956331877,22.31215031177433,23.3972570620286,23.909424883043368,18.281506422018346,20.483193277310924,29.086943023916525,25.096459041730494,39.720442794759826,11.137557795340623,41.690410958904124,29.03503649635036,9.20023149122807,18.946058091286307,29.044665359799392],\"type\":\"choroplethmapbox\"}],\"name\":\"2022-10-28\"}]);\n",
       "                        }).then(function(){\n",
       "                            \n",
       "var gd = document.getElementById('0dc0ee9d-39e2-4292-8bce-fbbc3986ae74');\n",
       "var x = new MutationObserver(function (mutations, observer) {{\n",
       "        var display = window.getComputedStyle(gd).display;\n",
       "        if (!display || display === 'none') {{\n",
       "            console.log([gd, 'removed!']);\n",
       "            Plotly.purge(gd);\n",
       "            observer.disconnect();\n",
       "        }}\n",
       "}});\n",
       "\n",
       "// Listen for the removal of the full notebook cells\n",
       "var notebookContainer = gd.closest('#notebook-container');\n",
       "if (notebookContainer) {{\n",
       "    x.observe(notebookContainer, {childList: true});\n",
       "}}\n",
       "\n",
       "// Listen for the clearing of the current output cell\n",
       "var outputEl = gd.closest('.output');\n",
       "if (outputEl) {{\n",
       "    x.observe(outputEl, {childList: true});\n",
       "}}\n",
       "\n",
       "                        })                };                });            </script>        </div>"
      ]
     },
     "metadata": {},
     "output_type": "display_data"
    }
   ],
   "source": [
    "%%local\n",
    "\n",
    "\n",
    "px.set_mapbox_access_token(\"pk.eyJ1Ijoib3Jlb3JlIiwiYSI6ImNrdndwNm13aTBhZzYyb2xjcng4dGdnNWEifQ.LADFJcYpNwTupseSVwA72g\")\n",
    "pdf = pdf.astype({\"date\": str})\n",
    "\n",
    "fig = ff.create_hexbin_mapbox(\n",
    "    data_frame=pdf,\n",
    "    lat=\"latitude\",\n",
    "    lon=\"longitude\",\n",
    "    nx_hexagon=8, \n",
    "    opacity=0.5, \n",
    "    color=\"avg_value\", \n",
    "    labels={\"color\": \"Avg value\"}, \n",
    "    min_count=1, \n",
    "    animation_frame=\"date\",\n",
    "    agg_func=np.mean\n",
    ")\n",
    "\n",
    "fig.show()"
   ]
  },
  {
   "cell_type": "markdown",
   "id": "82063039-8cd6-4691-8dd6-23d2edb3cc3c",
   "metadata": {},
   "source": [
    "# Zadanie 5\n",
    "\n",
    "Korzystanie z klastra dla dużych danych\n",
    "\n",
    "a) Proszę wykonać zadanie 1 dla danych z całego miesiąca. Zmierzyć czas wykonania"
   ]
  },
  {
   "cell_type": "markdown",
   "id": "1858667e-718c-4605-a380-99f0bc988a67",
   "metadata": {
    "execution": {
     "iopub.execute_input": "2022-11-14T22:07:12.445679Z",
     "iopub.status.busy": "2022-11-14T22:07:12.445167Z",
     "iopub.status.idle": "2022-11-14T22:07:12.747187Z",
     "shell.execute_reply": "2022-11-14T22:07:12.746021Z",
     "shell.execute_reply.started": "2022-11-14T22:07:12.445641Z"
    }
   },
   "source": [
    "b) Zwiększyć klaster do 2, 3, 4, 5, 6, 7 instancji workerów i zmierzyć czasy wykonania\n"
   ]
  },
  {
   "cell_type": "markdown",
   "id": "1c718e0d-e237-4f97-86ae-d4036e5eb587",
   "metadata": {},
   "source": [
    "c) Narysować wykresy czasu, przyspieszenia, efektywności oraz miarę Karpa-Flatta (time, speedup, efficiency)\n"
   ]
  },
  {
   "cell_type": "code",
   "execution_count": 43,
   "id": "a0e2f32d-6a4e-49b2-a20e-a14edc9c51e8",
   "metadata": {
    "execution": {
     "iopub.execute_input": "2022-11-16T10:20:28.018756Z",
     "iopub.status.busy": "2022-11-16T10:20:28.018433Z",
     "iopub.status.idle": "2022-11-16T10:26:26.329744Z",
     "shell.execute_reply": "2022-11-16T10:26:26.327109Z",
     "shell.execute_reply.started": "2022-11-16T10:20:28.018726Z"
    },
    "tags": []
   },
   "outputs": [
    {
     "data": {
      "application/vnd.jupyter.widget-view+json": {
       "model_id": "1be2552d453a49b198df0ee6d2d2a8f6",
       "version_major": 2,
       "version_minor": 0
      },
      "text/plain": [
       "VBox()"
      ]
     },
     "metadata": {},
     "output_type": "display_data"
    },
    {
     "data": {
      "application/vnd.jupyter.widget-view+json": {
       "model_id": "",
       "version_major": 2,
       "version_minor": 0
      },
      "text/plain": [
       "FloatProgress(value=0.0, bar_style='info', description='Progress:', layout=Layout(height='25px', width='50%'),…"
      ]
     },
     "metadata": {},
     "output_type": "display_data"
    }
   ],
   "source": [
    "smog_df = spark.read.json(\"s3a://openaq-fetches/realtime/2022-10*\")"
   ]
  },
  {
   "cell_type": "code",
   "execution_count": 44,
   "id": "5bbcf4a9-d4c5-4dee-a900-b88e1781c40b",
   "metadata": {
    "execution": {
     "iopub.execute_input": "2022-11-16T10:26:26.333724Z",
     "iopub.status.busy": "2022-11-16T10:26:26.333319Z",
     "iopub.status.idle": "2022-11-16T10:30:13.149106Z",
     "shell.execute_reply": "2022-11-16T10:30:13.148085Z",
     "shell.execute_reply.started": "2022-11-16T10:26:26.333679Z"
    },
    "tags": []
   },
   "outputs": [
    {
     "data": {
      "application/vnd.jupyter.widget-view+json": {
       "model_id": "1470c2b9ed2b464a8b9c109db8938c47",
       "version_major": 2,
       "version_minor": 0
      },
      "text/plain": [
       "VBox()"
      ]
     },
     "metadata": {},
     "output_type": "display_data"
    },
    {
     "data": {
      "application/vnd.jupyter.widget-view+json": {
       "model_id": "",
       "version_major": 2,
       "version_minor": 0
      },
      "text/plain": [
       "FloatProgress(value=0.0, bar_style='info', description='Progress:', layout=Layout(height='25px', width='50%'),…"
      ]
     },
     "metadata": {},
     "output_type": "display_data"
    },
    {
     "name": "stdout",
     "output_type": "stream",
     "text": [
      "138799005"
     ]
    }
   ],
   "source": [
    "smog_df.count()"
   ]
  },
  {
   "cell_type": "code",
   "execution_count": 49,
   "id": "6c7d922b-5377-448e-b578-6531c0b691dd",
   "metadata": {
    "execution": {
     "iopub.execute_input": "2022-11-16T11:18:47.507964Z",
     "iopub.status.busy": "2022-11-16T11:18:47.507567Z",
     "iopub.status.idle": "2022-11-16T11:21:59.843543Z",
     "shell.execute_reply": "2022-11-16T11:21:59.842020Z",
     "shell.execute_reply.started": "2022-11-16T11:18:47.507862Z"
    },
    "tags": []
   },
   "outputs": [
    {
     "data": {
      "application/vnd.jupyter.widget-view+json": {
       "model_id": "76985cc8504a40899858552d79c957c2",
       "version_major": 2,
       "version_minor": 0
      },
      "text/plain": [
       "VBox()"
      ]
     },
     "metadata": {},
     "output_type": "display_data"
    },
    {
     "data": {
      "application/vnd.jupyter.widget-view+json": {
       "model_id": "",
       "version_major": 2,
       "version_minor": 0
      },
      "text/plain": [
       "FloatProgress(value=0.0, bar_style='info', description='Progress:', layout=Layout(height='25px', width='50%'),…"
      ]
     },
     "metadata": {},
     "output_type": "display_data"
    },
    {
     "name": "stdout",
     "output_type": "stream",
     "text": [
      "+-----------------+------------------+\n",
      "|             city|        avg(value)|\n",
      "+-----------------+------------------+\n",
      "|          Pińczów|30.001756940399943|\n",
      "|           Lublin|28.858843537414955|\n",
      "|   Janów Lubelski|27.170338451895937|\n",
      "|           Kalisz| 25.27465975800033|\n",
      "|Kazimierza Wielka| 25.08366096866096|\n",
      "|Nakło nad Notecią| 24.02336227308603|\n",
      "|     Starachowice|23.568141517476565|\n",
      "|           Otwock|22.608824456350447|\n",
      "|           Sierpc| 22.52221874511032|\n",
      "| Jastrzębie-Zdrój|22.220030214854862|\n",
      "|         Racibórz|22.008686860647543|\n",
      "|        Włocławek|  21.3809293487649|\n",
      "|         Szczytno|21.294738453120388|\n",
      "|        Szamotuły|21.246022338773553|\n",
      "|          Kłodzko|21.170016063541805|\n",
      "| Rudnik nad Sanem|20.870305199882846|\n",
      "|        Legionowo|20.814169659654524|\n",
      "|           Kielce|20.753340498710237|\n",
      "|             Łask|20.669818597343223|\n",
      "|    Lwówek Śląski|20.641329428202923|\n",
      "+-----------------+------------------+\n",
      "only showing top 20 rows\n",
      "\n",
      "191.3525414466858"
     ]
    }
   ],
   "source": [
    "\n",
    "start = time()\n",
    "\n",
    "avg_pm_by_city_month = (\n",
    "    smog_df.filter((col('country')=='PL') & (col('parameter') == 'pm25'))\n",
    "    .groupby('city')\n",
    "    .avg('value'))\n",
    "    \n",
    "max_val_paris_month = (\n",
    "    smog_df.filter((col('country')=='FR') & (col('parameter') == 'pm25'))\n",
    "    .groupby('city')\n",
    "    .max('value')\n",
    "    .filter(col('city') == 'Paris')\n",
    "    .select('max(value)').collect()[0])\n",
    "    \n",
    "avg_pm_less_than_paris_month = avg_pm_by_city_month.filter(col('avg(value)') < max_val_paris_month[0])\n",
    "avg_pm_less_than_paris_month.orderBy(avg_pm_less_than_paris_month[\"avg(value)\"].desc()).show(20)\n",
    "    \n",
    "end = time()\n",
    "print(end - start)"
   ]
  },
  {
   "cell_type": "code",
   "execution_count": 52,
   "id": "9a8a1964-dc24-44f3-a0f1-9fca5dcec2f2",
   "metadata": {
    "execution": {
     "iopub.execute_input": "2022-11-16T11:24:28.375098Z",
     "iopub.status.busy": "2022-11-16T11:24:28.374783Z",
     "iopub.status.idle": "2022-11-16T11:24:28.595886Z",
     "shell.execute_reply": "2022-11-16T11:24:28.595026Z",
     "shell.execute_reply.started": "2022-11-16T11:24:28.375069Z"
    },
    "tags": []
   },
   "outputs": [
    {
     "data": {
      "application/vnd.jupyter.widget-view+json": {
       "model_id": "18b3a8222c9d4ed2bd6e8ca2f24151ae",
       "version_major": 2,
       "version_minor": 0
      },
      "text/plain": [
       "VBox()"
      ]
     },
     "metadata": {},
     "output_type": "display_data"
    },
    {
     "data": {
      "application/vnd.jupyter.widget-view+json": {
       "model_id": "",
       "version_major": 2,
       "version_minor": 0
      },
      "text/plain": [
       "FloatProgress(value=0.0, bar_style='info', description='Progress:', layout=Layout(height='25px', width='50%'),…"
      ]
     },
     "metadata": {},
     "output_type": "display_data"
    }
   ],
   "source": [
    "workers = np.arange(2, 8)\n",
    "times = np.array([478.14635729789734, 378.85002613067627, 311.2718765735626, 260.486501455307, 238.63675475120544, 191.3525414466858])\n",
    "speedups = times[0] / times\n",
    "efficiencies = speedups / workers"
   ]
  },
  {
   "cell_type": "code",
   "execution_count": 69,
   "id": "b76c11f9-0547-4f0a-999d-b8c2c01140e9",
   "metadata": {
    "execution": {
     "iopub.execute_input": "2022-11-16T11:35:59.915495Z",
     "iopub.status.busy": "2022-11-16T11:35:59.915145Z",
     "iopub.status.idle": "2022-11-16T11:36:00.163994Z",
     "shell.execute_reply": "2022-11-16T11:36:00.162967Z",
     "shell.execute_reply.started": "2022-11-16T11:35:59.915460Z"
    },
    "tags": []
   },
   "outputs": [
    {
     "data": {
      "application/vnd.jupyter.widget-view+json": {
       "model_id": "0d50874a36ca44d09dc8c0ca33e097e3",
       "version_major": 2,
       "version_minor": 0
      },
      "text/plain": [
       "VBox()"
      ]
     },
     "metadata": {},
     "output_type": "display_data"
    },
    {
     "data": {
      "application/vnd.jupyter.widget-view+json": {
       "model_id": "",
       "version_major": 2,
       "version_minor": 0
      },
      "text/plain": [
       "FloatProgress(value=0.0, bar_style='info', description='Progress:', layout=Layout(height='25px', width='50%'),…"
      ]
     },
     "metadata": {},
     "output_type": "display_data"
    },
    {
     "data": {
      "image/png": "[encoded data removed]",
      "text/plain": [
       "<IPython.core.display.Image object>"
      ]
     },
     "metadata": {},
     "output_type": "display_data"
    }
   ],
   "source": [
    "plt.scatter(workers, times)\n",
    "plt.xlabel(\"Number of workers\")\n",
    "plt.ylabel(\"Execution time\")\n",
    "plt.title(\"Execution time by number of workers\")\n",
    "plt.show()\n",
    "%matplot plt"
   ]
  },
  {
   "cell_type": "code",
   "execution_count": 70,
   "id": "6807cfd8-6d01-4f7c-987c-cdad5acd7394",
   "metadata": {
    "execution": {
     "iopub.execute_input": "2022-11-16T11:36:10.862358Z",
     "iopub.status.busy": "2022-11-16T11:36:10.861959Z",
     "iopub.status.idle": "2022-11-16T11:36:11.404285Z",
     "shell.execute_reply": "2022-11-16T11:36:11.401095Z",
     "shell.execute_reply.started": "2022-11-16T11:36:10.862319Z"
    },
    "tags": []
   },
   "outputs": [
    {
     "data": {
      "application/vnd.jupyter.widget-view+json": {
       "model_id": "ae9fddb3fdd847a8acbce85aa27ed127",
       "version_major": 2,
       "version_minor": 0
      },
      "text/plain": [
       "VBox()"
      ]
     },
     "metadata": {},
     "output_type": "display_data"
    },
    {
     "data": {
      "application/vnd.jupyter.widget-view+json": {
       "model_id": "",
       "version_major": 2,
       "version_minor": 0
      },
      "text/plain": [
       "FloatProgress(value=0.0, bar_style='info', description='Progress:', layout=Layout(height='25px', width='50%'),…"
      ]
     },
     "metadata": {},
     "output_type": "display_data"
    },
    {
     "data": {
      "image/png": "[encoded data removed]",
      "text/plain": [
       "<IPython.core.display.Image object>"
      ]
     },
     "metadata": {},
     "output_type": "display_data"
    }
   ],
   "source": [
    "plt.clf()\n",
    "plt.scatter(workers, speedups)\n",
    "plt.xlabel(\"Number of workers\")\n",
    "plt.ylabel(\"Speedup\")\n",
    "plt.title(\"Speedup by number of workers\")\n",
    "plt.show()\n",
    "%matplot plt"
   ]
  },
  {
   "cell_type": "code",
   "execution_count": 72,
   "id": "67e9f9fa-f6f7-4882-870b-fcedfdd7f60f",
   "metadata": {
    "execution": {
     "iopub.execute_input": "2022-11-16T11:36:24.892821Z",
     "iopub.status.busy": "2022-11-16T11:36:24.892109Z",
     "iopub.status.idle": "2022-11-16T11:36:25.325371Z",
     "shell.execute_reply": "2022-11-16T11:36:25.324151Z",
     "shell.execute_reply.started": "2022-11-16T11:36:24.892771Z"
    },
    "tags": []
   },
   "outputs": [
    {
     "data": {
      "application/vnd.jupyter.widget-view+json": {
       "model_id": "5b0d8a496f2e48a8aa8d395227bb4dc5",
       "version_major": 2,
       "version_minor": 0
      },
      "text/plain": [
       "VBox()"
      ]
     },
     "metadata": {},
     "output_type": "display_data"
    },
    {
     "data": {
      "application/vnd.jupyter.widget-view+json": {
       "model_id": "",
       "version_major": 2,
       "version_minor": 0
      },
      "text/plain": [
       "FloatProgress(value=0.0, bar_style='info', description='Progress:', layout=Layout(height='25px', width='50%'),…"
      ]
     },
     "metadata": {},
     "output_type": "display_data"
    },
    {
     "data": {
      "image/png": "[encoded data removed]",
      "text/plain": [
       "<IPython.core.display.Image object>"
      ]
     },
     "metadata": {},
     "output_type": "display_data"
    }
   ],
   "source": [
    "plt.clf()\n",
    "plt.scatter(workers, efficiencies)\n",
    "plt.xlabel(\"Number of workers\")\n",
    "plt.ylabel(\"Efficiency\")\n",
    "plt.title(\"Efficiency by number workers\")\n",
    "plt.show()\n",
    "%matplot plt"
   ]
  },
  {
   "cell_type": "markdown",
   "id": "0cb2f824-43f9-43d0-8fb5-0aacd34f7cf0",
   "metadata": {},
   "source": [
    "# Zadanie 6 \n",
    "\n",
    "Wykonaj przykładowe zapytanie dla danych z całego roku 2021. Załącz wybrane wykresy ze Spark UI (https://spark.apache.org/docs/latest/web-ui.html), np. DAG, diagram Gantta, informacje o rozmiarach danych.\n"
   ]
  },
  {
   "cell_type": "code",
   "execution_count": 78,
   "id": "1cbd7312-83c0-47e6-a351-439bb0ef429c",
   "metadata": {
    "execution": {
     "iopub.execute_input": "2022-11-16T11:45:48.795463Z",
     "iopub.status.busy": "2022-11-16T11:45:48.795075Z",
     "iopub.status.idle": "2022-11-16T12:03:04.559619Z",
     "shell.execute_reply": "2022-11-16T12:03:04.558738Z",
     "shell.execute_reply.started": "2022-11-16T11:45:48.795429Z"
    }
   },
   "outputs": [
    {
     "data": {
      "application/vnd.jupyter.widget-view+json": {
       "model_id": "34efe3e49d394fe5a5b98d73b04b828b",
       "version_major": 2,
       "version_minor": 0
      },
      "text/plain": [
       "VBox()"
      ]
     },
     "metadata": {},
     "output_type": "display_data"
    },
    {
     "data": {
      "application/vnd.jupyter.widget-view+json": {
       "model_id": "",
       "version_major": 2,
       "version_minor": 0
      },
      "text/plain": [
       "FloatProgress(value=0.0, bar_style='info', description='Progress:', layout=Layout(height='25px', width='50%'),…"
      ]
     },
     "metadata": {},
     "output_type": "display_data"
    }
   ],
   "source": [
    "smog_2021_df = spark.read.json(\"s3a://openaq-fetches/realtime/2021-*-*/*\")\n",
    "smog_2021_df = smog_2021_df.where(\n",
    "    (col(\"date.utc\") >= lit(\"2021-01-01T00:00:000Z\")) & \n",
    "    (col(\"date.utc\") <  lit(\"2022-01-01T00:00:000Z\"))\n",
    ")\n",
    "\n",
    "df = (smog_2021_df\n",
    "      .select('value','city')\n",
    "      .filter(col('country') == 'PL')\n",
    "      .groupby('city')\n",
    "      .avg('value'))"
   ]
  },
  {
   "cell_type": "markdown",
   "id": "9ec5337d-ec24-46a0-9ed0-f367d2e849f7",
   "metadata": {},
   "source": [
    "![DAG Diagram](https://spark.apache.org/docs/latest/img/JobPageDetail2.png)"
   ]
  },
  {
   "cell_type": "markdown",
   "id": "db3ee370-fcf0-4b46-91c9-6025237a5a0e",
   "metadata": {},
   "source": [
    "![Job Page Detail](https://spark.apache.org/docs/latest/img/JobPageDetail1.png)"
   ]
  },
  {
   "cell_type": "markdown",
   "id": "b6116564-29fb-4786-8512-7f31a972e74d",
   "metadata": {},
   "source": [
    "![webui-structured-streaming-detail](https://spark.apache.org/docs/latest/img/webui-structured-streaming-detail.png)"
   ]
  }
 ],
 "metadata": {
  "kernelspec": {
   "display_name": "PySpark",
   "language": "",
   "name": "pysparkkernel"
  },
  "language_info": {
   "codemirror_mode": {
    "name": "python",
    "version": 2
   },
   "mimetype": "text/x-python",
   "name": "pyspark",
   "pygments_lexer": "python2"
  }
 },
 "nbformat": 4,
 "nbformat_minor": 5
}
