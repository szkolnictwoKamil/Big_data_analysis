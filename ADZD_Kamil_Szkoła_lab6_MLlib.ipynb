{
  "cells": [
    {
      "cell_type": "markdown",
      "metadata": {
        "id": "7gm9aYzTDTTU"
      },
      "source": [
        "# Spark MLlib Exercises\n",
        "\n",
        "\n",
        "http://spark.apache.org/docs/latest/ml-statistics.html"
      ]
    },
    {
      "cell_type": "code",
      "source": [
        "!pip install pyspark"
      ],
      "metadata": {
        "colab": {
          "base_uri": "https://localhost:8080/"
        },
        "id": "C7Ak6MIeXf5A",
        "outputId": "5c56ace6-d2da-4ddb-938a-0d11c568b3bf"
      },
      "execution_count": 1,
      "outputs": [
        {
          "output_type": "stream",
          "name": "stdout",
          "text": [
            "Looking in indexes: https://pypi.org/simple, https://us-python.pkg.dev/colab-wheels/public/simple/\n",
            "Collecting pyspark\n",
            "  Downloading pyspark-3.3.1.tar.gz (281.4 MB)\n",
            "\u001b[K     |████████████████████████████████| 281.4 MB 46 kB/s \n",
            "\u001b[?25hCollecting py4j==0.10.9.5\n",
            "  Downloading py4j-0.10.9.5-py2.py3-none-any.whl (199 kB)\n",
            "\u001b[K     |████████████████████████████████| 199 kB 60.1 MB/s \n",
            "\u001b[?25hBuilding wheels for collected packages: pyspark\n",
            "  Building wheel for pyspark (setup.py) ... \u001b[?25l\u001b[?25hdone\n",
            "  Created wheel for pyspark: filename=pyspark-3.3.1-py2.py3-none-any.whl size=281845512 sha256=5871b092e81c2e0b805cee905f6e2fa0e70a223e2704ef9fd1c8f5fd9c38a755\n",
            "  Stored in directory: /root/.cache/pip/wheels/43/dc/11/ec201cd671da62fa9c5cc77078235e40722170ceba231d7598\n",
            "Successfully built pyspark\n",
            "Installing collected packages: py4j, pyspark\n",
            "Successfully installed py4j-0.10.9.5 pyspark-3.3.1\n"
          ]
        }
      ]
    },
    {
      "cell_type": "code",
      "execution_count": 2,
      "metadata": {
        "id": "YBM19ZBQDTTX"
      },
      "outputs": [],
      "source": [
        "from pyspark.sql import SparkSession\n",
        "from pyspark.conf import SparkConf\n",
        "from pyspark.sql import functions as F\n",
        "from pyspark.sql import types as T\n",
        "from pyspark.ml import Pipeline\n",
        "from pyspark.ml.classification import DecisionTreeClassifier, LogisticRegression\n",
        "from pyspark.ml.evaluation import MulticlassClassificationEvaluator\n",
        "from pyspark.ml.feature import HashingTF, IDF, QuantileDiscretizer, StringIndexer, Tokenizer, VectorAssembler\n",
        "from pyspark.ml.stat import Correlation, KolmogorovSmirnovTest\n",
        "\n",
        "spark = SparkSession.builder.getOrCreate()"
      ]
    },
    {
      "cell_type": "code",
      "execution_count": 3,
      "metadata": {
        "colab": {
          "base_uri": "https://localhost:8080/",
          "height": 219
        },
        "id": "u1Z_Q8lZDTTZ",
        "outputId": "2fa2befb-43e7-4bb9-f208-808f8db8d9f3",
        "scrolled": true
      },
      "outputs": [
        {
          "output_type": "execute_result",
          "data": {
            "text/plain": [
              "<pyspark.sql.session.SparkSession at 0x7f7aebb6fbe0>"
            ],
            "text/html": [
              "\n",
              "            <div>\n",
              "                <p><b>SparkSession - in-memory</b></p>\n",
              "                \n",
              "        <div>\n",
              "            <p><b>SparkContext</b></p>\n",
              "\n",
              "            <p><a href=\"http://6c1d028f294a:4040\">Spark UI</a></p>\n",
              "\n",
              "            <dl>\n",
              "              <dt>Version</dt>\n",
              "                <dd><code>v3.3.1</code></dd>\n",
              "              <dt>Master</dt>\n",
              "                <dd><code>local[*]</code></dd>\n",
              "              <dt>AppName</dt>\n",
              "                <dd><code>pyspark-shell</code></dd>\n",
              "            </dl>\n",
              "        </div>\n",
              "        \n",
              "            </div>\n",
              "        "
            ]
          },
          "metadata": {},
          "execution_count": 3
        }
      ],
      "source": [
        "spark"
      ]
    },
    {
      "cell_type": "markdown",
      "metadata": {
        "id": "a7GDDu-2DTTa"
      },
      "source": [
        "## 1. Statistics (1p.)\n",
        "\n",
        "Download the following dataset: https://www.kaggle.com/c/titanic/data?select=train.csv"
      ]
    },
    {
      "cell_type": "code",
      "execution_count": 7,
      "metadata": {
        "colab": {
          "base_uri": "https://localhost:8080/"
        },
        "id": "rwIzAVYsGkEC",
        "outputId": "a60fd93e-8582-4a4f-8d68-490cc9686696"
      },
      "outputs": [
        {
          "output_type": "stream",
          "name": "stdout",
          "text": [
            "+-----------+--------+------+--------------------+------+----+-----+-----+--------+-------+-----------+--------+\n",
            "|PassengerId|Survived|Pclass|                Name|   Sex| Age|SibSp|Parch|  Ticket|   Fare|      Cabin|Embarked|\n",
            "+-----------+--------+------+--------------------+------+----+-----+-----+--------+-------+-----------+--------+\n",
            "|          2|       1|     1|Cumings, Mrs. Joh...|female|38.0|    1|    0|PC 17599|71.2833|        C85|       C|\n",
            "|          4|       1|     1|Futrelle, Mrs. Ja...|female|35.0|    1|    0|  113803|   53.1|       C123|       S|\n",
            "|          7|       0|     1|McCarthy, Mr. Tim...|  male|54.0|    0|    0|   17463|51.8625|        E46|       S|\n",
            "|         11|       1|     3|Sandstrom, Miss. ...|female| 4.0|    1|    1| PP 9549|   16.7|         G6|       S|\n",
            "|         12|       1|     1|Bonnell, Miss. El...|female|58.0|    0|    0|  113783|  26.55|       C103|       S|\n",
            "|         22|       1|     2|Beesley, Mr. Lawr...|  male|34.0|    0|    0|  248698|   13.0|        D56|       S|\n",
            "|         24|       1|     1|Sloper, Mr. Willi...|  male|28.0|    0|    0|  113788|   35.5|         A6|       S|\n",
            "|         28|       0|     1|Fortune, Mr. Char...|  male|19.0|    3|    2|   19950|  263.0|C23 C25 C27|       S|\n",
            "|         53|       1|     1|Harper, Mrs. Henr...|female|49.0|    1|    0|PC 17572|76.7292|        D33|       C|\n",
            "|         55|       0|     1|Ostby, Mr. Engelh...|  male|65.0|    0|    1|  113509|61.9792|        B30|       C|\n",
            "+-----------+--------+------+--------------------+------+----+-----+-----+--------+-------+-----------+--------+\n",
            "only showing top 10 rows\n",
            "\n",
            "[('PassengerId', 'int'), ('Survived', 'int'), ('Pclass', 'int'), ('Name', 'string'), ('Sex', 'string'), ('Age', 'double'), ('SibSp', 'int'), ('Parch', 'int'), ('Ticket', 'string'), ('Fare', 'double'), ('Cabin', 'string'), ('Embarked', 'string')]\n"
          ]
        }
      ],
      "source": [
        "file = \"titanic_train.csv\"\n",
        "titanic_df = spark.read.format(\"csv\").options(inferSchema=\"true\", header=\"true\").load(file)\n",
        "titanic_df = titanic_df.dropna(how='any')\n",
        "titanic_df.show(10)\n",
        "print(titanic_df.dtypes)"
      ]
    },
    {
      "cell_type": "markdown",
      "metadata": {
        "id": "45tDK3AbDTTb"
      },
      "source": [
        "### Exercise 1.A.\n",
        "**TODO:** Calculate descriptive statistics for 'Age' and 'Fare' (see https://spark.apache.org/docs/1.6.1/api/java/org/apache/spark/sql/DataFrame.html#describe(scala.collection.Seq))"
      ]
    },
    {
      "cell_type": "code",
      "execution_count": 9,
      "metadata": {
        "id": "wH4SqCVgjYzX",
        "colab": {
          "base_uri": "https://localhost:8080/"
        },
        "outputId": "daa2c6bc-b190-4c03-fb1b-8dd893e01efd"
      },
      "outputs": [
        {
          "output_type": "stream",
          "name": "stdout",
          "text": [
            "+-------+------------------+-----------------+\n",
            "|summary|               age|             Fare|\n",
            "+-------+------------------+-----------------+\n",
            "|  count|               183|              183|\n",
            "|   mean|  35.6744262295082|78.68246885245901|\n",
            "| stddev|15.643865966849717|76.34784270040569|\n",
            "|    min|              0.92|              0.0|\n",
            "|    max|              80.0|         512.3292|\n",
            "+-------+------------------+-----------------+\n",
            "\n"
          ]
        }
      ],
      "source": [
        "titanic_df.describe(\"age\", \"Fare\").show()\n"
      ]
    },
    {
      "cell_type": "markdown",
      "metadata": {
        "id": "YnmEXLrSDTTd"
      },
      "source": [
        "### Exercise 1.B.\n",
        "\n",
        "**TODO:** Check if 'Age' and 'Fare' have normal distribution (see http://spark.apache.org/docs/latest/api/java/org/apache/spark/ml/stat/KolmogorovSmirnovTest.html)"
      ]
    },
    {
      "cell_type": "code",
      "execution_count": 17,
      "metadata": {
        "id": "-U2RwXRejak3",
        "colab": {
          "base_uri": "https://localhost:8080/"
        },
        "outputId": "377f74bc-6e20-45b3-e790-520c3884b3bb"
      },
      "outputs": [
        {
          "output_type": "stream",
          "name": "stdout",
          "text": [
            "reject the null hypothesis that the sample comes from a normal distribution as pValue equals 1.943689653671754e-11\n"
          ]
        }
      ],
      "source": [
        "ksResult = KolmogorovSmirnovTest.test(titanic_df, 'Age', 'norm', 0.0, 1.0).first()\n",
        "pValue = ksResult.pValue\n",
        "if pValue < 0.05:\n",
        "  print(f'reject the null hypothesis that the sample comes from a normal distribution as pValue equals {pValue}')\n",
        "else:\n",
        "  print('fail to reject the null hypothesis')"
      ]
    },
    {
      "cell_type": "code",
      "source": [
        "ksResult = KolmogorovSmirnovTest.test(titanic_df, 'Fare', 'norm', 0.0, 1.0).first()\n",
        "pValue = ksResult.pValue\n",
        "if pValue < 0.05:\n",
        "  print(f'reject the null hypothesis that the sample comes from a normal distribution as pValue equals {pValue}')\n",
        "else:\n",
        "  print('fail to reject the null hypothesis')"
      ],
      "metadata": {
        "colab": {
          "base_uri": "https://localhost:8080/"
        },
        "id": "Bk8OtjgVbusi",
        "outputId": "cc714dbf-a8af-4bd4-ca28-dcee3cdaa92a"
      },
      "execution_count": 18,
      "outputs": [
        {
          "output_type": "stream",
          "name": "stdout",
          "text": [
            "reject the null hypothesis that the sample comes from a normal distribution as pValue equals 8.816725127758218e-12\n"
          ]
        }
      ]
    },
    {
      "cell_type": "markdown",
      "metadata": {
        "id": "LABGbwAsNJCa"
      },
      "source": [
        "### Exercise 1.C.\n",
        "\n",
        "**TODO:** Calculate Pearson correlation between the following pairs of features:  \n",
        "* 'Age' and 'Survived'\n",
        "* 'Sex' and 'Survived' *(remember about encoding 'Sex' attributes as 0s and 1s)*\n",
        "\n",
        "Which correlation is stronger?"
      ]
    },
    {
      "cell_type": "code",
      "execution_count": 21,
      "metadata": {
        "id": "wHUlmM-OjcBi",
        "colab": {
          "base_uri": "https://localhost:8080/"
        },
        "outputId": "61165499-8cf6-464c-f101-39e2e509f4fc"
      },
      "outputs": [
        {
          "output_type": "stream",
          "name": "stdout",
          "text": [
            "+-----------+--------+------+--------------------+------+----+-----+-----+-----------+--------+-----------+--------+\n",
            "|PassengerId|Survived|Pclass|                Name|   Sex| Age|SibSp|Parch|     Ticket|    Fare|      Cabin|Embarked|\n",
            "+-----------+--------+------+--------------------+------+----+-----+-----+-----------+--------+-----------+--------+\n",
            "|          2|       1|     1|Cumings, Mrs. Joh...|female|38.0|    1|    0|   PC 17599| 71.2833|        C85|       C|\n",
            "|          4|       1|     1|Futrelle, Mrs. Ja...|female|35.0|    1|    0|     113803|    53.1|       C123|       S|\n",
            "|          7|       0|     1|McCarthy, Mr. Tim...|  male|54.0|    0|    0|      17463| 51.8625|        E46|       S|\n",
            "|         11|       1|     3|Sandstrom, Miss. ...|female| 4.0|    1|    1|    PP 9549|    16.7|         G6|       S|\n",
            "|         12|       1|     1|Bonnell, Miss. El...|female|58.0|    0|    0|     113783|   26.55|       C103|       S|\n",
            "|         22|       1|     2|Beesley, Mr. Lawr...|  male|34.0|    0|    0|     248698|    13.0|        D56|       S|\n",
            "|         24|       1|     1|Sloper, Mr. Willi...|  male|28.0|    0|    0|     113788|    35.5|         A6|       S|\n",
            "|         28|       0|     1|Fortune, Mr. Char...|  male|19.0|    3|    2|      19950|   263.0|C23 C25 C27|       S|\n",
            "|         53|       1|     1|Harper, Mrs. Henr...|female|49.0|    1|    0|   PC 17572| 76.7292|        D33|       C|\n",
            "|         55|       0|     1|Ostby, Mr. Engelh...|  male|65.0|    0|    1|     113509| 61.9792|        B30|       C|\n",
            "|         63|       0|     1|Harris, Mr. Henry...|  male|45.0|    1|    0|      36973|  83.475|        C83|       S|\n",
            "|         67|       1|     2|Nye, Mrs. (Elizab...|female|29.0|    0|    0| C.A. 29395|    10.5|        F33|       S|\n",
            "|         76|       0|     3|Moen, Mr. Sigurd ...|  male|25.0|    0|    0|     348123|    7.65|      F G73|       S|\n",
            "|         89|       1|     1|Fortune, Miss. Ma...|female|23.0|    3|    2|      19950|   263.0|C23 C25 C27|       S|\n",
            "|         93|       0|     1|Chaffee, Mr. Herb...|  male|46.0|    1|    0|W.E.P. 5734|  61.175|        E31|       S|\n",
            "|         97|       0|     1|Goldschmidt, Mr. ...|  male|71.0|    0|    0|   PC 17754| 34.6542|         A5|       C|\n",
            "|         98|       1|     1|Greenfield, Mr. W...|  male|23.0|    0|    1|   PC 17759| 63.3583|    D10 D12|       C|\n",
            "|        103|       0|     1|White, Mr. Richar...|  male|21.0|    0|    1|      35281| 77.2875|        D26|       S|\n",
            "|        111|       0|     1|Porter, Mr. Walte...|  male|47.0|    0|    0|     110465|    52.0|       C110|       S|\n",
            "|        119|       0|     1|Baxter, Mr. Quigg...|  male|24.0|    0|    1|   PC 17558|247.5208|    B58 B60|       C|\n",
            "+-----------+--------+------+--------------------+------+----+-----+-----+-----------+--------+-----------+--------+\n",
            "only showing top 20 rows\n",
            "\n"
          ]
        }
      ],
      "source": [
        "titanic_df.show()"
      ]
    },
    {
      "cell_type": "code",
      "source": [
        "feature1 = titanic_df.select(\"Age\").rdd.map(lambda row: row[0])\n",
        "feature2 = titanic_df.select(\"Survived\").rdd.map(lambda row: row[0])\n",
        "\n",
        "pearsonCorrelation = Statistics.corr(feature1, feature2, method=\"pearson\")\n",
        "\n",
        "print(f'We can assume that the correlation between Age and survived is weak as it is equal to {pearsonCorrelation}')"
      ],
      "metadata": {
        "colab": {
          "base_uri": "https://localhost:8080/"
        },
        "id": "fkAZcW-igsNQ",
        "outputId": "bfa08ab5-42e8-4908-c76f-29e7bb873982"
      },
      "execution_count": 28,
      "outputs": [
        {
          "output_type": "stream",
          "name": "stdout",
          "text": [
            "We can assume that the correlation between Age and survived is weak as it is equal to -0.25408475420305326\n"
          ]
        }
      ]
    },
    {
      "cell_type": "code",
      "source": [
        "from pyspark.sql.functions import udf\n",
        "\n",
        "def mapSexToInt(x):\n",
        "  if x == \"female\":\n",
        "    return 1\n",
        "  elif x == \"male\":\n",
        "    return 0\n",
        "  else:\n",
        "    return None\n",
        "\n",
        "mapSexToIntUDF = udf(mapSexToInt)\n",
        "\n",
        "mappedDF = titanic_df.withColumn(\"Sex_int\", mapSexToIntUDF(titanic_df.Sex))"
      ],
      "metadata": {
        "id": "-bcHtTKmjz-p"
      },
      "execution_count": 29,
      "outputs": []
    },
    {
      "cell_type": "code",
      "source": [
        "mappedDF.show()"
      ],
      "metadata": {
        "colab": {
          "base_uri": "https://localhost:8080/"
        },
        "id": "MO91szBokM__",
        "outputId": "ee2742b6-0ce5-457b-90fc-b92cac8b1252"
      },
      "execution_count": 34,
      "outputs": [
        {
          "output_type": "stream",
          "name": "stdout",
          "text": [
            "+-----------+--------+------+--------------------+------+----+-----+-----+-----------+--------+-----------+--------+-------+\n",
            "|PassengerId|Survived|Pclass|                Name|   Sex| Age|SibSp|Parch|     Ticket|    Fare|      Cabin|Embarked|Sex_int|\n",
            "+-----------+--------+------+--------------------+------+----+-----+-----+-----------+--------+-----------+--------+-------+\n",
            "|          2|       1|     1|Cumings, Mrs. Joh...|female|38.0|    1|    0|   PC 17599| 71.2833|        C85|       C|      1|\n",
            "|          4|       1|     1|Futrelle, Mrs. Ja...|female|35.0|    1|    0|     113803|    53.1|       C123|       S|      1|\n",
            "|          7|       0|     1|McCarthy, Mr. Tim...|  male|54.0|    0|    0|      17463| 51.8625|        E46|       S|      0|\n",
            "|         11|       1|     3|Sandstrom, Miss. ...|female| 4.0|    1|    1|    PP 9549|    16.7|         G6|       S|      1|\n",
            "|         12|       1|     1|Bonnell, Miss. El...|female|58.0|    0|    0|     113783|   26.55|       C103|       S|      1|\n",
            "|         22|       1|     2|Beesley, Mr. Lawr...|  male|34.0|    0|    0|     248698|    13.0|        D56|       S|      0|\n",
            "|         24|       1|     1|Sloper, Mr. Willi...|  male|28.0|    0|    0|     113788|    35.5|         A6|       S|      0|\n",
            "|         28|       0|     1|Fortune, Mr. Char...|  male|19.0|    3|    2|      19950|   263.0|C23 C25 C27|       S|      0|\n",
            "|         53|       1|     1|Harper, Mrs. Henr...|female|49.0|    1|    0|   PC 17572| 76.7292|        D33|       C|      1|\n",
            "|         55|       0|     1|Ostby, Mr. Engelh...|  male|65.0|    0|    1|     113509| 61.9792|        B30|       C|      0|\n",
            "|         63|       0|     1|Harris, Mr. Henry...|  male|45.0|    1|    0|      36973|  83.475|        C83|       S|      0|\n",
            "|         67|       1|     2|Nye, Mrs. (Elizab...|female|29.0|    0|    0| C.A. 29395|    10.5|        F33|       S|      1|\n",
            "|         76|       0|     3|Moen, Mr. Sigurd ...|  male|25.0|    0|    0|     348123|    7.65|      F G73|       S|      0|\n",
            "|         89|       1|     1|Fortune, Miss. Ma...|female|23.0|    3|    2|      19950|   263.0|C23 C25 C27|       S|      1|\n",
            "|         93|       0|     1|Chaffee, Mr. Herb...|  male|46.0|    1|    0|W.E.P. 5734|  61.175|        E31|       S|      0|\n",
            "|         97|       0|     1|Goldschmidt, Mr. ...|  male|71.0|    0|    0|   PC 17754| 34.6542|         A5|       C|      0|\n",
            "|         98|       1|     1|Greenfield, Mr. W...|  male|23.0|    0|    1|   PC 17759| 63.3583|    D10 D12|       C|      0|\n",
            "|        103|       0|     1|White, Mr. Richar...|  male|21.0|    0|    1|      35281| 77.2875|        D26|       S|      0|\n",
            "|        111|       0|     1|Porter, Mr. Walte...|  male|47.0|    0|    0|     110465|    52.0|       C110|       S|      0|\n",
            "|        119|       0|     1|Baxter, Mr. Quigg...|  male|24.0|    0|    1|   PC 17558|247.5208|    B58 B60|       C|      0|\n",
            "+-----------+--------+------+--------------------+------+----+-----+-----+-----------+--------+-----------+--------+-------+\n",
            "only showing top 20 rows\n",
            "\n"
          ]
        }
      ]
    },
    {
      "cell_type": "code",
      "source": [
        "feature1 = mappedDF.select(\"Sex_int\").rdd.map(lambda row: row[0])\n",
        "feature2 = mappedDF.select(\"Survived\").rdd.map(lambda row: row[0])\n",
        "\n",
        "pearsonCorrelation = Statistics.corr(feature1, feature2, method=\"pearson\")\n",
        "\n",
        "print(f'We can assume that the correlation between Sex and survived is present. The correlation indicates on positive linear relationship between the two variables as it is equal to {pearsonCorrelation}')"
      ],
      "metadata": {
        "colab": {
          "base_uri": "https://localhost:8080/"
        },
        "id": "DTzsyTVRiTye",
        "outputId": "0ad381e8-de28-46c4-a514-a1113755431d"
      },
      "execution_count": 37,
      "outputs": [
        {
          "output_type": "stream",
          "name": "stdout",
          "text": [
            "We can assume that the correlation between Sex and survived is present. The correlation indicates on positive linear relationship between the two variables as it is equal to 0.5324179744538422\n"
          ]
        }
      ]
    },
    {
      "cell_type": "markdown",
      "metadata": {
        "id": "Zq3d-SBVDTTe"
      },
      "source": [
        "## 2. Loading data"
      ]
    },
    {
      "cell_type": "markdown",
      "metadata": {
        "id": "pvoN8rt8DTTe"
      },
      "source": [
        "Doc: http://spark.apache.org/docs/latest/ml-datasource.html "
      ]
    },
    {
      "cell_type": "markdown",
      "metadata": {
        "id": "3SQQe2vGDTTf"
      },
      "source": [
        "Download data from https://github.com/apache/spark/blob/master/data/mllib/sample_libsvm_data.txt and load as DataFrame. "
      ]
    },
    {
      "cell_type": "code",
      "execution_count": 38,
      "metadata": {
        "id": "1l4ZSj7hJ27W",
        "colab": {
          "base_uri": "https://localhost:8080/"
        },
        "outputId": "6702cfb3-5d7d-4776-9be6-e9789e11e5a5"
      },
      "outputs": [
        {
          "output_type": "stream",
          "name": "stdout",
          "text": [
            "+-----+--------------------+\n",
            "|label|            features|\n",
            "+-----+--------------------+\n",
            "|  0.0|(780,[127,128,129...|\n",
            "|  1.0|(780,[158,159,160...|\n",
            "|  1.0|(780,[124,125,126...|\n",
            "|  1.0|(780,[152,153,154...|\n",
            "|  1.0|(780,[151,152,153...|\n",
            "|  0.0|(780,[129,130,131...|\n",
            "|  1.0|(780,[158,159,160...|\n",
            "|  1.0|(780,[99,100,101,...|\n",
            "|  0.0|(780,[154,155,156...|\n",
            "|  0.0|(780,[127,128,129...|\n",
            "+-----+--------------------+\n",
            "only showing top 10 rows\n",
            "\n"
          ]
        },
        {
          "output_type": "execute_result",
          "data": {
            "text/plain": [
              "[Row(label=0.0, features=SparseVector(780, {127: 51.0, 128: 159.0, 129: 253.0, 130: 159.0, 131: 50.0, 154: 48.0, 155: 238.0, 156: 252.0, 157: 252.0, 158: 252.0, 159: 237.0, 181: 54.0, 182: 227.0, 183: 253.0, 184: 252.0, 185: 239.0, 186: 233.0, 187: 252.0, 188: 57.0, 189: 6.0, 207: 10.0, 208: 60.0, 209: 224.0, 210: 252.0, 211: 253.0, 212: 252.0, 213: 202.0, 214: 84.0, 215: 252.0, 216: 253.0, 217: 122.0, 235: 163.0, 236: 252.0, 237: 252.0, 238: 252.0, 239: 253.0, 240: 252.0, 241: 252.0, 242: 96.0, 243: 189.0, 244: 253.0, 245: 167.0, 262: 51.0, 263: 238.0, 264: 253.0, 265: 253.0, 266: 190.0, 267: 114.0, 268: 253.0, 269: 228.0, 270: 47.0, 271: 79.0, 272: 255.0, 273: 168.0, 289: 48.0, 290: 238.0, 291: 252.0, 292: 252.0, 293: 179.0, 294: 12.0, 295: 75.0, 296: 121.0, 297: 21.0, 300: 253.0, 301: 243.0, 302: 50.0, 316: 38.0, 317: 165.0, 318: 253.0, 319: 233.0, 320: 208.0, 321: 84.0, 328: 253.0, 329: 252.0, 330: 165.0, 343: 7.0, 344: 178.0, 345: 252.0, 346: 240.0, 347: 71.0, 348: 19.0, 349: 28.0, 356: 253.0, 357: 252.0, 358: 195.0, 371: 57.0, 372: 252.0, 373: 252.0, 374: 63.0, 384: 253.0, 385: 252.0, 386: 195.0, 399: 198.0, 400: 253.0, 401: 190.0, 412: 255.0, 413: 253.0, 414: 196.0, 426: 76.0, 427: 246.0, 428: 252.0, 429: 112.0, 440: 253.0, 441: 252.0, 442: 148.0, 454: 85.0, 455: 252.0, 456: 230.0, 457: 25.0, 466: 7.0, 467: 135.0, 468: 253.0, 469: 186.0, 470: 12.0, 482: 85.0, 483: 252.0, 484: 223.0, 493: 7.0, 494: 131.0, 495: 252.0, 496: 225.0, 497: 71.0, 510: 85.0, 511: 252.0, 512: 145.0, 520: 48.0, 521: 165.0, 522: 252.0, 523: 173.0, 538: 86.0, 539: 253.0, 540: 225.0, 547: 114.0, 548: 238.0, 549: 253.0, 550: 162.0, 566: 85.0, 567: 252.0, 568: 249.0, 569: 146.0, 570: 48.0, 571: 29.0, 572: 85.0, 573: 178.0, 574: 225.0, 575: 253.0, 576: 223.0, 577: 167.0, 578: 56.0, 594: 85.0, 595: 252.0, 596: 252.0, 597: 252.0, 598: 229.0, 599: 215.0, 600: 252.0, 601: 252.0, 602: 252.0, 603: 196.0, 604: 130.0, 622: 28.0, 623: 199.0, 624: 252.0, 625: 252.0, 626: 253.0, 627: 252.0, 628: 252.0, 629: 233.0, 630: 145.0, 651: 25.0, 652: 128.0, 653: 252.0, 654: 253.0, 655: 252.0, 656: 141.0, 657: 37.0}))]"
            ]
          },
          "metadata": {},
          "execution_count": 38
        }
      ],
      "source": [
        "file = \"sample_libsvm_data.txt\"\n",
        "\n",
        "df = spark.read.format(\"libsvm\").option(\"numFeatures\", \"780\").load(file)\n",
        "df.show(10)\n",
        "df.take(1)"
      ]
    },
    {
      "cell_type": "markdown",
      "metadata": {
        "id": "MwEFjUnbDTTg"
      },
      "source": [
        "### Exercise 2.A\n",
        "**TODO:** Load wine data from https://www.csie.ntu.edu.tw/~cjlin/libsvmtools/datasets/multiclass/wine.scale\n",
        "Dataset description: http://archive.ics.uci.edu/ml/datasets/Wine"
      ]
    },
    {
      "cell_type": "code",
      "execution_count": 13,
      "metadata": {
        "id": "w71w8XBzjeXE",
        "colab": {
          "base_uri": "https://localhost:8080/"
        },
        "outputId": "9a8c55ed-dd2c-4d38-cb5b-169cbf7bfa13"
      },
      "outputs": [
        {
          "output_type": "stream",
          "name": "stdout",
          "text": [
            "+---+-----+----+----+----+---+----+----+---+----+----+----+----+----+\n",
            "|_c0|  _c1| _c2| _c3| _c4|_c5| _c6| _c7|_c8| _c9|_c10|_c11|_c12|_c13|\n",
            "+---+-----+----+----+----+---+----+----+---+----+----+----+----+----+\n",
            "|  1|14.23|1.71|2.43|15.6|127| 2.8|3.06|.28|2.29|5.64|1.04|3.92|1065|\n",
            "|  1| 13.2|1.78|2.14|11.2|100|2.65|2.76|.26|1.28|4.38|1.05| 3.4|1050|\n",
            "|  1|13.16|2.36|2.67|18.6|101| 2.8|3.24| .3|2.81|5.68|1.03|3.17|1185|\n",
            "|  1|14.37|1.95| 2.5|16.8|113|3.85|3.49|.24|2.18| 7.8| .86|3.45|1480|\n",
            "|  1|13.24|2.59|2.87|  21|118| 2.8|2.69|.39|1.82|4.32|1.04|2.93| 735|\n",
            "|  1| 14.2|1.76|2.45|15.2|112|3.27|3.39|.34|1.97|6.75|1.05|2.85|1450|\n",
            "|  1|14.39|1.87|2.45|14.6| 96| 2.5|2.52| .3|1.98|5.25|1.02|3.58|1290|\n",
            "|  1|14.06|2.15|2.61|17.6|121| 2.6|2.51|.31|1.25|5.05|1.06|3.58|1295|\n",
            "|  1|14.83|1.64|2.17|  14| 97| 2.8|2.98|.29|1.98| 5.2|1.08|2.85|1045|\n",
            "|  1|13.86|1.35|2.27|  16| 98|2.98|3.15|.22|1.85|7.22|1.01|3.55|1045|\n",
            "|  1| 14.1|2.16| 2.3|  18|105|2.95|3.32|.22|2.38|5.75|1.25|3.17|1510|\n",
            "|  1|14.12|1.48|2.32|16.8| 95| 2.2|2.43|.26|1.57|   5|1.17|2.82|1280|\n",
            "|  1|13.75|1.73|2.41|  16| 89| 2.6|2.76|.29|1.81| 5.6|1.15| 2.9|1320|\n",
            "|  1|14.75|1.73|2.39|11.4| 91| 3.1|3.69|.43|2.81| 5.4|1.25|2.73|1150|\n",
            "|  1|14.38|1.87|2.38|  12|102| 3.3|3.64|.29|2.96| 7.5| 1.2|   3|1547|\n",
            "|  1|13.63|1.81| 2.7|17.2|112|2.85|2.91| .3|1.46| 7.3|1.28|2.88|1310|\n",
            "|  1| 14.3|1.92|2.72|  20|120| 2.8|3.14|.33|1.97| 6.2|1.07|2.65|1280|\n",
            "|  1|13.83|1.57|2.62|  20|115|2.95| 3.4| .4|1.72| 6.6|1.13|2.57|1130|\n",
            "|  1|14.19|1.59|2.48|16.5|108| 3.3|3.93|.32|1.86| 8.7|1.23|2.82|1680|\n",
            "|  1|13.64| 3.1|2.56|15.2|116| 2.7|3.03|.17|1.66| 5.1| .96|3.36| 845|\n",
            "+---+-----+----+----+----+---+----+----+---+----+----+----+----+----+\n",
            "only showing top 20 rows\n",
            "\n"
          ]
        }
      ],
      "source": [
        "file = \"wine.data\"\n",
        "\n",
        "\n",
        "df = spark.read.format(\"csv\").load(file)\n",
        "df.show()"
      ]
    },
    {
      "cell_type": "markdown",
      "metadata": {
        "id": "cJn0NAMtDTTh"
      },
      "source": [
        "## 3. Classification (2p.)"
      ]
    },
    {
      "cell_type": "code",
      "execution_count": 24,
      "metadata": {
        "colab": {
          "base_uri": "https://localhost:8080/"
        },
        "id": "5B3svtjNDTTj",
        "outputId": "42d226f6-0a8d-4039-8048-5f561d3c7e45"
      },
      "outputs": [
        {
          "output_type": "stream",
          "name": "stdout",
          "text": [
            "+----+-------+---------+----+----+---+-------+----------+-------------------+-------+--------+----+----+-------+\n",
            "|Wine|Alcohol|Malicacid| Ash| Acl| Mg|Phenols|Flavanoids|Nonflavanoidphenols|Proanth|Colorint| Hue|  OD|Proline|\n",
            "+----+-------+---------+----+----+---+-------+----------+-------------------+-------+--------+----+----+-------+\n",
            "|   1|  14.23|     1.71|2.43|15.6|127|    2.8|      3.06|               0.28|   2.29|    5.64|1.04|3.92|   1065|\n",
            "|   1|   13.2|     1.78|2.14|11.2|100|   2.65|      2.76|               0.26|   1.28|    4.38|1.05| 3.4|   1050|\n",
            "|   1|  13.16|     2.36|2.67|18.6|101|    2.8|      3.24|                0.3|   2.81|    5.68|1.03|3.17|   1185|\n",
            "|   1|  14.37|     1.95| 2.5|16.8|113|   3.85|      3.49|               0.24|   2.18|     7.8|0.86|3.45|   1480|\n",
            "|   1|  13.24|     2.59|2.87|21.0|118|    2.8|      2.69|               0.39|   1.82|    4.32|1.04|2.93|    735|\n",
            "|   1|   14.2|     1.76|2.45|15.2|112|   3.27|      3.39|               0.34|   1.97|    6.75|1.05|2.85|   1450|\n",
            "|   1|  14.39|     1.87|2.45|14.6| 96|    2.5|      2.52|                0.3|   1.98|    5.25|1.02|3.58|   1290|\n",
            "|   1|  14.06|     2.15|2.61|17.6|121|    2.6|      2.51|               0.31|   1.25|    5.05|1.06|3.58|   1295|\n",
            "|   1|  14.83|     1.64|2.17|14.0| 97|    2.8|      2.98|               0.29|   1.98|     5.2|1.08|2.85|   1045|\n",
            "|   1|  13.86|     1.35|2.27|16.0| 98|   2.98|      3.15|               0.22|   1.85|    7.22|1.01|3.55|   1045|\n",
            "+----+-------+---------+----+----+---+-------+----------+-------------------+-------+--------+----+----+-------+\n",
            "only showing top 10 rows\n",
            "\n",
            "[('Wine', 'int'), ('Alcohol', 'double'), ('Malicacid', 'double'), ('Ash', 'double'), ('Acl', 'double'), ('Mg', 'int'), ('Phenols', 'double'), ('Flavanoids', 'double'), ('Nonflavanoidphenols', 'double'), ('Proanth', 'double'), ('Colorint', 'double'), ('Hue', 'double'), ('OD', 'double'), ('Proline', 'int')]\n"
          ]
        }
      ],
      "source": [
        "file = \"wine.csv\" # https://gist.githubusercontent.com/tijptjik/9408623/raw/b237fa5848349a14a14e5d4107dc7897c21951f5/wine.csv\n",
        "\n",
        "# Remember about deleting dots from the headers of this csv file!\n",
        "winedf2 = spark.read.format(\"csv\").options(inferSchema=\"true\", header=\"true\").load(file)\n",
        "winedf2.show(10)\n",
        "print(winedf2.dtypes)"
      ]
    },
    {
      "cell_type": "markdown",
      "metadata": {
        "id": "Rjp6BHOadXUs"
      },
      "source": [
        "### Exercise 3.A\n",
        "**TODO:** \n",
        "\n",
        "Remember about deleting dots from the headers of this csv file and splitting data into train and test set\n",
        "\n",
        "\n",
        "1) Create pipeline with VectorAssembler and DecisionTreeClassifier.\n",
        "\n",
        "2) Use the pipeline to make predictions.\n",
        "\n",
        "3) Evaluate predictions using MulticlassClassificationEvaluator.\n",
        "\n",
        "4) Calculate accuracy and test error\n",
        "\n",
        "5) Print the structure of the trained decision tree (hint: use toDebugString attribute)"
      ]
    },
    {
      "cell_type": "code",
      "execution_count": 33,
      "metadata": {
        "id": "MTfU0f0cjhV1"
      },
      "outputs": [],
      "source": [
        "#splitting data to train and test\n",
        "train_df, test_df = winedf2.randomSplit([0.7, 0.3], seed=420)\n",
        "\n",
        "\n",
        "# Define the input columns for the VectorAssembler\n",
        "input_cols = train_df.columns[1:]\n",
        "\n",
        "# Create the VectorAssembler\n",
        "assembler = VectorAssembler(inputCols=input_cols, outputCol=\"features\")\n",
        "\n",
        "# Create the DecisionTreeClassifier\n",
        "dt = DecisionTreeClassifier(labelCol=\"Wine\", featuresCol=\"features\")\n",
        "\n",
        "# Define the stages of the pipeline\n",
        "stages = [assembler, dt]\n",
        "\n",
        "# Create the pipeline\n",
        "pipeline = Pipeline(stages=stages)\n"
      ]
    },
    {
      "cell_type": "code",
      "source": [
        "train_df.show()"
      ],
      "metadata": {
        "colab": {
          "base_uri": "https://localhost:8080/"
        },
        "id": "D09Sv2Hv8tua",
        "outputId": "2d904ebd-6ec1-4ad9-e128-12387217993c"
      },
      "execution_count": 34,
      "outputs": [
        {
          "output_type": "stream",
          "name": "stdout",
          "text": [
            "+----+-------+---------+----+----+---+-------+----------+-------------------+-------+--------+----+----+-------+\n",
            "|Wine|Alcohol|Malicacid| Ash| Acl| Mg|Phenols|Flavanoids|Nonflavanoidphenols|Proanth|Colorint| Hue|  OD|Proline|\n",
            "+----+-------+---------+----+----+---+-------+----------+-------------------+-------+--------+----+----+-------+\n",
            "|   1|  12.85|      1.6|2.52|17.8| 95|   2.48|      2.37|               0.26|   1.46|    3.93|1.09|3.63|   1015|\n",
            "|   1|  12.93|      3.8|2.65|18.6|102|   2.41|      2.41|               0.25|   1.98|     4.5|1.03|3.52|    770|\n",
            "|   1|  13.05|     1.73|2.04|12.4| 92|   2.72|      3.27|               0.17|   2.91|     7.2|1.12|2.91|   1150|\n",
            "|   1|  13.05|     1.77| 2.1|17.0|107|    3.0|       3.0|               0.28|   2.03|    5.04|0.88|3.35|    885|\n",
            "|   1|  13.05|     2.05|3.22|25.0|124|   2.63|      2.68|               0.47|   1.92|    3.58|1.13| 3.2|    830|\n",
            "|   1|  13.16|     2.36|2.67|18.6|101|    2.8|      3.24|                0.3|   2.81|    5.68|1.03|3.17|   1185|\n",
            "|   1|  13.24|     2.59|2.87|21.0|118|    2.8|      2.69|               0.39|   1.82|    4.32|1.04|2.93|    735|\n",
            "|   1|  13.24|     3.98|2.29|17.5|103|   2.64|      2.63|               0.32|   1.66|    4.36|0.82| 3.0|    680|\n",
            "|   1|  13.28|     1.64|2.84|15.5|110|    2.6|      2.68|               0.34|   1.36|     4.6|1.09|2.78|    880|\n",
            "|   1|   13.3|     1.72|2.14|17.0| 94|    2.4|      2.19|               0.27|   1.35|    3.95|1.02|2.77|   1285|\n",
            "|   1|  13.39|     1.77|2.62|16.1| 93|   2.85|      2.94|               0.34|   1.45|     4.8|0.92|3.22|   1195|\n",
            "|   1|  13.41|     3.84|2.12|18.8| 90|   2.45|      2.68|               0.27|   1.48|    4.28|0.91| 3.0|   1035|\n",
            "|   1|  13.48|     1.81|2.41|20.5|100|    2.7|      2.98|               0.26|   1.86|     5.1|1.04|3.47|    920|\n",
            "|   1|   13.5|     1.81|2.61|20.0| 96|   2.53|      2.61|               0.28|   1.66|    3.52|1.12|3.82|    845|\n",
            "|   1|  13.56|     1.73|2.46|20.5|116|   2.96|      2.78|                0.2|   2.45|    6.25|0.98|3.03|   1120|\n",
            "|   1|  13.58|     1.66|2.36|19.1|106|   2.86|      3.19|               0.22|   1.95|     6.9|1.09|2.88|   1515|\n",
            "|   1|  13.63|     1.81| 2.7|17.2|112|   2.85|      2.91|                0.3|   1.46|     7.3|1.28|2.88|   1310|\n",
            "|   1|  13.64|      3.1|2.56|15.2|116|    2.7|      3.03|               0.17|   1.66|     5.1|0.96|3.36|    845|\n",
            "|   1|  13.71|     1.86|2.36|16.6|101|   2.61|      2.88|               0.27|   1.69|     3.8|1.11| 4.0|   1035|\n",
            "|   1|  13.72|     1.43| 2.5|16.7|108|    3.4|      3.67|               0.19|   2.04|     6.8|0.89|2.87|   1285|\n",
            "+----+-------+---------+----+----+---+-------+----------+-------------------+-------+--------+----+----+-------+\n",
            "only showing top 20 rows\n",
            "\n"
          ]
        }
      ]
    },
    {
      "cell_type": "code",
      "source": [
        "# Fit the pipeline to the training data\n",
        "model = pipeline.fit(train_df)\n",
        "# Apply the pipeline to the test data\n",
        "predictions = model.transform(test_df)"
      ],
      "metadata": {
        "id": "CozGGxqc7_2M"
      },
      "execution_count": 35,
      "outputs": []
    },
    {
      "cell_type": "code",
      "source": [
        "\n",
        "evaluator = MulticlassClassificationEvaluator(\n",
        "        labelCol=\"Wine\", \n",
        "        predictionCol=\"prediction\", \n",
        "        metricName=\"accuracy\"\n",
        "    )\n",
        "accuracy = evaluator.evaluate(predictions)"
      ],
      "metadata": {
        "id": "Iy1Op9DI9jEF"
      },
      "execution_count": 36,
      "outputs": []
    },
    {
      "cell_type": "code",
      "source": [
        "model.stages[1]"
      ],
      "metadata": {
        "colab": {
          "base_uri": "https://localhost:8080/"
        },
        "id": "277U1qad9uNC",
        "outputId": "36bae56c-5c07-4790-c653-b4af7027f5d5"
      },
      "execution_count": 37,
      "outputs": [
        {
          "output_type": "execute_result",
          "data": {
            "text/plain": [
              "DecisionTreeClassificationModel: uid=DecisionTreeClassifier_5ba420a42947, depth=4, numNodes=19, numClasses=4, numFeatures=13"
            ]
          },
          "metadata": {},
          "execution_count": 37
        }
      ]
    },
    {
      "cell_type": "code",
      "source": [
        "print(model.stages[1].toDebugString)"
      ],
      "metadata": {
        "colab": {
          "base_uri": "https://localhost:8080/"
        },
        "id": "QNlvXvAa907D",
        "outputId": "a9057bb1-0e74-4a3b-9ee1-36659d15d59b"
      },
      "execution_count": 40,
      "outputs": [
        {
          "output_type": "stream",
          "name": "stdout",
          "text": [
            "DecisionTreeClassificationModel: uid=DecisionTreeClassifier_5ba420a42947, depth=4, numNodes=19, numClasses=4, numFeatures=13\n",
            "  If (feature 0 <= 12.745000000000001)\n",
            "   If (feature 6 <= 0.875)\n",
            "    If (feature 1 <= 0.985)\n",
            "     Predict: 2.0\n",
            "    Else (feature 1 > 0.985)\n",
            "     Predict: 3.0\n",
            "   Else (feature 6 > 0.875)\n",
            "    If (feature 11 <= 1.3450000000000002)\n",
            "     Predict: 3.0\n",
            "    Else (feature 11 > 1.3450000000000002)\n",
            "     Predict: 2.0\n",
            "  Else (feature 0 > 12.745000000000001)\n",
            "   If (feature 5 <= 2.1500000000000004)\n",
            "    If (feature 6 <= 1.585)\n",
            "     If (feature 2 <= 1.99)\n",
            "      Predict: 2.0\n",
            "     Else (feature 2 > 1.99)\n",
            "      Predict: 3.0\n",
            "    Else (feature 6 > 1.585)\n",
            "     Predict: 2.0\n",
            "   Else (feature 5 > 2.1500000000000004)\n",
            "    If (feature 1 <= 1.0950000000000002)\n",
            "     Predict: 2.0\n",
            "    Else (feature 1 > 1.0950000000000002)\n",
            "     If (feature 3 <= 25.5)\n",
            "      Predict: 1.0\n",
            "     Else (feature 3 > 25.5)\n",
            "      Predict: 2.0\n",
            "\n"
          ]
        }
      ]
    },
    {
      "cell_type": "code",
      "source": [
        "print(accuracy)"
      ],
      "metadata": {
        "colab": {
          "base_uri": "https://localhost:8080/"
        },
        "id": "9hVI1nZt-JKR",
        "outputId": "a1b7e602-f9e7-435a-ca3f-1e7cd86e7f4d"
      },
      "execution_count": 41,
      "outputs": [
        {
          "output_type": "stream",
          "name": "stdout",
          "text": [
            "0.8813559322033898\n"
          ]
        }
      ]
    },
    {
      "cell_type": "markdown",
      "metadata": {
        "id": "QF73uyZ5DTTk"
      },
      "source": [
        "### Exercise 3.B\n",
        "**TODO:** \n",
        "\n",
        "1) Extend the pipeline from the previos task with QuantileDiscretizer \n",
        "\n",
        "2) Try using a couple of different numbers of buckets, which cinfiguration gives the best results?\n",
        "\n",
        "3) Can you see any difference in the structure of the decistion tree?"
      ]
    },
    {
      "cell_type": "code",
      "execution_count": 44,
      "metadata": {
        "id": "I0Ax7J2kjiQX",
        "colab": {
          "base_uri": "https://localhost:8080/"
        },
        "outputId": "1f9f33b0-7eed-422c-ed54-9a6a1917207d"
      },
      "outputs": [
        {
          "output_type": "stream",
          "name": "stdout",
          "text": [
            "number of bins = 2\n",
            "Accuracy: 0.88\n",
            "DecisionTreeClassificationModel: uid=DecisionTreeClassifier_483a20afef27, depth=5, numNodes=25, numClasses=4, numFeatures=13\n",
            "  If (feature 0 in {0.0})\n",
            "   If (feature 9 in {0.0})\n",
            "    If (feature 12 in {0.0})\n",
            "     Predict: 2.0\n",
            "    Else (feature 12 not in {0.0})\n",
            "     If (feature 2 in {0.0})\n",
            "      Predict: 2.0\n",
            "     Else (feature 2 not in {0.0})\n",
            "      If (feature 7 in {0.0})\n",
            "       Predict: 1.0\n",
            "      Else (feature 7 not in {0.0})\n",
            "       Predict: 2.0\n",
            "   Else (feature 9 not in {0.0})\n",
            "    If (feature 5 in {0.0})\n",
            "     If (feature 10 in {0.0})\n",
            "      Predict: 3.0\n",
            "     Else (feature 10 not in {0.0})\n",
            "      Predict: 2.0\n",
            "    Else (feature 5 not in {0.0})\n",
            "     Predict: 2.0\n",
            "  Else (feature 0 not in {0.0})\n",
            "   If (feature 5 in {0.0})\n",
            "    If (feature 1 in {0.0})\n",
            "     Predict: 2.0\n",
            "    Else (feature 1 not in {0.0})\n",
            "     If (feature 8 in {0.0})\n",
            "      Predict: 3.0\n",
            "     Else (feature 8 not in {0.0})\n",
            "      If (feature 2 in {0.0})\n",
            "       Predict: 2.0\n",
            "      Else (feature 2 not in {0.0})\n",
            "       Predict: 3.0\n",
            "   Else (feature 5 not in {0.0})\n",
            "    If (feature 12 in {0.0})\n",
            "     Predict: 2.0\n",
            "    Else (feature 12 not in {0.0})\n",
            "     Predict: 1.0\n",
            "\n",
            "number of bins = 3\n",
            "Accuracy: 0.88\n",
            "DecisionTreeClassificationModel: uid=DecisionTreeClassifier_e7ac74a4005f, depth=5, numNodes=23, numClasses=4, numFeatures=13\n",
            "  If (feature 12 in {0.0,1.0})\n",
            "   If (feature 6 in {0.0})\n",
            "    If (feature 9 in {0.0})\n",
            "     Predict: 2.0\n",
            "    Else (feature 9 not in {0.0})\n",
            "     If (feature 1 in {0.0})\n",
            "      If (feature 4 in {0.0})\n",
            "       Predict: 3.0\n",
            "      Else (feature 4 not in {0.0})\n",
            "       Predict: 2.0\n",
            "     Else (feature 1 not in {0.0})\n",
            "      Predict: 3.0\n",
            "   Else (feature 6 not in {0.0})\n",
            "    If (feature 0 in {0.0})\n",
            "     Predict: 2.0\n",
            "    Else (feature 0 not in {0.0})\n",
            "     If (feature 12 in {0.0})\n",
            "      Predict: 2.0\n",
            "     Else (feature 12 not in {0.0})\n",
            "      If (feature 2 in {0.0})\n",
            "       Predict: 2.0\n",
            "      Else (feature 2 not in {0.0})\n",
            "       Predict: 1.0\n",
            "  Else (feature 12 not in {0.0,1.0})\n",
            "   If (feature 5 in {0.0})\n",
            "    If (feature 1 in {0.0})\n",
            "     Predict: 2.0\n",
            "    Else (feature 1 not in {0.0})\n",
            "     Predict: 3.0\n",
            "   Else (feature 5 not in {0.0})\n",
            "    If (feature 3 in {0.0,1.0})\n",
            "     Predict: 1.0\n",
            "    Else (feature 3 not in {0.0,1.0})\n",
            "     Predict: 2.0\n",
            "\n",
            "number of bins = 4\n",
            "Accuracy: 0.92\n",
            "DecisionTreeClassificationModel: uid=DecisionTreeClassifier_6c44e46d4147, depth=5, numNodes=19, numClasses=4, numFeatures=13\n",
            "  If (feature 12 in {0.0,1.0,2.0})\n",
            "   If (feature 6 in {0.0})\n",
            "    If (feature 9 in {0.0})\n",
            "     Predict: 2.0\n",
            "    Else (feature 9 not in {0.0})\n",
            "     Predict: 3.0\n",
            "   Else (feature 6 not in {0.0})\n",
            "    If (feature 0 in {0.0,1.0})\n",
            "     If (feature 9 in {0.0,1.0})\n",
            "      Predict: 2.0\n",
            "     Else (feature 9 not in {0.0,1.0})\n",
            "      If (feature 2 in {2.0})\n",
            "       Predict: 3.0\n",
            "      Else (feature 2 not in {2.0})\n",
            "       Predict: 2.0\n",
            "    Else (feature 0 not in {0.0,1.0})\n",
            "     If (feature 12 in {0.0,1.0})\n",
            "      If (feature 2 in {0.0,1.0})\n",
            "       Predict: 2.0\n",
            "      Else (feature 2 not in {0.0,1.0})\n",
            "       Predict: 3.0\n",
            "     Else (feature 12 not in {0.0,1.0})\n",
            "      Predict: 1.0\n",
            "  Else (feature 12 not in {0.0,1.0,2.0})\n",
            "   If (feature 3 in {0.0,1.0,2.0})\n",
            "    Predict: 1.0\n",
            "   Else (feature 3 not in {0.0,1.0,2.0})\n",
            "    Predict: 2.0\n",
            "\n",
            "number of bins = 5\n",
            "Accuracy: 0.90\n",
            "DecisionTreeClassificationModel: uid=DecisionTreeClassifier_9038891bd98e, depth=5, numNodes=23, numClasses=4, numFeatures=13\n",
            "  If (feature 9 in {0.0,1.0})\n",
            "   If (feature 12 in {3.0})\n",
            "    If (feature 5 in {2.0,3.0})\n",
            "     Predict: 1.0\n",
            "    Else (feature 5 not in {2.0,3.0})\n",
            "     Predict: 2.0\n",
            "   Else (feature 12 not in {3.0})\n",
            "    If (feature 6 in {0.0})\n",
            "     If (feature 1 in {0.0})\n",
            "      Predict: 2.0\n",
            "     Else (feature 1 not in {0.0})\n",
            "      Predict: 3.0\n",
            "    Else (feature 6 not in {0.0})\n",
            "     Predict: 2.0\n",
            "  Else (feature 9 not in {0.0,1.0})\n",
            "   If (feature 6 in {0.0,1.0})\n",
            "    If (feature 10 in {0.0,1.0})\n",
            "     If (feature 4 in {0.0})\n",
            "      If (feature 2 in {2.0})\n",
            "       Predict: 2.0\n",
            "      Else (feature 2 not in {2.0})\n",
            "       Predict: 3.0\n",
            "     Else (feature 4 not in {0.0})\n",
            "      Predict: 3.0\n",
            "    Else (feature 10 not in {0.0,1.0})\n",
            "     Predict: 2.0\n",
            "   Else (feature 6 not in {0.0,1.0})\n",
            "    If (feature 0 in {0.0,1.0})\n",
            "     Predict: 2.0\n",
            "    Else (feature 0 not in {0.0,1.0})\n",
            "     If (feature 4 in {0.0})\n",
            "      Predict: 2.0\n",
            "     Else (feature 4 not in {0.0})\n",
            "      Predict: 1.0\n",
            "\n"
          ]
        }
      ],
      "source": [
        "discretized_cols = [f\"{col}_disc\" for col in train_df.columns[1:]]\n",
        "                    \n",
        "for num in range(2,6):\n",
        "  discretizer = QuantileDiscretizer(\n",
        "          inputCols=input_cols,\n",
        "          outputCols=discretized_cols,\n",
        "          numBuckets=num)\n",
        "  assembler = VectorAssembler(\n",
        "        inputCols=discretized_cols, \n",
        "        outputCol=\"features\"\n",
        "    )\n",
        "  decision_tree = DecisionTreeClassifier(\n",
        "        labelCol=\"Wine\", \n",
        "        featuresCol=\"features\",\n",
        "        \n",
        "    )\n",
        "  pipeline = Pipeline(stages=[discretizer, assembler, decision_tree]) \n",
        "\n",
        "  model = pipeline.fit(train_df)\n",
        "  predictions = model.transform(test_df)\n",
        "\n",
        "  evaluator = MulticlassClassificationEvaluator(\n",
        "        labelCol=\"Wine\", \n",
        "        predictionCol=\"prediction\", \n",
        "        metricName=\"accuracy\"\n",
        "    )\n",
        "  accuracy = evaluator.evaluate(predictions)\n",
        "\n",
        "  print(f'number of bins = {num}')\n",
        "  print(f\"Accuracy: {accuracy:.2f}\")\n",
        "\n",
        "  tree_model = model.stages[2]\n",
        "  print(tree_model.toDebugString)"
      ]
    },
    {
      "cell_type": "markdown",
      "source": [
        "The best results are achieved by the method with 4 bins where accuracy is equal to 92%.\n",
        "\n",
        "The number of bins has an impact on the structure of the tree. The results vary in accuracy and the depth of the trees."
      ],
      "metadata": {
        "id": "A8-cxSuoELm0"
      }
    },
    {
      "cell_type": "markdown",
      "metadata": {
        "id": "xZ458SgIDTTk"
      },
      "source": [
        "## 4. Text classification (2p.)"
      ]
    },
    {
      "cell_type": "markdown",
      "metadata": {
        "id": "mwzu_i7BDTTl"
      },
      "source": [
        "### Exercise 4\n",
        "**TODO:** \n",
        "Build a pipeline consisting of Tokenizer, HashingTF, IDF and StringIndexer and LogisticRegression, fit it to training data: \n",
        "http://help.sentiment140.com/for-students/\n",
        "\n",
        "What is the accuracy of this classifier?"
      ]
    },
    {
      "cell_type": "code",
      "execution_count": null,
      "metadata": {
        "id": "S9QbF10DjwU5"
      },
      "outputs": [],
      "source": [
        "train_data = \"train.csv\"\n",
        "test_data = \"test.csv\"\n",
        "\n",
        "traindf = spark.read.format(\"csv\").options(inferSchema=\"true\", header='false').load(train_data)\n"
      ]
    },
    {
      "cell_type": "code",
      "source": [
        "traindf.show()"
      ],
      "metadata": {
        "colab": {
          "base_uri": "https://localhost:8080/"
        },
        "id": "hVenlHcJK5lw",
        "outputId": "97b5b811-9f6f-4b3c-9557-40a8f5cd4f00"
      },
      "execution_count": 5,
      "outputs": [
        {
          "output_type": "stream",
          "name": "stdout",
          "text": [
            "+---+----------+--------------------+--------+---------------+--------------------+\n",
            "|_c0|       _c1|                 _c2|     _c3|            _c4|                 _c5|\n",
            "+---+----------+--------------------+--------+---------------+--------------------+\n",
            "|  0|1467810369|Mon Apr 06 22:19:...|NO_QUERY|_TheSpecialOne_|@switchfoot http:...|\n",
            "|  0|1467810672|Mon Apr 06 22:19:...|NO_QUERY|  scotthamilton|is upset that he ...|\n",
            "|  0|1467810917|Mon Apr 06 22:19:...|NO_QUERY|       mattycus|@Kenichan I dived...|\n",
            "|  0|1467811184|Mon Apr 06 22:19:...|NO_QUERY|        ElleCTF|my whole body fee...|\n",
            "|  0|1467811193|Mon Apr 06 22:19:...|NO_QUERY|         Karoli|@nationwideclass ...|\n",
            "|  0|1467811372|Mon Apr 06 22:20:...|NO_QUERY|       joy_wolf|@Kwesidei not the...|\n",
            "|  0|1467811592|Mon Apr 06 22:20:...|NO_QUERY|        mybirch|         Need a hug |\n",
            "|  0|1467811594|Mon Apr 06 22:20:...|NO_QUERY|           coZZ|@LOLTrish hey  lo...|\n",
            "|  0|1467811795|Mon Apr 06 22:20:...|NO_QUERY|2Hood4Hollywood|@Tatiana_K nope t...|\n",
            "|  0|1467812025|Mon Apr 06 22:20:...|NO_QUERY|        mimismo|@twittera que me ...|\n",
            "|  0|1467812416|Mon Apr 06 22:20:...|NO_QUERY| erinx3leannexo|spring break in p...|\n",
            "|  0|1467812579|Mon Apr 06 22:20:...|NO_QUERY|   pardonlauren|I just re-pierced...|\n",
            "|  0|1467812723|Mon Apr 06 22:20:...|NO_QUERY|           TLeC|@caregiving I cou...|\n",
            "|  0|1467812771|Mon Apr 06 22:20:...|NO_QUERY|robrobbierobert|@octolinz16 It it...|\n",
            "|  0|1467812784|Mon Apr 06 22:20:...|NO_QUERY|    bayofwolves|@smarrison i woul...|\n",
            "|  0|1467812799|Mon Apr 06 22:20:...|NO_QUERY|     HairByJess|@iamjazzyfizzle I...|\n",
            "|  0|1467812964|Mon Apr 06 22:20:...|NO_QUERY| lovesongwriter|Hollis' death sce...|\n",
            "|  0|1467813137|Mon Apr 06 22:20:...|NO_QUERY|       armotley|about to file taxes |\n",
            "|  0|1467813579|Mon Apr 06 22:20:...|NO_QUERY|     starkissed|@LettyA ahh ive a...|\n",
            "|  0|1467813782|Mon Apr 06 22:20:...|NO_QUERY|      gi_gi_bee|@FakerPattyPattz ...|\n",
            "+---+----------+--------------------+--------+---------------+--------------------+\n",
            "only showing top 20 rows\n",
            "\n"
          ]
        }
      ]
    },
    {
      "cell_type": "code",
      "source": [
        "testdf = spark.read.format(\"csv\").options(inferSchema=\"true\", header='false').load(test_data)\n",
        "\n",
        "columns = [\"label\", \"id\", \"date\", \"query\", \"user\", \"text\"]\n",
        "\n",
        "for old, new in zip(traindf.columns, columns):\n",
        "    traindf = traindf.withColumnRenamed(old, new)\n",
        "    \n",
        "for old, new in zip(testdf.columns, columns):\n",
        "    testdf = testdf.withColumnRenamed(old, new)\n"
      ],
      "metadata": {
        "id": "JW7HYxZEK-0b"
      },
      "execution_count": 12,
      "outputs": []
    },
    {
      "cell_type": "code",
      "source": [
        "train_df = traindf.select(\"label\", \"text\")\n",
        "test_df = testdf.select(\"label\", \"text\")"
      ],
      "metadata": {
        "id": "7wfsPYzxMY6b"
      },
      "execution_count": 13,
      "outputs": []
    },
    {
      "cell_type": "code",
      "source": [
        "train_df.show()"
      ],
      "metadata": {
        "colab": {
          "base_uri": "https://localhost:8080/"
        },
        "id": "-93XqFwoMnfy",
        "outputId": "034e7ec3-0b56-4f1f-e4d1-9ee218f4b86e"
      },
      "execution_count": 14,
      "outputs": [
        {
          "output_type": "stream",
          "name": "stdout",
          "text": [
            "+-----+--------------------+\n",
            "|label|                text|\n",
            "+-----+--------------------+\n",
            "|    0|@switchfoot http:...|\n",
            "|    0|is upset that he ...|\n",
            "|    0|@Kenichan I dived...|\n",
            "|    0|my whole body fee...|\n",
            "|    0|@nationwideclass ...|\n",
            "|    0|@Kwesidei not the...|\n",
            "|    0|         Need a hug |\n",
            "|    0|@LOLTrish hey  lo...|\n",
            "|    0|@Tatiana_K nope t...|\n",
            "|    0|@twittera que me ...|\n",
            "|    0|spring break in p...|\n",
            "|    0|I just re-pierced...|\n",
            "|    0|@caregiving I cou...|\n",
            "|    0|@octolinz16 It it...|\n",
            "|    0|@smarrison i woul...|\n",
            "|    0|@iamjazzyfizzle I...|\n",
            "|    0|Hollis' death sce...|\n",
            "|    0|about to file taxes |\n",
            "|    0|@LettyA ahh ive a...|\n",
            "|    0|@FakerPattyPattz ...|\n",
            "+-----+--------------------+\n",
            "only showing top 20 rows\n",
            "\n"
          ]
        }
      ]
    },
    {
      "cell_type": "code",
      "source": [
        "tokenizer = Tokenizer(\n",
        "    inputCol=\"text\", \n",
        "    outputCol=\"tokens\"\n",
        ")\n",
        "hashing_tf = HashingTF(\n",
        "    inputCol=\"tokens\", \n",
        "    outputCol=\"features\", \n",
        "    numFeatures=50\n",
        ")\n",
        "idf = IDF(\n",
        "    inputCol=\"features\", \n",
        "    outputCol=\"final_features\"\n",
        ")\n",
        "string_indexer = StringIndexer(\n",
        "    inputCol=\"label\", \n",
        "    outputCol=\"final_label\",\n",
        "    handleInvalid=\"skip\"\n",
        ")\n",
        "classifier = LogisticRegression(\n",
        "    featuresCol=\"final_features\", \n",
        "    labelCol=\"final_label\", \n",
        "    predictionCol=\"prediction\"\n",
        ")\n",
        "\n",
        "pipeline = Pipeline(stages=[tokenizer, hashing_tf, idf, string_indexer, classifier])"
      ],
      "metadata": {
        "id": "PC79mMxKLXW7"
      },
      "execution_count": 9,
      "outputs": []
    },
    {
      "cell_type": "code",
      "source": [
        "from pyspark.ml.evaluation import MulticlassClassificationEvaluator\n",
        "\n",
        "model = pipeline.fit(traindf)\n",
        "predictions = model.transform(testdf)\n",
        "\n",
        "evaluator = MulticlassClassificationEvaluator(\n",
        "    labelCol=\"final_label\", \n",
        "    predictionCol=\"prediction\", \n",
        "    metricName=\"accuracy\"\n",
        ")\n",
        "accuracy = evaluator.evaluate(predictions) * 100\n",
        "\n",
        "print(f\"Accuracy: {accuracy:.2f}\")\n"
      ],
      "metadata": {
        "colab": {
          "base_uri": "https://localhost:8080/"
        },
        "id": "VU-BgE-bLkGD",
        "outputId": "72100424-534e-43bb-86b0-3d149675b175"
      },
      "execution_count": 15,
      "outputs": [
        {
          "output_type": "stream",
          "name": "stdout",
          "text": [
            "Accuracy: 53.20\n"
          ]
        }
      ]
    },
    {
      "cell_type": "code",
      "source": [],
      "metadata": {
        "id": "vPO6-VPIMsI5"
      },
      "execution_count": null,
      "outputs": []
    }
  ],
  "metadata": {
    "colab": {
      "provenance": []
    },
    "kernelspec": {
      "display_name": "Python 3",
      "language": "python",
      "name": "python3"
    },
    "language_info": {
      "codemirror_mode": {
        "name": "ipython",
        "version": 3
      },
      "file_extension": ".py",
      "mimetype": "text/x-python",
      "name": "python",
      "nbconvert_exporter": "python",
      "pygments_lexer": "ipython3",
      "version": "3.8.5"
    }
  },
  "nbformat": 4,
  "nbformat_minor": 0
}